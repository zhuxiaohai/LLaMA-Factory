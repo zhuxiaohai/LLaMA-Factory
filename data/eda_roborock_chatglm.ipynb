{
 "cells": [
  {
   "cell_type": "code",
   "execution_count": 1,
   "id": "initial_id",
   "metadata": {
    "ExecuteTime": {
     "end_time": "2024-03-13T09:25:12.306938810Z",
     "start_time": "2024-03-13T09:25:11.008017688Z"
    }
   },
   "outputs": [],
   "source": [
    "import json\n",
    "import os \n",
    "import re\n",
    "import ast\n",
    "import copy \n",
    "from datasets import load_dataset\n",
    "import matplotlib.pyplot as plt \n",
    "import pandas as pd "
   ]
  },
  {
   "cell_type": "code",
   "execution_count": 2,
   "id": "fca5474e-8970-48fe-9bdd-dee753c4a334",
   "metadata": {
    "ExecuteTime": {
     "end_time": "2024-01-25T11:38:12.885002212Z",
     "start_time": "2024-01-25T11:38:12.860003597Z"
    }
   },
   "outputs": [],
   "source": [
    "# adgen 数据集"
   ]
  },
  {
   "cell_type": "code",
   "execution_count": 4,
   "id": "2d57ec0b2d872fba",
   "metadata": {
    "ExecuteTime": {
     "end_time": "2024-01-15T02:06:33.952255963Z",
     "start_time": "2024-01-15T02:06:33.812921730Z"
    },
    "collapsed": false
   },
   "outputs": [],
   "source": [
    "with open('AdvertiseGen/dev.json') as f:\n",
    "    data = [json.loads(line) for line in f]\n",
    "\n",
    "train_examples = [{\n",
    "    \"content\": \"你现在是一名销售员，根据以下商品标签生成一段有吸引力的商品广告词: \" + x['content'],\n",
    "    \"summary\": x['summary'],\n",
    "} for x in data]\n"
   ]
  },
  {
   "cell_type": "code",
   "execution_count": null,
   "id": "020c606e-4107-4310-86c0-b913223b3ee5",
   "metadata": {},
   "outputs": [],
   "source": [
    "os.makedirs(\"AdvertiseGen/formatted_data\", exist_ok=True)\n",
    "\n",
    "with open(\"AdvertiseGen/formatted_data/advertise_dev.json\", \"w\") as f:\n",
    "    for e in train_examples:\n",
    "        f.write(json.dumps(e, ensure_ascii=False) + \"\\n\")"
   ]
  },
  {
   "cell_type": "code",
   "execution_count": 5,
   "id": "65c014c100f2b9c4",
   "metadata": {
    "ExecuteTime": {
     "end_time": "2024-01-19T03:57:56.371411246Z",
     "start_time": "2024-01-19T03:57:56.366793968Z"
    },
    "collapsed": false
   },
   "outputs": [],
   "source": [
    "with open('AdvertiseGen/dev.json', 'r') as f:\n",
    "    data = [json.loads(line) for line in f]"
   ]
  },
  {
   "cell_type": "code",
   "execution_count": 6,
   "id": "effa69822c605b5c",
   "metadata": {
    "ExecuteTime": {
     "end_time": "2024-01-19T03:57:57.697525488Z",
     "start_time": "2024-01-19T03:57:57.689240847Z"
    },
    "collapsed": false
   },
   "outputs": [
    {
     "data": {
      "text/plain": [
       "{'content': '类型#上衣*材质#牛仔布*颜色#白色*风格#简约*图案#刺绣*衣样式#外套*衣款式#破洞',\n",
       " 'summary': '简约而不简单的牛仔外套，白色的衣身十分百搭。衣身多处有做旧破洞设计，打破单调乏味，增加一丝造型看点。衣身后背处有趣味刺绣装饰，丰富层次感，彰显别样时尚。'}"
      ]
     },
     "execution_count": 6,
     "metadata": {},
     "output_type": "execute_result"
    }
   ],
   "source": [
    "data[0]"
   ]
  },
  {
   "cell_type": "code",
   "execution_count": 7,
   "id": "f960344b0d38da88",
   "metadata": {
    "ExecuteTime": {
     "end_time": "2024-01-19T03:58:33.802967958Z",
     "start_time": "2024-01-19T03:58:33.793580477Z"
    },
    "collapsed": false
   },
   "outputs": [],
   "source": [
    "with open('AdvertiseGen/formatted_data/advertise_dev.json', 'r') as f:\n",
    "    data = [json.loads(line) for line in f]"
   ]
  },
  {
   "cell_type": "code",
   "execution_count": 8,
   "id": "32044afc0d8b588a",
   "metadata": {
    "ExecuteTime": {
     "end_time": "2024-01-19T03:58:34.526544880Z",
     "start_time": "2024-01-19T03:58:34.520140650Z"
    },
    "collapsed": false
   },
   "outputs": [
    {
     "data": {
      "text/plain": [
       "{'content': '你现在是一名销售员，根据以下商品标签生成一段有吸引力的商品广告词: 类型#上衣*材质#牛仔布*颜色#白色*风格#简约*图案#刺绣*衣样式#外套*衣款式#破洞',\n",
       " 'summary': '简约而不简单的牛仔外套，白色的衣身十分百搭。衣身多处有做旧破洞设计，打破单调乏味，增加一丝造型看点。衣身后背处有趣味刺绣装饰，丰富层次感，彰显别样时尚。'}"
      ]
     },
     "execution_count": 8,
     "metadata": {},
     "output_type": "execute_result"
    }
   ],
   "source": [
    "data[0]"
   ]
  },
  {
   "cell_type": "code",
   "execution_count": 10,
   "id": "96bc699b-86bf-4926-baf7-5b0eb4cc22d2",
   "metadata": {},
   "outputs": [],
   "source": [
    "# glaive tool call 数据集"
   ]
  },
  {
   "cell_type": "code",
   "execution_count": 11,
   "id": "f7a73b6fd2bbcea",
   "metadata": {
    "ExecuteTime": {
     "end_time": "2024-01-19T08:19:03.626202504Z",
     "start_time": "2024-01-19T08:19:03.150145992Z"
    },
    "collapsed": false
   },
   "outputs": [],
   "source": [
    "with open('glaive_toolcall_10k.json', 'r') as f:\n",
    "    data = json.load(f)"
   ]
  },
  {
   "cell_type": "code",
   "execution_count": 12,
   "id": "f56594cdb81fc128",
   "metadata": {
    "ExecuteTime": {
     "end_time": "2024-01-19T08:19:03.635159083Z",
     "start_time": "2024-01-19T08:19:03.630604990Z"
    },
    "collapsed": false
   },
   "outputs": [
    {
     "data": {
      "text/plain": [
       "{'conversations': [{'from': 'human',\n",
       "   'value': \"I saw a dress that I liked. It was originally priced at $200 but it's on sale for 20% off. Can you tell me how much it will cost after the discount?\"},\n",
       "  {'from': 'function_call',\n",
       "   'value': '{\"name\": \"calculate_discount\", \"arguments\": {\"original_price\": 200, \"discount_percentage\": 20}}'},\n",
       "  {'from': 'observation', 'value': '{\"discounted_price\": 160}'},\n",
       "  {'from': 'gpt',\n",
       "   'value': 'The dress will cost you $160 after the 20% discount.'}],\n",
       " 'tools': '[{\"name\": \"calculate_discount\", \"description\": \"Calculate the discounted price\", \"parameters\": {\"type\": \"object\", \"properties\": {\"original_price\": {\"type\": \"number\", \"description\": \"The original price of the item\"}, \"discount_percentage\": {\"type\": \"number\", \"description\": \"The percentage of discount\"}}, \"required\": [\"original_price\", \"discount_percentage\"]}}]'}"
      ]
     },
     "execution_count": 12,
     "metadata": {},
     "output_type": "execute_result"
    }
   ],
   "source": [
    "data[0]"
   ]
  },
  {
   "cell_type": "code",
   "execution_count": 2,
   "id": "205c1ca27cb3e3a",
   "metadata": {
    "collapsed": false,
    "ExecuteTime": {
     "end_time": "2024-03-13T09:25:16.941421846Z",
     "start_time": "2024-03-13T09:25:16.924464715Z"
    }
   },
   "outputs": [],
   "source": [
    "def convert_tools(input_string):\n",
    "    # Split the input string into separate functions using the pattern\n",
    "    pattern = r'(.*?):\\s(.*?)\\nParameters:\\s(.*?)\\nOutput:\\s(.*?)\\n\\s-\\sFormat:\\s(.*?)\\n\\s-\\sStructure:\\s(.*?)\\n'\n",
    "    functions = re.findall(pattern, input_string, re.DOTALL)\n",
    "    functions_list = []\n",
    "    # Iterate over the functions and print them out\n",
    "    for func in functions:\n",
    "        tool = {}\n",
    "        function_name, description, parameters, output, format_type, structure = func\n",
    "        tool[\"name\"] = function_name\n",
    "        tool[\"description\"] = description\n",
    "        parameters_dict = json.loads(parameters)\n",
    "        required_keys_list = []\n",
    "        for key in parameters_dict.keys():\n",
    "            value = parameters_dict[key]\n",
    "            required_loc = value.find(\"Required.\")\n",
    "            if required_loc >= 0:\n",
    "                required_keys_list.append(key)\n",
    "                value = value[required_loc+9:].strip()\n",
    "            key_type = value[:value.find('.')].strip()\n",
    "            key_description = value[value.find('.')+1:].strip()\n",
    "            new_value = {\"type\": key_type, \"description\": key_description}\n",
    "            parameters_dict[key] = new_value\n",
    "        tool[\"parameters\"] = {\"type\": \"object\", \"properties\": parameters_dict, \"required\": required_keys_list}\n",
    "        tool[\"output\"] = output\n",
    "        tool[\"format\"] = format_type\n",
    "        tool[\"structure\"] = structure\n",
    "        functions_list.append(tool)\n",
    "    return json.dumps(functions_list)"
   ]
  },
  {
   "cell_type": "code",
   "execution_count": 3,
   "id": "875f2e91670df3f",
   "metadata": {
    "collapsed": false,
    "ExecuteTime": {
     "end_time": "2024-03-13T09:25:17.340538107Z",
     "start_time": "2024-03-13T09:25:17.335322505Z"
    }
   },
   "outputs": [],
   "source": [
    "def format_example(example, tools=None):\n",
    "    new_example = {}\n",
    "    if tools:\n",
    "        new_example['tools'] = json.dumps(tools)\n",
    "    else:\n",
    "        new_example['tools'] = convert_tools(example['tools'][0])\n",
    "    conversations = []\n",
    "    if isinstance(example['conversations'], str):\n",
    "        conversations_raw = json.loads(example['conversations'])\n",
    "    else:\n",
    "        conversations_raw = example['conversations']\n",
    "    for item in conversations_raw:\n",
    "        new_item = {}\n",
    "        observation = None\n",
    "        if item['role'] == 'user':\n",
    "            new_item['from'] = 'human'\n",
    "            new_item['value'] = item['content']\n",
    "        elif item['role'] == 'assistant':\n",
    "            new_item['from'] = 'gpt'\n",
    "            new_item['value'] = item['content']\n",
    "        elif item['role'] == 'tool':\n",
    "            if conversations[-1]['from'] == 'gpt':\n",
    "                conversations.pop()\n",
    "            new_item['from'] = 'function_call'\n",
    "            new_item['value'] = json.dumps({'name': item['name'], 'arguments': item['parameters']})\n",
    "            if 'observation' in item:\n",
    "                observation = {'from': 'observation', 'value': item['observation']}\n",
    "        conversations.append(new_item)\n",
    "        if observation is not None:\n",
    "            conversations.append(observation)\n",
    "    new_example['conversations'] = conversations\n",
    "    return new_example"
   ]
  },
  {
   "cell_type": "code",
   "execution_count": 4,
   "id": "f1873391-af75-4ccd-8a9a-f1b41345d39d",
   "metadata": {
    "ExecuteTime": {
     "end_time": "2024-03-13T09:25:17.923449430Z",
     "start_time": "2024-03-13T09:25:17.917297129Z"
    }
   },
   "outputs": [],
   "source": [
    "def format_example_dev(example, tools=None):\n",
    "    new_example = {}\n",
    "    if tools:\n",
    "        new_example['tools'] = json.dumps(tools)\n",
    "    else:\n",
    "        new_example['tools'] = convert_tools(example['tools'][0])\n",
    "    conversations = []\n",
    "    if isinstance(example['conversations'], str):\n",
    "        conversations_raw = json.loads(example['conversations'])\n",
    "    else:\n",
    "        conversations_raw = example['conversations']\n",
    "    for item in conversations_raw:\n",
    "        new_item = {}\n",
    "        observation = None\n",
    "        if item['role'] == 'user':\n",
    "            new_item['from'] = 'human'\n",
    "            new_item['value'] = item['content']\n",
    "        elif item['role'] == 'assistant':\n",
    "            new_item['from'] = 'gpt'\n",
    "            new_item['value'] = item['content']\n",
    "        elif item['role'] == 'tool':\n",
    "            if conversations[-1]['from'] == 'gpt':\n",
    "                conversations.pop()\n",
    "            new_item['from'] = 'function_call'\n",
    "            new_item['value'] = json.dumps({'name': item['name'], 'arguments': item['parameters']})\n",
    "            if 'observation' in item:\n",
    "                observation = {'from': 'observation', 'value': item['observation']}\n",
    "        conversations.append(new_item)\n",
    "        if observation is not None:\n",
    "            conversations.append(observation)\n",
    "    new_example['conversations'] = conversations[:2]\n",
    "    return new_example"
   ]
  },
  {
   "cell_type": "code",
   "execution_count": 5,
   "id": "4e88017c-3af7-48a4-9db0-1c787a9414f4",
   "metadata": {
    "ExecuteTime": {
     "end_time": "2024-03-13T09:25:18.897155114Z",
     "start_time": "2024-03-13T09:25:18.877101604Z"
    }
   },
   "outputs": [],
   "source": [
    "# roborock 数据集"
   ]
  },
  {
   "cell_type": "code",
   "execution_count": 6,
   "id": "569dcf7f-d192-4f0c-94e8-c2035db641b5",
   "metadata": {
    "ExecuteTime": {
     "end_time": "2024-03-13T09:25:19.626741111Z",
     "start_time": "2024-03-13T09:25:19.250244786Z"
    }
   },
   "outputs": [],
   "source": [
    "with open('ToolAlpaca/data/formatted_data/robocontrol_dataset.jsonl', \"r\", encoding=\"utf-8\") as f:\n",
    "    if 'robocontrol_dataset.jsonl'.endswith(\".json\"):\n",
    "        train_data = json.load(f)\n",
    "    elif 'robocontrol_dataset.jsonl'.endswith(\".jsonl\"):\n",
    "        train_data = [json.loads(line) for line in f]"
   ]
  },
  {
   "cell_type": "code",
   "execution_count": 7,
   "id": "6a57dfa1-cfd7-477e-8d0c-bc07cc0428b4",
   "metadata": {
    "ExecuteTime": {
     "end_time": "2024-03-13T09:25:20.245460911Z",
     "start_time": "2024-03-13T09:25:20.139866485Z"
    }
   },
   "outputs": [],
   "source": [
    "with open('ToolAlpaca/data/formatted_data/robocontrol_dataset_testset.jsonl', \"r\", encoding=\"utf-8\") as f:\n",
    "    if 'robocontrol_dataset_testset.jsonl'.endswith(\".json\"):\n",
    "        dev_data = json.load(f)\n",
    "    elif 'robocontrol_dataset_testset.jsonl'.endswith(\".jsonl\"):\n",
    "        dev_data = [json.loads(line) for line in f]"
   ]
  },
  {
   "cell_type": "code",
   "execution_count": 8,
   "id": "0c1a7e97-63d6-41fe-a89e-11a4f9afa1bf",
   "metadata": {
    "ExecuteTime": {
     "end_time": "2024-03-13T09:25:24.849145346Z",
     "start_time": "2024-03-13T09:25:24.816042803Z"
    }
   },
   "outputs": [],
   "source": [
    "tools = json.loads(train_data[0]['tools'])"
   ]
  },
  {
   "cell_type": "code",
   "execution_count": 9,
   "id": "c76f6f30-54c0-4140-a7ab-d778c35e6106",
   "metadata": {
    "ExecuteTime": {
     "end_time": "2024-03-13T09:25:25.264838790Z",
     "start_time": "2024-03-13T09:25:25.246557238Z"
    }
   },
   "outputs": [
    {
     "name": "stdout",
     "output_type": "stream",
     "text": [
      "0 {'name': 'general_control', 'description': 'This API is used for controlling general tasks, typically providing control for listed user-defined tasks, or that is not directly tied to specific task types, or non-clean task', 'parameters': {'type': 'object', 'properties': {'action': {'type': 'string', 'enum': ['start', 'stop', 'pause', 'resume']}, 'user_defined_task': {'type': 'string', 'description': 'user-defined task described in user request'}}, 'required': ['operation_type']}}\n",
      "11 {'name': 'mapping', 'description': 'api for building map', 'parameters': {'type': 'object', 'properties': {'action': {'type': 'string', 'enum': ['start', 'stop', 'pause', 'resume']}}, 'required': ['operation_type']}}\n"
     ]
    }
   ],
   "source": [
    "for i in range(len(tools)):\n",
    "    tool = tools[i]\n",
    "    \n",
    "    if (tool['parameters'] is None):\n",
    "        tool['parameters'] = {'type': 'object', 'properties': {}}\n",
    "    elif tool['parameters'].get('properties', None) is None:\n",
    "        tool['parameters']['properties'] = {}\n",
    "    parameters = list(tool['parameters']['properties'].keys())\n",
    "    \n",
    "    required = tool['parameters'].get('required', None)\n",
    "    if required is None:\n",
    "        required = tool.get('required', None)\n",
    "        if required is None:\n",
    "            tool['parameters']['required'] = []\n",
    "        else:\n",
    "            tool['parameters']['required'] = required\n",
    "            \n",
    "    for name in tool['parameters']['required']:\n",
    "        if name not in parameters:\n",
    "            print(i, tool)\n",
    "            break"
   ]
  },
  {
   "cell_type": "code",
   "execution_count": 10,
   "id": "99b99f53-0245-4c9a-9957-56cec4dfca93",
   "metadata": {
    "ExecuteTime": {
     "end_time": "2024-03-13T09:25:25.921784601Z",
     "start_time": "2024-03-13T09:25:25.898554407Z"
    }
   },
   "outputs": [],
   "source": [
    "tool_name = \"mapping\""
   ]
  },
  {
   "cell_type": "code",
   "execution_count": 11,
   "id": "15c82f2b-b315-4683-936d-ad818742df8b",
   "metadata": {
    "ExecuteTime": {
     "end_time": "2024-03-13T09:25:26.455005843Z",
     "start_time": "2024-03-13T09:25:26.441817915Z"
    }
   },
   "outputs": [
    {
     "name": "stdout",
     "output_type": "stream",
     "text": [
      "{'action'}\n",
      "{1}\n"
     ]
    }
   ],
   "source": [
    "keys_list = []\n",
    "records = []\n",
    "len_records = []\n",
    "for i in range(len(train_data)):\n",
    "    if json.loads(train_data[i]['conversations'])[1][\"role\"] == \"tool\":\n",
    "        if json.loads(train_data[i]['conversations'])[1]['name'] == tool_name:\n",
    "            parameters = json.loads(train_data[i]['conversations'])[1]['parameters']\n",
    "            if parameters is None:\n",
    "                keys = []\n",
    "                keys_list += keys\n",
    "            else:\n",
    "                keys = list(parameters.keys())\n",
    "                keys_list += keys\n",
    "            records.append((i, len(keys)))\n",
    "            len_records.append(len(keys))\n",
    "    else:\n",
    "        assert json.loads(train_data[i]['conversations'])[1][\"role\"] == \"assistant\"\n",
    "print(set(keys_list))\n",
    "print(set(len_records))"
   ]
  },
  {
   "cell_type": "code",
   "execution_count": 12,
   "id": "379cc09e-0002-4949-a792-235bdbd5b5b1",
   "metadata": {
    "ExecuteTime": {
     "end_time": "2024-03-13T09:25:28.679693439Z",
     "start_time": "2024-03-13T09:25:28.659782529Z"
    }
   },
   "outputs": [],
   "source": [
    "tool_name = \"general_control\""
   ]
  },
  {
   "cell_type": "code",
   "execution_count": 13,
   "id": "b73e02f9-14e1-4f29-9812-71ea030596b2",
   "metadata": {
    "ExecuteTime": {
     "end_time": "2024-03-13T09:25:29.093567355Z",
     "start_time": "2024-03-13T09:25:29.076914110Z"
    }
   },
   "outputs": [
    {
     "name": "stdout",
     "output_type": "stream",
     "text": [
      "{'user_defined_task', 'action'}\n",
      "{1, 2}\n"
     ]
    }
   ],
   "source": [
    "keys_list = []\n",
    "records = []\n",
    "len_records = []\n",
    "for i in range(len(train_data)):\n",
    "    if json.loads(train_data[i]['conversations'])[1][\"role\"] == \"tool\":\n",
    "        if json.loads(train_data[i]['conversations'])[1]['name'] == tool_name:\n",
    "            parameters = json.loads(train_data[i]['conversations'])[1]['parameters']\n",
    "            if parameters is None:\n",
    "                keys = []\n",
    "                keys_list += keys\n",
    "            else:\n",
    "                keys = list(parameters.keys())\n",
    "                keys_list += keys\n",
    "            records.append((i, len(keys)))\n",
    "            len_records.append(len(keys))\n",
    "    else:\n",
    "        assert json.loads(train_data[i]['conversations'])[1][\"role\"] == \"assistant\"\n",
    "print(set(keys_list))\n",
    "print(set(len_records))"
   ]
  },
  {
   "cell_type": "code",
   "execution_count": 14,
   "id": "8570590a-e890-4a1e-8c7e-956c63a4ee92",
   "metadata": {
    "ExecuteTime": {
     "end_time": "2024-03-13T09:25:35.545769607Z",
     "start_time": "2024-03-13T09:25:35.474708901Z"
    }
   },
   "outputs": [
    {
     "name": "stdout",
     "output_type": "stream",
     "text": [
      "[{\"role\": \"user\", \"content\": \"Timeout\"}, {\"role\": \"tool\", \"name\": \"general_control\", \"parameters\": {\"action\": \"pause\"}}]\n",
      "[{\"role\": \"user\", \"content\": \"立即停止\"}, {\"role\": \"tool\", \"name\": \"general_control\", \"parameters\": {\"action\": \"stop\"}}]\n",
      "[{\"role\": \"user\", \"content\": \"稍等\"}, {\"role\": \"tool\", \"name\": \"general_control\", \"parameters\": {\"action\": \"pause\"}}]\n",
      "[{\"role\": \"user\", \"content\": \"给我开始\"}, {\"role\": \"tool\", \"name\": \"general_control\", \"parameters\": {\"action\": \"start\"}}]\n",
      "[{\"role\": \"user\", \"content\": \"恢复动作\"}, {\"role\": \"tool\", \"name\": \"general_control\", \"parameters\": {\"action\": \"resume\"}}]\n",
      "[{\"role\": \"user\", \"content\": \"启动任务\"}, {\"role\": \"tool\", \"name\": \"general_control\", \"parameters\": {\"action\": \"start\"}}]\n",
      "[{\"role\": \"user\", \"content\": \"Freeze\"}, {\"role\": \"tool\", \"name\": \"general_control\", \"parameters\": {\"action\": \"pause\"}}]\n",
      "[{\"role\": \"user\", \"content\": \"中断任务\"}, {\"role\": \"tool\", \"name\": \"general_control\", \"parameters\": {\"action\": \"pause\"}}]\n",
      "[{\"role\": \"user\", \"content\": \"继续前进\"}, {\"role\": \"tool\", \"name\": \"general_control\", \"parameters\": {\"action\": \"resume\"}}]\n",
      "[{\"role\": \"user\", \"content\": \"Restart the mission\"}, {\"role\": \"tool\", \"name\": \"general_control\", \"parameters\": {\"action\": \"start\"}}]\n",
      "[{\"role\": \"user\", \"content\": \"Energize\"}, {\"role\": \"tool\", \"name\": \"general_control\", \"parameters\": {\"action\": \"start\"}}]\n",
      "[{\"role\": \"user\", \"content\": \"待机状态\"}, {\"role\": \"tool\", \"name\": \"general_control\", \"parameters\": {\"action\": \"pause\"}}]\n",
      "[{\"role\": \"user\", \"content\": \"继续前进\"}, {\"role\": \"tool\", \"name\": \"general_control\", \"parameters\": {\"action\": \"resume\"}}]\n",
      "[{\"role\": \"user\", \"content\": \"Switch on\"}, {\"role\": \"tool\", \"name\": \"general_control\", \"parameters\": {\"action\": \"start\"}}]\n",
      "[{\"role\": \"user\", \"content\": \"继续运行\"}, {\"role\": \"tool\", \"name\": \"general_control\", \"parameters\": {\"action\": \"resume\"}}]\n",
      "[{\"role\": \"user\", \"content\": \"Put on hold\"}, {\"role\": \"tool\", \"name\": \"general_control\", \"parameters\": {\"action\": \"pause\"}}]\n",
      "[{\"role\": \"user\", \"content\": \"动起来\"}, {\"role\": \"tool\", \"name\": \"general_control\", \"parameters\": {\"action\": \"start\"}}]\n",
      "[{\"role\": \"user\", \"content\": \"Jump back in\"}, {\"role\": \"tool\", \"name\": \"general_control\", \"parameters\": {\"action\": \"resume\"}}]\n",
      "[{\"role\": \"user\", \"content\": \"Get back to it\"}, {\"role\": \"tool\", \"name\": \"general_control\", \"parameters\": {\"action\": \"resume\"}}]\n",
      "[{\"role\": \"user\", \"content\": \"暂停一下\"}, {\"role\": \"tool\", \"name\": \"general_control\", \"parameters\": {\"action\": \"pause\"}}]\n",
      "[{\"role\": \"user\", \"content\": \"启动一下\"}, {\"role\": \"tool\", \"name\": \"general_control\", \"parameters\": {\"action\": \"start\"}}]\n",
      "[{\"role\": \"user\", \"content\": \"再次执行\"}, {\"role\": \"tool\", \"name\": \"general_control\", \"parameters\": {\"action\": \"start\"}}]\n",
      "[{\"role\": \"user\", \"content\": \"小憩一会\"}, {\"role\": \"tool\", \"name\": \"general_control\", \"parameters\": {\"action\": \"pause\"}}]\n",
      "[{\"role\": \"user\", \"content\": \"重新开始\"}, {\"role\": \"tool\", \"name\": \"general_control\", \"parameters\": {\"action\": \"start\"}}]\n",
      "[{\"role\": \"user\", \"content\": \"运行\"}, {\"role\": \"tool\", \"name\": \"general_control\", \"parameters\": {\"action\": \"start\"}}]\n",
      "[{\"role\": \"user\", \"content\": \"Continue the drill\"}, {\"role\": \"tool\", \"name\": \"general_control\", \"parameters\": {\"action\": \"resume\"}}]\n",
      "[{\"role\": \"user\", \"content\": \"Carry on\"}, {\"role\": \"tool\", \"name\": \"general_control\", \"parameters\": {\"action\": \"resume\"}}]\n",
      "[{\"role\": \"user\", \"content\": \"Just a moment\"}, {\"role\": \"tool\", \"name\": \"general_control\", \"parameters\": {\"action\": \"pause\"}}]\n",
      "[{\"role\": \"user\", \"content\": \"稍等一下\"}, {\"role\": \"tool\", \"name\": \"general_control\", \"parameters\": {\"action\": \"pause\"}}]\n",
      "[{\"role\": \"user\", \"content\": \"Close out\"}, {\"role\": \"tool\", \"name\": \"general_control\", \"parameters\": {\"action\": \"stop\"}}]\n",
      "[{\"role\": \"user\", \"content\": \"全部中断\"}, {\"role\": \"tool\", \"name\": \"general_control\", \"parameters\": {\"action\": \"stop\"}}]\n",
      "[{\"role\": \"user\", \"content\": \"Get back on track\"}, {\"role\": \"tool\", \"name\": \"general_control\", \"parameters\": {\"action\": \"resume\"}}]\n",
      "[{\"role\": \"user\", \"content\": \"Hold off\"}, {\"role\": \"tool\", \"name\": \"general_control\", \"parameters\": {\"action\": \"pause\"}}]\n",
      "[{\"role\": \"user\", \"content\": \"Commence\"}, {\"role\": \"tool\", \"name\": \"general_control\", \"parameters\": {\"action\": \"start\"}}]\n",
      "[{\"role\": \"user\", \"content\": \"立即中止\"}, {\"role\": \"tool\", \"name\": \"general_control\", \"parameters\": {\"action\": \"stop\"}}]\n",
      "[{\"role\": \"user\", \"content\": \"中止活动\"}, {\"role\": \"tool\", \"name\": \"general_control\", \"parameters\": {\"action\": \"stop\"}}]\n",
      "[{\"role\": \"user\", \"content\": \"继续动作\"}, {\"role\": \"tool\", \"name\": \"general_control\", \"parameters\": {\"action\": \"resume\"}}]\n",
      "[{\"role\": \"user\", \"content\": \"Halt\"}, {\"role\": \"tool\", \"name\": \"general_control\", \"parameters\": {\"action\": \"stop\"}}]\n",
      "[{\"role\": \"user\", \"content\": \"恢复行动\"}, {\"role\": \"tool\", \"name\": \"general_control\", \"parameters\": {\"action\": \"resume\"}}]\n",
      "[{\"role\": \"user\", \"content\": \"稍作停留\"}, {\"role\": \"tool\", \"name\": \"general_control\", \"parameters\": {\"action\": \"pause\"}}]\n",
      "[{\"role\": \"user\", \"content\": \"Roll out\"}, {\"role\": \"tool\", \"name\": \"general_control\", \"parameters\": {\"action\": \"start\"}}]\n",
      "[{\"role\": \"user\", \"content\": \"Conclude\"}, {\"role\": \"tool\", \"name\": \"general_control\", \"parameters\": {\"action\": \"stop\"}}]\n",
      "[{\"role\": \"user\", \"content\": \"中断任务\"}, {\"role\": \"tool\", \"name\": \"general_control\", \"parameters\": {\"action\": \"stop\"}}]\n",
      "[{\"role\": \"user\", \"content\": \"Wrap up\"}, {\"role\": \"tool\", \"name\": \"general_control\", \"parameters\": {\"action\": \"stop\"}}]\n",
      "[{\"role\": \"user\", \"content\": \"Wind up\"}, {\"role\": \"tool\", \"name\": \"general_control\", \"parameters\": {\"action\": \"stop\"}}]\n",
      "[{\"role\": \"user\", \"content\": \"Jumpstart\"}, {\"role\": \"tool\", \"name\": \"general_control\", \"parameters\": {\"action\": \"start\"}}]\n",
      "[{\"role\": \"user\", \"content\": \"Delay\"}, {\"role\": \"tool\", \"name\": \"general_control\", \"parameters\": {\"action\": \"pause\"}}]\n",
      "[{\"role\": \"user\", \"content\": \"Power on\"}, {\"role\": \"tool\", \"name\": \"general_control\", \"parameters\": {\"action\": \"start\"}}]\n",
      "[{\"role\": \"user\", \"content\": \"Recommence\"}, {\"role\": \"tool\", \"name\": \"general_control\", \"parameters\": {\"action\": \"resume\"}}]\n",
      "[{\"role\": \"user\", \"content\": \"Power down\"}, {\"role\": \"tool\", \"name\": \"general_control\", \"parameters\": {\"action\": \"stop\"}}]\n",
      "[{\"role\": \"user\", \"content\": \"起动\"}, {\"role\": \"tool\", \"name\": \"general_control\", \"parameters\": {\"action\": \"start\"}}]\n",
      "[{\"role\": \"user\", \"content\": \"正式启动\"}, {\"role\": \"tool\", \"name\": \"general_control\", \"parameters\": {\"action\": \"start\"}}]\n",
      "[{\"role\": \"user\", \"content\": \"Break off for a while\"}, {\"role\": \"tool\", \"name\": \"general_control\", \"parameters\": {\"action\": \"pause\"}}]\n",
      "[{\"role\": \"user\", \"content\": \"Seal off\"}, {\"role\": \"tool\", \"name\": \"general_control\", \"parameters\": {\"action\": \"stop\"}}]\n",
      "[{\"role\": \"user\", \"content\": \"激活任务\"}, {\"role\": \"tool\", \"name\": \"general_control\", \"parameters\": {\"action\": \"start\"}}]\n",
      "[{\"role\": \"user\", \"content\": \"别动\"}, {\"role\": \"tool\", \"name\": \"general_control\", \"parameters\": {\"action\": \"pause\"}}]\n",
      "[{\"role\": \"user\", \"content\": \"启动任务\"}, {\"role\": \"tool\", \"name\": \"general_control\", \"parameters\": {\"action\": \"start\"}}]\n",
      "[{\"role\": \"user\", \"content\": \"动作开始\"}, {\"role\": \"tool\", \"name\": \"general_control\", \"parameters\": {\"action\": \"start\"}}]\n",
      "[{\"role\": \"user\", \"content\": \"Intermission\"}, {\"role\": \"tool\", \"name\": \"general_control\", \"parameters\": {\"action\": \"pause\"}}]\n",
      "[{\"role\": \"user\", \"content\": \"等一等\"}, {\"role\": \"tool\", \"name\": \"general_control\", \"parameters\": {\"action\": \"pause\"}}]\n",
      "[{\"role\": \"user\", \"content\": \"Initiate\"}, {\"role\": \"tool\", \"name\": \"general_control\", \"parameters\": {\"action\": \"start\"}}]\n",
      "[{\"role\": \"user\", \"content\": \"Give it a sec\"}, {\"role\": \"tool\", \"name\": \"general_control\", \"parameters\": {\"action\": \"pause\"}}]\n",
      "[{\"role\": \"user\", \"content\": \"开始吧\"}, {\"role\": \"tool\", \"name\": \"general_control\", \"parameters\": {\"action\": \"start\"}}]\n",
      "[{\"role\": \"user\", \"content\": \"暂缓活动\"}, {\"role\": \"tool\", \"name\": \"general_control\", \"parameters\": {\"action\": \"pause\"}}]\n",
      "[{\"role\": \"user\", \"content\": \"稍作停顿\"}, {\"role\": \"tool\", \"name\": \"general_control\", \"parameters\": {\"action\": \"pause\"}}]\n",
      "[{\"role\": \"user\", \"content\": \"重启动\"}, {\"role\": \"tool\", \"name\": \"general_control\", \"parameters\": {\"action\": \"start\"}}]\n",
      "[{\"role\": \"user\", \"content\": \"Stand by\"}, {\"role\": \"tool\", \"name\": \"general_control\", \"parameters\": {\"action\": \"pause\"}}]\n",
      "[{\"role\": \"user\", \"content\": \"Fire up\"}, {\"role\": \"tool\", \"name\": \"general_control\", \"parameters\": {\"action\": \"start\"}}]\n",
      "[{\"role\": \"user\", \"content\": \"重启任务\"}, {\"role\": \"tool\", \"name\": \"general_control\", \"parameters\": {\"action\": \"start\"}}]\n",
      "[{\"role\": \"user\", \"content\": \"完结\"}, {\"role\": \"tool\", \"name\": \"general_control\", \"parameters\": {\"action\": \"stop\"}}]\n",
      "[{\"role\": \"user\", \"content\": \"Activate\"}, {\"role\": \"tool\", \"name\": \"general_control\", \"parameters\": {\"action\": \"start\"}}]\n",
      "[{\"role\": \"user\", \"content\": \"结束动作\"}, {\"role\": \"tool\", \"name\": \"general_control\", \"parameters\": {\"action\": \"stop\"}}]\n",
      "[{\"role\": \"user\", \"content\": \"Intermit\"}, {\"role\": \"tool\", \"name\": \"general_control\", \"parameters\": {\"action\": \"pause\"}}]\n",
      "[{\"role\": \"user\", \"content\": \"Push forward\"}, {\"role\": \"tool\", \"name\": \"general_control\", \"parameters\": {\"action\": \"resume\"}}]\n",
      "[{\"role\": \"user\", \"content\": \"启动\"}, {\"role\": \"tool\", \"name\": \"general_control\", \"parameters\": {\"action\": \"start\"}}]\n",
      "[{\"role\": \"user\", \"content\": \"结束一切\"}, {\"role\": \"tool\", \"name\": \"general_control\", \"parameters\": {\"action\": \"stop\"}}]\n",
      "[{\"role\": \"user\", \"content\": \"Cease\"}, {\"role\": \"tool\", \"name\": \"general_control\", \"parameters\": {\"action\": \"stop\"}}]\n",
      "[{\"role\": \"user\", \"content\": \"Engage\"}, {\"role\": \"tool\", \"name\": \"general_control\", \"parameters\": {\"action\": \"start\"}}]\n",
      "[{\"role\": \"user\", \"content\": \"停下来\"}, {\"role\": \"tool\", \"name\": \"general_control\", \"parameters\": {\"action\": \"stop\"}}]\n",
      "[{\"role\": \"user\", \"content\": \"停下来\"}, {\"role\": \"tool\", \"name\": \"general_control\", \"parameters\": {\"action\": \"stop\"}}]\n",
      "[{\"role\": \"user\", \"content\": \"走起\"}, {\"role\": \"tool\", \"name\": \"general_control\", \"parameters\": {\"action\": \"start\"}}]\n",
      "[{\"role\": \"user\", \"content\": \"重启\"}, {\"role\": \"tool\", \"name\": \"general_control\", \"parameters\": {\"action\": \"start\"}}]\n",
      "[{\"role\": \"user\", \"content\": \"Terminate\"}, {\"role\": \"tool\", \"name\": \"general_control\", \"parameters\": {\"action\": \"stop\"}}]\n",
      "[{\"role\": \"user\", \"content\": \"稍作停顿\"}, {\"role\": \"tool\", \"name\": \"general_control\", \"parameters\": {\"action\": \"pause\"}}]\n",
      "[{\"role\": \"user\", \"content\": \"中止\"}, {\"role\": \"tool\", \"name\": \"general_control\", \"parameters\": {\"action\": \"stop\"}}]\n",
      "[{\"role\": \"user\", \"content\": \"Engage\"}, {\"role\": \"tool\", \"name\": \"general_control\", \"parameters\": {\"action\": \"start\"}}]\n",
      "[{\"role\": \"user\", \"content\": \"再次运行\"}, {\"role\": \"tool\", \"name\": \"general_control\", \"parameters\": {\"action\": \"resume\"}}]\n",
      "[{\"role\": \"user\", \"content\": \"Break off\"}, {\"role\": \"tool\", \"name\": \"general_control\", \"parameters\": {\"action\": \"pause\"}}]\n",
      "[{\"role\": \"user\", \"content\": \"Roll out\"}, {\"role\": \"tool\", \"name\": \"general_control\", \"parameters\": {\"action\": \"start\"}}]\n",
      "[{\"role\": \"user\", \"content\": \"Power down\"}, {\"role\": \"tool\", \"name\": \"general_control\", \"parameters\": {\"action\": \"stop\"}}]\n",
      "[{\"role\": \"user\", \"content\": \"Back on track\"}, {\"role\": \"tool\", \"name\": \"general_control\", \"parameters\": {\"action\": \"resume\"}}]\n",
      "[{\"role\": \"user\", \"content\": \"小休一下\"}, {\"role\": \"tool\", \"name\": \"general_control\", \"parameters\": {\"action\": \"pause\"}}]\n",
      "[{\"role\": \"user\", \"content\": \"停下\"}, {\"role\": \"tool\", \"name\": \"general_control\", \"parameters\": {\"action\": \"stop\"}}]\n",
      "[{\"role\": \"user\", \"content\": \"回归任务\"}, {\"role\": \"tool\", \"name\": \"general_control\", \"parameters\": {\"action\": \"resume\"}}]\n",
      "[{\"role\": \"user\", \"content\": \"Pick up where you left off\"}, {\"role\": \"tool\", \"name\": \"general_control\", \"parameters\": {\"action\": \"resume\"}}]\n",
      "[{\"role\": \"user\", \"content\": \"Resume course\"}, {\"role\": \"tool\", \"name\": \"general_control\", \"parameters\": {\"action\": \"resume\"}}]\n",
      "[{\"role\": \"user\", \"content\": \"Forward\"}, {\"role\": \"tool\", \"name\": \"general_control\", \"parameters\": {\"action\": \"start\"}}]\n",
      "[{\"role\": \"user\", \"content\": \"中止工作\"}, {\"role\": \"tool\", \"name\": \"general_control\", \"parameters\": {\"action\": \"stop\"}}]\n",
      "[{\"role\": \"user\", \"content\": \"停一停\"}, {\"role\": \"tool\", \"name\": \"general_control\", \"parameters\": {\"action\": \"pause\"}}]\n",
      "[{\"role\": \"user\", \"content\": \"Time out\"}, {\"role\": \"tool\", \"name\": \"general_control\", \"parameters\": {\"action\": \"pause\"}}]\n",
      "[{\"role\": \"user\", \"content\": \"Break\"}, {\"role\": \"tool\", \"name\": \"general_control\", \"parameters\": {\"action\": \"pause\"}}]\n",
      "[{\"role\": \"user\", \"content\": \"再次开始\"}, {\"role\": \"tool\", \"name\": \"general_control\", \"parameters\": {\"action\": \"start\"}}]\n",
      "[{\"role\": \"user\", \"content\": \"Gear up\"}, {\"role\": \"tool\", \"name\": \"general_control\", \"parameters\": {\"action\": \"start\"}}]\n",
      "[{\"role\": \"user\", \"content\": \"稍作休息\"}, {\"role\": \"tool\", \"name\": \"general_control\", \"parameters\": {\"action\": \"pause\"}}]\n",
      "[{\"role\": \"user\", \"content\": \"End\"}, {\"role\": \"tool\", \"name\": \"general_control\", \"parameters\": {\"action\": \"stop\"}}]\n",
      "[{\"role\": \"user\", \"content\": \"Hold tight\"}, {\"role\": \"tool\", \"name\": \"general_control\", \"parameters\": {\"action\": \"pause\"}}]\n",
      "[{\"role\": \"user\", \"content\": \"恢复行动\"}, {\"role\": \"tool\", \"name\": \"general_control\", \"parameters\": {\"action\": \"resume\"}}]\n",
      "[{\"role\": \"user\", \"content\": \"Regain momentum\"}, {\"role\": \"tool\", \"name\": \"general_control\", \"parameters\": {\"action\": \"resume\"}}]\n",
      "[{\"role\": \"user\", \"content\": \"激活\"}, {\"role\": \"tool\", \"name\": \"general_control\", \"parameters\": {\"action\": \"start\"}}]\n",
      "[{\"role\": \"user\", \"content\": \"暂停下\"}, {\"role\": \"tool\", \"name\": \"general_control\", \"parameters\": {\"action\": \"pause\"}}]\n",
      "[{\"role\": \"user\", \"content\": \"全速启动\"}, {\"role\": \"tool\", \"name\": \"general_control\", \"parameters\": {\"action\": \"start\"}}]\n",
      "[{\"role\": \"user\", \"content\": \"Reactivate\"}, {\"role\": \"tool\", \"name\": \"general_control\", \"parameters\": {\"action\": \"start\"}}]\n",
      "[{\"role\": \"user\", \"content\": \"Fire up\"}, {\"role\": \"tool\", \"name\": \"general_control\", \"parameters\": {\"action\": \"start\"}}]\n",
      "[{\"role\": \"user\", \"content\": \"等待\"}, {\"role\": \"tool\", \"name\": \"general_control\", \"parameters\": {\"action\": \"pause\"}}]\n",
      "[{\"role\": \"user\", \"content\": \"Launch\"}, {\"role\": \"tool\", \"name\": \"general_control\", \"parameters\": {\"action\": \"start\"}}]\n",
      "[{\"role\": \"user\", \"content\": \"暂停一下下\"}, {\"role\": \"tool\", \"name\": \"general_control\", \"parameters\": {\"action\": \"pause\"}}]\n",
      "[{\"role\": \"user\", \"content\": \"开始动作\"}, {\"role\": \"tool\", \"name\": \"general_control\", \"parameters\": {\"action\": \"start\"}}]\n",
      "[{\"role\": \"user\", \"content\": \"Turn on\"}, {\"role\": \"tool\", \"name\": \"general_control\", \"parameters\": {\"action\": \"start\"}}]\n",
      "[{\"role\": \"user\", \"content\": \"中断\"}, {\"role\": \"tool\", \"name\": \"general_control\", \"parameters\": {\"action\": \"pause\"}}]\n",
      "[{\"role\": \"user\", \"content\": \"放弃工作\"}, {\"role\": \"tool\", \"name\": \"general_control\", \"parameters\": {\"action\": \"stop\"}}]\n",
      "[{\"role\": \"user\", \"content\": \"终结\"}, {\"role\": \"tool\", \"name\": \"general_control\", \"parameters\": {\"action\": \"stop\"}}]\n",
      "[{\"role\": \"user\", \"content\": \"Finalize\"}, {\"role\": \"tool\", \"name\": \"general_control\", \"parameters\": {\"action\": \"stop\"}}]\n",
      "[{\"role\": \"user\", \"content\": \"暂停运行\"}, {\"role\": \"tool\", \"name\": \"general_control\", \"parameters\": {\"action\": \"pause\"}}]\n",
      "[{\"role\": \"user\", \"content\": \"Stay put\"}, {\"role\": \"tool\", \"name\": \"general_control\", \"parameters\": {\"action\": \"pause\"}}]\n",
      "[{\"role\": \"user\", \"content\": \"Commence activity\"}, {\"role\": \"tool\", \"name\": \"general_control\", \"parameters\": {\"action\": \"start\"}}]\n",
      "[{\"role\": \"user\", \"content\": \"继续你的行动\"}, {\"role\": \"tool\", \"name\": \"general_control\", \"parameters\": {\"action\": \"resume\"}}]\n",
      "[{\"role\": \"user\", \"content\": \"恢复\"}, {\"role\": \"tool\", \"name\": \"general_control\", \"parameters\": {\"action\": \"resume\"}}]\n",
      "[{\"role\": \"user\", \"content\": \"Trigger\"}, {\"role\": \"tool\", \"name\": \"general_control\", \"parameters\": {\"action\": \"start\"}}]\n",
      "[{\"role\": \"user\", \"content\": \"Perform a cleanup, please.\"}, {\"role\": \"tool\", \"name\": \"general_control\", \"parameters\": {\"action\": \"start\"}}]\n",
      "[{\"role\": \"user\", \"content\": \"Shut down\"}, {\"role\": \"tool\", \"name\": \"general_control\", \"parameters\": {\"action\": \"stop\"}}]\n",
      "[{\"role\": \"user\", \"content\": \"开始你的表演\"}, {\"role\": \"tool\", \"name\": \"general_control\", \"parameters\": {\"action\": \"start\"}}]\n",
      "[{\"role\": \"user\", \"content\": \"继续任务\"}, {\"role\": \"tool\", \"name\": \"general_control\", \"parameters\": {\"action\": \"resume\"}}]\n",
      "[{\"role\": \"user\", \"content\": \"静止\"}, {\"role\": \"tool\", \"name\": \"general_control\", \"parameters\": {\"action\": \"pause\"}}]\n",
      "[{\"role\": \"user\", \"content\": \"不要继续了\"}, {\"role\": \"tool\", \"name\": \"general_control\", \"parameters\": {\"action\": \"stop\"}}]\n",
      "[{\"role\": \"user\", \"content\": \"Take five\"}, {\"role\": \"tool\", \"name\": \"general_control\", \"parameters\": {\"action\": \"pause\"}}]\n",
      "[{\"role\": \"user\", \"content\": \"暂缓\"}, {\"role\": \"tool\", \"name\": \"general_control\", \"parameters\": {\"action\": \"pause\"}}]\n",
      "[{\"role\": \"user\", \"content\": \"Hold tight\"}, {\"role\": \"tool\", \"name\": \"general_control\", \"parameters\": {\"action\": \"pause\"}}]\n",
      "[{\"role\": \"user\", \"content\": \"小憩一会\"}, {\"role\": \"tool\", \"name\": \"general_control\", \"parameters\": {\"action\": \"pause\"}}]\n",
      "[{\"role\": \"user\", \"content\": \"执行吧\"}, {\"role\": \"tool\", \"name\": \"general_control\", \"parameters\": {\"action\": \"start\"}}]\n",
      "[{\"role\": \"user\", \"content\": \"开始行动\"}, {\"role\": \"tool\", \"name\": \"general_control\", \"parameters\": {\"action\": \"start\"}}]\n",
      "[{\"role\": \"user\", \"content\": \"展开任务\"}, {\"role\": \"tool\", \"name\": \"general_control\", \"parameters\": {\"action\": \"start\"}}]\n",
      "[{\"role\": \"user\", \"content\": \"停止一切\"}, {\"role\": \"tool\", \"name\": \"general_control\", \"parameters\": {\"action\": \"stop\"}}]\n",
      "[{\"role\": \"user\", \"content\": \"Conclude\"}, {\"role\": \"tool\", \"name\": \"general_control\", \"parameters\": {\"action\": \"stop\"}}]\n",
      "[{\"role\": \"user\", \"content\": \"Disengage\"}, {\"role\": \"tool\", \"name\": \"general_control\", \"parameters\": {\"action\": \"stop\"}}]\n",
      "[{\"role\": \"user\", \"content\": \"Suspend\"}, {\"role\": \"tool\", \"name\": \"general_control\", \"parameters\": {\"action\": \"pause\"}}]\n",
      "[{\"role\": \"user\", \"content\": \"Restart\"}, {\"role\": \"tool\", \"name\": \"general_control\", \"parameters\": {\"action\": \"start\"}}]\n",
      "[{\"role\": \"user\", \"content\": \"再来\"}, {\"role\": \"tool\", \"name\": \"general_control\", \"parameters\": {\"action\": \"start\"}}]\n",
      "[{\"role\": \"user\", \"content\": \"彻底停下\"}, {\"role\": \"tool\", \"name\": \"general_control\", \"parameters\": {\"action\": \"stop\"}}]\n",
      "[{\"role\": \"user\", \"content\": \"Hang on\"}, {\"role\": \"tool\", \"name\": \"general_control\", \"parameters\": {\"action\": \"pause\"}}]\n",
      "[{\"role\": \"user\", \"content\": \"一切准备好了\"}, {\"role\": \"tool\", \"name\": \"general_control\", \"parameters\": {\"action\": \"start\"}}]\n",
      "[{\"role\": \"user\", \"content\": \"时间到了\"}, {\"role\": \"tool\", \"name\": \"general_control\", \"parameters\": {\"action\": \"start\"}}]\n",
      "[{\"role\": \"user\", \"content\": \"Reengage\"}, {\"role\": \"tool\", \"name\": \"general_control\", \"parameters\": {\"action\": \"resume\"}}]\n",
      "[{\"role\": \"user\", \"content\": \"Wrap things up\"}, {\"role\": \"tool\", \"name\": \"general_control\", \"parameters\": {\"action\": \"stop\"}}]\n",
      "[{\"role\": \"user\", \"content\": \"Wind up\"}, {\"role\": \"tool\", \"name\": \"general_control\", \"parameters\": {\"action\": \"stop\"}}]\n",
      "[{\"role\": \"user\", \"content\": \"Boot up\"}, {\"role\": \"tool\", \"name\": \"general_control\", \"parameters\": {\"action\": \"start\"}}]\n",
      "[{\"role\": \"user\", \"content\": \"延缓任务\"}, {\"role\": \"tool\", \"name\": \"general_control\", \"parameters\": {\"action\": \"pause\"}}]\n",
      "[{\"role\": \"user\", \"content\": \"继续吧\"}, {\"role\": \"tool\", \"name\": \"general_control\", \"parameters\": {\"action\": \"resume\"}}]\n",
      "[{\"role\": \"user\", \"content\": \"Dive back in\"}, {\"role\": \"tool\", \"name\": \"general_control\", \"parameters\": {\"action\": \"resume\"}}]\n",
      "[{\"role\": \"user\", \"content\": \"准备行动\"}, {\"role\": \"tool\", \"name\": \"general_control\", \"parameters\": {\"action\": \"start\"}}]\n",
      "[{\"role\": \"user\", \"content\": \"不要再进行了\"}, {\"role\": \"tool\", \"name\": \"general_control\", \"parameters\": {\"action\": \"stop\"}}]\n",
      "[{\"role\": \"user\", \"content\": \"Hold that thought\"}, {\"role\": \"tool\", \"name\": \"general_control\", \"parameters\": {\"action\": \"pause\"}}]\n",
      "[{\"role\": \"user\", \"content\": \"简单暂停\"}, {\"role\": \"tool\", \"name\": \"general_control\", \"parameters\": {\"action\": \"pause\"}}]\n",
      "[{\"role\": \"user\", \"content\": \"Unplug\"}, {\"role\": \"tool\", \"name\": \"general_control\", \"parameters\": {\"action\": \"stop\"}}]\n"
     ]
    }
   ],
   "source": [
    "for i in records:\n",
    "    if i[1] == 1:\n",
    "        print(train_data[i[0]]['conversations'])"
   ]
  },
  {
   "cell_type": "code",
   "execution_count": 15,
   "id": "ee532d32-ab2a-4531-a1a0-e3e3b90d1bbd",
   "metadata": {
    "ExecuteTime": {
     "end_time": "2024-03-13T09:25:36.240443872Z",
     "start_time": "2024-03-13T09:25:36.229360685Z"
    }
   },
   "outputs": [],
   "source": [
    "tools[0]['parameters']['required'] = ['action']\n",
    "tools[11]['parameters']['required'] = ['action']"
   ]
  },
  {
   "cell_type": "code",
   "execution_count": 16,
   "id": "56b9c518-88d4-4069-b125-d9d2a28e207a",
   "metadata": {
    "ExecuteTime": {
     "end_time": "2024-03-13T09:25:38.242631735Z",
     "start_time": "2024-03-13T09:25:38.227260836Z"
    }
   },
   "outputs": [],
   "source": [
    "for i in range(len(tools)):\n",
    "    tool = tools[i]\n",
    "    assert 'properties' in tool['parameters']\n",
    "    assert isinstance(tool['parameters']['properties'], dict)\n",
    "    assert 'required' in tool['parameters']\n",
    "    assert isinstance(tool['parameters']['required'], list)"
   ]
  },
  {
   "cell_type": "code",
   "execution_count": 17,
   "id": "66063cd4-6ea1-4bd5-b900-9b51d23582d8",
   "metadata": {
    "ExecuteTime": {
     "end_time": "2024-03-13T09:25:41.019770180Z",
     "start_time": "2024-03-13T09:25:40.327929157Z"
    }
   },
   "outputs": [],
   "source": [
    "train_data_new = []\n",
    "for i in range(len(train_data)):\n",
    "    try:\n",
    "        train_data_new.append(format_example(train_data[i], tools))\n",
    "    except:\n",
    "        # print(i)\n",
    "        pass"
   ]
  },
  {
   "cell_type": "code",
   "execution_count": 18,
   "id": "4beef5c3-3951-4396-8f04-41555cad72c7",
   "metadata": {
    "ExecuteTime": {
     "end_time": "2024-03-13T09:25:41.025748972Z",
     "start_time": "2024-03-13T09:25:41.019705079Z"
    }
   },
   "outputs": [
    {
     "data": {
      "text/plain": "3232"
     },
     "execution_count": 18,
     "metadata": {},
     "output_type": "execute_result"
    }
   ],
   "source": [
    "len(train_data_new)"
   ]
  },
  {
   "cell_type": "code",
   "execution_count": 19,
   "id": "017e48d7-ef3a-4486-8488-c8b13d4537bb",
   "metadata": {
    "ExecuteTime": {
     "end_time": "2024-03-13T09:25:42.120126704Z",
     "start_time": "2024-03-13T09:25:41.931738902Z"
    }
   },
   "outputs": [],
   "source": [
    "dev_data_new = []\n",
    "for i in range(len(dev_data)):\n",
    "    try:\n",
    "        dev_data_new.append(format_example_dev(dev_data[i], tools))\n",
    "    except:\n",
    "        # print(i)\n",
    "        pass"
   ]
  },
  {
   "cell_type": "code",
   "execution_count": 20,
   "id": "220a145a-357d-4aad-a619-7871fc3ec010",
   "metadata": {
    "ExecuteTime": {
     "end_time": "2024-03-13T09:25:42.690592708Z",
     "start_time": "2024-03-13T09:25:42.668427048Z"
    }
   },
   "outputs": [
    {
     "data": {
      "text/plain": "1078"
     },
     "execution_count": 20,
     "metadata": {},
     "output_type": "execute_result"
    }
   ],
   "source": [
    "len(dev_data_new)"
   ]
  },
  {
   "cell_type": "code",
   "execution_count": 22,
   "id": "ce8e464e-d5ae-4209-bbd1-991c2b9c5067",
   "metadata": {
    "ExecuteTime": {
     "end_time": "2024-01-25T11:38:44.914988243Z",
     "start_time": "2024-01-25T11:38:44.877050174Z"
    }
   },
   "outputs": [
    {
     "data": {
      "text/plain": "{'tools': '[{\"name\": \"general_control\", \"description\": \"This API is used for controlling general tasks, typically providing control for listed user-defined tasks, or that is not directly tied to specific task types, or non-clean task\", \"parameters\": {\"type\": \"object\", \"properties\": {\"action\": {\"type\": \"string\", \"enum\": [\"start\", \"stop\", \"pause\", \"resume\"]}, \"user_defined_task\": {\"type\": \"string\", \"description\": \"user-defined task described in user request\"}}, \"required\": [\"action\"]}}, {\"name\": \"clean\", \"description\": \"Initiate a task of an immediate or unscheduled cleaning or partial clean, i.e., cleaning a part while leaving another part untouched.\", \"parameters\": {\"type\": \"object\", \"properties\": {\"action\": {\"type\": \"string\", \"enum\": [\"start\", \"stop\", \"pause\", \"resume\"]}, \"location\": {\"type\": \"string\", \"description\": \"Fill in the description of the location from the user request word for word, using the same language as in the user\\'s description of the location.\"}, \"tool\": {\"type\": \"string\", \"enum\": [\"vacuum only/\\\\u626b\", \"mop only/\\\\u62d6/\\\\u64e6\", \"vacuum and mop\"], \"default\": \"vacuum and mop\", \"description\": \"\\'vacuum and mop\\' means vacuum and mop the floor at the same time, \\'vacuum only\\' is only vacuum, in Chinese, \\'\\\\u626b\\' is \\'vacuum only\\', \\'\\\\u6e05\\\\u626b\\' is \\'vacuum and mop\\'\"}, \"total_count\": {\"type\": \"number\", \"default\": 1, \"description\": \"The total count of the operation that is repeated within a single action.\"}, \"special_mode\": {\"type\": \"string\", \"enum\": [\"local\", \"custom\"], \"description\": \"for local clean or custom clean\"}}, \"required\": [\"action\", \"tool\"]}}, {\"name\": \"do_not_or_skip_clean\", \"description\": \"This API is used when the user only requests not or skip to clean a certain area.\", \"parameters\": {\"type\": \"object\", \"properties\": {\"location\": {\"type\": \"string\", \"description\": \"Fill in the description of the location from the user request word for word, using the same language as in the user\\'s description of the location.\"}}, \"required\": [\"location\"]}}, {\"name\": \"schedule_operation\", \"description\": \"create clean task, or query or delete scheduled clean tasks. (other task not supported)\", \"parameters\": {\"type\": \"object\", \"properties\": {\"operation_type\": {\"type\": \"string\", \"enum\": [\"create\", \"query\", \"delete\"]}, \"clean_action\": {\"type\": \"string\", \"enum\": [\"start\", \"stop\", \"pause\", \"resume\"]}, \"clean_tool\": {\"type\": \"string\", \"enum\": [\"vacuum only/\\\\u626b\", \"mop only/\\\\u62d6/\\\\u64e6\", \"vacuum and mop\"], \"default\": \"vacuum and mop\", \"description\": \"\\'vacuum and mop\\' refers to both vacuuming and mopping the floor.\"}, \"total_count\": {\"type\": \"number\", \"default\": 1, \"description\": \"The total count of the operation that is repeated within a single action.\"}, \"location\": {\"type\": \"string\", \"description\": \"fill the Description text of the location in the user request here, without excessive transformation, ideally word for word.\"}, \"time\": {\"type\": \"string\", \"description\": \"fill the description text of the time in the user request here, without excessive transformation, ideally word for word.\"}, \"index_from\": {\"type\": \"integer\", \"description\": \"the beginning index of the schedule, 1 for newest/recent/first, 2 for second recent, -1 for last/final, -2 for the second-to-last item, and so on\"}, \"index_to\": {\"type\": \"integer\", \"description\": \"the end index of the schedule, 1 for newest/recent/first, 2 for second recent, -1 for last/final, -2 for the second-to-last item, and so on\"}, \"relative\": {\"type\": \"string\", \"enum\": [\"next\", \"previous\"]}}, \"required\": [\"operation_type\"]}}, {\"name\": \"move\", \"description\": \"perform a move operation\", \"parameters\": {\"type\": \"object\", \"properties\": {\"location\": {\"type\": \"string\", \"description\": \"location description in the user request\"}}, \"required\": [\"location\"]}, \"required\": [\"location\"]}, {\"name\": \"set_object_property\", \"description\": \"change sensors or peripherals state\", \"parameters\": {\"type\": \"object\", \"properties\": {\"property_name\": {\"type\": \"string\", \"description\": \"vaccum robot properties\", \"enum\": [\"LED/\\\\u706f\", \"suction power\", \"water flow and scrub intensity/\\\\u6c34\\\\u91cf\\\\u548c\\\\u64e6\\\\u5730\\\\u529b\\\\u5ea6\", \"carpet boost/\\\\u5730\\\\u6bef\\\\u589e\\\\u538b\", \"Route/\\\\u8def\\\\u7ebf\\\\u504f\\\\u597d\", \"mop wash mode/\\\\u6d17\\\\u5e03\\\\u6a21\\\\u5f0f\", \"volume/\\\\u97f3\\\\u91cf\", \"auto collect dust/auto emptying/\\\\u81ea\\\\u52a8\\\\u96c6\\\\u5c18\", \"mop wash mode/\\\\u6d17\\\\u5e03\\\\u6a21\\\\u5f0f\", \"working level/\\\\u5de5\\\\u4f5c\\\\u6863\\\\u4f4d/\\\\u6863\\\\u4f4d\", \"clean mode/vacuum or mop mode/\\\\u626b\\\\u62d6\\\\u6a21\\\\u5f0f\"]}, \"property_value\": {\"type\": \"string or integer\", \"description\": \"the property value, details in value table\", \"value_table\": [{\"property_name\": \"LED/\\\\u706f\", \"property_values\": {\"proper nouns\": [\"on\", \"off\"]}}, {\"property_name\": \"suction power\", \"property_values\": {\"proper nouns\": [\"Quiet/\\\\u5b89\\\\u9759/lowest\", \"Balanced/\\\\u6807\\\\u51c6/lower\", \"Turbo/\\\\u5f3a\\\\u529b/medium\", \"Max/higher\", \"Max+/highest\"], \"scales\": [1, 2, 3, 4, 5], \"relational terms\": [\"turn up\", \"turn down\"]}}, {\"property_name\": \"water flow and scrub intensity/\\\\u6c34\\\\u91cf\\\\u548c\\\\u64e6\\\\u5730\\\\u529b\\\\u5ea6\", \"property_values\": {\"proper nouns\": [\"mild/\\\\u8f7b\\\\u67d4\", \"moderate/\\\\u6807\\\\u51c6\", \"intense/\\\\u5f3a\\\\u529b\"], \"scales\": [1, 2, 3], \"relational terms\": [\"turn up\", \"turn down\"]}}, {\"property_name\": \"carpet boost/\\\\u5730\\\\u6bef\\\\u589e\\\\u538b\", \"property_values\": {\"proper nouns\": [\"on\", \"off\"]}}, {\"property_name\": \"Route/\\\\u8def\\\\u7ebf\\\\u504f\\\\u597d\", \"property_values\": {\"proper nouns\": [\"fast/\\\\u5feb\\\\u901f\", \"standard/\\\\u65e5\\\\u5e38/normal\", \"deep/\\\\u7cbe\\\\u7ec6\\\\u64e6\\\\u5730/slower\", \"deep plus/\\\\u6df1\\\\u5ea6\\\\u6162\\\\u62d6/slowest\"], \"scales\": [1, 2, 3, 4], \"relational terms\": [\"turn up\", \"turn down\"]}}, {\"property_name\": \"mop wash mode/\\\\u6d17\\\\u5e03\\\\u6a21\\\\u5f0f\", \"property_values\": {\"proper nouns\": [\"by section/room\", \"by time: <time description>\"]}}, {\"property_name\": \"volume/\\\\u97f3\\\\u91cf\", \"property_values\": {\"proper nouns\": [\"mute on\", \"mute off\", \"minimum\", \"maximum\"], \"range\": {\"minimum\": 1, \"maximum\": 100}, \"relational terms\": [\"turn up\", \"turn down\"]}}, {\"property_name\": \"auto collect dust/auto emptying/\\\\u81ea\\\\u52a8\\\\u96c6\\\\u5c18\", \"property_values\": {\"proper nouns\": [\"on\", \"off\"]}}, {\"property_name\": \"working level/\\\\u5de5\\\\u4f5c\\\\u6863\\\\u4f4d/\\\\u6863\\\\u4f4d\", \"property_values\": {\"proper nouns\": [\"low\", \"medium\", \"high\"], \"scales\": [1, 2, 3], \"relational terms\": [\"turn up\", \"turn down\"]}}, {\"property_name\": \"clean mode/vacuum or mop mode/\\\\u626b\\\\u62d6\\\\u6a21\\\\u5f0f\", \"property_values\": {\"relational terms\": [\"vacuum only\", \"mop only\", \"vacuum and mop\"]}}]}}, \"required\": [\"property_name\", \"property_value\"]}, \"required\": [\"property_name\", \"property_value\"]}, {\"name\": \"follow_me\", \"description\": \"instruct the robot to follow the user\", \"parameters\": {\"type\": \"string\", \"enum\": [\"start\", \"stop\"], \"properties\": {}, \"required\": []}}, {\"name\": \"go_away\", \"description\": \"instruct the robot to go away or do other things first\", \"parameters\": {\"type\": \"object\", \"properties\": {}, \"required\": []}}, {\"name\": \"get_property\", \"description\": \"get robot property\", \"parameters\": {\"type\": \"object\", \"properties\": {\"property_name\": {\"type\": \"string\", \"description\": \"vaccum robot properties\", \"enum\": [\"LED/\\\\u706f\", \"suction power\", \"water flow and scrub intensity/\\\\u6c34\\\\u91cf\\\\u548c\\\\u64e6\\\\u5730\\\\u529b\\\\u5ea6\", \"carpet boost/\\\\u5730\\\\u6bef\\\\u589e\\\\u538b\", \"Route/\\\\u8def\\\\u7ebf\\\\u504f\\\\u597d\", \"filter\", \"main brush\", \"side brush\", \"sensors\", \"mop\", \"dust bag\", \"floor cleaning solution\", \"current location\", \"remaining battery power\", \"freshwater tank/water tank\", \"wastewater tank\", \"volume/\\\\u97f3\\\\u91cf\", \"all consumables\", \"High-speed maintenance brush/\\\\u81ea\\\\u6e05\\\\u6d01\\\\u5237\", \"Water filter/\\\\u6e05\\\\u6d01\\\\u69fd\\\\u6ee4\\\\u7f51\", \"list features/self-introduction\"]}}, \"required\": []}}, {\"name\": \"upgrade_firmware\", \"description\": \"Upgrade firmware.\", \"parameters\": {\"type\": \"object\", \"properties\": {}, \"required\": []}}, {\"name\": \"dock_operation\", \"description\": \"api for the features of vacuum robot dock\", \"parameters\": {\"type\": \"object\", \"properties\": {\"action\": {\"type\": \"string\", \"enum\": [\"start\", \"stop\", \"pause\", \"resume\"]}, \"operation_type\": {\"type\": \"string\", \"enum\": [\"charge battery\", \"come down\", \"collect dust/\\\\u96c6\\\\u5c18\", \"wash mop\", \"drying mop\", \"back to\"], \"description\": \"\\'charge battery\\' means sending the robot to the dock to recharge. \\'come down\\' instructs the vacuum robot to descend from the dock. \\'wash mop\\' instructs the vacuum robot to clean its attached mop. \\'back to\\' means instructs robot to go back to dock.\"}}, \"required\": [\"operation_type\"]}, \"required\": [\"operation_type\"]}, {\"name\": \"mapping\", \"description\": \"api for building map\", \"parameters\": {\"type\": \"object\", \"properties\": {\"action\": {\"type\": \"string\", \"enum\": [\"start\", \"stop\", \"pause\", \"resume\"]}}, \"required\": [\"action\"]}}]',\n 'conversations': [{'from': 'human', 'value': '重新启动绘图程序。'},\n  {'from': 'function_call',\n   'value': '{\"name\": \"mapping\", \"arguments\": {\"action\": \"start\"}}'}]}"
     },
     "execution_count": 22,
     "metadata": {},
     "output_type": "execute_result"
    }
   ],
   "source": [
    "dev_data_new[0]"
   ]
  },
  {
   "cell_type": "code",
   "execution_count": 24,
   "id": "8e34dce0-7aa7-4231-8503-0854d417f267",
   "metadata": {
    "ExecuteTime": {
     "end_time": "2024-01-22T08:04:06.999081218Z",
     "start_time": "2024-01-22T08:04:06.990909867Z"
    }
   },
   "outputs": [
    {
     "name": "stdout",
     "output_type": "stream",
     "text": [
      "299\n",
      "376\n"
     ]
    }
   ],
   "source": [
    "for i in range(len(train_data)):\n",
    "    if train_data[i]['num_decomposition'] > 1:\n",
    "        print(i)"
   ]
  },
  {
   "cell_type": "code",
   "execution_count": 33,
   "id": "f2c22af3-d88f-49e9-9651-d14f2ede0110",
   "metadata": {},
   "outputs": [
    {
     "data": {
      "text/plain": [
       "{'tools': '[{\"name\": \"general_control\", \"description\": \"This API is used for controlling general tasks, typically providing control for listed user-defined tasks, or that is not directly tied to specific task types, or non-clean task\", \"parameters\": {\"type\": \"object\", \"properties\": {\"action\": {\"type\": \"string\", \"enum\": [\"start\", \"stop\", \"pause\", \"resume\"]}, \"user_defined_task\": {\"type\": \"string\", \"description\": \"user-defined task described in user request\"}}, \"required\": [\"action\"]}}, {\"name\": \"clean\", \"description\": \"Initiate a task of an immediate or unscheduled cleaning or partial clean, i.e., cleaning a part while leaving another part untouched.\", \"parameters\": {\"type\": \"object\", \"properties\": {\"action\": {\"type\": \"string\", \"enum\": [\"start\", \"stop\", \"pause\", \"resume\"]}, \"location\": {\"type\": \"string\", \"description\": \"Fill in the description of the location from the user request word for word, using the same language as in the user\\'s description of the location.\"}, \"tool\": {\"type\": \"string\", \"enum\": [\"vacuum only/\\\\u626b\", \"mop only/\\\\u62d6/\\\\u64e6\", \"vacuum and mop\"], \"default\": \"vacuum and mop\", \"description\": \"\\'vacuum and mop\\' means vacuum and mop the floor at the same time, \\'vacuum only\\' is only vacuum, in Chinese, \\'\\\\u626b\\' is \\'vacuum only\\', \\'\\\\u6e05\\\\u626b\\' is \\'vacuum and mop\\'\"}, \"total_count\": {\"type\": \"number\", \"default\": 1, \"description\": \"The total count of the operation that is repeated within a single action.\"}, \"special_mode\": {\"type\": \"string\", \"enum\": [\"local\", \"custom\"], \"description\": \"for local clean or custom clean\"}}, \"required\": [\"action\", \"tool\"]}}, {\"name\": \"do_not_or_skip_clean\", \"description\": \"This API is used when the user only requests not or skip to clean a certain area.\", \"parameters\": {\"type\": \"object\", \"properties\": {\"location\": {\"type\": \"string\", \"description\": \"Fill in the description of the location from the user request word for word, using the same language as in the user\\'s description of the location.\"}}, \"required\": [\"location\"]}}, {\"name\": \"schedule_operation\", \"description\": \"create clean task, or query or delete scheduled clean tasks. (other task not supported)\", \"parameters\": {\"type\": \"object\", \"properties\": {\"operation_type\": {\"type\": \"string\", \"enum\": [\"create\", \"query\", \"delete\"]}, \"clean_action\": {\"type\": \"string\", \"enum\": [\"start\", \"stop\", \"pause\", \"resume\"]}, \"clean_tool\": {\"type\": \"string\", \"enum\": [\"vacuum only/\\\\u626b\", \"mop only/\\\\u62d6/\\\\u64e6\", \"vacuum and mop\"], \"default\": \"vacuum and mop\", \"description\": \"\\'vacuum and mop\\' refers to both vacuuming and mopping the floor.\"}, \"total_count\": {\"type\": \"number\", \"default\": 1, \"description\": \"The total count of the operation that is repeated within a single action.\"}, \"location\": {\"type\": \"string\", \"description\": \"fill the Description text of the location in the user request here, without excessive transformation, ideally word for word.\"}, \"time\": {\"type\": \"string\", \"description\": \"fill the description text of the time in the user request here, without excessive transformation, ideally word for word.\"}, \"index_from\": {\"type\": \"integer\", \"description\": \"the beginning index of the schedule, 1 for newest/recent/first, 2 for second recent, -1 for last/final, -2 for the second-to-last item, and so on\"}, \"index_to\": {\"type\": \"integer\", \"description\": \"the end index of the schedule, 1 for newest/recent/first, 2 for second recent, -1 for last/final, -2 for the second-to-last item, and so on\"}, \"relative\": {\"type\": \"string\", \"enum\": [\"next\", \"previous\"]}}, \"required\": [\"operation_type\"]}}, {\"name\": \"move\", \"description\": \"perform a move operation\", \"parameters\": {\"type\": \"object\", \"properties\": {\"location\": {\"type\": \"string\", \"description\": \"location description in the user request\"}}, \"required\": [\"location\"]}, \"required\": [\"location\"]}, {\"name\": \"set_object_property\", \"description\": \"change sensors or peripherals state\", \"parameters\": {\"type\": \"object\", \"properties\": {\"property_name\": {\"type\": \"string\", \"description\": \"vaccum robot properties\", \"enum\": [\"LED/\\\\u706f\", \"suction power\", \"water flow and scrub intensity/\\\\u6c34\\\\u91cf\\\\u548c\\\\u64e6\\\\u5730\\\\u529b\\\\u5ea6\", \"carpet boost/\\\\u5730\\\\u6bef\\\\u589e\\\\u538b\", \"Route/\\\\u8def\\\\u7ebf\\\\u504f\\\\u597d\", \"mop wash mode/\\\\u6d17\\\\u5e03\\\\u6a21\\\\u5f0f\", \"volume/\\\\u97f3\\\\u91cf\", \"auto collect dust/auto emptying/\\\\u81ea\\\\u52a8\\\\u96c6\\\\u5c18\", \"mop wash mode/\\\\u6d17\\\\u5e03\\\\u6a21\\\\u5f0f\", \"working level/\\\\u5de5\\\\u4f5c\\\\u6863\\\\u4f4d/\\\\u6863\\\\u4f4d\", \"clean mode/vacuum or mop mode/\\\\u626b\\\\u62d6\\\\u6a21\\\\u5f0f\"]}, \"property_value\": {\"type\": \"string or integer\", \"description\": \"the property value, details in value table\", \"value_table\": [{\"property_name\": \"LED/\\\\u706f\", \"property_values\": {\"proper nouns\": [\"on\", \"off\"]}}, {\"property_name\": \"suction power\", \"property_values\": {\"proper nouns\": [\"Quiet/\\\\u5b89\\\\u9759/lowest\", \"Balanced/\\\\u6807\\\\u51c6/lower\", \"Turbo/\\\\u5f3a\\\\u529b/medium\", \"Max/higher\", \"Max+/highest\"], \"scales\": [1, 2, 3, 4, 5], \"relational terms\": [\"turn up\", \"turn down\"]}}, {\"property_name\": \"water flow and scrub intensity/\\\\u6c34\\\\u91cf\\\\u548c\\\\u64e6\\\\u5730\\\\u529b\\\\u5ea6\", \"property_values\": {\"proper nouns\": [\"mild/\\\\u8f7b\\\\u67d4\", \"moderate/\\\\u6807\\\\u51c6\", \"intense/\\\\u5f3a\\\\u529b\"], \"scales\": [1, 2, 3], \"relational terms\": [\"turn up\", \"turn down\"]}}, {\"property_name\": \"carpet boost/\\\\u5730\\\\u6bef\\\\u589e\\\\u538b\", \"property_values\": {\"proper nouns\": [\"on\", \"off\"]}}, {\"property_name\": \"Route/\\\\u8def\\\\u7ebf\\\\u504f\\\\u597d\", \"property_values\": {\"proper nouns\": [\"fast/\\\\u5feb\\\\u901f\", \"standard/\\\\u65e5\\\\u5e38/normal\", \"deep/\\\\u7cbe\\\\u7ec6\\\\u64e6\\\\u5730/slower\", \"deep plus/\\\\u6df1\\\\u5ea6\\\\u6162\\\\u62d6/slowest\"], \"scales\": [1, 2, 3, 4], \"relational terms\": [\"turn up\", \"turn down\"]}}, {\"property_name\": \"mop wash mode/\\\\u6d17\\\\u5e03\\\\u6a21\\\\u5f0f\", \"property_values\": {\"proper nouns\": [\"by section/room\", \"by time: <time description>\"]}}, {\"property_name\": \"volume/\\\\u97f3\\\\u91cf\", \"property_values\": {\"proper nouns\": [\"mute on\", \"mute off\", \"minimum\", \"maximum\"], \"range\": {\"minimum\": 1, \"maximum\": 100}, \"relational terms\": [\"turn up\", \"turn down\"]}}, {\"property_name\": \"auto collect dust/auto emptying/\\\\u81ea\\\\u52a8\\\\u96c6\\\\u5c18\", \"property_values\": {\"proper nouns\": [\"on\", \"off\"]}}, {\"property_name\": \"working level/\\\\u5de5\\\\u4f5c\\\\u6863\\\\u4f4d/\\\\u6863\\\\u4f4d\", \"property_values\": {\"proper nouns\": [\"low\", \"medium\", \"high\"], \"scales\": [1, 2, 3], \"relational terms\": [\"turn up\", \"turn down\"]}}, {\"property_name\": \"clean mode/vacuum or mop mode/\\\\u626b\\\\u62d6\\\\u6a21\\\\u5f0f\", \"property_values\": {\"relational terms\": [\"vacuum only\", \"mop only\", \"vacuum and mop\"]}}]}}, \"required\": [\"property_name\", \"property_value\"]}, \"required\": [\"property_name\", \"property_value\"]}, {\"name\": \"follow_me\", \"description\": \"instruct the robot to follow the user\", \"parameters\": {\"type\": \"string\", \"enum\": [\"start\", \"stop\"], \"properties\": {}, \"required\": []}}, {\"name\": \"go_away\", \"description\": \"instruct the robot to go away or do other things first\", \"parameters\": {\"type\": \"object\", \"properties\": {}, \"required\": []}}, {\"name\": \"get_property\", \"description\": \"get robot property\", \"parameters\": {\"type\": \"object\", \"properties\": {\"property_name\": {\"type\": \"string\", \"description\": \"vaccum robot properties\", \"enum\": [\"LED/\\\\u706f\", \"suction power\", \"water flow and scrub intensity/\\\\u6c34\\\\u91cf\\\\u548c\\\\u64e6\\\\u5730\\\\u529b\\\\u5ea6\", \"carpet boost/\\\\u5730\\\\u6bef\\\\u589e\\\\u538b\", \"Route/\\\\u8def\\\\u7ebf\\\\u504f\\\\u597d\", \"filter\", \"main brush\", \"side brush\", \"sensors\", \"mop\", \"dust bag\", \"floor cleaning solution\", \"current location\", \"remaining battery power\", \"freshwater tank/water tank\", \"wastewater tank\", \"volume/\\\\u97f3\\\\u91cf\", \"all consumables\", \"High-speed maintenance brush/\\\\u81ea\\\\u6e05\\\\u6d01\\\\u5237\", \"Water filter/\\\\u6e05\\\\u6d01\\\\u69fd\\\\u6ee4\\\\u7f51\", \"list features/self-introduction\"]}}, \"required\": []}}, {\"name\": \"upgrade_firmware\", \"description\": \"Upgrade firmware.\", \"parameters\": {\"type\": \"object\", \"properties\": {}, \"required\": []}}, {\"name\": \"dock_operation\", \"description\": \"api for the features of vacuum robot dock\", \"parameters\": {\"type\": \"object\", \"properties\": {\"action\": {\"type\": \"string\", \"enum\": [\"start\", \"stop\", \"pause\", \"resume\"]}, \"operation_type\": {\"type\": \"string\", \"enum\": [\"charge battery\", \"come down\", \"collect dust/\\\\u96c6\\\\u5c18\", \"wash mop\", \"drying mop\", \"back to\"], \"description\": \"\\'charge battery\\' means sending the robot to the dock to recharge. \\'come down\\' instructs the vacuum robot to descend from the dock. \\'wash mop\\' instructs the vacuum robot to clean its attached mop. \\'back to\\' means instructs robot to go back to dock.\"}}, \"required\": [\"operation_type\"]}, \"required\": [\"operation_type\"]}, {\"name\": \"mapping\", \"description\": \"api for building map\", \"parameters\": {\"type\": \"object\", \"properties\": {\"action\": {\"type\": \"string\", \"enum\": [\"start\", \"stop\", \"pause\", \"resume\"]}}, \"required\": [\"action\"]}}]',\n",
       " 'conversations': [{'from': 'human', 'value': '查看前五条和后五条预约任务'},\n",
       "  {'from': 'function_call',\n",
       "   'value': '{\"name\": \"schedule_operation\", \"arguments\": {\"operation_type\": \"query\", \"index_from\": 1, \"index_to\": 5}}'},\n",
       "  {'from': 'function_call',\n",
       "   'value': '{\"name\": \"schedule_operation\", \"arguments\": {\"operation_type\": \"query\", \"index_from\": -5, \"index_to\": -1}}'}]}"
      ]
     },
     "execution_count": 33,
     "metadata": {},
     "output_type": "execute_result"
    }
   ],
   "source": [
    "train_data_new[299]"
   ]
  },
  {
   "cell_type": "code",
   "execution_count": 34,
   "id": "002be4bc-0038-4a26-9119-a6eb52e77160",
   "metadata": {},
   "outputs": [
    {
     "data": {
      "text/plain": [
       "{'user_request': '查看前五条和后五条预约任务',\n",
       " 'task_decomposition': '[{\"name\": \"schedule_operation\", \"parameters\": {\"operation_type\": \"query\", \"index_from\": 1, \"index_to\": 5}}, {\"name\": \"schedule_operation\", \"parameters\": {\"operation_type\": \"query\", \"index_from\": -5, \"index_to\": -1}}]',\n",
       " 'tools': '[{\"name\": \"general_control\", \"description\": \"This API is used for controlling general tasks, typically providing control for listed user-defined tasks, or that is not directly tied to specific task types, or non-clean task\", \"parameters\": {\"type\": \"object\", \"properties\": {\"action\": {\"type\": \"string\", \"enum\": [\"start\", \"stop\", \"pause\", \"resume\"]}, \"user_defined_task\": {\"type\": \"string\", \"description\": \"user-defined task described in user request\"}}, \"required\": [\"operation_type\"]}}, {\"name\": \"clean\", \"description\": \"Initiate a task of an immediate or unscheduled cleaning or partial clean, i.e., cleaning a part while leaving another part untouched.\", \"parameters\": {\"type\": \"object\", \"properties\": {\"action\": {\"type\": \"string\", \"enum\": [\"start\", \"stop\", \"pause\", \"resume\"]}, \"location\": {\"type\": \"string\", \"description\": \"Fill in the description of the location from the user request word for word, using the same language as in the user\\'s description of the location.\"}, \"tool\": {\"type\": \"string\", \"enum\": [\"vacuum only/扫\", \"mop only/拖/擦\", \"vacuum and mop\"], \"default\": \"vacuum and mop\", \"description\": \"\\'vacuum and mop\\' means vacuum and mop the floor at the same time, \\'vacuum only\\' is only vacuum, in Chinese, \\'扫\\' is \\'vacuum only\\', \\'清扫\\' is \\'vacuum and mop\\'\"}, \"total_count\": {\"type\": \"number\", \"default\": 1, \"description\": \"The total count of the operation that is repeated within a single action.\"}, \"special_mode\": {\"type\": \"string\", \"enum\": [\"local\", \"custom\"], \"description\": \"for local clean or custom clean\"}}, \"required\": [\"action\", \"tool\"]}}, {\"name\": \"do_not_or_skip_clean\", \"description\": \"This API is used when the user only requests not or skip to clean a certain area.\", \"parameters\": {\"type\": \"object\", \"properties\": {\"location\": {\"type\": \"string\", \"description\": \"Fill in the description of the location from the user request word for word, using the same language as in the user\\'s description of the location.\"}}, \"required\": [\"location\"]}}, {\"name\": \"schedule_operation\", \"description\": \"create clean task, or query or delete scheduled clean tasks. (other task not supported)\", \"parameters\": {\"type\": \"object\", \"properties\": {\"operation_type\": {\"type\": \"string\", \"enum\": [\"create\", \"query\", \"delete\"]}, \"clean_action\": {\"type\": \"string\", \"enum\": [\"start\", \"stop\", \"pause\", \"resume\"]}, \"clean_tool\": {\"type\": \"string\", \"enum\": [\"vacuum only/扫\", \"mop only/拖/擦\", \"vacuum and mop\"], \"default\": \"vacuum and mop\", \"description\": \"\\'vacuum and mop\\' refers to both vacuuming and mopping the floor.\"}, \"total_count\": {\"type\": \"number\", \"default\": 1, \"description\": \"The total count of the operation that is repeated within a single action.\"}, \"location\": {\"type\": \"string\", \"description\": \"fill the Description text of the location in the user request here, without excessive transformation, ideally word for word.\"}, \"time\": {\"type\": \"string\", \"description\": \"fill the description text of the time in the user request here, without excessive transformation, ideally word for word.\"}, \"index_from\": {\"type\": \"integer\", \"description\": \"the beginning index of the schedule, 1 for newest/recent/first, 2 for second recent, -1 for last/final, -2 for the second-to-last item, and so on\"}, \"index_to\": {\"type\": \"integer\", \"description\": \"the end index of the schedule, 1 for newest/recent/first, 2 for second recent, -1 for last/final, -2 for the second-to-last item, and so on\"}, \"relative\": {\"type\": \"string\", \"enum\": [\"next\", \"previous\"]}}, \"required\": [\"operation_type\"]}}, {\"name\": \"move\", \"description\": \"perform a move operation\", \"parameters\": {\"type\": \"object\", \"properties\": {\"location\": {\"type\": \"string\", \"description\": \"location description in the user request\"}}}, \"required\": [\"location\"]}, {\"name\": \"set_object_property\", \"description\": \"change sensors or peripherals state\", \"parameters\": {\"type\": \"object\", \"properties\": {\"property_name\": {\"type\": \"string\", \"description\": \"vaccum robot properties\", \"enum\": [\"LED/灯\", \"suction power\", \"water flow and scrub intensity/水量和擦地力度\", \"carpet boost/地毯增压\", \"Route/路线偏好\", \"mop wash mode/洗布模式\", \"volume/音量\", \"auto collect dust/auto emptying/自动集尘\", \"mop wash mode/洗布模式\", \"working level/工作档位/档位\", \"clean mode/vacuum or mop mode/扫拖模式\"]}, \"property_value\": {\"type\": \"string or integer\", \"description\": \"the property value, details in value table\", \"value_table\": [{\"property_name\": \"LED/灯\", \"property_values\": {\"proper nouns\": [\"on\", \"off\"]}}, {\"property_name\": \"suction power\", \"property_values\": {\"proper nouns\": [\"Quiet/安静/lowest\", \"Balanced/标准/lower\", \"Turbo/强力/medium\", \"Max/higher\", \"Max+/highest\"], \"scales\": [1, 2, 3, 4, 5], \"relational terms\": [\"turn up\", \"turn down\"]}}, {\"property_name\": \"water flow and scrub intensity/水量和擦地力度\", \"property_values\": {\"proper nouns\": [\"mild/轻柔\", \"moderate/标准\", \"intense/强力\"], \"scales\": [1, 2, 3], \"relational terms\": [\"turn up\", \"turn down\"]}}, {\"property_name\": \"carpet boost/地毯增压\", \"property_values\": {\"proper nouns\": [\"on\", \"off\"]}}, {\"property_name\": \"Route/路线偏好\", \"property_values\": {\"proper nouns\": [\"fast/快速\", \"standard/日常/normal\", \"deep/精细擦地/slower\", \"deep plus/深度慢拖/slowest\"], \"scales\": [1, 2, 3, 4], \"relational terms\": [\"turn up\", \"turn down\"]}}, {\"property_name\": \"mop wash mode/洗布模式\", \"property_values\": {\"proper nouns\": [\"by section/room\", \"by time: <time description>\"]}}, {\"property_name\": \"volume/音量\", \"property_values\": {\"proper nouns\": [\"mute on\", \"mute off\", \"minimum\", \"maximum\"], \"range\": {\"minimum\": 1, \"maximum\": 100}, \"relational terms\": [\"turn up\", \"turn down\"]}}, {\"property_name\": \"auto collect dust/auto emptying/自动集尘\", \"property_values\": {\"proper nouns\": [\"on\", \"off\"]}}, {\"property_name\": \"working level/工作档位/档位\", \"property_values\": {\"proper nouns\": [\"low\", \"medium\", \"high\"], \"scales\": [1, 2, 3], \"relational terms\": [\"turn up\", \"turn down\"]}}, {\"property_name\": \"clean mode/vacuum or mop mode/扫拖模式\", \"property_values\": {\"relational terms\": [\"vacuum only\", \"mop only\", \"vacuum and mop\"]}}]}}}, \"required\": [\"property_name\", \"property_value\"]}, {\"name\": \"follow_me\", \"description\": \"instruct the robot to follow the user\", \"parameters\": {\"type\": \"string\", \"enum\": [\"start\", \"stop\"]}}, {\"name\": \"go_away\", \"description\": \"instruct the robot to go away or do other things first\", \"parameters\": null}, {\"name\": \"get_property\", \"description\": \"get robot property\", \"parameters\": {\"type\": \"object\", \"properties\": {\"property_name\": {\"type\": \"string\", \"description\": \"vaccum robot properties\", \"enum\": [\"LED/灯\", \"suction power\", \"water flow and scrub intensity/水量和擦地力度\", \"carpet boost/地毯增压\", \"Route/路线偏好\", \"filter\", \"main brush\", \"side brush\", \"sensors\", \"mop\", \"dust bag\", \"floor cleaning solution\", \"current location\", \"remaining battery power\", \"freshwater tank/water tank\", \"wastewater tank\", \"volume/音量\", \"all consumables\", \"High-speed maintenance brush/自清洁刷\", \"Water filter/清洁槽滤网\", \"list features/self-introduction\"]}}}}, {\"name\": \"upgrade_firmware\", \"description\": \"Upgrade firmware.\", \"parameters\": null}, {\"name\": \"dock_operation\", \"description\": \"api for the features of vacuum robot dock\", \"parameters\": {\"type\": \"object\", \"properties\": {\"action\": {\"type\": \"string\", \"enum\": [\"start\", \"stop\", \"pause\", \"resume\"]}, \"operation_type\": {\"type\": \"string\", \"enum\": [\"charge battery\", \"come down\", \"collect dust/集尘\", \"wash mop\", \"drying mop\", \"back to\"], \"description\": \"\\'charge battery\\' means sending the robot to the dock to recharge. \\'come down\\' instructs the vacuum robot to descend from the dock. \\'wash mop\\' instructs the vacuum robot to clean its attached mop. \\'back to\\' means instructs robot to go back to dock.\"}}}, \"required\": [\"operation_type\"]}, {\"name\": \"mapping\", \"description\": \"api for building map\", \"parameters\": {\"type\": \"object\", \"properties\": {\"action\": {\"type\": \"string\", \"enum\": [\"start\", \"stop\", \"pause\", \"resume\"]}}, \"required\": [\"operation_type\"]}}]',\n",
       " 'conversations': '[{\"role\": \"user\", \"content\": \"查看前五条和后五条预约任务\"}, {\"role\": \"tool\", \"name\": \"schedule_operation\", \"parameters\": {\"operation_type\": \"query\", \"index_from\": 1, \"index_to\": 5}}, {\"role\": \"tool\", \"name\": \"schedule_operation\", \"parameters\": {\"operation_type\": \"query\", \"index_from\": -5, \"index_to\": -1}}]',\n",
       " 'num_decomposition': 2,\n",
       " 'hit': True}"
      ]
     },
     "execution_count": 34,
     "metadata": {},
     "output_type": "execute_result"
    }
   ],
   "source": [
    "train_data[299]"
   ]
  },
  {
   "cell_type": "code",
   "execution_count": 386,
   "id": "e19fb9e9-69b0-4d3f-a94b-61a941c30593",
   "metadata": {
    "scrolled": true
   },
   "outputs": [
    {
     "name": "stdout",
     "output_type": "stream",
     "text": [
      "71\n",
      "110\n",
      "229\n",
      "266\n",
      "308\n",
      "331\n",
      "351\n",
      "412\n",
      "433\n",
      "446\n",
      "670\n",
      "700\n",
      "871\n",
      "990\n",
      "997\n",
      "1006\n",
      "1094\n",
      "1100\n",
      "1103\n",
      "1179\n",
      "1243\n",
      "1452\n",
      "1456\n",
      "1527\n",
      "1540\n",
      "1592\n",
      "1593\n",
      "1799\n",
      "1883\n",
      "1895\n",
      "1947\n",
      "2024\n",
      "2225\n",
      "2257\n",
      "2306\n",
      "2475\n",
      "2537\n",
      "2657\n",
      "2698\n",
      "2715\n",
      "2721\n",
      "2779\n",
      "2853\n",
      "2955\n",
      "3080\n",
      "3163\n",
      "3201\n"
     ]
    }
   ],
   "source": [
    "for i in range(len(train_data)):\n",
    "    if train_data[i]['hit'] == False:\n",
    "        print(i)"
   ]
  },
  {
   "cell_type": "code",
   "execution_count": 389,
   "id": "36abb076-4d96-4164-899c-6e046b435f7a",
   "metadata": {},
   "outputs": [
    {
     "data": {
      "text/plain": [
       "{'user_request': 'user_defined_task:[Open Area Polish|Basement De-clutter]$$Switch on Attic Arrangement',\n",
       " 'task_decomposition': '\"<null>\"',\n",
       " 'tools': '[{\"name\": \"general_control\", \"description\": \"This API is used for controlling general tasks, typically providing control for listed user-defined tasks, or that is not directly tied to specific task types, or non-clean task\", \"parameters\": {\"type\": \"object\", \"properties\": {\"action\": {\"type\": \"string\", \"enum\": [\"start\", \"stop\", \"pause\", \"resume\"]}, \"user_defined_task\": {\"type\": \"string\", \"description\": \"user-defined task described in user request\"}}, \"required\": [\"operation_type\"]}}, {\"name\": \"clean\", \"description\": \"Initiate a task of an immediate or unscheduled cleaning or partial clean, i.e., cleaning a part while leaving another part untouched.\", \"parameters\": {\"type\": \"object\", \"properties\": {\"action\": {\"type\": \"string\", \"enum\": [\"start\", \"stop\", \"pause\", \"resume\"]}, \"location\": {\"type\": \"string\", \"description\": \"Fill in the description of the location from the user request word for word, using the same language as in the user\\'s description of the location.\"}, \"tool\": {\"type\": \"string\", \"enum\": [\"vacuum only/扫\", \"mop only/拖/擦\", \"vacuum and mop\"], \"default\": \"vacuum and mop\", \"description\": \"\\'vacuum and mop\\' means vacuum and mop the floor at the same time, \\'vacuum only\\' is only vacuum, in Chinese, \\'扫\\' is \\'vacuum only\\', \\'清扫\\' is \\'vacuum and mop\\'\"}, \"total_count\": {\"type\": \"number\", \"default\": 1, \"description\": \"The total count of the operation that is repeated within a single action.\"}, \"special_mode\": {\"type\": \"string\", \"enum\": [\"local\", \"custom\"], \"description\": \"for local clean or custom clean\"}}, \"required\": [\"action\", \"tool\"]}}, {\"name\": \"do_not_or_skip_clean\", \"description\": \"This API is used when the user only requests not or skip to clean a certain area.\", \"parameters\": {\"type\": \"object\", \"properties\": {\"location\": {\"type\": \"string\", \"description\": \"Fill in the description of the location from the user request word for word, using the same language as in the user\\'s description of the location.\"}}, \"required\": [\"location\"]}}, {\"name\": \"schedule_operation\", \"description\": \"create clean task, or query or delete scheduled clean tasks. (other task not supported)\", \"parameters\": {\"type\": \"object\", \"properties\": {\"operation_type\": {\"type\": \"string\", \"enum\": [\"create\", \"query\", \"delete\"]}, \"clean_action\": {\"type\": \"string\", \"enum\": [\"start\", \"stop\", \"pause\", \"resume\"]}, \"clean_tool\": {\"type\": \"string\", \"enum\": [\"vacuum only/扫\", \"mop only/拖/擦\", \"vacuum and mop\"], \"default\": \"vacuum and mop\", \"description\": \"\\'vacuum and mop\\' refers to both vacuuming and mopping the floor.\"}, \"total_count\": {\"type\": \"number\", \"default\": 1, \"description\": \"The total count of the operation that is repeated within a single action.\"}, \"location\": {\"type\": \"string\", \"description\": \"fill the Description text of the location in the user request here, without excessive transformation, ideally word for word.\"}, \"time\": {\"type\": \"string\", \"description\": \"fill the description text of the time in the user request here, without excessive transformation, ideally word for word.\"}, \"index_from\": {\"type\": \"integer\", \"description\": \"the beginning index of the schedule, 1 for newest/recent/first, 2 for second recent, -1 for last/final, -2 for the second-to-last item, and so on\"}, \"index_to\": {\"type\": \"integer\", \"description\": \"the end index of the schedule, 1 for newest/recent/first, 2 for second recent, -1 for last/final, -2 for the second-to-last item, and so on\"}, \"relative\": {\"type\": \"string\", \"enum\": [\"next\", \"previous\"]}}, \"required\": [\"operation_type\"]}}, {\"name\": \"move\", \"description\": \"perform a move operation\", \"parameters\": {\"type\": \"object\", \"properties\": {\"location\": {\"type\": \"string\", \"description\": \"location description in the user request\"}}}, \"required\": [\"location\"]}, {\"name\": \"set_object_property\", \"description\": \"change sensors or peripherals state\", \"parameters\": {\"type\": \"object\", \"properties\": {\"property_name\": {\"type\": \"string\", \"description\": \"vaccum robot properties\", \"enum\": [\"LED/灯\", \"suction power\", \"water flow and scrub intensity/水量和擦地力度\", \"carpet boost/地毯增压\", \"Route/路线偏好\", \"mop wash mode/洗布模式\", \"volume/音量\", \"auto collect dust/auto emptying/自动集尘\", \"mop wash mode/洗布模式\", \"working level/工作档位/档位\", \"clean mode/vacuum or mop mode/扫拖模式\"]}, \"property_value\": {\"type\": \"string or integer\", \"description\": \"the property value, details in value table\", \"value_table\": [{\"property_name\": \"LED/灯\", \"property_values\": {\"proper nouns\": [\"on\", \"off\"]}}, {\"property_name\": \"suction power\", \"property_values\": {\"proper nouns\": [\"Quiet/安静/lowest\", \"Balanced/标准/lower\", \"Turbo/强力/medium\", \"Max/higher\", \"Max+/highest\"], \"scales\": [1, 2, 3, 4, 5], \"relational terms\": [\"turn up\", \"turn down\"]}}, {\"property_name\": \"water flow and scrub intensity/水量和擦地力度\", \"property_values\": {\"proper nouns\": [\"mild/轻柔\", \"moderate/标准\", \"intense/强力\"], \"scales\": [1, 2, 3], \"relational terms\": [\"turn up\", \"turn down\"]}}, {\"property_name\": \"carpet boost/地毯增压\", \"property_values\": {\"proper nouns\": [\"on\", \"off\"]}}, {\"property_name\": \"Route/路线偏好\", \"property_values\": {\"proper nouns\": [\"fast/快速\", \"standard/日常/normal\", \"deep/精细擦地/slower\", \"deep plus/深度慢拖/slowest\"], \"scales\": [1, 2, 3, 4], \"relational terms\": [\"turn up\", \"turn down\"]}}, {\"property_name\": \"mop wash mode/洗布模式\", \"property_values\": {\"proper nouns\": [\"by section/room\", \"by time: <time description>\"]}}, {\"property_name\": \"volume/音量\", \"property_values\": {\"proper nouns\": [\"mute on\", \"mute off\", \"minimum\", \"maximum\"], \"range\": {\"minimum\": 1, \"maximum\": 100}, \"relational terms\": [\"turn up\", \"turn down\"]}}, {\"property_name\": \"auto collect dust/auto emptying/自动集尘\", \"property_values\": {\"proper nouns\": [\"on\", \"off\"]}}, {\"property_name\": \"working level/工作档位/档位\", \"property_values\": {\"proper nouns\": [\"low\", \"medium\", \"high\"], \"scales\": [1, 2, 3], \"relational terms\": [\"turn up\", \"turn down\"]}}, {\"property_name\": \"clean mode/vacuum or mop mode/扫拖模式\", \"property_values\": {\"relational terms\": [\"vacuum only\", \"mop only\", \"vacuum and mop\"]}}]}}}, \"required\": [\"property_name\", \"property_value\"]}, {\"name\": \"follow_me\", \"description\": \"instruct the robot to follow the user\", \"parameters\": {\"type\": \"string\", \"enum\": [\"start\", \"stop\"]}}, {\"name\": \"go_away\", \"description\": \"instruct the robot to go away or do other things first\", \"parameters\": null}, {\"name\": \"get_property\", \"description\": \"get robot property\", \"parameters\": {\"type\": \"object\", \"properties\": {\"property_name\": {\"type\": \"string\", \"description\": \"vaccum robot properties\", \"enum\": [\"LED/灯\", \"suction power\", \"water flow and scrub intensity/水量和擦地力度\", \"carpet boost/地毯增压\", \"Route/路线偏好\", \"filter\", \"main brush\", \"side brush\", \"sensors\", \"mop\", \"dust bag\", \"floor cleaning solution\", \"current location\", \"remaining battery power\", \"freshwater tank/water tank\", \"wastewater tank\", \"volume/音量\", \"all consumables\", \"High-speed maintenance brush/自清洁刷\", \"Water filter/清洁槽滤网\", \"list features/self-introduction\"]}}}}, {\"name\": \"upgrade_firmware\", \"description\": \"Upgrade firmware.\", \"parameters\": null}, {\"name\": \"dock_operation\", \"description\": \"api for the features of vacuum robot dock\", \"parameters\": {\"type\": \"object\", \"properties\": {\"action\": {\"type\": \"string\", \"enum\": [\"start\", \"stop\", \"pause\", \"resume\"]}, \"operation_type\": {\"type\": \"string\", \"enum\": [\"charge battery\", \"come down\", \"collect dust/集尘\", \"wash mop\", \"drying mop\", \"back to\"], \"description\": \"\\'charge battery\\' means sending the robot to the dock to recharge. \\'come down\\' instructs the vacuum robot to descend from the dock. \\'wash mop\\' instructs the vacuum robot to clean its attached mop. \\'back to\\' means instructs robot to go back to dock.\"}}}, \"required\": [\"operation_type\"]}, {\"name\": \"mapping\", \"description\": \"api for building map\", \"parameters\": {\"type\": \"object\", \"properties\": {\"action\": {\"type\": \"string\", \"enum\": [\"start\", \"stop\", \"pause\", \"resume\"]}}, \"required\": [\"operation_type\"]}}]',\n",
       " 'conversations': '[{\"role\": \"user\", \"content\": \"user_defined_task:[Open Area Polish|Basement De-clutter]$$Switch on Attic Arrangement\"}, {\"role\": \"assistant\", \"content\": \"no corresponding tools.\"}]',\n",
       " 'num_decomposition': 1,\n",
       " 'hit': False}"
      ]
     },
     "execution_count": 389,
     "metadata": {},
     "output_type": "execute_result"
    }
   ],
   "source": [
    "train_data[3201]"
   ]
  },
  {
   "cell_type": "code",
   "execution_count": 388,
   "id": "74b64970-16e8-41cc-8c99-e7e6e59b4743",
   "metadata": {},
   "outputs": [
    {
     "data": {
      "text/plain": [
       "{'tools': '[{\"name\": \"general_control\", \"description\": \"This API is used for controlling general tasks, typically providing control for listed user-defined tasks, or that is not directly tied to specific task types, or non-clean task\", \"parameters\": {\"type\": \"object\", \"properties\": {\"action\": {\"type\": \"string\", \"enum\": [\"start\", \"stop\", \"pause\", \"resume\"]}, \"user_defined_task\": {\"type\": \"string\", \"description\": \"user-defined task described in user request\"}}, \"required\": [\"action\"]}}, {\"name\": \"clean\", \"description\": \"Initiate a task of an immediate or unscheduled cleaning or partial clean, i.e., cleaning a part while leaving another part untouched.\", \"parameters\": {\"type\": \"object\", \"properties\": {\"action\": {\"type\": \"string\", \"enum\": [\"start\", \"stop\", \"pause\", \"resume\"]}, \"location\": {\"type\": \"string\", \"description\": \"Fill in the description of the location from the user request word for word, using the same language as in the user\\'s description of the location.\"}, \"tool\": {\"type\": \"string\", \"enum\": [\"vacuum only/\\\\u626b\", \"mop only/\\\\u62d6/\\\\u64e6\", \"vacuum and mop\"], \"default\": \"vacuum and mop\", \"description\": \"\\'vacuum and mop\\' means vacuum and mop the floor at the same time, \\'vacuum only\\' is only vacuum, in Chinese, \\'\\\\u626b\\' is \\'vacuum only\\', \\'\\\\u6e05\\\\u626b\\' is \\'vacuum and mop\\'\"}, \"total_count\": {\"type\": \"number\", \"default\": 1, \"description\": \"The total count of the operation that is repeated within a single action.\"}, \"special_mode\": {\"type\": \"string\", \"enum\": [\"local\", \"custom\"], \"description\": \"for local clean or custom clean\"}}, \"required\": [\"action\", \"tool\"]}}, {\"name\": \"do_not_or_skip_clean\", \"description\": \"This API is used when the user only requests not or skip to clean a certain area.\", \"parameters\": {\"type\": \"object\", \"properties\": {\"location\": {\"type\": \"string\", \"description\": \"Fill in the description of the location from the user request word for word, using the same language as in the user\\'s description of the location.\"}}, \"required\": [\"location\"]}}, {\"name\": \"schedule_operation\", \"description\": \"create clean task, or query or delete scheduled clean tasks. (other task not supported)\", \"parameters\": {\"type\": \"object\", \"properties\": {\"operation_type\": {\"type\": \"string\", \"enum\": [\"create\", \"query\", \"delete\"]}, \"clean_action\": {\"type\": \"string\", \"enum\": [\"start\", \"stop\", \"pause\", \"resume\"]}, \"clean_tool\": {\"type\": \"string\", \"enum\": [\"vacuum only/\\\\u626b\", \"mop only/\\\\u62d6/\\\\u64e6\", \"vacuum and mop\"], \"default\": \"vacuum and mop\", \"description\": \"\\'vacuum and mop\\' refers to both vacuuming and mopping the floor.\"}, \"total_count\": {\"type\": \"number\", \"default\": 1, \"description\": \"The total count of the operation that is repeated within a single action.\"}, \"location\": {\"type\": \"string\", \"description\": \"fill the Description text of the location in the user request here, without excessive transformation, ideally word for word.\"}, \"time\": {\"type\": \"string\", \"description\": \"fill the description text of the time in the user request here, without excessive transformation, ideally word for word.\"}, \"index_from\": {\"type\": \"integer\", \"description\": \"the beginning index of the schedule, 1 for newest/recent/first, 2 for second recent, -1 for last/final, -2 for the second-to-last item, and so on\"}, \"index_to\": {\"type\": \"integer\", \"description\": \"the end index of the schedule, 1 for newest/recent/first, 2 for second recent, -1 for last/final, -2 for the second-to-last item, and so on\"}, \"relative\": {\"type\": \"string\", \"enum\": [\"next\", \"previous\"]}}, \"required\": [\"operation_type\"]}}, {\"name\": \"move\", \"description\": \"perform a move operation\", \"parameters\": {\"type\": \"object\", \"properties\": {\"location\": {\"type\": \"string\", \"description\": \"location description in the user request\"}}, \"required\": [\"location\"]}, \"required\": [\"location\"]}, {\"name\": \"set_object_property\", \"description\": \"change sensors or peripherals state\", \"parameters\": {\"type\": \"object\", \"properties\": {\"property_name\": {\"type\": \"string\", \"description\": \"vaccum robot properties\", \"enum\": [\"LED/\\\\u706f\", \"suction power\", \"water flow and scrub intensity/\\\\u6c34\\\\u91cf\\\\u548c\\\\u64e6\\\\u5730\\\\u529b\\\\u5ea6\", \"carpet boost/\\\\u5730\\\\u6bef\\\\u589e\\\\u538b\", \"Route/\\\\u8def\\\\u7ebf\\\\u504f\\\\u597d\", \"mop wash mode/\\\\u6d17\\\\u5e03\\\\u6a21\\\\u5f0f\", \"volume/\\\\u97f3\\\\u91cf\", \"auto collect dust/auto emptying/\\\\u81ea\\\\u52a8\\\\u96c6\\\\u5c18\", \"mop wash mode/\\\\u6d17\\\\u5e03\\\\u6a21\\\\u5f0f\", \"working level/\\\\u5de5\\\\u4f5c\\\\u6863\\\\u4f4d/\\\\u6863\\\\u4f4d\", \"clean mode/vacuum or mop mode/\\\\u626b\\\\u62d6\\\\u6a21\\\\u5f0f\"]}, \"property_value\": {\"type\": \"string or integer\", \"description\": \"the property value, details in value table\", \"value_table\": [{\"property_name\": \"LED/\\\\u706f\", \"property_values\": {\"proper nouns\": [\"on\", \"off\"]}}, {\"property_name\": \"suction power\", \"property_values\": {\"proper nouns\": [\"Quiet/\\\\u5b89\\\\u9759/lowest\", \"Balanced/\\\\u6807\\\\u51c6/lower\", \"Turbo/\\\\u5f3a\\\\u529b/medium\", \"Max/higher\", \"Max+/highest\"], \"scales\": [1, 2, 3, 4, 5], \"relational terms\": [\"turn up\", \"turn down\"]}}, {\"property_name\": \"water flow and scrub intensity/\\\\u6c34\\\\u91cf\\\\u548c\\\\u64e6\\\\u5730\\\\u529b\\\\u5ea6\", \"property_values\": {\"proper nouns\": [\"mild/\\\\u8f7b\\\\u67d4\", \"moderate/\\\\u6807\\\\u51c6\", \"intense/\\\\u5f3a\\\\u529b\"], \"scales\": [1, 2, 3], \"relational terms\": [\"turn up\", \"turn down\"]}}, {\"property_name\": \"carpet boost/\\\\u5730\\\\u6bef\\\\u589e\\\\u538b\", \"property_values\": {\"proper nouns\": [\"on\", \"off\"]}}, {\"property_name\": \"Route/\\\\u8def\\\\u7ebf\\\\u504f\\\\u597d\", \"property_values\": {\"proper nouns\": [\"fast/\\\\u5feb\\\\u901f\", \"standard/\\\\u65e5\\\\u5e38/normal\", \"deep/\\\\u7cbe\\\\u7ec6\\\\u64e6\\\\u5730/slower\", \"deep plus/\\\\u6df1\\\\u5ea6\\\\u6162\\\\u62d6/slowest\"], \"scales\": [1, 2, 3, 4], \"relational terms\": [\"turn up\", \"turn down\"]}}, {\"property_name\": \"mop wash mode/\\\\u6d17\\\\u5e03\\\\u6a21\\\\u5f0f\", \"property_values\": {\"proper nouns\": [\"by section/room\", \"by time: <time description>\"]}}, {\"property_name\": \"volume/\\\\u97f3\\\\u91cf\", \"property_values\": {\"proper nouns\": [\"mute on\", \"mute off\", \"minimum\", \"maximum\"], \"range\": {\"minimum\": 1, \"maximum\": 100}, \"relational terms\": [\"turn up\", \"turn down\"]}}, {\"property_name\": \"auto collect dust/auto emptying/\\\\u81ea\\\\u52a8\\\\u96c6\\\\u5c18\", \"property_values\": {\"proper nouns\": [\"on\", \"off\"]}}, {\"property_name\": \"working level/\\\\u5de5\\\\u4f5c\\\\u6863\\\\u4f4d/\\\\u6863\\\\u4f4d\", \"property_values\": {\"proper nouns\": [\"low\", \"medium\", \"high\"], \"scales\": [1, 2, 3], \"relational terms\": [\"turn up\", \"turn down\"]}}, {\"property_name\": \"clean mode/vacuum or mop mode/\\\\u626b\\\\u62d6\\\\u6a21\\\\u5f0f\", \"property_values\": {\"relational terms\": [\"vacuum only\", \"mop only\", \"vacuum and mop\"]}}]}}, \"required\": [\"property_name\", \"property_value\"]}, \"required\": [\"property_name\", \"property_value\"]}, {\"name\": \"follow_me\", \"description\": \"instruct the robot to follow the user\", \"parameters\": {\"type\": \"string\", \"enum\": [\"start\", \"stop\"], \"properties\": {}, \"required\": []}}, {\"name\": \"go_away\", \"description\": \"instruct the robot to go away or do other things first\", \"parameters\": {\"type\": \"object\", \"properties\": {}, \"required\": []}}, {\"name\": \"get_property\", \"description\": \"get robot property\", \"parameters\": {\"type\": \"object\", \"properties\": {\"property_name\": {\"type\": \"string\", \"description\": \"vaccum robot properties\", \"enum\": [\"LED/\\\\u706f\", \"suction power\", \"water flow and scrub intensity/\\\\u6c34\\\\u91cf\\\\u548c\\\\u64e6\\\\u5730\\\\u529b\\\\u5ea6\", \"carpet boost/\\\\u5730\\\\u6bef\\\\u589e\\\\u538b\", \"Route/\\\\u8def\\\\u7ebf\\\\u504f\\\\u597d\", \"filter\", \"main brush\", \"side brush\", \"sensors\", \"mop\", \"dust bag\", \"floor cleaning solution\", \"current location\", \"remaining battery power\", \"freshwater tank/water tank\", \"wastewater tank\", \"volume/\\\\u97f3\\\\u91cf\", \"all consumables\", \"High-speed maintenance brush/\\\\u81ea\\\\u6e05\\\\u6d01\\\\u5237\", \"Water filter/\\\\u6e05\\\\u6d01\\\\u69fd\\\\u6ee4\\\\u7f51\", \"list features/self-introduction\"]}}, \"required\": []}}, {\"name\": \"upgrade_firmware\", \"description\": \"Upgrade firmware.\", \"parameters\": {\"type\": \"object\", \"properties\": {}, \"required\": []}}, {\"name\": \"dock_operation\", \"description\": \"api for the features of vacuum robot dock\", \"parameters\": {\"type\": \"object\", \"properties\": {\"action\": {\"type\": \"string\", \"enum\": [\"start\", \"stop\", \"pause\", \"resume\"]}, \"operation_type\": {\"type\": \"string\", \"enum\": [\"charge battery\", \"come down\", \"collect dust/\\\\u96c6\\\\u5c18\", \"wash mop\", \"drying mop\", \"back to\"], \"description\": \"\\'charge battery\\' means sending the robot to the dock to recharge. \\'come down\\' instructs the vacuum robot to descend from the dock. \\'wash mop\\' instructs the vacuum robot to clean its attached mop. \\'back to\\' means instructs robot to go back to dock.\"}}, \"required\": [\"operation_type\"]}, \"required\": [\"operation_type\"]}, {\"name\": \"mapping\", \"description\": \"api for building map\", \"parameters\": {\"type\": \"object\", \"properties\": {\"action\": {\"type\": \"string\", \"enum\": [\"start\", \"stop\", \"pause\", \"resume\"]}}, \"required\": [\"action\"]}}]',\n",
       " 'conversations': [{'from': 'human',\n",
       "   'value': 'user_defined_task:[Open Area Polish|Basement De-clutter]$$Switch on Attic Arrangement'},\n",
       "  {'from': 'gpt', 'value': 'no corresponding tools.'}]}"
      ]
     },
     "execution_count": 388,
     "metadata": {},
     "output_type": "execute_result"
    }
   ],
   "source": [
    "train_data_new[3201]"
   ]
  },
  {
   "cell_type": "code",
   "execution_count": 384,
   "id": "8d3722a6-b010-4e33-ba92-d76bd35dc893",
   "metadata": {},
   "outputs": [
    {
     "data": {
      "text/plain": [
       "{'tools': '[{\"name\": \"general_control\", \"description\": \"This API is used for controlling general tasks, typically providing control for listed user-defined tasks, or that is not directly tied to specific task types, or non-clean task\", \"parameters\": {\"type\": \"object\", \"properties\": {\"action\": {\"type\": \"string\", \"enum\": [\"start\", \"stop\", \"pause\", \"resume\"]}, \"user_defined_task\": {\"type\": \"string\", \"description\": \"user-defined task described in user request\"}}, \"required\": [\"action\"]}}, {\"name\": \"clean\", \"description\": \"Initiate a task of an immediate or unscheduled cleaning or partial clean, i.e., cleaning a part while leaving another part untouched.\", \"parameters\": {\"type\": \"object\", \"properties\": {\"action\": {\"type\": \"string\", \"enum\": [\"start\", \"stop\", \"pause\", \"resume\"]}, \"location\": {\"type\": \"string\", \"description\": \"Fill in the description of the location from the user request word for word, using the same language as in the user\\'s description of the location.\"}, \"tool\": {\"type\": \"string\", \"enum\": [\"vacuum only/\\\\u626b\", \"mop only/\\\\u62d6/\\\\u64e6\", \"vacuum and mop\"], \"default\": \"vacuum and mop\", \"description\": \"\\'vacuum and mop\\' means vacuum and mop the floor at the same time, \\'vacuum only\\' is only vacuum, in Chinese, \\'\\\\u626b\\' is \\'vacuum only\\', \\'\\\\u6e05\\\\u626b\\' is \\'vacuum and mop\\'\"}, \"total_count\": {\"type\": \"number\", \"default\": 1, \"description\": \"The total count of the operation that is repeated within a single action.\"}, \"special_mode\": {\"type\": \"string\", \"enum\": [\"local\", \"custom\"], \"description\": \"for local clean or custom clean\"}}, \"required\": [\"action\", \"tool\"]}}, {\"name\": \"do_not_or_skip_clean\", \"description\": \"This API is used when the user only requests not or skip to clean a certain area.\", \"parameters\": {\"type\": \"object\", \"properties\": {\"location\": {\"type\": \"string\", \"description\": \"Fill in the description of the location from the user request word for word, using the same language as in the user\\'s description of the location.\"}}, \"required\": [\"location\"]}}, {\"name\": \"schedule_operation\", \"description\": \"create clean task, or query or delete scheduled clean tasks. (other task not supported)\", \"parameters\": {\"type\": \"object\", \"properties\": {\"operation_type\": {\"type\": \"string\", \"enum\": [\"create\", \"query\", \"delete\"]}, \"clean_action\": {\"type\": \"string\", \"enum\": [\"start\", \"stop\", \"pause\", \"resume\"]}, \"clean_tool\": {\"type\": \"string\", \"enum\": [\"vacuum only/\\\\u626b\", \"mop only/\\\\u62d6/\\\\u64e6\", \"vacuum and mop\"], \"default\": \"vacuum and mop\", \"description\": \"\\'vacuum and mop\\' refers to both vacuuming and mopping the floor.\"}, \"total_count\": {\"type\": \"number\", \"default\": 1, \"description\": \"The total count of the operation that is repeated within a single action.\"}, \"location\": {\"type\": \"string\", \"description\": \"fill the Description text of the location in the user request here, without excessive transformation, ideally word for word.\"}, \"time\": {\"type\": \"string\", \"description\": \"fill the description text of the time in the user request here, without excessive transformation, ideally word for word.\"}, \"index_from\": {\"type\": \"integer\", \"description\": \"the beginning index of the schedule, 1 for newest/recent/first, 2 for second recent, -1 for last/final, -2 for the second-to-last item, and so on\"}, \"index_to\": {\"type\": \"integer\", \"description\": \"the end index of the schedule, 1 for newest/recent/first, 2 for second recent, -1 for last/final, -2 for the second-to-last item, and so on\"}, \"relative\": {\"type\": \"string\", \"enum\": [\"next\", \"previous\"]}}, \"required\": [\"operation_type\"]}}, {\"name\": \"move\", \"description\": \"perform a move operation\", \"parameters\": {\"type\": \"object\", \"properties\": {\"location\": {\"type\": \"string\", \"description\": \"location description in the user request\"}}, \"required\": [\"location\"]}, \"required\": [\"location\"]}, {\"name\": \"set_object_property\", \"description\": \"change sensors or peripherals state\", \"parameters\": {\"type\": \"object\", \"properties\": {\"property_name\": {\"type\": \"string\", \"description\": \"vaccum robot properties\", \"enum\": [\"LED/\\\\u706f\", \"suction power\", \"water flow and scrub intensity/\\\\u6c34\\\\u91cf\\\\u548c\\\\u64e6\\\\u5730\\\\u529b\\\\u5ea6\", \"carpet boost/\\\\u5730\\\\u6bef\\\\u589e\\\\u538b\", \"Route/\\\\u8def\\\\u7ebf\\\\u504f\\\\u597d\", \"mop wash mode/\\\\u6d17\\\\u5e03\\\\u6a21\\\\u5f0f\", \"volume/\\\\u97f3\\\\u91cf\", \"auto collect dust/auto emptying/\\\\u81ea\\\\u52a8\\\\u96c6\\\\u5c18\", \"mop wash mode/\\\\u6d17\\\\u5e03\\\\u6a21\\\\u5f0f\", \"working level/\\\\u5de5\\\\u4f5c\\\\u6863\\\\u4f4d/\\\\u6863\\\\u4f4d\", \"clean mode/vacuum or mop mode/\\\\u626b\\\\u62d6\\\\u6a21\\\\u5f0f\"]}, \"property_value\": {\"type\": \"string or integer\", \"description\": \"the property value, details in value table\", \"value_table\": [{\"property_name\": \"LED/\\\\u706f\", \"property_values\": {\"proper nouns\": [\"on\", \"off\"]}}, {\"property_name\": \"suction power\", \"property_values\": {\"proper nouns\": [\"Quiet/\\\\u5b89\\\\u9759/lowest\", \"Balanced/\\\\u6807\\\\u51c6/lower\", \"Turbo/\\\\u5f3a\\\\u529b/medium\", \"Max/higher\", \"Max+/highest\"], \"scales\": [1, 2, 3, 4, 5], \"relational terms\": [\"turn up\", \"turn down\"]}}, {\"property_name\": \"water flow and scrub intensity/\\\\u6c34\\\\u91cf\\\\u548c\\\\u64e6\\\\u5730\\\\u529b\\\\u5ea6\", \"property_values\": {\"proper nouns\": [\"mild/\\\\u8f7b\\\\u67d4\", \"moderate/\\\\u6807\\\\u51c6\", \"intense/\\\\u5f3a\\\\u529b\"], \"scales\": [1, 2, 3], \"relational terms\": [\"turn up\", \"turn down\"]}}, {\"property_name\": \"carpet boost/\\\\u5730\\\\u6bef\\\\u589e\\\\u538b\", \"property_values\": {\"proper nouns\": [\"on\", \"off\"]}}, {\"property_name\": \"Route/\\\\u8def\\\\u7ebf\\\\u504f\\\\u597d\", \"property_values\": {\"proper nouns\": [\"fast/\\\\u5feb\\\\u901f\", \"standard/\\\\u65e5\\\\u5e38/normal\", \"deep/\\\\u7cbe\\\\u7ec6\\\\u64e6\\\\u5730/slower\", \"deep plus/\\\\u6df1\\\\u5ea6\\\\u6162\\\\u62d6/slowest\"], \"scales\": [1, 2, 3, 4], \"relational terms\": [\"turn up\", \"turn down\"]}}, {\"property_name\": \"mop wash mode/\\\\u6d17\\\\u5e03\\\\u6a21\\\\u5f0f\", \"property_values\": {\"proper nouns\": [\"by section/room\", \"by time: <time description>\"]}}, {\"property_name\": \"volume/\\\\u97f3\\\\u91cf\", \"property_values\": {\"proper nouns\": [\"mute on\", \"mute off\", \"minimum\", \"maximum\"], \"range\": {\"minimum\": 1, \"maximum\": 100}, \"relational terms\": [\"turn up\", \"turn down\"]}}, {\"property_name\": \"auto collect dust/auto emptying/\\\\u81ea\\\\u52a8\\\\u96c6\\\\u5c18\", \"property_values\": {\"proper nouns\": [\"on\", \"off\"]}}, {\"property_name\": \"working level/\\\\u5de5\\\\u4f5c\\\\u6863\\\\u4f4d/\\\\u6863\\\\u4f4d\", \"property_values\": {\"proper nouns\": [\"low\", \"medium\", \"high\"], \"scales\": [1, 2, 3], \"relational terms\": [\"turn up\", \"turn down\"]}}, {\"property_name\": \"clean mode/vacuum or mop mode/\\\\u626b\\\\u62d6\\\\u6a21\\\\u5f0f\", \"property_values\": {\"relational terms\": [\"vacuum only\", \"mop only\", \"vacuum and mop\"]}}]}}, \"required\": [\"property_name\", \"property_value\"]}, \"required\": [\"property_name\", \"property_value\"]}, {\"name\": \"follow_me\", \"description\": \"instruct the robot to follow the user\", \"parameters\": {\"type\": \"string\", \"enum\": [\"start\", \"stop\"], \"properties\": {}, \"required\": []}}, {\"name\": \"go_away\", \"description\": \"instruct the robot to go away or do other things first\", \"parameters\": {\"type\": \"object\", \"properties\": {}, \"required\": []}}, {\"name\": \"get_property\", \"description\": \"get robot property\", \"parameters\": {\"type\": \"object\", \"properties\": {\"property_name\": {\"type\": \"string\", \"description\": \"vaccum robot properties\", \"enum\": [\"LED/\\\\u706f\", \"suction power\", \"water flow and scrub intensity/\\\\u6c34\\\\u91cf\\\\u548c\\\\u64e6\\\\u5730\\\\u529b\\\\u5ea6\", \"carpet boost/\\\\u5730\\\\u6bef\\\\u589e\\\\u538b\", \"Route/\\\\u8def\\\\u7ebf\\\\u504f\\\\u597d\", \"filter\", \"main brush\", \"side brush\", \"sensors\", \"mop\", \"dust bag\", \"floor cleaning solution\", \"current location\", \"remaining battery power\", \"freshwater tank/water tank\", \"wastewater tank\", \"volume/\\\\u97f3\\\\u91cf\", \"all consumables\", \"High-speed maintenance brush/\\\\u81ea\\\\u6e05\\\\u6d01\\\\u5237\", \"Water filter/\\\\u6e05\\\\u6d01\\\\u69fd\\\\u6ee4\\\\u7f51\", \"list features/self-introduction\"]}}, \"required\": []}}, {\"name\": \"upgrade_firmware\", \"description\": \"Upgrade firmware.\", \"parameters\": {\"type\": \"object\", \"properties\": {}, \"required\": []}}, {\"name\": \"dock_operation\", \"description\": \"api for the features of vacuum robot dock\", \"parameters\": {\"type\": \"object\", \"properties\": {\"action\": {\"type\": \"string\", \"enum\": [\"start\", \"stop\", \"pause\", \"resume\"]}, \"operation_type\": {\"type\": \"string\", \"enum\": [\"charge battery\", \"come down\", \"collect dust/\\\\u96c6\\\\u5c18\", \"wash mop\", \"drying mop\", \"back to\"], \"description\": \"\\'charge battery\\' means sending the robot to the dock to recharge. \\'come down\\' instructs the vacuum robot to descend from the dock. \\'wash mop\\' instructs the vacuum robot to clean its attached mop. \\'back to\\' means instructs robot to go back to dock.\"}}, \"required\": [\"operation_type\"]}, \"required\": [\"operation_type\"]}, {\"name\": \"mapping\", \"description\": \"api for building map\", \"parameters\": {\"type\": \"object\", \"properties\": {\"action\": {\"type\": \"string\", \"enum\": [\"start\", \"stop\", \"pause\", \"resume\"]}}, \"required\": [\"action\"]}}]',\n",
       " 'conversations': [{'from': 'human',\n",
       "   'value': 'Utilize the balanced suction for a quieter clean.'},\n",
       "  {'from': 'function_call',\n",
       "   'value': '{\"name\": \"set_object_property\", \"arguments\": {\"property_name\": \"suction power\", \"property_value\": \"Balanced/\\\\u6807\\\\u51c6/lower\"}}'}]}"
      ]
     },
     "execution_count": 384,
     "metadata": {},
     "output_type": "execute_result"
    }
   ],
   "source": [
    "train_data_new[0]"
   ]
  },
  {
   "cell_type": "code",
   "execution_count": 25,
   "id": "81a85762-41a9-4a36-a6a7-8a09581d21f2",
   "metadata": {
    "ExecuteTime": {
     "end_time": "2024-01-22T08:04:18.354860Z",
     "start_time": "2024-01-22T08:04:16.924695193Z"
    }
   },
   "outputs": [],
   "source": [
    "with open('ToolAlpaca/data/formatted_data/robocontrol_dataset_sharegpt.json', 'w') as file:\n",
    "    data = json.dump(train_data_new, file)\n",
    "with open('ToolAlpaca/data/formatted_data/robocontrol_dataset_sharegpt.json', 'r') as f:\n",
    "    data = json.load(f)\n",
    "for i in range(len(data)):\n",
    "    assert data[i] == train_data_new[i]"
   ]
  },
  {
   "cell_type": "code",
   "execution_count": 26,
   "id": "760e92d2-cb43-4c20-806d-d96c77b745d2",
   "metadata": {
    "ExecuteTime": {
     "end_time": "2024-01-22T08:04:18.611411709Z",
     "start_time": "2024-01-22T08:04:18.350138377Z"
    }
   },
   "outputs": [],
   "source": [
    "with open('ToolAlpaca/data/formatted_data/robocontrol_dataset_testset_sharegpt.json', 'w') as file:\n",
    "    data = json.dump(dev_data_new, file)\n",
    "with open('ToolAlpaca/data/formatted_data/robocontrol_dataset_testset_sharegpt.json', 'r') as f:\n",
    "    data = json.load(f)\n",
    "for i in range(len(data)):\n",
    "    assert data[i] == dev_data_new[i]"
   ]
  },
  {
   "cell_type": "code",
   "execution_count": 27,
   "id": "3224ecfd-f80a-4e2e-9bc6-558fcb88901b",
   "metadata": {
    "ExecuteTime": {
     "end_time": "2024-01-22T08:04:35.389795737Z",
     "start_time": "2024-01-22T08:04:35.349366826Z"
    }
   },
   "outputs": [],
   "source": [
    "# result analysis "
   ]
  },
  {
   "cell_type": "code",
   "execution_count": 123,
   "outputs": [],
   "source": [
    "# sft "
   ],
   "metadata": {
    "collapsed": false,
    "ExecuteTime": {
     "end_time": "2024-01-29T07:18:21.277921564Z",
     "start_time": "2024-01-29T07:18:21.236778547Z"
    }
   },
   "id": "8bd1a3893026593e"
  },
  {
   "cell_type": "code",
   "execution_count": 36,
   "id": "3fc0d5e4-177a-43c9-8f49-1f58a3f6a2fe",
   "metadata": {},
   "outputs": [],
   "source": [
    "with open('../roborock_control_lora/checkpoint-1000/trainer_state.json', 'r') as f:\n",
    "    train_state = json.load(f)"
   ]
  },
  {
   "cell_type": "code",
   "execution_count": 37,
   "id": "6ba76633-837d-40f8-8c70-ee282ad64348",
   "metadata": {},
   "outputs": [],
   "source": [
    "log_history = train_state['log_history']\n",
    "steps = [i['step'] for i in log_history]\n",
    "learning_rate = [i['learning_rate'] for i in log_history]\n",
    "loss = [i['loss'] for i in log_history]"
   ]
  },
  {
   "cell_type": "code",
   "execution_count": 38,
   "id": "4adfd180-0460-4383-a043-5fa19f05afc3",
   "metadata": {},
   "outputs": [
    {
     "data": {
      "image/png": "[encoded data removed]",
      "text/plain": [
       "<Figure size 1000x300 with 2 Axes>"
      ]
     },
     "metadata": {},
     "output_type": "display_data"
    }
   ],
   "source": [
    "# Create a figure and two subplots, sharing the same y-axis\n",
    "fig, (ax1, ax2) = plt.subplots(1, 2, figsize=(10, 3))\n",
    "\n",
    "# Plot data on each axis\n",
    "ax1.plot(steps, learning_rate)\n",
    "ax2.plot(steps, loss)\n",
    "\n",
    "# Optionally, set titles for each subplot\n",
    "ax1.set_xlabel('steps')\n",
    "ax1.set_ylabel('learning_rate')\n",
    "ax2.set_xlabel('steps')\n",
    "ax2.set_ylabel('loss')\n",
    "\n",
    "# Show the figure\n",
    "plt.show()\n"
   ]
  },
  {
   "cell_type": "code",
   "execution_count": 122,
   "outputs": [],
   "source": [
    "# dpo "
   ],
   "metadata": {
    "collapsed": false,
    "ExecuteTime": {
     "end_time": "2024-01-29T07:18:14.778111365Z",
     "start_time": "2024-01-29T07:18:14.742926279Z"
    }
   },
   "id": "b7a9f5dde5481b26"
  },
  {
   "cell_type": "code",
   "execution_count": 112,
   "outputs": [],
   "source": [
    "with open('../models/roborock_control_lora_dpo/checkpoint-20/trainer_state.json', 'r') as f:\n",
    "    train_state = json.load(f)"
   ],
   "metadata": {
    "collapsed": false,
    "ExecuteTime": {
     "end_time": "2024-01-29T06:09:17.333381266Z",
     "start_time": "2024-01-29T06:09:17.314210755Z"
    }
   },
   "id": "b41eaca6e2c958ec"
  },
  {
   "cell_type": "code",
   "execution_count": 114,
   "outputs": [],
   "source": [
    "log_history = train_state['log_history']\n",
    "steps = [i['step'] for i in log_history]\n",
    "learning_rate = [i['learning_rate'] for i in log_history]\n",
    "loss = [i['loss'] for i in log_history]\n",
    "logits_chosen = [i['logits/chosen'] for i in log_history]\n",
    "logits_rejected = [i['logits/rejected'] for i in log_history]\n",
    "rewards_chosen = [i['rewards/chosen'] for i in log_history]\n",
    "rewards_rejected = [i['rewards/rejected'] for i in log_history]\n",
    "rewards_accuracies = [i['rewards/accuracies'] for i in log_history]\n",
    "rewards_margins = [i['rewards/margins'] for i in log_history]"
   ],
   "metadata": {
    "collapsed": false,
    "ExecuteTime": {
     "end_time": "2024-01-29T06:12:16.273048552Z",
     "start_time": "2024-01-29T06:12:16.236654876Z"
    }
   },
   "id": "b54db2233543759a"
  },
  {
   "cell_type": "code",
   "execution_count": 115,
   "outputs": [
    {
     "data": {
      "text/plain": "<Figure size 1000x300 with 2 Axes>",
      "image/png": "[encoded data removed]"
     },
     "metadata": {},
     "output_type": "display_data"
    }
   ],
   "source": [
    "# Create a figure and two subplots, sharing the same y-axis\n",
    "fig, (ax1, ax2) = plt.subplots(1, 2, figsize=(10, 3))\n",
    "\n",
    "# Plot data on each axis\n",
    "ax1.plot(steps, learning_rate)\n",
    "ax2.plot(steps, loss)\n",
    "\n",
    "# Optionally, set titles for each subplot\n",
    "ax1.set_xlabel('steps')\n",
    "ax1.set_ylabel('learning_rate')\n",
    "ax2.set_xlabel('steps')\n",
    "ax2.set_ylabel('loss')\n",
    "\n",
    "# Show the figure\n",
    "plt.show()"
   ],
   "metadata": {
    "collapsed": false,
    "ExecuteTime": {
     "end_time": "2024-01-29T06:12:42.175692017Z",
     "start_time": "2024-01-29T06:12:41.824569976Z"
    }
   },
   "id": "7d5593bbece768f"
  },
  {
   "cell_type": "code",
   "execution_count": 117,
   "outputs": [
    {
     "data": {
      "text/plain": "<Figure size 1200x300 with 2 Axes>",
      "image/png": "[encoded data removed]"
     },
     "metadata": {},
     "output_type": "display_data"
    }
   ],
   "source": [
    "# Create a figure and two subplots, sharing the same y-axis\n",
    "fig, (ax1, ax2) = plt.subplots(1, 2, figsize=(12, 3))\n",
    "\n",
    "# Plot data on each axis\n",
    "ax1.plot(steps, logits_chosen)\n",
    "ax2.plot(steps, logits_rejected)\n",
    "\n",
    "# Optionally, set titles for each subplot\n",
    "ax1.set_xlabel('steps')\n",
    "ax1.set_ylabel('logits/chosen')\n",
    "ax2.set_xlabel('steps')\n",
    "ax2.set_ylabel('logits/rejected')\n",
    "\n",
    "# Show the figure\n",
    "plt.show()"
   ],
   "metadata": {
    "collapsed": false,
    "ExecuteTime": {
     "end_time": "2024-01-29T06:13:51.659856990Z",
     "start_time": "2024-01-29T06:13:51.313101656Z"
    }
   },
   "id": "f86f8571f647012a"
  },
  {
   "cell_type": "code",
   "execution_count": 119,
   "outputs": [
    {
     "data": {
      "text/plain": "<Figure size 1200x300 with 2 Axes>",
      "image/png": "[encoded data removed]"
     },
     "metadata": {},
     "output_type": "display_data"
    }
   ],
   "source": [
    "# Create a figure and two subplots, sharing the same y-axis\n",
    "fig, (ax1, ax2) = plt.subplots(1, 2, figsize=(12, 3))\n",
    "\n",
    "# Plot data on each axis\n",
    "ax1.plot(steps, rewards_accuracies)\n",
    "ax2.plot(steps, rewards_margins)\n",
    "\n",
    "# Optionally, set titles for each subplot\n",
    "ax1.set_xlabel('steps')\n",
    "ax1.set_ylabel('rewards/accuracies')\n",
    "ax2.set_xlabel('steps')\n",
    "ax2.set_ylabel('rewards/margins')\n",
    "\n",
    "# Show the figure\n",
    "plt.show()"
   ],
   "metadata": {
    "collapsed": false,
    "ExecuteTime": {
     "end_time": "2024-01-29T06:15:31.450240126Z",
     "start_time": "2024-01-29T06:15:31.105589431Z"
    }
   },
   "id": "baa6f8a7a2ee66"
  },
  {
   "cell_type": "code",
   "execution_count": 118,
   "outputs": [
    {
     "data": {
      "text/plain": "<Figure size 1200x300 with 2 Axes>",
      "image/png": "[encoded data removed]"
     },
     "metadata": {},
     "output_type": "display_data"
    }
   ],
   "source": [
    "# Create a figure and two subplots, sharing the same y-axis\n",
    "fig, (ax1, ax2) = plt.subplots(1, 2, figsize=(12, 3))\n",
    "\n",
    "# Plot data on each axis\n",
    "ax1.plot(steps, rewards_chosen)\n",
    "ax2.plot(steps, rewards_rejected)\n",
    "\n",
    "# Optionally, set titles for each subplot\n",
    "ax1.set_xlabel('steps')\n",
    "ax1.set_ylabel('rewards/chosen')\n",
    "ax2.set_xlabel('steps')\n",
    "ax2.set_ylabel('rewards/rejected')\n",
    "\n",
    "# Show the figure\n",
    "plt.show()"
   ],
   "metadata": {
    "collapsed": false,
    "ExecuteTime": {
     "end_time": "2024-01-29T06:14:36.225492221Z",
     "start_time": "2024-01-29T06:14:35.942339245Z"
    }
   },
   "id": "9fbf1267ba0ad04d"
  },
  {
   "cell_type": "code",
   "execution_count": 106,
   "id": "3a0dc0d2-da3c-4330-919a-be69c9e150c1",
   "metadata": {
    "ExecuteTime": {
     "end_time": "2024-01-29T05:38:21.787702073Z",
     "start_time": "2024-01-29T05:38:21.779341300Z"
    }
   },
   "outputs": [],
   "source": [
    "with open('../outputs/roborock_control_lora_output_testset_100/generated_predictions.jsonl', 'r') as f:\n",
    "    generated_results = [json.loads(line) for line in f]"
   ]
  },
  {
   "cell_type": "code",
   "execution_count": null,
   "outputs": [],
   "source": [
    "with open('../outputs/roborock_control_lora_output_finetune_train/generated_predictions.jsonl', 'r') as f:\n",
    "    train_generated_results = [json.loads(line) for line in f]"
   ],
   "metadata": {
    "collapsed": false
   },
   "id": "c622ad40516cdadd"
  },
  {
   "cell_type": "code",
   "execution_count": 96,
   "outputs": [],
   "source": [
    "with open('../outputs/roborock_control_lora_dpo_output/generated_predictions.jsonl', 'r') as f:\n",
    "    dpo_generated_results = [json.loads(line) for line in f]"
   ],
   "metadata": {
    "collapsed": false,
    "ExecuteTime": {
     "end_time": "2024-01-29T05:31:47.781716006Z",
     "start_time": "2024-01-29T05:31:47.726991543Z"
    }
   },
   "id": "25158b0a1c0f30af"
  },
  {
   "cell_type": "code",
   "execution_count": 84,
   "id": "b4583b46-0bf1-46e5-a9a7-2bb0c2a0aa38",
   "metadata": {
    "ExecuteTime": {
     "end_time": "2024-01-29T02:29:21.133663206Z",
     "start_time": "2024-01-29T02:29:21.121612341Z"
    }
   },
   "outputs": [],
   "source": [
    "def parse_tool_call(input_string):\n",
    "    # 正则表达式匹配括号内的内容\n",
    "    args_match = re.search(r\".*tool_call\\((.*)\\).*\", input_string)\n",
    "    if not args_match:\n",
    "        return \"No arguments found.\"\n",
    "\n",
    "    # 获取括号内的所有参数字符串\n",
    "    args_string = args_match.group(1)\n",
    "\n",
    "    # 使用堆栈来处理嵌套结构\n",
    "    args_list = []\n",
    "    stack = []\n",
    "    last_index = 0\n",
    "    for i, char in enumerate(args_string):\n",
    "        if char == '{':\n",
    "            stack.append(char)\n",
    "        elif char == '}':\n",
    "            stack.pop()\n",
    "        elif char == ',' and not stack:\n",
    "            # 当遇到逗号且堆栈为空时，表示这是一个顶级参数的分隔符\n",
    "            args_list.append(args_string[last_index:i])\n",
    "            last_index = i + 2  # 跳过逗号和空格\n",
    "\n",
    "    # 添加最后一个参数到列表中\n",
    "    args_list.append(args_string[last_index:])\n",
    "\n",
    "    # 解析每个参数为键值对，并存储在字典中\n",
    "    args_dict = {}\n",
    "    try:\n",
    "        for arg in args_list:\n",
    "            key, value = arg.split('=', 1)\n",
    "            args_dict[key.strip()] = ast.literal_eval(value.strip())\n",
    "    except:\n",
    "        pass\n",
    "\n",
    "    return args_dict"
   ]
  },
  {
   "cell_type": "code",
   "execution_count": 85,
   "id": "fdb4ecde-ddf6-41f6-a7ca-70f10b025f11",
   "metadata": {
    "ExecuteTime": {
     "end_time": "2024-01-29T02:29:21.486291287Z",
     "start_time": "2024-01-29T02:29:21.480912092Z"
    }
   },
   "outputs": [],
   "source": [
    "def parse_action_input(input_string):\n",
    "    # 使用正则表达式提取 Action 和 Action Input\n",
    "    action_match = re.search(r'Action: (\\w+)', input_string)\n",
    "    action_input_match = re.search(r'Action Input:.*(\\{.*\\})', input_string)\n",
    "    \n",
    "    # 检查是否找到匹配项并提取\n",
    "    action = action_match.group(1) if action_match else None\n",
    "    action_input = json.loads(action_input_match.group(1)) if action_input_match else None\n",
    "    return action, action_input"
   ]
  },
  {
   "cell_type": "code",
   "execution_count": 86,
   "id": "93a04b5d-acca-4602-b2a7-6610ecd58f26",
   "metadata": {
    "ExecuteTime": {
     "end_time": "2024-01-29T02:29:21.745833772Z",
     "start_time": "2024-01-29T02:29:21.742129423Z"
    }
   },
   "outputs": [],
   "source": [
    "def format_prediction(input_string):\n",
    "    input_string = input_string.strip()\n",
    "    split = input_string.find('\\n')\n",
    "    if split >= 0:\n",
    "        intent = input_string[:split].strip()\n",
    "        method_string = input_string[split+1:].strip()\n",
    "        if method_string.find('tool_call') >= 0:\n",
    "            slot = parse_tool_call(method_string)\n",
    "        elif (method_string.find('Action') >= 0) and (method_string.find('Action Input') >= 0):\n",
    "            intent, slot = parse_action_input(method_string)\n",
    "        else:\n",
    "            slot = json.loads(input_string[split+1:].strip())\n",
    "    else:\n",
    "        intent = ''\n",
    "        slot = {}\n",
    "    return intent, slot\n",
    "\n",
    "def cal_metric(label, prediction):\n",
    "    target_intent, target_method = format_prediction(label)\n",
    "    prediction_intent, prediction_method = format_prediction(prediction)\n",
    "    if prediction_intent == target_intent:\n",
    "        if prediction_method == target_method:\n",
    "            result = [1, 1]\n",
    "        else:\n",
    "            result = [1, 0]\n",
    "    else:\n",
    "        result = [0, 0]\n",
    "    return result "
   ]
  },
  {
   "cell_type": "code",
   "execution_count": 87,
   "id": "0d11697c-6c8f-4a80-870b-d97c52324247",
   "metadata": {
    "ExecuteTime": {
     "end_time": "2024-01-29T02:29:22.095655069Z",
     "start_time": "2024-01-29T02:29:22.088948664Z"
    }
   },
   "outputs": [],
   "source": [
    "def cal_lora(generated_results, model_name, set_name):\n",
    "    print(model_name, set_name)\n",
    "    results = []\n",
    "    for i in range(len(generated_results)):\n",
    "        label = generated_results[i]['label']\n",
    "        prediction =  generated_results[i]['predict']\n",
    "        try:\n",
    "            result = cal_metric(label, prediction)\n",
    "        except:\n",
    "            print('oops', i)\n",
    "        result += [dev_data_new[i]['conversations'][0]['value'], label, prediction]\n",
    "        results.append(result)\n",
    "    results = pd.DataFrame(results)\n",
    "    results.columns = ['intent', 'slot', 'query', 'target', 'prediction']\n",
    "    results['model_name'] = model_name\n",
    "    results['set_name'] = set_name\n",
    "    results = results.reset_index()\n",
    "    return results "
   ]
  },
  {
   "cell_type": "code",
   "execution_count": 88,
   "id": "e91b2740-38f4-4ce3-878a-9fd050d809b8",
   "metadata": {
    "ExecuteTime": {
     "end_time": "2024-01-29T02:29:22.416232114Z",
     "start_time": "2024-01-29T02:29:22.410175182Z"
    }
   },
   "outputs": [],
   "source": [
    "def cal_accuracy(results):\n",
    "    num = results.shape[0]\n",
    "    intent = results['intent']\n",
    "    zero_error_count = intent.shape[0]\n",
    "    zero_error_rate = 1\n",
    "    intent_sum, intent_mean = intent.sum(), intent.mean()\n",
    "    slot = results[(results['intent'] == 1)]['slot']\n",
    "    slot_sum, slot_mean = slot.sum(), slot.mean()\n",
    "    both_mean = slot_sum / zero_error_count\n",
    "    return pd.Series([num, zero_error_count, zero_error_rate, intent_sum, intent_mean, slot_sum, slot_mean, both_mean],\n",
    "                     index=['num', 'zero_error_count', 'zero_error_rate', 'intent_sum', 'intent_mean', 'slot_sum', 'slot_mean', 'both_mean'])"
   ]
  },
  {
   "cell_type": "code",
   "execution_count": 28,
   "outputs": [],
   "source": [
    "# 做dpo数据集"
   ],
   "metadata": {
    "collapsed": false,
    "ExecuteTime": {
     "end_time": "2024-01-25T11:39:10.898955841Z",
     "start_time": "2024-01-25T11:39:10.850222598Z"
    }
   },
   "id": "cce89041aa18b1d4"
  },
  {
   "cell_type": "code",
   "execution_count": 29,
   "outputs": [],
   "source": [
    "with open('../outputs/roborock_control_lora_output_testset/generated_predictions.jsonl', 'r') as f:\n",
    "    generated_results_testset = [json.loads(line) for line in f]"
   ],
   "metadata": {
    "collapsed": false,
    "ExecuteTime": {
     "end_time": "2024-01-25T11:39:11.543613651Z",
     "start_time": "2024-01-25T11:39:11.526705653Z"
    }
   },
   "id": "8dab1a0448cce479"
  },
  {
   "cell_type": "code",
   "execution_count": 30,
   "outputs": [
    {
     "name": "stdout",
     "output_type": "stream",
     "text": [
      "lora test\n"
     ]
    }
   ],
   "source": [
    "results = cal_lora(generated_results_testset, 'lora', 'test')"
   ],
   "metadata": {
    "collapsed": false,
    "ExecuteTime": {
     "end_time": "2024-01-25T11:39:36.961221463Z",
     "start_time": "2024-01-25T11:39:36.930796234Z"
    }
   },
   "id": "c37161e2bce9736a"
  },
  {
   "cell_type": "code",
   "execution_count": 31,
   "outputs": [
    {
     "data": {
      "text/plain": "      index  intent  slot                                query  \\\n0         0       1     1                            重新启动绘图程序。   \n1         1       1     1                              开启建图模式。   \n2         2       1     0                               检查所有刷子   \n3         3       1     1                 Activate follow mode   \n4         4       1     1                    预约下周三早上清扫洗衣房下的洗衣机   \n...     ...     ...   ...                                  ...   \n1073   1073       1     1  Resume the mopping session, please.   \n1074   1074       1     1                  Is the filter clean   \n1075   1075       1     1                                 主刷状态   \n1076   1076       1     1                            当前声音等级是多少   \n1077   1077       1     1                            重新启动建图任务。   \n\n                                                 target  \\\n0                          mapping\\n{\"action\": \"start\"}   \n1                          mapping\\n{\"action\": \"start\"}   \n2     get_property\\n{\"property_name\": \"all consumabl...   \n3                        follow_me\\n{\"action\": \"start\"}   \n4     schedule_operation\\n{\"operation_type\": \"create...   \n...                                                 ...   \n1073  clean\\n{\"action\": \"resume\", \"tool\": \"mop only/...   \n1074          get_property\\n{\"property_name\": \"filter\"}   \n1075      get_property\\n{\"property_name\": \"main brush\"}   \n1076       get_property\\n{\"property_name\": \"volume/音量\"}   \n1077                       mapping\\n{\"action\": \"start\"}   \n\n                                             prediction model_name set_name  \n0                          mapping\\n{\"action\": \"start\"}       lora     test  \n1                          mapping\\n{\"action\": \"start\"}       lora     test  \n2         get_property\\n{\"property_name\": \"main brush\"}       lora     test  \n3                        follow_me\\n{\"action\": \"start\"}       lora     test  \n4     schedule_operation\\n{\"operation_type\": \"create...       lora     test  \n...                                                 ...        ...      ...  \n1073  clean\\n{\"action\": \"resume\", \"tool\": \"mop only/...       lora     test  \n1074          get_property\\n{\"property_name\": \"filter\"}       lora     test  \n1075      get_property\\n{\"property_name\": \"main brush\"}       lora     test  \n1076       get_property\\n{\"property_name\": \"volume/音量\"}       lora     test  \n1077                       mapping\\n{\"action\": \"start\"}       lora     test  \n\n[1078 rows x 8 columns]",
      "text/html": "<div>\n<style scoped>\n    .dataframe tbody tr th:only-of-type {\n        vertical-align: middle;\n    }\n\n    .dataframe tbody tr th {\n        vertical-align: top;\n    }\n\n    .dataframe thead th {\n        text-align: right;\n    }\n</style>\n<table border=\"1\" class=\"dataframe\">\n  <thead>\n    <tr style=\"text-align: right;\">\n      <th></th>\n      <th>index</th>\n      <th>intent</th>\n      <th>slot</th>\n      <th>query</th>\n      <th>target</th>\n      <th>prediction</th>\n      <th>model_name</th>\n      <th>set_name</th>\n    </tr>\n  </thead>\n  <tbody>\n    <tr>\n      <th>0</th>\n      <td>0</td>\n      <td>1</td>\n      <td>1</td>\n      <td>重新启动绘图程序。</td>\n      <td>mapping\\n{\"action\": \"start\"}</td>\n      <td>mapping\\n{\"action\": \"start\"}</td>\n      <td>lora</td>\n      <td>test</td>\n    </tr>\n    <tr>\n      <th>1</th>\n      <td>1</td>\n      <td>1</td>\n      <td>1</td>\n      <td>开启建图模式。</td>\n      <td>mapping\\n{\"action\": \"start\"}</td>\n      <td>mapping\\n{\"action\": \"start\"}</td>\n      <td>lora</td>\n      <td>test</td>\n    </tr>\n    <tr>\n      <th>2</th>\n      <td>2</td>\n      <td>1</td>\n      <td>0</td>\n      <td>检查所有刷子</td>\n      <td>get_property\\n{\"property_name\": \"all consumabl...</td>\n      <td>get_property\\n{\"property_name\": \"main brush\"}</td>\n      <td>lora</td>\n      <td>test</td>\n    </tr>\n    <tr>\n      <th>3</th>\n      <td>3</td>\n      <td>1</td>\n      <td>1</td>\n      <td>Activate follow mode</td>\n      <td>follow_me\\n{\"action\": \"start\"}</td>\n      <td>follow_me\\n{\"action\": \"start\"}</td>\n      <td>lora</td>\n      <td>test</td>\n    </tr>\n    <tr>\n      <th>4</th>\n      <td>4</td>\n      <td>1</td>\n      <td>1</td>\n      <td>预约下周三早上清扫洗衣房下的洗衣机</td>\n      <td>schedule_operation\\n{\"operation_type\": \"create...</td>\n      <td>schedule_operation\\n{\"operation_type\": \"create...</td>\n      <td>lora</td>\n      <td>test</td>\n    </tr>\n    <tr>\n      <th>...</th>\n      <td>...</td>\n      <td>...</td>\n      <td>...</td>\n      <td>...</td>\n      <td>...</td>\n      <td>...</td>\n      <td>...</td>\n      <td>...</td>\n    </tr>\n    <tr>\n      <th>1073</th>\n      <td>1073</td>\n      <td>1</td>\n      <td>1</td>\n      <td>Resume the mopping session, please.</td>\n      <td>clean\\n{\"action\": \"resume\", \"tool\": \"mop only/...</td>\n      <td>clean\\n{\"action\": \"resume\", \"tool\": \"mop only/...</td>\n      <td>lora</td>\n      <td>test</td>\n    </tr>\n    <tr>\n      <th>1074</th>\n      <td>1074</td>\n      <td>1</td>\n      <td>1</td>\n      <td>Is the filter clean</td>\n      <td>get_property\\n{\"property_name\": \"filter\"}</td>\n      <td>get_property\\n{\"property_name\": \"filter\"}</td>\n      <td>lora</td>\n      <td>test</td>\n    </tr>\n    <tr>\n      <th>1075</th>\n      <td>1075</td>\n      <td>1</td>\n      <td>1</td>\n      <td>主刷状态</td>\n      <td>get_property\\n{\"property_name\": \"main brush\"}</td>\n      <td>get_property\\n{\"property_name\": \"main brush\"}</td>\n      <td>lora</td>\n      <td>test</td>\n    </tr>\n    <tr>\n      <th>1076</th>\n      <td>1076</td>\n      <td>1</td>\n      <td>1</td>\n      <td>当前声音等级是多少</td>\n      <td>get_property\\n{\"property_name\": \"volume/音量\"}</td>\n      <td>get_property\\n{\"property_name\": \"volume/音量\"}</td>\n      <td>lora</td>\n      <td>test</td>\n    </tr>\n    <tr>\n      <th>1077</th>\n      <td>1077</td>\n      <td>1</td>\n      <td>1</td>\n      <td>重新启动建图任务。</td>\n      <td>mapping\\n{\"action\": \"start\"}</td>\n      <td>mapping\\n{\"action\": \"start\"}</td>\n      <td>lora</td>\n      <td>test</td>\n    </tr>\n  </tbody>\n</table>\n<p>1078 rows × 8 columns</p>\n</div>"
     },
     "execution_count": 31,
     "metadata": {},
     "output_type": "execute_result"
    }
   ],
   "source": [
    "results "
   ],
   "metadata": {
    "collapsed": false,
    "ExecuteTime": {
     "end_time": "2024-01-25T11:39:39.370664849Z",
     "start_time": "2024-01-25T11:39:39.305947332Z"
    }
   },
   "id": "fe7c10e85b2890f7"
  },
  {
   "cell_type": "code",
   "execution_count": 32,
   "outputs": [
    {
     "data": {
      "text/plain": "                        num  zero_error_count  zero_error_rate  intent_sum  \\\nmodel_name set_name                                                          \nlora       test      1078.0            1078.0              1.0      1044.0   \n\n                     intent_mean  slot_sum  slot_mean  both_mean  \nmodel_name set_name                                               \nlora       test          0.96846     940.0   0.900383   0.871985  ",
      "text/html": "<div>\n<style scoped>\n    .dataframe tbody tr th:only-of-type {\n        vertical-align: middle;\n    }\n\n    .dataframe tbody tr th {\n        vertical-align: top;\n    }\n\n    .dataframe thead th {\n        text-align: right;\n    }\n</style>\n<table border=\"1\" class=\"dataframe\">\n  <thead>\n    <tr style=\"text-align: right;\">\n      <th></th>\n      <th></th>\n      <th>num</th>\n      <th>zero_error_count</th>\n      <th>zero_error_rate</th>\n      <th>intent_sum</th>\n      <th>intent_mean</th>\n      <th>slot_sum</th>\n      <th>slot_mean</th>\n      <th>both_mean</th>\n    </tr>\n    <tr>\n      <th>model_name</th>\n      <th>set_name</th>\n      <th></th>\n      <th></th>\n      <th></th>\n      <th></th>\n      <th></th>\n      <th></th>\n      <th></th>\n      <th></th>\n    </tr>\n  </thead>\n  <tbody>\n    <tr>\n      <th>lora</th>\n      <th>test</th>\n      <td>1078.0</td>\n      <td>1078.0</td>\n      <td>1.0</td>\n      <td>1044.0</td>\n      <td>0.96846</td>\n      <td>940.0</td>\n      <td>0.900383</td>\n      <td>0.871985</td>\n    </tr>\n  </tbody>\n</table>\n</div>"
     },
     "execution_count": 32,
     "metadata": {},
     "output_type": "execute_result"
    }
   ],
   "source": [
    "results.groupby(['model_name', 'set_name']).apply(cal_accuracy)"
   ],
   "metadata": {
    "collapsed": false,
    "ExecuteTime": {
     "end_time": "2024-01-25T11:39:57.175848383Z",
     "start_time": "2024-01-25T11:39:57.156742653Z"
    }
   },
   "id": "5fec6cd88814d167"
  },
  {
   "cell_type": "code",
   "execution_count": 33,
   "outputs": [],
   "source": [
    "negative_samples = [i for i in range(len(dev_data)) if dev_data[i]['hit']==False]\n",
    "results = results.set_index('index')\n",
    "results['hit'] = True\n",
    "results.loc[negative_samples, 'hit'] = False\n",
    "results = results.reset_index()"
   ],
   "metadata": {
    "collapsed": false,
    "ExecuteTime": {
     "end_time": "2024-01-25T11:40:07.086328147Z",
     "start_time": "2024-01-25T11:40:07.033906599Z"
    }
   },
   "id": "5d3e9065cce2efdc"
  },
  {
   "cell_type": "code",
   "execution_count": 34,
   "outputs": [],
   "source": [
    "# should not hit but hit something, intent肯定是0\n",
    "shouldnot_hit_but_hit = results[(results['hit']==False)&(results['intent']==0)]['index'].tolist()"
   ],
   "metadata": {
    "collapsed": false,
    "ExecuteTime": {
     "end_time": "2024-01-25T11:40:08.115626707Z",
     "start_time": "2024-01-25T11:40:08.097713171Z"
    }
   },
   "id": "1a7c5b68419846a2"
  },
  {
   "cell_type": "code",
   "execution_count": 35,
   "outputs": [],
   "source": [
    "# should hit but not hit， intent肯定是0 \n",
    "should_hit_but_not_hit = results[(results['prediction']=='\\n no corresponding tools.')&(results['target']!='\\n no corresponding tools.')]['index'].tolist()"
   ],
   "metadata": {
    "collapsed": false,
    "ExecuteTime": {
     "end_time": "2024-01-25T11:40:08.690674816Z",
     "start_time": "2024-01-25T11:40:08.676032717Z"
    }
   },
   "id": "d172bf97f011eede"
  },
  {
   "cell_type": "code",
   "execution_count": 36,
   "outputs": [],
   "source": [
    "# intent_1_slot_0\n",
    "intent_1_slot_0 = results[(results['intent']==1)&(results['slot']==0)]['index'].tolist()"
   ],
   "metadata": {
    "collapsed": false,
    "ExecuteTime": {
     "end_time": "2024-01-25T11:40:09.141110758Z",
     "start_time": "2024-01-25T11:40:09.128422342Z"
    }
   },
   "id": "875fdc433e4151a9"
  },
  {
   "cell_type": "code",
   "execution_count": 37,
   "outputs": [],
   "source": [
    "hard_examples = shouldnot_hit_but_hit + should_hit_but_not_hit + intent_1_slot_0"
   ],
   "metadata": {
    "collapsed": false,
    "ExecuteTime": {
     "end_time": "2024-01-25T11:40:09.609618235Z",
     "start_time": "2024-01-25T11:40:09.599117395Z"
    }
   },
   "id": "11cecb32a8962af9"
  },
  {
   "cell_type": "code",
   "execution_count": 38,
   "outputs": [],
   "source": [
    "results['hard_examples'] = False\n",
    "results['hard_type'] = None\n",
    "results = results.set_index('index')\n",
    "results.loc[hard_examples, 'hard_examples'] = True\n",
    "results.loc[shouldnot_hit_but_hit, 'hard_type'] = 'should_not_hit_but_hit'\n",
    "results.loc[should_hit_but_not_hit, 'hard_type'] = 'should_hit_but_not_hit'\n",
    "results.loc[intent_1_slot_0, 'hard_type'] = 'intent_1_slot_0'\n",
    "results = results.reset_index()"
   ],
   "metadata": {
    "collapsed": false,
    "ExecuteTime": {
     "end_time": "2024-01-25T11:40:10.349608408Z",
     "start_time": "2024-01-25T11:40:10.325714784Z"
    }
   },
   "id": "dcf3dff3db814013"
  },
  {
   "cell_type": "code",
   "execution_count": 39,
   "outputs": [
    {
     "data": {
      "text/plain": "hard_examples  intent  slot  hard_type             \nTrue           0       0     should_not_hit_but_hit      9\n                             should_hit_but_not_hit      4\n               1       0     intent_1_slot_0           104\nName: count, dtype: int64"
     },
     "execution_count": 39,
     "metadata": {},
     "output_type": "execute_result"
    }
   ],
   "source": [
    "results.groupby(['hard_examples', 'intent', 'slot'])['hard_type'].value_counts()"
   ],
   "metadata": {
    "collapsed": false,
    "ExecuteTime": {
     "end_time": "2024-01-25T11:40:12.488030861Z",
     "start_time": "2024-01-25T11:40:12.442868814Z"
    }
   },
   "id": "3af7d730187ff730"
  },
  {
   "cell_type": "code",
   "execution_count": 40,
   "outputs": [],
   "source": [
    "dev_data_dpo = [(i, results.loc[results['index']==i, 'target'].iloc[0], results.loc[results['index']==i, 'prediction'].iloc[0]) for i in results[(results['hard_examples']==True)&(results['index']>=100)]['index'].tolist()]"
   ],
   "metadata": {
    "collapsed": false,
    "ExecuteTime": {
     "end_time": "2024-01-25T11:40:15.717125241Z",
     "start_time": "2024-01-25T11:40:15.710889182Z"
    }
   },
   "id": "7d5712c30311cff7"
  },
  {
   "cell_type": "code",
   "execution_count": 41,
   "outputs": [],
   "source": [
    "dev_data_dpo_new = []\n",
    "for i in range(len(dev_data_dpo)):\n",
    "    index = dev_data_dpo[i][0]\n",
    "    new = {}\n",
    "    conversations = copy.deepcopy(dev_data_new[index]['conversations'])\n",
    "    response = conversations[1]\n",
    "    if dev_data_dpo[i][1].find('no corresponding tools') >= 0:\n",
    "        accept_response = {\"from\": \"gpt\", \"value\": dev_data_dpo[i][1].strip(' \\n')}\n",
    "    else:\n",
    "        tool_name, arguments = dev_data_dpo[i][1].split(\"\\n\")\n",
    "        accept_response = {\"from\": \"function_call\", \"value\": json.dumps({\"name\": tool_name, \"arguments\": json.loads(arguments)})}\n",
    "    assert response == accept_response\n",
    "    if dev_data_dpo[i][2].find('no corresponding tools') >= 0:\n",
    "        reject_response = {\"from\": \"gpt\", \"value\": dev_data_dpo[i][2].strip(' \\n')}\n",
    "    else:\n",
    "        tool_name, arguments = dev_data_dpo[i][2].split(\"\\n\")\n",
    "        reject_response = {\"from\": \"function_call\", \"value\": json.dumps({\"name\": tool_name, \"arguments\": json.loads(arguments)})}\n",
    "    conversations[1] = {\"from\": \"gpt\", \"value\": json.dumps([accept_response, reject_response])}\n",
    "    new['tools'] = dev_data_new[index]['tools']\n",
    "    new['conversations'] = conversations\n",
    "    dev_data_dpo_new.append(new)"
   ],
   "metadata": {
    "collapsed": false,
    "ExecuteTime": {
     "end_time": "2024-01-25T11:40:23.641202454Z",
     "start_time": "2024-01-25T11:40:23.622222691Z"
    }
   },
   "id": "ac29df04d662716e"
  },
  {
   "cell_type": "code",
   "execution_count": 42,
   "outputs": [
    {
     "data": {
      "text/plain": "{'tools': '[{\"name\": \"general_control\", \"description\": \"This API is used for controlling general tasks, typically providing control for listed user-defined tasks, or that is not directly tied to specific task types, or non-clean task\", \"parameters\": {\"type\": \"object\", \"properties\": {\"action\": {\"type\": \"string\", \"enum\": [\"start\", \"stop\", \"pause\", \"resume\"]}, \"user_defined_task\": {\"type\": \"string\", \"description\": \"user-defined task described in user request\"}}, \"required\": [\"action\"]}}, {\"name\": \"clean\", \"description\": \"Initiate a task of an immediate or unscheduled cleaning or partial clean, i.e., cleaning a part while leaving another part untouched.\", \"parameters\": {\"type\": \"object\", \"properties\": {\"action\": {\"type\": \"string\", \"enum\": [\"start\", \"stop\", \"pause\", \"resume\"]}, \"location\": {\"type\": \"string\", \"description\": \"Fill in the description of the location from the user request word for word, using the same language as in the user\\'s description of the location.\"}, \"tool\": {\"type\": \"string\", \"enum\": [\"vacuum only/\\\\u626b\", \"mop only/\\\\u62d6/\\\\u64e6\", \"vacuum and mop\"], \"default\": \"vacuum and mop\", \"description\": \"\\'vacuum and mop\\' means vacuum and mop the floor at the same time, \\'vacuum only\\' is only vacuum, in Chinese, \\'\\\\u626b\\' is \\'vacuum only\\', \\'\\\\u6e05\\\\u626b\\' is \\'vacuum and mop\\'\"}, \"total_count\": {\"type\": \"number\", \"default\": 1, \"description\": \"The total count of the operation that is repeated within a single action.\"}, \"special_mode\": {\"type\": \"string\", \"enum\": [\"local\", \"custom\"], \"description\": \"for local clean or custom clean\"}}, \"required\": [\"action\", \"tool\"]}}, {\"name\": \"do_not_or_skip_clean\", \"description\": \"This API is used when the user only requests not or skip to clean a certain area.\", \"parameters\": {\"type\": \"object\", \"properties\": {\"location\": {\"type\": \"string\", \"description\": \"Fill in the description of the location from the user request word for word, using the same language as in the user\\'s description of the location.\"}}, \"required\": [\"location\"]}}, {\"name\": \"schedule_operation\", \"description\": \"create clean task, or query or delete scheduled clean tasks. (other task not supported)\", \"parameters\": {\"type\": \"object\", \"properties\": {\"operation_type\": {\"type\": \"string\", \"enum\": [\"create\", \"query\", \"delete\"]}, \"clean_action\": {\"type\": \"string\", \"enum\": [\"start\", \"stop\", \"pause\", \"resume\"]}, \"clean_tool\": {\"type\": \"string\", \"enum\": [\"vacuum only/\\\\u626b\", \"mop only/\\\\u62d6/\\\\u64e6\", \"vacuum and mop\"], \"default\": \"vacuum and mop\", \"description\": \"\\'vacuum and mop\\' refers to both vacuuming and mopping the floor.\"}, \"total_count\": {\"type\": \"number\", \"default\": 1, \"description\": \"The total count of the operation that is repeated within a single action.\"}, \"location\": {\"type\": \"string\", \"description\": \"fill the Description text of the location in the user request here, without excessive transformation, ideally word for word.\"}, \"time\": {\"type\": \"string\", \"description\": \"fill the description text of the time in the user request here, without excessive transformation, ideally word for word.\"}, \"index_from\": {\"type\": \"integer\", \"description\": \"the beginning index of the schedule, 1 for newest/recent/first, 2 for second recent, -1 for last/final, -2 for the second-to-last item, and so on\"}, \"index_to\": {\"type\": \"integer\", \"description\": \"the end index of the schedule, 1 for newest/recent/first, 2 for second recent, -1 for last/final, -2 for the second-to-last item, and so on\"}, \"relative\": {\"type\": \"string\", \"enum\": [\"next\", \"previous\"]}}, \"required\": [\"operation_type\"]}}, {\"name\": \"move\", \"description\": \"perform a move operation\", \"parameters\": {\"type\": \"object\", \"properties\": {\"location\": {\"type\": \"string\", \"description\": \"location description in the user request\"}}, \"required\": [\"location\"]}, \"required\": [\"location\"]}, {\"name\": \"set_object_property\", \"description\": \"change sensors or peripherals state\", \"parameters\": {\"type\": \"object\", \"properties\": {\"property_name\": {\"type\": \"string\", \"description\": \"vaccum robot properties\", \"enum\": [\"LED/\\\\u706f\", \"suction power\", \"water flow and scrub intensity/\\\\u6c34\\\\u91cf\\\\u548c\\\\u64e6\\\\u5730\\\\u529b\\\\u5ea6\", \"carpet boost/\\\\u5730\\\\u6bef\\\\u589e\\\\u538b\", \"Route/\\\\u8def\\\\u7ebf\\\\u504f\\\\u597d\", \"mop wash mode/\\\\u6d17\\\\u5e03\\\\u6a21\\\\u5f0f\", \"volume/\\\\u97f3\\\\u91cf\", \"auto collect dust/auto emptying/\\\\u81ea\\\\u52a8\\\\u96c6\\\\u5c18\", \"mop wash mode/\\\\u6d17\\\\u5e03\\\\u6a21\\\\u5f0f\", \"working level/\\\\u5de5\\\\u4f5c\\\\u6863\\\\u4f4d/\\\\u6863\\\\u4f4d\", \"clean mode/vacuum or mop mode/\\\\u626b\\\\u62d6\\\\u6a21\\\\u5f0f\"]}, \"property_value\": {\"type\": \"string or integer\", \"description\": \"the property value, details in value table\", \"value_table\": [{\"property_name\": \"LED/\\\\u706f\", \"property_values\": {\"proper nouns\": [\"on\", \"off\"]}}, {\"property_name\": \"suction power\", \"property_values\": {\"proper nouns\": [\"Quiet/\\\\u5b89\\\\u9759/lowest\", \"Balanced/\\\\u6807\\\\u51c6/lower\", \"Turbo/\\\\u5f3a\\\\u529b/medium\", \"Max/higher\", \"Max+/highest\"], \"scales\": [1, 2, 3, 4, 5], \"relational terms\": [\"turn up\", \"turn down\"]}}, {\"property_name\": \"water flow and scrub intensity/\\\\u6c34\\\\u91cf\\\\u548c\\\\u64e6\\\\u5730\\\\u529b\\\\u5ea6\", \"property_values\": {\"proper nouns\": [\"mild/\\\\u8f7b\\\\u67d4\", \"moderate/\\\\u6807\\\\u51c6\", \"intense/\\\\u5f3a\\\\u529b\"], \"scales\": [1, 2, 3], \"relational terms\": [\"turn up\", \"turn down\"]}}, {\"property_name\": \"carpet boost/\\\\u5730\\\\u6bef\\\\u589e\\\\u538b\", \"property_values\": {\"proper nouns\": [\"on\", \"off\"]}}, {\"property_name\": \"Route/\\\\u8def\\\\u7ebf\\\\u504f\\\\u597d\", \"property_values\": {\"proper nouns\": [\"fast/\\\\u5feb\\\\u901f\", \"standard/\\\\u65e5\\\\u5e38/normal\", \"deep/\\\\u7cbe\\\\u7ec6\\\\u64e6\\\\u5730/slower\", \"deep plus/\\\\u6df1\\\\u5ea6\\\\u6162\\\\u62d6/slowest\"], \"scales\": [1, 2, 3, 4], \"relational terms\": [\"turn up\", \"turn down\"]}}, {\"property_name\": \"mop wash mode/\\\\u6d17\\\\u5e03\\\\u6a21\\\\u5f0f\", \"property_values\": {\"proper nouns\": [\"by section/room\", \"by time: <time description>\"]}}, {\"property_name\": \"volume/\\\\u97f3\\\\u91cf\", \"property_values\": {\"proper nouns\": [\"mute on\", \"mute off\", \"minimum\", \"maximum\"], \"range\": {\"minimum\": 1, \"maximum\": 100}, \"relational terms\": [\"turn up\", \"turn down\"]}}, {\"property_name\": \"auto collect dust/auto emptying/\\\\u81ea\\\\u52a8\\\\u96c6\\\\u5c18\", \"property_values\": {\"proper nouns\": [\"on\", \"off\"]}}, {\"property_name\": \"working level/\\\\u5de5\\\\u4f5c\\\\u6863\\\\u4f4d/\\\\u6863\\\\u4f4d\", \"property_values\": {\"proper nouns\": [\"low\", \"medium\", \"high\"], \"scales\": [1, 2, 3], \"relational terms\": [\"turn up\", \"turn down\"]}}, {\"property_name\": \"clean mode/vacuum or mop mode/\\\\u626b\\\\u62d6\\\\u6a21\\\\u5f0f\", \"property_values\": {\"relational terms\": [\"vacuum only\", \"mop only\", \"vacuum and mop\"]}}]}}, \"required\": [\"property_name\", \"property_value\"]}, \"required\": [\"property_name\", \"property_value\"]}, {\"name\": \"follow_me\", \"description\": \"instruct the robot to follow the user\", \"parameters\": {\"type\": \"string\", \"enum\": [\"start\", \"stop\"], \"properties\": {}, \"required\": []}}, {\"name\": \"go_away\", \"description\": \"instruct the robot to go away or do other things first\", \"parameters\": {\"type\": \"object\", \"properties\": {}, \"required\": []}}, {\"name\": \"get_property\", \"description\": \"get robot property\", \"parameters\": {\"type\": \"object\", \"properties\": {\"property_name\": {\"type\": \"string\", \"description\": \"vaccum robot properties\", \"enum\": [\"LED/\\\\u706f\", \"suction power\", \"water flow and scrub intensity/\\\\u6c34\\\\u91cf\\\\u548c\\\\u64e6\\\\u5730\\\\u529b\\\\u5ea6\", \"carpet boost/\\\\u5730\\\\u6bef\\\\u589e\\\\u538b\", \"Route/\\\\u8def\\\\u7ebf\\\\u504f\\\\u597d\", \"filter\", \"main brush\", \"side brush\", \"sensors\", \"mop\", \"dust bag\", \"floor cleaning solution\", \"current location\", \"remaining battery power\", \"freshwater tank/water tank\", \"wastewater tank\", \"volume/\\\\u97f3\\\\u91cf\", \"all consumables\", \"High-speed maintenance brush/\\\\u81ea\\\\u6e05\\\\u6d01\\\\u5237\", \"Water filter/\\\\u6e05\\\\u6d01\\\\u69fd\\\\u6ee4\\\\u7f51\", \"list features/self-introduction\"]}}, \"required\": []}}, {\"name\": \"upgrade_firmware\", \"description\": \"Upgrade firmware.\", \"parameters\": {\"type\": \"object\", \"properties\": {}, \"required\": []}}, {\"name\": \"dock_operation\", \"description\": \"api for the features of vacuum robot dock\", \"parameters\": {\"type\": \"object\", \"properties\": {\"action\": {\"type\": \"string\", \"enum\": [\"start\", \"stop\", \"pause\", \"resume\"]}, \"operation_type\": {\"type\": \"string\", \"enum\": [\"charge battery\", \"come down\", \"collect dust/\\\\u96c6\\\\u5c18\", \"wash mop\", \"drying mop\", \"back to\"], \"description\": \"\\'charge battery\\' means sending the robot to the dock to recharge. \\'come down\\' instructs the vacuum robot to descend from the dock. \\'wash mop\\' instructs the vacuum robot to clean its attached mop. \\'back to\\' means instructs robot to go back to dock.\"}}, \"required\": [\"operation_type\"]}, \"required\": [\"operation_type\"]}, {\"name\": \"mapping\", \"description\": \"api for building map\", \"parameters\": {\"type\": \"object\", \"properties\": {\"action\": {\"type\": \"string\", \"enum\": [\"start\", \"stop\", \"pause\", \"resume\"]}}, \"required\": [\"action\"]}}]',\n 'conversations': [{'from': 'human', 'value': '加入我的队伍'},\n  {'from': 'gpt',\n   'value': '[{\"from\": \"gpt\", \"value\": \"no corresponding tools.\"}, {\"from\": \"function_call\", \"value\": \"{\\\\\"name\\\\\": \\\\\"follow_me\\\\\", \\\\\"arguments\\\\\": {\\\\\"action\\\\\": \\\\\"start\\\\\"}}\"}]'}]}"
     },
     "execution_count": 42,
     "metadata": {},
     "output_type": "execute_result"
    }
   ],
   "source": [
    "dev_data_dpo_new[2] "
   ],
   "metadata": {
    "collapsed": false,
    "ExecuteTime": {
     "end_time": "2024-01-25T11:40:24.851437824Z",
     "start_time": "2024-01-25T11:40:24.816345541Z"
    }
   },
   "id": "f095bfd590f52b96"
  },
  {
   "cell_type": "code",
   "execution_count": 43,
   "outputs": [
    {
     "data": {
      "text/plain": "{'tools': '[{\"name\": \"general_control\", \"description\": \"This API is used for controlling general tasks, typically providing control for listed user-defined tasks, or that is not directly tied to specific task types, or non-clean task\", \"parameters\": {\"type\": \"object\", \"properties\": {\"action\": {\"type\": \"string\", \"enum\": [\"start\", \"stop\", \"pause\", \"resume\"]}, \"user_defined_task\": {\"type\": \"string\", \"description\": \"user-defined task described in user request\"}}, \"required\": [\"action\"]}}, {\"name\": \"clean\", \"description\": \"Initiate a task of an immediate or unscheduled cleaning or partial clean, i.e., cleaning a part while leaving another part untouched.\", \"parameters\": {\"type\": \"object\", \"properties\": {\"action\": {\"type\": \"string\", \"enum\": [\"start\", \"stop\", \"pause\", \"resume\"]}, \"location\": {\"type\": \"string\", \"description\": \"Fill in the description of the location from the user request word for word, using the same language as in the user\\'s description of the location.\"}, \"tool\": {\"type\": \"string\", \"enum\": [\"vacuum only/\\\\u626b\", \"mop only/\\\\u62d6/\\\\u64e6\", \"vacuum and mop\"], \"default\": \"vacuum and mop\", \"description\": \"\\'vacuum and mop\\' means vacuum and mop the floor at the same time, \\'vacuum only\\' is only vacuum, in Chinese, \\'\\\\u626b\\' is \\'vacuum only\\', \\'\\\\u6e05\\\\u626b\\' is \\'vacuum and mop\\'\"}, \"total_count\": {\"type\": \"number\", \"default\": 1, \"description\": \"The total count of the operation that is repeated within a single action.\"}, \"special_mode\": {\"type\": \"string\", \"enum\": [\"local\", \"custom\"], \"description\": \"for local clean or custom clean\"}}, \"required\": [\"action\", \"tool\"]}}, {\"name\": \"do_not_or_skip_clean\", \"description\": \"This API is used when the user only requests not or skip to clean a certain area.\", \"parameters\": {\"type\": \"object\", \"properties\": {\"location\": {\"type\": \"string\", \"description\": \"Fill in the description of the location from the user request word for word, using the same language as in the user\\'s description of the location.\"}}, \"required\": [\"location\"]}}, {\"name\": \"schedule_operation\", \"description\": \"create clean task, or query or delete scheduled clean tasks. (other task not supported)\", \"parameters\": {\"type\": \"object\", \"properties\": {\"operation_type\": {\"type\": \"string\", \"enum\": [\"create\", \"query\", \"delete\"]}, \"clean_action\": {\"type\": \"string\", \"enum\": [\"start\", \"stop\", \"pause\", \"resume\"]}, \"clean_tool\": {\"type\": \"string\", \"enum\": [\"vacuum only/\\\\u626b\", \"mop only/\\\\u62d6/\\\\u64e6\", \"vacuum and mop\"], \"default\": \"vacuum and mop\", \"description\": \"\\'vacuum and mop\\' refers to both vacuuming and mopping the floor.\"}, \"total_count\": {\"type\": \"number\", \"default\": 1, \"description\": \"The total count of the operation that is repeated within a single action.\"}, \"location\": {\"type\": \"string\", \"description\": \"fill the Description text of the location in the user request here, without excessive transformation, ideally word for word.\"}, \"time\": {\"type\": \"string\", \"description\": \"fill the description text of the time in the user request here, without excessive transformation, ideally word for word.\"}, \"index_from\": {\"type\": \"integer\", \"description\": \"the beginning index of the schedule, 1 for newest/recent/first, 2 for second recent, -1 for last/final, -2 for the second-to-last item, and so on\"}, \"index_to\": {\"type\": \"integer\", \"description\": \"the end index of the schedule, 1 for newest/recent/first, 2 for second recent, -1 for last/final, -2 for the second-to-last item, and so on\"}, \"relative\": {\"type\": \"string\", \"enum\": [\"next\", \"previous\"]}}, \"required\": [\"operation_type\"]}}, {\"name\": \"move\", \"description\": \"perform a move operation\", \"parameters\": {\"type\": \"object\", \"properties\": {\"location\": {\"type\": \"string\", \"description\": \"location description in the user request\"}}, \"required\": [\"location\"]}, \"required\": [\"location\"]}, {\"name\": \"set_object_property\", \"description\": \"change sensors or peripherals state\", \"parameters\": {\"type\": \"object\", \"properties\": {\"property_name\": {\"type\": \"string\", \"description\": \"vaccum robot properties\", \"enum\": [\"LED/\\\\u706f\", \"suction power\", \"water flow and scrub intensity/\\\\u6c34\\\\u91cf\\\\u548c\\\\u64e6\\\\u5730\\\\u529b\\\\u5ea6\", \"carpet boost/\\\\u5730\\\\u6bef\\\\u589e\\\\u538b\", \"Route/\\\\u8def\\\\u7ebf\\\\u504f\\\\u597d\", \"mop wash mode/\\\\u6d17\\\\u5e03\\\\u6a21\\\\u5f0f\", \"volume/\\\\u97f3\\\\u91cf\", \"auto collect dust/auto emptying/\\\\u81ea\\\\u52a8\\\\u96c6\\\\u5c18\", \"mop wash mode/\\\\u6d17\\\\u5e03\\\\u6a21\\\\u5f0f\", \"working level/\\\\u5de5\\\\u4f5c\\\\u6863\\\\u4f4d/\\\\u6863\\\\u4f4d\", \"clean mode/vacuum or mop mode/\\\\u626b\\\\u62d6\\\\u6a21\\\\u5f0f\"]}, \"property_value\": {\"type\": \"string or integer\", \"description\": \"the property value, details in value table\", \"value_table\": [{\"property_name\": \"LED/\\\\u706f\", \"property_values\": {\"proper nouns\": [\"on\", \"off\"]}}, {\"property_name\": \"suction power\", \"property_values\": {\"proper nouns\": [\"Quiet/\\\\u5b89\\\\u9759/lowest\", \"Balanced/\\\\u6807\\\\u51c6/lower\", \"Turbo/\\\\u5f3a\\\\u529b/medium\", \"Max/higher\", \"Max+/highest\"], \"scales\": [1, 2, 3, 4, 5], \"relational terms\": [\"turn up\", \"turn down\"]}}, {\"property_name\": \"water flow and scrub intensity/\\\\u6c34\\\\u91cf\\\\u548c\\\\u64e6\\\\u5730\\\\u529b\\\\u5ea6\", \"property_values\": {\"proper nouns\": [\"mild/\\\\u8f7b\\\\u67d4\", \"moderate/\\\\u6807\\\\u51c6\", \"intense/\\\\u5f3a\\\\u529b\"], \"scales\": [1, 2, 3], \"relational terms\": [\"turn up\", \"turn down\"]}}, {\"property_name\": \"carpet boost/\\\\u5730\\\\u6bef\\\\u589e\\\\u538b\", \"property_values\": {\"proper nouns\": [\"on\", \"off\"]}}, {\"property_name\": \"Route/\\\\u8def\\\\u7ebf\\\\u504f\\\\u597d\", \"property_values\": {\"proper nouns\": [\"fast/\\\\u5feb\\\\u901f\", \"standard/\\\\u65e5\\\\u5e38/normal\", \"deep/\\\\u7cbe\\\\u7ec6\\\\u64e6\\\\u5730/slower\", \"deep plus/\\\\u6df1\\\\u5ea6\\\\u6162\\\\u62d6/slowest\"], \"scales\": [1, 2, 3, 4], \"relational terms\": [\"turn up\", \"turn down\"]}}, {\"property_name\": \"mop wash mode/\\\\u6d17\\\\u5e03\\\\u6a21\\\\u5f0f\", \"property_values\": {\"proper nouns\": [\"by section/room\", \"by time: <time description>\"]}}, {\"property_name\": \"volume/\\\\u97f3\\\\u91cf\", \"property_values\": {\"proper nouns\": [\"mute on\", \"mute off\", \"minimum\", \"maximum\"], \"range\": {\"minimum\": 1, \"maximum\": 100}, \"relational terms\": [\"turn up\", \"turn down\"]}}, {\"property_name\": \"auto collect dust/auto emptying/\\\\u81ea\\\\u52a8\\\\u96c6\\\\u5c18\", \"property_values\": {\"proper nouns\": [\"on\", \"off\"]}}, {\"property_name\": \"working level/\\\\u5de5\\\\u4f5c\\\\u6863\\\\u4f4d/\\\\u6863\\\\u4f4d\", \"property_values\": {\"proper nouns\": [\"low\", \"medium\", \"high\"], \"scales\": [1, 2, 3], \"relational terms\": [\"turn up\", \"turn down\"]}}, {\"property_name\": \"clean mode/vacuum or mop mode/\\\\u626b\\\\u62d6\\\\u6a21\\\\u5f0f\", \"property_values\": {\"relational terms\": [\"vacuum only\", \"mop only\", \"vacuum and mop\"]}}]}}, \"required\": [\"property_name\", \"property_value\"]}, \"required\": [\"property_name\", \"property_value\"]}, {\"name\": \"follow_me\", \"description\": \"instruct the robot to follow the user\", \"parameters\": {\"type\": \"string\", \"enum\": [\"start\", \"stop\"], \"properties\": {}, \"required\": []}}, {\"name\": \"go_away\", \"description\": \"instruct the robot to go away or do other things first\", \"parameters\": {\"type\": \"object\", \"properties\": {}, \"required\": []}}, {\"name\": \"get_property\", \"description\": \"get robot property\", \"parameters\": {\"type\": \"object\", \"properties\": {\"property_name\": {\"type\": \"string\", \"description\": \"vaccum robot properties\", \"enum\": [\"LED/\\\\u706f\", \"suction power\", \"water flow and scrub intensity/\\\\u6c34\\\\u91cf\\\\u548c\\\\u64e6\\\\u5730\\\\u529b\\\\u5ea6\", \"carpet boost/\\\\u5730\\\\u6bef\\\\u589e\\\\u538b\", \"Route/\\\\u8def\\\\u7ebf\\\\u504f\\\\u597d\", \"filter\", \"main brush\", \"side brush\", \"sensors\", \"mop\", \"dust bag\", \"floor cleaning solution\", \"current location\", \"remaining battery power\", \"freshwater tank/water tank\", \"wastewater tank\", \"volume/\\\\u97f3\\\\u91cf\", \"all consumables\", \"High-speed maintenance brush/\\\\u81ea\\\\u6e05\\\\u6d01\\\\u5237\", \"Water filter/\\\\u6e05\\\\u6d01\\\\u69fd\\\\u6ee4\\\\u7f51\", \"list features/self-introduction\"]}}, \"required\": []}}, {\"name\": \"upgrade_firmware\", \"description\": \"Upgrade firmware.\", \"parameters\": {\"type\": \"object\", \"properties\": {}, \"required\": []}}, {\"name\": \"dock_operation\", \"description\": \"api for the features of vacuum robot dock\", \"parameters\": {\"type\": \"object\", \"properties\": {\"action\": {\"type\": \"string\", \"enum\": [\"start\", \"stop\", \"pause\", \"resume\"]}, \"operation_type\": {\"type\": \"string\", \"enum\": [\"charge battery\", \"come down\", \"collect dust/\\\\u96c6\\\\u5c18\", \"wash mop\", \"drying mop\", \"back to\"], \"description\": \"\\'charge battery\\' means sending the robot to the dock to recharge. \\'come down\\' instructs the vacuum robot to descend from the dock. \\'wash mop\\' instructs the vacuum robot to clean its attached mop. \\'back to\\' means instructs robot to go back to dock.\"}}, \"required\": [\"operation_type\"]}, \"required\": [\"operation_type\"]}, {\"name\": \"mapping\", \"description\": \"api for building map\", \"parameters\": {\"type\": \"object\", \"properties\": {\"action\": {\"type\": \"string\", \"enum\": [\"start\", \"stop\", \"pause\", \"resume\"]}}, \"required\": [\"action\"]}}]',\n 'conversations': [{'from': 'human', 'value': '重新启动绘图程序。'},\n  {'from': 'function_call',\n   'value': '{\"name\": \"mapping\", \"arguments\": {\"action\": \"start\"}}'}]}"
     },
     "execution_count": 43,
     "metadata": {},
     "output_type": "execute_result"
    }
   ],
   "source": [
    "dev_data_new[0] "
   ],
   "metadata": {
    "collapsed": false,
    "ExecuteTime": {
     "end_time": "2024-01-25T11:40:40.713241746Z",
     "start_time": "2024-01-25T11:40:40.684938576Z"
    }
   },
   "id": "a4f6b2ecd6e04015"
  },
  {
   "cell_type": "code",
   "execution_count": 44,
   "outputs": [],
   "source": [
    "with open('ToolAlpaca/data/formatted_data/robocontrol_dataset_testset_dpo.json', 'w') as file:\n",
    "    data = json.dump(dev_data_dpo_new, file)\n",
    "with open('ToolAlpaca/data/formatted_data/robocontrol_dataset_testset_dpo.json', 'r') as f:\n",
    "    data = json.load(f)\n",
    "for i in range(len(data)):\n",
    "    assert data[i] == dev_data_dpo_new[i]"
   ],
   "metadata": {
    "collapsed": false,
    "ExecuteTime": {
     "end_time": "2024-01-25T11:40:50.781074860Z",
     "start_time": "2024-01-25T11:40:50.047937356Z"
    }
   },
   "id": "aaf7acdb1f7efecf"
  },
  {
   "cell_type": "code",
   "execution_count": 45,
   "outputs": [
    {
     "data": {
      "text/plain": "Generating train split: 0 examples [00:00, ? examples/s]",
      "application/vnd.jupyter.widget-view+json": {
       "version_major": 2,
       "version_minor": 0,
       "model_id": "9cd92d44a68644d18be88550330db646"
      }
     },
     "metadata": {},
     "output_type": "display_data"
    }
   ],
   "source": [
    "a = load_dataset(path='json', data_files='ToolAlpaca/data/formatted_data/robocontrol_dataset_testset_dpo.json')"
   ],
   "metadata": {
    "collapsed": false,
    "ExecuteTime": {
     "end_time": "2024-01-25T11:40:52.698453277Z",
     "start_time": "2024-01-25T11:40:51.529105937Z"
    }
   },
   "id": "6be923c3fadbab9c"
  },
  {
   "cell_type": "code",
   "execution_count": 46,
   "outputs": [
    {
     "data": {
      "text/plain": "[{'from': 'function_call',\n  'value': '{\"name\": \"general_control\", \"arguments\": {\"action\": \"resume\"}}'},\n {'from': 'function_call',\n  'value': '{\"name\": \"general_control\", \"arguments\": {\"action\": \"start\"}}'}]"
     },
     "execution_count": 46,
     "metadata": {},
     "output_type": "execute_result"
    }
   ],
   "source": [
    "json.loads(a['train'][0]['conversations'][1]['value'])"
   ],
   "metadata": {
    "collapsed": false,
    "ExecuteTime": {
     "end_time": "2024-01-25T11:40:54.784400261Z",
     "start_time": "2024-01-25T11:40:54.771208111Z"
    }
   },
   "id": "1a8850a4822da8a2"
  },
  {
   "cell_type": "code",
   "execution_count": 47,
   "outputs": [],
   "source": [
    "# 真正的分析"
   ],
   "metadata": {
    "collapsed": false,
    "ExecuteTime": {
     "end_time": "2024-01-25T06:35:48.034663404Z",
     "start_time": "2024-01-25T06:35:47.981964338Z"
    }
   },
   "id": "5715d04c4cb9317f"
  },
  {
   "cell_type": "code",
   "execution_count": 124,
   "outputs": [],
   "source": [
    "# dpo "
   ],
   "metadata": {
    "collapsed": false,
    "ExecuteTime": {
     "end_time": "2024-01-29T07:19:08.636362399Z",
     "start_time": "2024-01-29T07:19:08.573653603Z"
    }
   },
   "id": "2b2fd25a9ce37d05"
  },
  {
   "cell_type": "code",
   "execution_count": 120,
   "outputs": [
    {
     "name": "stdout",
     "output_type": "stream",
     "text": [
      "3dpo 2test\n"
     ]
    }
   ],
   "source": [
    "results = cal_lora(dpo_generated_results, '3dpo', '2test')"
   ],
   "metadata": {
    "collapsed": false,
    "ExecuteTime": {
     "end_time": "2024-01-29T06:41:08.059886278Z",
     "start_time": "2024-01-29T06:41:07.993219272Z"
    }
   },
   "id": "ec834aaa5911e7c0"
  },
  {
   "cell_type": "code",
   "execution_count": 121,
   "outputs": [
    {
     "data": {
      "text/plain": "                       num  zero_error_count  zero_error_rate  intent_sum  \\\nmodel_name set_name                                                         \n3dpo       2test     100.0             100.0              1.0        94.0   \n\n                     intent_mean  slot_sum  slot_mean  both_mean  \nmodel_name set_name                                               \n3dpo       2test            0.94      72.0   0.765957       0.72  ",
      "text/html": "<div>\n<style scoped>\n    .dataframe tbody tr th:only-of-type {\n        vertical-align: middle;\n    }\n\n    .dataframe tbody tr th {\n        vertical-align: top;\n    }\n\n    .dataframe thead th {\n        text-align: right;\n    }\n</style>\n<table border=\"1\" class=\"dataframe\">\n  <thead>\n    <tr style=\"text-align: right;\">\n      <th></th>\n      <th></th>\n      <th>num</th>\n      <th>zero_error_count</th>\n      <th>zero_error_rate</th>\n      <th>intent_sum</th>\n      <th>intent_mean</th>\n      <th>slot_sum</th>\n      <th>slot_mean</th>\n      <th>both_mean</th>\n    </tr>\n    <tr>\n      <th>model_name</th>\n      <th>set_name</th>\n      <th></th>\n      <th></th>\n      <th></th>\n      <th></th>\n      <th></th>\n      <th></th>\n      <th></th>\n      <th></th>\n    </tr>\n  </thead>\n  <tbody>\n    <tr>\n      <th>3dpo</th>\n      <th>2test</th>\n      <td>100.0</td>\n      <td>100.0</td>\n      <td>1.0</td>\n      <td>94.0</td>\n      <td>0.94</td>\n      <td>72.0</td>\n      <td>0.765957</td>\n      <td>0.72</td>\n    </tr>\n  </tbody>\n</table>\n</div>"
     },
     "execution_count": 121,
     "metadata": {},
     "output_type": "execute_result"
    }
   ],
   "source": [
    "results.groupby(['model_name', 'set_name']).apply(cal_accuracy)"
   ],
   "metadata": {
    "collapsed": false,
    "ExecuteTime": {
     "end_time": "2024-01-29T06:41:15.108165410Z",
     "start_time": "2024-01-29T06:41:15.093168582Z"
    }
   },
   "id": "cdf28b77201fd09d"
  },
  {
   "cell_type": "code",
   "execution_count": 105,
   "outputs": [
    {
     "data": {
      "text/plain": "hard_examples  intent  slot  hard_type             \nTrue           0       0     should_hit_but_not_hit     2\n                             should_not_hit_but_hit     1\n               1       0     intent_1_slot_0           22\nName: count, dtype: int64"
     },
     "execution_count": 105,
     "metadata": {},
     "output_type": "execute_result"
    }
   ],
   "source": [
    "negative_samples = [i for i in range(len(dev_data)) if ((dev_data[i]['hit']==False) and (i < 100))]\n",
    "results = results.set_index('index')\n",
    "results['hit'] = True\n",
    "results.loc[negative_samples, 'hit'] = False\n",
    "results = results.reset_index()\n",
    "shouldnot_hit_but_hit = results[(results['hit']==False)&(results['intent']==0)]['index'].tolist()\n",
    "should_hit_but_not_hit = results[(results['prediction']=='\\n no corresponding tools.')&(results['target']!='\\n no corresponding tools.')]['index'].tolist()\n",
    "intent_1_slot_0 = results[(results['intent']==1)&(results['slot']==0)]['index'].tolist()\n",
    "hard_examples = shouldnot_hit_but_hit + should_hit_but_not_hit + intent_1_slot_0\n",
    "results['hard_examples'] = False\n",
    "results['hard_type'] = None\n",
    "results = results.set_index('index')\n",
    "results.loc[hard_examples, 'hard_examples'] = True\n",
    "results.loc[shouldnot_hit_but_hit, 'hard_type'] = 'should_not_hit_but_hit'\n",
    "results.loc[should_hit_but_not_hit, 'hard_type'] = 'should_hit_but_not_hit'\n",
    "results.loc[intent_1_slot_0, 'hard_type'] = 'intent_1_slot_0'\n",
    "results = results.reset_index()\n",
    "results.groupby(['hard_examples', 'intent', 'slot'])['hard_type'].value_counts()"
   ],
   "metadata": {
    "collapsed": false,
    "ExecuteTime": {
     "end_time": "2024-01-29T05:37:39.904375835Z",
     "start_time": "2024-01-29T05:37:39.840530049Z"
    }
   },
   "id": "ce3500fdf75b37f5"
  },
  {
   "cell_type": "code",
   "execution_count": 107,
   "outputs": [
    {
     "name": "stdout",
     "output_type": "stream",
     "text": [
      "index: 10\n",
      "query: user_defined_task:[Morning Routine|Evening Wind Down]$$Begin Nighttime Ritual\n",
      "target: \n",
      " no corresponding tools.\n",
      "prediction: \n",
      " no corresponding tools.\n",
      "index: 47\n",
      "query: user_defined_task:[例行巡查|紧急响应]$$实施安静模式\n",
      "target: \n",
      " no corresponding tools.\n",
      "prediction: general_control\n",
      "{\"action\": \"start\", \"user_defined_task\": \"紧急响应\"}\n"
     ]
    }
   ],
   "source": [
    "final = results\n",
    "for i in [i for i in range(len(dev_data)) if dev_data[i]['hit']==False]:\n",
    "    if i < 100:\n",
    "        print('index:', final[(final['model_name']=='1finetune') & (final['index']==i)].iloc[0]['index'])\n",
    "        print('query:', final[(final['model_name']=='1finetune') & (final['index']==i)].iloc[0]['query'])\n",
    "        print('target:', final[(final['model_name']=='1finetune') & (final['index']==i)].iloc[0]['target'])\n",
    "        print('prediction:', final[(final['model_name']=='1finetune') & (final['index']==i)].iloc[0]['prediction'])"
   ],
   "metadata": {
    "collapsed": false,
    "ExecuteTime": {
     "end_time": "2024-01-29T05:39:22.786925059Z",
     "start_time": "2024-01-29T05:39:22.716026089Z"
    }
   },
   "id": "1d2d51e5f98749d2"
  },
  {
   "cell_type": "code",
   "execution_count": 108,
   "outputs": [
    {
     "name": "stdout",
     "output_type": "stream",
     "text": [
      "index: 2\n",
      "query: 检查所有刷子\n",
      "target: get_property\n",
      "{\"property_name\": \"all consumables\"}\n",
      "prediction: get_property\n",
      "{\"property_name\": \"main brush\"}\n",
      "index: 4\n",
      "query: 预约下周三早上清扫洗衣房下的洗衣机\n",
      "target: schedule_operation\n",
      "{\"operation_type\": \"create\", \"action\": \"start\", \"tool\": \"vacuum and mop\", \"total_count\": 1, \"location\": \"洗衣房下的洗衣机\", \"time\": \"下周三早上\"}\n",
      "prediction: schedule_operation\n",
      "{\"operation_type\": \"create\", \"location\": \"洗衣房下的洗衣机\"}\n",
      "index: 7\n",
      "query: Remove next cleaning task for the home office\n",
      "target: schedule_operation\n",
      "{\"operation_type\": \"delete\", \"location\": \"home office\", \"relative\": \"next\"}\n",
      "prediction: schedule_operation\n",
      "{\"operation_type\": \"delete\", \"location\": \"home office\"}\n",
      "index: 13\n",
      "query: Check scheduled cleaning for the hobby room next week.\n",
      "target: schedule_operation\n",
      "{\"operation_type\": \"query\", \"location\": \"hobby room\", \"time\": \"next week\"}\n",
      "prediction: schedule_operation\n",
      "{\"operation_type\": \"query\", \"location\": \"hobby room next week\"}\n",
      "index: 17\n",
      "query: Lock onto the standard cleaning mode for everyday freshness.\n",
      "target: set_object_property\n",
      "{\"property_name\": \"clean mode/vacuum or mop mode/扫拖模式\", \"property_value\": \"standard/日常/normal\"}\n",
      "prediction: set_object_property\n",
      "{\"property_name\": \"clean mode/vacuum or mop mode/扫拖模式\", \"property_value\": \"standard\"}\n",
      "index: 21\n",
      "query: 阳台的左侧和右侧各扫一次。\n",
      "target: clean\n",
      "{\"action\": \"start\", \"location\": \"阳台的右侧\", \"tool\": \"vacuum only/扫\"}\n",
      "prediction: clean\n",
      "{\"action\": \"start\", \"location\": \"阳台的左侧和右侧\", \"tool\": \"vacuum only/扫\"}\n",
      "index: 28\n",
      "query: Start cleaning the floor in the entertainment room.\n",
      "target: clean\n",
      "{\"action\": \"start\", \"location\": \"entertainment room\", \"tool\": \"vacuum and mop\"}\n",
      "prediction: clean\n",
      "{\"action\": \"start\", \"location\": \"the floor in the entertainment room\", \"tool\": \"vacuum and mop\"}\n",
      "index: 38\n",
      "query: Begin the sweeping in the pantry.\n",
      "target: clean\n",
      "{\"action\": \"start\", \"location\": \"pantry\", \"tool\": \"vacuum only/扫\"}\n",
      "prediction: clean\n",
      "{\"action\": \"start\", \"location\": \"the pantry\", \"tool\": \"vacuum only/扫\"}\n",
      "index: 39\n",
      "query: 高速维护刷状态\n",
      "target: get_property\n",
      "{\"property_name\": \"High-speed maintenance brush/自清洁刷\"}\n",
      "prediction: get_property\n",
      "{\"property_name\": \"High-speed maintenance brush\"}\n",
      "index: 40\n",
      "query: 清洁洗衣房，并注意洗衣机下方。\n",
      "target: clean\n",
      "{\"action\": \"start\", \"location\": \"洗衣房\", \"tool\": \"vacuum and mop\"}\n",
      "prediction: clean\n",
      "{\"action\": \"start\", \"location\": \"洗衣房,洗衣机下方\", \"tool\": \"vacuum and mop\"}\n",
      "index: 41\n",
      "query: Schedule cleaning for living room and study room every Wednesday and Friday at 4 PM\n",
      "target: schedule_operation\n",
      "{\"operation_type\": \"create\", \"action\": \"start\", \"location\": \"living room and study room\", \"time\": \"every Wednesday and Friday at 4 PM\"}\n",
      "prediction: schedule_operation\n",
      "{\"operation_type\": \"create\", \"location\": \"living room and study room every Wednesday and Friday at 4 PM\"}\n",
      "index: 49\n",
      "query: 回到工作\n",
      "target: general_control\n",
      "{\"action\": \"resume\"}\n",
      "prediction: general_control\n",
      "{\"action\": \"start\"}\n",
      "index: 60\n",
      "query: 清扫电竞房，并确保显示器下方也得到清洁。\n",
      "target: clean\n",
      "{\"action\": \"start\", \"location\": \"电竞房\", \"tool\": \"vacuum and mop\"}\n",
      "prediction: clean\n",
      "{\"action\": \"start\", \"location\": \"电竞房显示器下方\", \"tool\": \"vacuum and mop\"}\n",
      "index: 65\n",
      "query: 预约下周一9点清扫全身镜子\n",
      "target: schedule_operation\n",
      "{\"operation_type\": \"create\", \"action\": \"start\", \"tool\": \"vacuum and mop\", \"total_count\": 1, \"location\": \"全身镜子\", \"time\": \"下周一9点\"}\n",
      "prediction: schedule_operation\n",
      "{\"operation_type\": \"create\", \"location\": \"全身镜子\", \"time\": \"下周一9点\"}\n",
      "index: 71\n",
      "query: Pause your current cleaning task in the study room.\n",
      "target: clean\n",
      "{\"action\": \"pause\", \"location\": \"study room\", \"tool\": \"vacuum and mop\"}\n",
      "prediction: clean\n",
      "{\"action\": \"pause\", \"location\": \"study room\"}\n",
      "index: 72\n",
      "query: 清扫走廊，并确保灯下面也得到清洁。\n",
      "target: clean\n",
      "{\"action\": \"start\", \"location\": \"走廊\", \"tool\": \"vacuum and mop\"}\n",
      "prediction: clean\n",
      "{\"action\": \"start\", \"location\": \"走廊的灯下面\", \"tool\": \"vacuum and mop\"}\n",
      "index: 76\n",
      "query: Pause cleaning in the office.\n",
      "target: clean\n",
      "{\"action\": \"pause\", \"location\": \"office\"}\n",
      "prediction: clean\n",
      "{\"action\": \"pause\", \"location\": \"in the office\"}\n",
      "index: 77\n",
      "query: 暂停目前在厨房的清扫工作。\n",
      "target: clean\n",
      "{\"action\": \"pause\", \"location\": \"厨房\", \"tool\": \"vacuum and mop\"}\n",
      "prediction: clean\n",
      "{\"action\": \"pause\", \"location\": \"厨房\", \"tool\": \"vacuum only/扫\"}\n",
      "index: 78\n",
      "query: 高速维护刷是否在正常运作\n",
      "target: get_property\n",
      "{\"property_name\": \"High-speed maintenance brush/自清洁刷\"}\n",
      "prediction: get_property\n",
      "{\"property_name\": \"High-speed maintenance brush\"}\n",
      "index: 80\n",
      "query: Drive the bot at its optimum efficiency level.\n",
      "target: set_object_property\n",
      "{\"property_name\": \"working level/工作档位/档位\", \"property_value\": \"medium\"}\n",
      "prediction: set_object_property\n",
      "{\"property_name\": \"working level/工作档位/档位\", \"property_value\": \"high\"}\n",
      "index: 90\n",
      "query: 预约明天下午四点清扫花园\n",
      "target: schedule_operation\n",
      "{\"operation_type\": \"create\", \"action\": \"start\", \"tool\": \"vacuum and mop\", \"total_count\": 1, \"location\": \"花园\", \"time\": \"明天下午四点\"}\n",
      "prediction: schedule_operation\n",
      "{\"operation_type\": \"create\", \"location\": \"花园\", \"time\": \"明天下午四点\"}\n",
      "index: 95\n",
      "query: 请在餐厅清理完地面后，开始清理橱柜边。\n",
      "target: clean\n",
      "{\"action\": \"start\", \"location\": \"餐厅,橱柜边\", \"tool\": \"vacuum and mop\"}\n",
      "prediction: clean\n",
      "{\"action\": \"start\", \"location\": \"餐厅的橱柜边\", \"tool\": \"vacuum and mop\"}\n"
     ]
    }
   ],
   "source": [
    "for i in range(final[(final['model_name']=='1finetune') & ((final['intent']==1) & (final['slot']==0))].shape[0]):\n",
    "    print('index:', final[(final['model_name']=='1finetune') & ((final['intent']==1) & (final['slot']==0))].iloc[i]['index'])\n",
    "    print('query:', final[(final['model_name']=='1finetune') & ((final['intent']==1) & (final['slot']==0))].iloc[i]['query'])\n",
    "    print('target:', final[(final['model_name']=='1finetune') & ((final['intent']==1) & (final['slot']==0))].iloc[i]['target'])\n",
    "    print('prediction:', final[(final['model_name']=='1finetune') & ((final['intent']==1) & (final['slot']==0))].iloc[i]['prediction'])"
   ],
   "metadata": {
    "collapsed": false,
    "ExecuteTime": {
     "end_time": "2024-01-29T05:39:37.917627412Z",
     "start_time": "2024-01-29T05:39:37.831362407Z"
    }
   },
   "id": "a6d01cd94ee15ba0"
  },
  {
   "cell_type": "code",
   "execution_count": 125,
   "outputs": [],
   "source": [
    "# sft "
   ],
   "metadata": {
    "collapsed": false,
    "ExecuteTime": {
     "end_time": "2024-01-29T07:19:17.525071413Z",
     "start_time": "2024-01-29T07:19:17.481234032Z"
    }
   },
   "id": "913fa66b5f283998"
  },
  {
   "cell_type": "code",
   "execution_count": 23,
   "id": "1486b178-4c74-4903-a82c-0b270972cf8d",
   "metadata": {
    "scrolled": true,
    "ExecuteTime": {
     "end_time": "2024-03-13T09:40:06.765152840Z",
     "start_time": "2024-03-13T09:40:06.721915382Z"
    }
   },
   "outputs": [
    {
     "name": "stdout",
     "output_type": "stream",
     "text": [
      "1finetune 2test\n"
     ]
    }
   ],
   "source": [
    "results = []\n",
    "results.append(cal_lora(generated_results, '1finetune', '2test'))\n",
    "# results.append(cal_lora(train_generated_results, '1finetue', '1train'))\n",
    "results = pd.concat(results, axis=0)\n",
    "results = results.reset_index(drop=True)"
   ]
  },
  {
   "cell_type": "code",
   "execution_count": 37,
   "outputs": [
    {
     "data": {
      "text/plain": "                       num  zero_error_count  zero_error_rate  intent_sum  \\\nmodel_name set_name                                                         \n1finetue   1train    100.0             100.0              1.0        99.0   \n1finetune  2test     100.0             100.0              1.0        97.0   \n\n                     intent_mean  slot_sum  slot_mean  both_mean  \nmodel_name set_name                                               \n1finetue   1train           0.99      98.0   0.989899       0.98  \n1finetune  2test            0.97      86.0   0.886598       0.86  ",
      "text/html": "<div>\n<style scoped>\n    .dataframe tbody tr th:only-of-type {\n        vertical-align: middle;\n    }\n\n    .dataframe tbody tr th {\n        vertical-align: top;\n    }\n\n    .dataframe thead th {\n        text-align: right;\n    }\n</style>\n<table border=\"1\" class=\"dataframe\">\n  <thead>\n    <tr style=\"text-align: right;\">\n      <th></th>\n      <th></th>\n      <th>num</th>\n      <th>zero_error_count</th>\n      <th>zero_error_rate</th>\n      <th>intent_sum</th>\n      <th>intent_mean</th>\n      <th>slot_sum</th>\n      <th>slot_mean</th>\n      <th>both_mean</th>\n    </tr>\n    <tr>\n      <th>model_name</th>\n      <th>set_name</th>\n      <th></th>\n      <th></th>\n      <th></th>\n      <th></th>\n      <th></th>\n      <th></th>\n      <th></th>\n      <th></th>\n    </tr>\n  </thead>\n  <tbody>\n    <tr>\n      <th>1finetue</th>\n      <th>1train</th>\n      <td>100.0</td>\n      <td>100.0</td>\n      <td>1.0</td>\n      <td>99.0</td>\n      <td>0.99</td>\n      <td>98.0</td>\n      <td>0.989899</td>\n      <td>0.98</td>\n    </tr>\n    <tr>\n      <th>1finetune</th>\n      <th>2test</th>\n      <td>100.0</td>\n      <td>100.0</td>\n      <td>1.0</td>\n      <td>97.0</td>\n      <td>0.97</td>\n      <td>86.0</td>\n      <td>0.886598</td>\n      <td>0.86</td>\n    </tr>\n  </tbody>\n</table>\n</div>"
     },
     "execution_count": 37,
     "metadata": {},
     "output_type": "execute_result"
    }
   ],
   "source": [
    "results.groupby(['model_name', 'set_name']).apply(cal_accuracy)"
   ],
   "metadata": {
    "collapsed": false,
    "ExecuteTime": {
     "end_time": "2024-01-22T08:05:36.310632148Z",
     "start_time": "2024-01-22T08:05:36.185014542Z"
    }
   },
   "id": "57e1f35788a01b3b"
  },
  {
   "cell_type": "code",
   "execution_count": 111,
   "outputs": [
    {
     "data": {
      "text/plain": "hard_examples  intent  slot  hard_type             \nTrue           0       0     should_not_hit_but_hit     1\n               1       0     intent_1_slot_0           11\nName: count, dtype: int64"
     },
     "execution_count": 111,
     "metadata": {},
     "output_type": "execute_result"
    }
   ],
   "source": [
    "negative_samples = [i for i in range(len(dev_data)) if ((dev_data[i]['hit']==False) and (i < 100))]\n",
    "results = results.set_index('index')\n",
    "results['hit'] = True\n",
    "results.loc[negative_samples, 'hit'] = False\n",
    "results = results.reset_index()\n",
    "shouldnot_hit_but_hit = results[(results['hit']==False)&(results['intent']==0)]['index'].tolist()\n",
    "should_hit_but_not_hit = results[(results['prediction']=='\\n no corresponding tools.')&(results['target']!='\\n no corresponding tools.')]['index'].tolist()\n",
    "intent_1_slot_0 = results[(results['intent']==1)&(results['slot']==0)]['index'].tolist()\n",
    "hard_examples = shouldnot_hit_but_hit + should_hit_but_not_hit + intent_1_slot_0\n",
    "results['hard_examples'] = False\n",
    "results['hard_type'] = None\n",
    "results = results.set_index('index')\n",
    "results.loc[hard_examples, 'hard_examples'] = True\n",
    "results.loc[shouldnot_hit_but_hit, 'hard_type'] = 'should_not_hit_but_hit'\n",
    "results.loc[should_hit_but_not_hit, 'hard_type'] = 'should_hit_but_not_hit'\n",
    "results.loc[intent_1_slot_0, 'hard_type'] = 'intent_1_slot_0'\n",
    "results = results.reset_index()\n",
    "results.groupby(['hard_examples', 'intent', 'slot'])['hard_type'].value_counts()"
   ],
   "metadata": {
    "collapsed": false,
    "ExecuteTime": {
     "end_time": "2024-01-29T05:41:33.301763999Z",
     "start_time": "2024-01-29T05:41:33.285897209Z"
    }
   },
   "id": "359f93d405f99ae2"
  },
  {
   "cell_type": "code",
   "execution_count": 46,
   "outputs": [
    {
     "name": "stdout",
     "output_type": "stream",
     "text": [
      "index: 10\n",
      "query: user_defined_task:[Morning Routine|Evening Wind Down]$$Begin Nighttime Ritual\n",
      "target: \n",
      "no corresponding tools.\n",
      "prediction: \n",
      "no corresponding tools.\n",
      "index: 47\n",
      "query: user_defined_task:[例行巡查|紧急响应]$$实施安静模式\n",
      "target: \n",
      "no corresponding tools.\n",
      "prediction: set_object_property\n",
      "{\"property_name\": \"suction power\", \"property_value\": \"Quiet/安静/lowest\"}\n"
     ]
    }
   ],
   "source": [
    "final = results\n",
    "for i in [i for i in range(len(dev_data)) if dev_data[i]['hit']==False]:\n",
    "    if i < 100:\n",
    "        print('index:', final[(final['model_name']=='1finetune') & (final['index']==i)].iloc[0]['index'])\n",
    "        print('query:', final[(final['model_name']=='1finetune') & (final['index']==i)].iloc[0]['query'])\n",
    "        print('target:', final[(final['model_name']=='1finetune') & (final['index']==i)].iloc[0]['target'])\n",
    "        print('prediction:', final[(final['model_name']=='1finetune') & (final['index']==i)].iloc[0]['prediction'])"
   ],
   "metadata": {
    "collapsed": false,
    "ExecuteTime": {
     "end_time": "2024-01-22T08:19:17.693654388Z",
     "start_time": "2024-01-22T08:19:17.678421548Z"
    }
   },
   "id": "f99035579940e41d"
  },
  {
   "cell_type": "code",
   "execution_count": 38,
   "id": "ac52cc87-7054-426b-978f-52037ca92f1f",
   "metadata": {
    "ExecuteTime": {
     "end_time": "2024-01-22T08:06:30.600562172Z",
     "start_time": "2024-01-22T08:06:30.555478306Z"
    }
   },
   "outputs": [
    {
     "name": "stdout",
     "output_type": "stream",
     "text": [
      "index: 2\n",
      "query: 检查所有刷子\n",
      "target: get_property\n",
      "{\"property_name\": \"all consumables\"}\n",
      "prediction: get_property\n",
      "{\"property_name\": \"main brush\"}\n",
      "index: 7\n",
      "query: Remove next cleaning task for the home office\n",
      "target: schedule_operation\n",
      "{\"operation_type\": \"delete\", \"location\": \"home office\", \"relative\": \"next\"}\n",
      "prediction: schedule_operation\n",
      "{\"operation_type\": \"delete\", \"location\": \"home office\", \"index_from\": 1, \"index_to\": 1}\n",
      "index: 8\n",
      "query: See recent cleaning history for the bathroom\n",
      "target: schedule_operation\n",
      "{\"operation_type\": \"query\", \"location\": \"bathroom\"}\n",
      "prediction: schedule_operation\n",
      "{\"operation_type\": \"query\", \"location\": \"bathroom\", \"relative\": \"previous\"}\n",
      "index: 21\n",
      "query: 阳台的左侧和右侧各扫一次。\n",
      "target: clean\n",
      "{\"action\": \"start\", \"location\": \"阳台的右侧\", \"tool\": \"vacuum only/扫\"}\n",
      "prediction: clean\n",
      "{\"action\": \"start\", \"location\": \"阳台的左侧和右侧\", \"tool\": \"vacuum only/扫\"}\n",
      "index: 29\n",
      "query: Heighten the water output for a deeper mop cleanse.\n",
      "target: set_object_property\n",
      "{\"property_name\": \"water flow and scrub intensity/水量和擦地力度\", \"property_value\": \"turn up\"}\n",
      "prediction: set_object_property\n",
      "{\"property_name\": \"water flow and scrub intensity/水量和擦地力度\", \"property_value\": \"intense/强力\"}\n",
      "index: 59\n",
      "query: Raise the bot's volume for clear audible alerts.\n",
      "target: set_object_property\n",
      "{\"property_name\": \"volume/音量\", \"property_value\": \"turn up\"}\n",
      "prediction: set_object_property\n",
      "{\"property_name\": \"volume/音量\", \"property_value\": \"maximum\"}\n",
      "index: 76\n",
      "query: Pause cleaning in the office.\n",
      "target: clean\n",
      "{\"action\": \"pause\", \"location\": \"office\"}\n",
      "prediction: clean\n",
      "{\"action\": \"pause\", \"location\": \"office\", \"tool\": \"vacuum and mop\"}\n",
      "index: 80\n",
      "query: Drive the bot at its optimum efficiency level.\n",
      "target: set_object_property\n",
      "{\"property_name\": \"working level/工作档位/档位\", \"property_value\": \"medium\"}\n",
      "prediction: set_object_property\n",
      "{\"property_name\": \"working level/工作档位/档位\", \"property_value\": \"high\"}\n",
      "index: 87\n",
      "query: 健身房的跑步机下方需要清理。\n",
      "target: clean\n",
      "{\"action\": \"start\", \"location\": \"健身房的跑步机下方\", \"tool\": \"vacuum only/扫\"}\n",
      "prediction: clean\n",
      "{\"action\": \"start\", \"location\": \"健身房的跑步机下方\", \"tool\": \"vacuum and mop\"}\n",
      "index: 93\n",
      "query: 预约明天上午清扫电玩室的电竞椅和电视\n",
      "target: schedule_operation\n",
      "{\"operation_type\": \"create\", \"location\": \"电玩室的电竞椅和电视\", \"time\": \"明天上午\"}\n",
      "prediction: schedule_operation\n",
      "{\"operation_type\": \"create\", \"action\": \"start\", \"tool\": \"vacuum and mop\", \"total_count\": 1, \"location\": \"电玩室的电竞椅和电视\", \"time\": \"明天上午\"}\n",
      "index: 95\n",
      "query: 请在餐厅清理完地面后，开始清理橱柜边。\n",
      "target: clean\n",
      "{\"action\": \"start\", \"location\": \"餐厅,橱柜边\", \"tool\": \"vacuum and mop\"}\n",
      "prediction: clean\n",
      "{\"action\": \"start\", \"location\": \"餐厅\", \"tool\": \"vacuum and mop\"}\n"
     ]
    }
   ],
   "source": [
    "for i in range(final[(final['model_name']=='1finetune') & ((final['intent']==1) & (final['slot']==0))].shape[0]):\n",
    "    print('index:', final[(final['model_name']=='1finetune') & ((final['intent']==1) & (final['slot']==0))].iloc[i]['index'])\n",
    "    print('query:', final[(final['model_name']=='1finetune') & ((final['intent']==1) & (final['slot']==0))].iloc[i]['query'])\n",
    "    print('target:', final[(final['model_name']=='1finetune') & ((final['intent']==1) & (final['slot']==0))].iloc[i]['target'])\n",
    "    print('prediction:', final[(final['model_name']=='1finetune') & ((final['intent']==1) & (final['slot']==0))].iloc[i]['prediction'])"
   ]
  },
  {
   "cell_type": "code",
   "execution_count": 76,
   "id": "a90c438a-14a9-4b4f-af1d-bbd3caa9f394",
   "metadata": {},
   "outputs": [
    {
     "data": {
      "text/plain": [
       "[{'name': 'clean',\n",
       "  'description': 'Initiate a task of an immediate or unscheduled cleaning or partial clean, i.e., cleaning a part while leaving another part untouched.',\n",
       "  'parameters': {'type': 'object',\n",
       "   'properties': {'action': {'type': 'string',\n",
       "     'enum': ['start', 'stop', 'pause', 'resume']},\n",
       "    'location': {'type': 'string',\n",
       "     'description': \"Fill in the description of the location from the user request word for word, using the same language as in the user's description of the location.\"},\n",
       "    'tool': {'type': 'string',\n",
       "     'enum': ['vacuum only/扫', 'mop only/拖/擦', 'vacuum and mop'],\n",
       "     'default': 'vacuum and mop',\n",
       "     'description': \"'vacuum and mop' means vacuum and mop the floor at the same time, 'vacuum only' is only vacuum, in Chinese, '扫' is 'vacuum only', '清扫' is 'vacuum and mop'\"},\n",
       "    'total_count': {'type': 'number',\n",
       "     'default': 1,\n",
       "     'description': 'The total count of the operation that is repeated within a single action.'},\n",
       "    'special_mode': {'type': 'string',\n",
       "     'enum': ['local', 'custom'],\n",
       "     'description': 'for local clean or custom clean'}},\n",
       "   'required': ['action', 'tool']}}]"
      ]
     },
     "execution_count": 76,
     "metadata": {},
     "output_type": "execute_result"
    }
   ],
   "source": [
    "[tool for tool in tools if tool['name'] == 'clean']"
   ]
  }
 ],
 "metadata": {
  "kernelspec": {
   "display_name": "Python 3 (ipykernel)",
   "language": "python",
   "name": "python3"
  },
  "language_info": {
   "codemirror_mode": {
    "name": "ipython",
    "version": 3
   },
   "file_extension": ".py",
   "mimetype": "text/x-python",
   "name": "python",
   "nbconvert_exporter": "python",
   "pygments_lexer": "ipython3",
   "version": "3.10.13"
  }
 },
 "nbformat": 4,
 "nbformat_minor": 5
}
