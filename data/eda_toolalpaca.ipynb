{
 "cells": [
  {
   "cell_type": "code",
   "execution_count": 1,
   "outputs": [],
   "source": [
    "import os\n",
    "import json\n",
    "from openai import OpenAI\n",
    "\n",
    "os.environ[\"OPENAI_BASE_URL\"] = \"http://0.0.0.0:8000/v1\" # 替换为本地主机 IP\n",
    "os.environ[\"OPENAI_API_KEY\"] = \"0\" "
   ],
   "metadata": {
    "collapsed": false,
    "ExecuteTime": {
     "end_time": "2024-01-23T12:07:18.207302966Z",
     "start_time": "2024-01-23T12:07:17.730539316Z"
    }
   },
   "id": "3e41e2f77adc3adb"
  },
  {
   "cell_type": "code",
   "execution_count": 13,
   "outputs": [],
   "source": [
    "client = OpenAI()"
   ],
   "metadata": {
    "collapsed": false,
    "ExecuteTime": {
     "end_time": "2024-01-23T12:12:46.551085236Z",
     "start_time": "2024-01-23T12:12:46.532175138Z"
    }
   },
   "id": "1dca7476e50f0a4b"
  },
  {
   "cell_type": "code",
   "execution_count": 14,
   "outputs": [],
   "source": [
    "tools = '[{\"name\": \"sendHttpRequest\", \"description\": \"Send an HTTP request with the specified method, headers, and data to the Httpbin API for testing purposes.\", \"parameters\": {\"type\": \"object\", \"properties\": {\"method\": {\"type\": \"string\", \"description\": \"One of: [GET, POST, PUT, DELETE, HEAD, PATCH]. The HTTP method to use (GET, POST, PUT, DELETE, HEAD, or PATCH).\"}, \"url\": {\"type\": \"string\", \"description\": \"The endpoint URL to send the request to.\"}, \"headers\": {\"type\": \"Object\", \"description\": \"A key-value pair of headers to include in the request.\"}, \"data\": {\"type\": \"Object\", \"description\": \"A key-value pair of data to include in the request body.\"}}, \"required\": [\"method\", \"url\"]}, \"output\": \"Successful response.\", \"format\": \"application/json\", \"structure\": \"Object{response: Object{status_code, headers: Object, body}}\"}, {\"name\": \"getClientRequestData\", \"description\": \"Retrieve the client\\'s request data, including headers, form data, uploaded files, and cookies.\", \"parameters\": {\"type\": \"object\", \"properties\": {\"url\": {\"type\": \"string\", \"description\": \"The endpoint URL to send the request to.\"}}, \"required\": [\"url\"]}, \"output\": \"Successful response.\", \"format\": \"application/json\", \"structure\": \"Object{requestData: Object{headers: Object, form: Object, files: Object, cookies: Object}}\"}, {\"name\": \"testProxyHeaders\", \"description\": \"Send a request to the Httpbin API\\'s proxy headers testing endpoint.\", \"parameters\": {\"type\": \"object\", \"properties\": {\"url\": {\"type\": \"string\", \"description\": \"The endpoint URL to send the request to.\"}, \"headers\": {\"type\": \"Object\", \"description\": \"A key-value pair of headers to include in the request.\"}}, \"required\": [\"url\"]}, \"output\": \"Successful response.\", \"format\": \"application/json\", \"structure\": \"Object{response: Object{status_code, headers: Object, body}}\"}, {\"name\": \"simulateStatusCode\", \"description\": \"Send a request to the Httpbin API\\'s status code simulation endpoint to test how your application handles specific status codes.\", \"parameters\": {\"type\": \"object\", \"properties\": {\"url\": {\"type\": \"string\", \"description\": \"The endpoint URL to send the request to.\"}, \"statusCode\": {\"type\": \"integer\", \"description\": \"The HTTP status code to simulate.\"}}, \"required\": [\"url\", \"statusCode\"]}, \"output\": \"Successful response.\", \"format\": \"application/json\", \"structure\": \"Object{response: Object{status_code, headers: Object, body}}\"}]'"
   ],
   "metadata": {
    "collapsed": false,
    "ExecuteTime": {
     "end_time": "2024-01-23T12:12:47.149412720Z",
     "start_time": "2024-01-23T12:12:47.142154877Z"
    }
   },
   "id": "795f97005a82e159"
  },
  {
   "cell_type": "code",
   "execution_count": 15,
   "outputs": [],
   "source": [
    "tools = json.loads(tools)"
   ],
   "metadata": {
    "collapsed": false,
    "ExecuteTime": {
     "end_time": "2024-01-23T12:12:47.803559720Z",
     "start_time": "2024-01-23T12:12:47.757719182Z"
    }
   },
   "id": "45c098c1f853f069"
  },
  {
   "cell_type": "code",
   "execution_count": 16,
   "outputs": [],
   "source": [
    "tools = [{\"type\": \"function\", \"function\": tool} for tool in tools]"
   ],
   "metadata": {
    "collapsed": false,
    "ExecuteTime": {
     "end_time": "2024-01-23T12:12:48.329766504Z",
     "start_time": "2024-01-23T12:12:48.318893530Z"
    }
   },
   "id": "a6d194f04461c4c2"
  },
  {
   "cell_type": "code",
   "execution_count": 17,
   "outputs": [],
   "source": [
    "messages = []\n",
    "messages.append({\"role\": \"user\", \"content\": 'I need to test how my app handles a \"PATCH\" request. Can you send a PATCH request to https://httpbin.org/patch with the data \\'{\"field\": \"value\"}\\' and tell me the response?'})"
   ],
   "metadata": {
    "collapsed": false,
    "ExecuteTime": {
     "end_time": "2024-01-23T12:12:49.736716440Z",
     "start_time": "2024-01-23T12:12:49.730242766Z"
    }
   },
   "id": "49a92a5c8e419cb4"
  },
  {
   "cell_type": "code",
   "execution_count": 18,
   "outputs": [],
   "source": [
    "result = client.chat.completions.create(messages=messages, model=\"toolalpaca_lora_chatglm3_6b_merged\", tools=tools)"
   ],
   "metadata": {
    "collapsed": false,
    "ExecuteTime": {
     "end_time": "2024-01-23T12:12:52.868638406Z",
     "start_time": "2024-01-23T12:12:51.718407861Z"
    }
   },
   "id": "e562350dc1c5dbfb"
  },
  {
   "cell_type": "code",
   "execution_count": 21,
   "outputs": [
    {
     "data": {
      "text/plain": "'sendHttpRequest\\n{\"method\": \"PATCH\", \"url\": \"https://httpbin.org/patch\", \"headers\": {}, \"data\": {\"field\": \"value\"}}'"
     },
     "execution_count": 21,
     "metadata": {},
     "output_type": "execute_result"
    }
   ],
   "source": [
    "result.choices[0].message.content "
   ],
   "metadata": {
    "collapsed": false,
    "ExecuteTime": {
     "end_time": "2024-01-23T12:13:05.500777346Z",
     "start_time": "2024-01-23T12:13:05.493373956Z"
    }
   },
   "id": "bf172d8b62c2997"
  },
  {
   "cell_type": "code",
   "execution_count": 10,
   "id": "initial_id",
   "metadata": {
    "ExecuteTime": {
     "end_time": "2024-01-22T07:49:01.902404936Z",
     "start_time": "2024-01-22T07:49:01.886561918Z"
    }
   },
   "outputs": [],
   "source": [
    "import json\n",
    "import os \n",
    "import re\n",
    "import ast\n",
    "from datasets import load_dataset\n",
    "import matplotlib.pyplot as plt \n",
    "import pandas as pd "
   ]
  },
  {
   "cell_type": "code",
   "execution_count": 11,
   "id": "fca5474e-8970-48fe-9bdd-dee753c4a334",
   "metadata": {
    "ExecuteTime": {
     "end_time": "2024-01-22T07:49:02.520230846Z",
     "start_time": "2024-01-22T07:49:02.509756941Z"
    }
   },
   "outputs": [],
   "source": [
    "# adgen 数据集"
   ]
  },
  {
   "cell_type": "code",
   "execution_count": 12,
   "id": "2d57ec0b2d872fba",
   "metadata": {
    "collapsed": false,
    "ExecuteTime": {
     "end_time": "2024-01-22T07:49:02.870802968Z",
     "start_time": "2024-01-22T07:49:02.858691613Z"
    }
   },
   "outputs": [],
   "source": [
    "with open('AdvertiseGen/dev.json') as f:\n",
    "    data = [json.loads(line) for line in f]\n",
    "\n",
    "train_examples = [{\n",
    "    \"content\": \"你现在是一名销售员，根据以下商品标签生成一段有吸引力的商品广告词: \" + x['content'],\n",
    "    \"summary\": x['summary'],\n",
    "} for x in data]\n"
   ]
  },
  {
   "cell_type": "code",
   "execution_count": 13,
   "id": "020c606e-4107-4310-86c0-b913223b3ee5",
   "metadata": {
    "ExecuteTime": {
     "end_time": "2024-01-22T07:49:04.081406891Z",
     "start_time": "2024-01-22T07:49:03.330969517Z"
    }
   },
   "outputs": [],
   "source": [
    "os.makedirs(\"AdvertiseGen/formatted_data\", exist_ok=True)\n",
    "\n",
    "with open(\"AdvertiseGen/formatted_data/advertise_dev.json\", \"w\") as f:\n",
    "    for e in train_examples:\n",
    "        f.write(json.dumps(e, ensure_ascii=False) + \"\\n\")"
   ]
  },
  {
   "cell_type": "code",
   "execution_count": 14,
   "id": "65c014c100f2b9c4",
   "metadata": {
    "collapsed": false,
    "ExecuteTime": {
     "end_time": "2024-01-22T07:49:16.539560746Z",
     "start_time": "2024-01-22T07:49:16.494391339Z"
    }
   },
   "outputs": [],
   "source": [
    "with open('AdvertiseGen/dev.json', 'r') as f:\n",
    "    data = [json.loads(line) for line in f]"
   ]
  },
  {
   "cell_type": "code",
   "execution_count": 15,
   "id": "effa69822c605b5c",
   "metadata": {
    "collapsed": false,
    "ExecuteTime": {
     "end_time": "2024-01-22T07:49:16.938530915Z",
     "start_time": "2024-01-22T07:49:16.914128737Z"
    }
   },
   "outputs": [
    {
     "data": {
      "text/plain": "{'content': '类型#上衣*材质#牛仔布*颜色#白色*风格#简约*图案#刺绣*衣样式#外套*衣款式#破洞',\n 'summary': '简约而不简单的牛仔外套，白色的衣身十分百搭。衣身多处有做旧破洞设计，打破单调乏味，增加一丝造型看点。衣身后背处有趣味刺绣装饰，丰富层次感，彰显别样时尚。'}"
     },
     "execution_count": 15,
     "metadata": {},
     "output_type": "execute_result"
    }
   ],
   "source": [
    "data[0]"
   ]
  },
  {
   "cell_type": "code",
   "execution_count": 16,
   "id": "f960344b0d38da88",
   "metadata": {
    "collapsed": false,
    "ExecuteTime": {
     "end_time": "2024-01-22T07:49:21.234340242Z",
     "start_time": "2024-01-22T07:49:21.214586306Z"
    }
   },
   "outputs": [],
   "source": [
    "with open('AdvertiseGen/formatted_data/advertise_dev.json', 'r') as f:\n",
    "    data = [json.loads(line) for line in f]"
   ]
  },
  {
   "cell_type": "code",
   "execution_count": 17,
   "id": "32044afc0d8b588a",
   "metadata": {
    "collapsed": false,
    "ExecuteTime": {
     "end_time": "2024-01-22T07:49:21.618032192Z",
     "start_time": "2024-01-22T07:49:21.609089028Z"
    }
   },
   "outputs": [
    {
     "data": {
      "text/plain": "{'content': '你现在是一名销售员，根据以下商品标签生成一段有吸引力的商品广告词: 类型#上衣*材质#牛仔布*颜色#白色*风格#简约*图案#刺绣*衣样式#外套*衣款式#破洞',\n 'summary': '简约而不简单的牛仔外套，白色的衣身十分百搭。衣身多处有做旧破洞设计，打破单调乏味，增加一丝造型看点。衣身后背处有趣味刺绣装饰，丰富层次感，彰显别样时尚。'}"
     },
     "execution_count": 17,
     "metadata": {},
     "output_type": "execute_result"
    }
   ],
   "source": [
    "data[0]"
   ]
  },
  {
   "cell_type": "code",
   "execution_count": 18,
   "id": "96bc699b-86bf-4926-baf7-5b0eb4cc22d2",
   "metadata": {
    "ExecuteTime": {
     "end_time": "2024-01-22T07:49:22.461082663Z",
     "start_time": "2024-01-22T07:49:22.452736467Z"
    }
   },
   "outputs": [],
   "source": [
    "# glaive tool call 数据集"
   ]
  },
  {
   "cell_type": "code",
   "execution_count": 19,
   "id": "f7a73b6fd2bbcea",
   "metadata": {
    "collapsed": false,
    "ExecuteTime": {
     "end_time": "2024-01-22T07:49:23.870676561Z",
     "start_time": "2024-01-22T07:49:23.255736028Z"
    }
   },
   "outputs": [],
   "source": [
    "with open('glaive_toolcall_10k.json', 'r') as f:\n",
    "    data = json.load(f)"
   ]
  },
  {
   "cell_type": "code",
   "execution_count": 20,
   "id": "f56594cdb81fc128",
   "metadata": {
    "collapsed": false,
    "ExecuteTime": {
     "end_time": "2024-01-22T07:49:27.794574445Z",
     "start_time": "2024-01-22T07:49:27.772576138Z"
    }
   },
   "outputs": [
    {
     "data": {
      "text/plain": "{'conversations': [{'from': 'human',\n   'value': \"I saw a dress that I liked. It was originally priced at $200 but it's on sale for 20% off. Can you tell me how much it will cost after the discount?\"},\n  {'from': 'function_call',\n   'value': '{\"name\": \"calculate_discount\", \"arguments\": {\"original_price\": 200, \"discount_percentage\": 20}}'},\n  {'from': 'observation', 'value': '{\"discounted_price\": 160}'},\n  {'from': 'gpt',\n   'value': 'The dress will cost you $160 after the 20% discount.'}],\n 'tools': '[{\"name\": \"calculate_discount\", \"description\": \"Calculate the discounted price\", \"parameters\": {\"type\": \"object\", \"properties\": {\"original_price\": {\"type\": \"number\", \"description\": \"The original price of the item\"}, \"discount_percentage\": {\"type\": \"number\", \"description\": \"The percentage of discount\"}}, \"required\": [\"original_price\", \"discount_percentage\"]}}]'}"
     },
     "execution_count": 20,
     "metadata": {},
     "output_type": "execute_result"
    }
   ],
   "source": [
    "data[0]"
   ]
  },
  {
   "cell_type": "code",
   "execution_count": 21,
   "id": "dc2f4fc6-a2c7-4bf2-8850-449749176470",
   "metadata": {
    "ExecuteTime": {
     "end_time": "2024-01-22T07:49:28.309987057Z",
     "start_time": "2024-01-22T07:49:28.304249686Z"
    }
   },
   "outputs": [],
   "source": [
    "# tool alpaca数据集"
   ]
  },
  {
   "cell_type": "code",
   "execution_count": 22,
   "id": "535bfc9d7b5f2dd6",
   "metadata": {
    "collapsed": false,
    "ExecuteTime": {
     "end_time": "2024-01-22T07:49:30.415878261Z",
     "start_time": "2024-01-22T07:49:30.288805710Z"
    }
   },
   "outputs": [],
   "source": [
    "with open('ToolAlpaca/data/formatted_data/tool_alpaca.jsonl', \"r\", encoding=\"utf-8\") as f:\n",
    "    if 'formatted_data/tool_alpaca.jsonl'.endswith(\".json\"):\n",
    "        train_data = json.load(f)\n",
    "    elif 'ToolAlpaca/data/formatted_data/tool_alpaca.jsonl'.endswith(\".jsonl\"):\n",
    "        train_data = [json.loads(line) for line in f]"
   ]
  },
  {
   "cell_type": "code",
   "execution_count": 23,
   "id": "a79fedc4-554d-4c8a-9c02-8ffbcd099554",
   "metadata": {
    "ExecuteTime": {
     "end_time": "2024-01-22T07:49:31.003306754Z",
     "start_time": "2024-01-22T07:49:30.994111077Z"
    }
   },
   "outputs": [
    {
     "data": {
      "text/plain": "{'tools': ['sendHttpRequest: Send an HTTP request with the specified method, headers, and data to the Httpbin API for testing purposes.\\nParameters: {\"method\": \"Required. string. One of: [GET, POST, PUT, DELETE, HEAD, PATCH]. The HTTP method to use (GET, POST, PUT, DELETE, HEAD, or PATCH).\", \"url\": \"Required. string. The endpoint URL to send the request to.\", \"headers\": \"Object.  A key-value pair of headers to include in the request.\", \"data\": \"Object.  A key-value pair of data to include in the request body.\"}\\nOutput: Successful response.\\n - Format: application/json\\n - Structure: Object{response: Object{status_code, headers: Object, body}}\\ngetClientRequestData: Retrieve the client\\'s request data, including headers, form data, uploaded files, and cookies.\\nParameters: {\"url\": \"Required. string. The endpoint URL to send the request to.\"}\\nOutput: Successful response.\\n - Format: application/json\\n - Structure: Object{requestData: Object{headers: Object, form: Object, files: Object, cookies: Object}}\\ntestProxyHeaders: Send a request to the Httpbin API\\'s proxy headers testing endpoint.\\nParameters: {\"url\": \"Required. string. The endpoint URL to send the request to.\", \"headers\": \"Object.  A key-value pair of headers to include in the request.\"}\\nOutput: Successful response.\\n - Format: application/json\\n - Structure: Object{response: Object{status_code, headers: Object, body}}\\nsimulateStatusCode: Send a request to the Httpbin API\\'s status code simulation endpoint to test how your application handles specific status codes.\\nParameters: {\"url\": \"Required. string. The endpoint URL to send the request to.\", \"statusCode\": \"Required. integer. The HTTP status code to simulate.\"}\\nOutput: Successful response.\\n - Format: application/json\\n - Structure: Object{response: Object{status_code, headers: Object, body}}\\n'],\n 'conversations': [{'role': 'user',\n   'content': 'I\\'m troubleshooting some requests, so can you help me send a POST request to https://httpbin.org/post with the header \"Content-Type: application/json\" and the data \\'{\"name\": \"John Doe\", \"email\": \"john.doe@example.com\"}\\'? Let me know the response details.'},\n  {'role': 'assistant',\n   'content': 'I need to use the sendHttpRequest tool to send the POST request.'},\n  {'role': 'tool',\n   'name': 'sendHttpRequest',\n   'parameters': {'method': 'POST',\n    'url': 'https://httpbin.org/post',\n    'headers': {'Content-Type': 'application/json'},\n    'data': {'name': 'John Doe', 'email': 'john.doe@example.com'}},\n   'observation': 'Status Code: 200. Response: {\"response\":{\"status_code\":200,\"headers\":{\"Content-Type\":\"application/json\"},\"body\":\"{\\\\\"args\\\\\":{\\\\\"method\\\\\":\\\\\"POST\\\\\",\\\\\"url\\\\\":\\\\\"https://httpbin.org/post\\\\\",\\\\\"headers\\\\\":{\\\\\"\\'Content-Type\\'\\\\\":\\\\\"\\'application/json\\'\\\\\"},\\\\\"data\\\\\":{\\\\\"\\'name\\'\\\\\":\\\\\"\\'John Doe\\'\\\\\",\\\\\"\\'email\\'\\\\\":\\\\\"\\'john.doe@example.com\\'\\\\\"}},\\\\\"data\\\\\":\\\\\"\\\\\",\\\\\"files\\\\\":{},\\\\\"form\\\\\":{},\\\\\"headers\\\\\":{\\\\\"Accept\\\\\":\\\\\"*/*\\\\\",\\\\\"Content-Length\\\\\":\\\\\"48\\\\\",\\\\\"Content-Type\\\\\":\\\\\"application/x-www-form-urlencoded\\\\\",\\\\\"Host\\\\\":\\\\\"httpbin.org\\\\\",\\\\\"User-Agent\\\\\":\\\\\"curl/7.68.0\\\\\"},\\\\\"json\\\\\":{\\\\\"\\'name\\'\\\\\":\\\\\"\\'John Doe\\'\\\\\",\\\\\"\\'email\\'\\\\\":\\\\\"\\'john.doe@example.com\\'\\\\\"},\\\\\"method\\\\\":\\\\\"POST\\\\\",\\\\\"origin\\\\\":\\\\\"127.0.0.1\\\\\",\\\\\"url\\\\\":\\\\\"https://httpbin.org/post\\\\\"}\"}}'},\n  {'role': 'assistant',\n   'content': 'The request was successful and the response contains the data sent in the request.\\nThe POST request was successful and the response contains the data sent in the request. The response status code was 200.'}]}"
     },
     "execution_count": 23,
     "metadata": {},
     "output_type": "execute_result"
    }
   ],
   "source": [
    "train_data[0]"
   ]
  },
  {
   "cell_type": "code",
   "execution_count": 24,
   "id": "205c1ca27cb3e3a",
   "metadata": {
    "collapsed": false,
    "ExecuteTime": {
     "end_time": "2024-01-22T07:49:37.856950425Z",
     "start_time": "2024-01-22T07:49:37.797564708Z"
    }
   },
   "outputs": [],
   "source": [
    "def convert_tools(input_string):\n",
    "    # Split the input string into separate functions using the pattern\n",
    "    pattern = r'(.*?):\\s(.*?)\\nParameters:\\s(.*?)\\nOutput:\\s(.*?)\\n\\s-\\sFormat:\\s(.*?)\\n\\s-\\sStructure:\\s(.*?)\\n'\n",
    "    functions = re.findall(pattern, input_string, re.DOTALL)\n",
    "    functions_list = []\n",
    "    # Iterate over the functions and print them out\n",
    "    for func in functions:\n",
    "        tool = {}\n",
    "        function_name, description, parameters, output, format_type, structure = func\n",
    "        tool[\"name\"] = function_name\n",
    "        tool[\"description\"] = description\n",
    "        parameters_dict = json.loads(parameters)\n",
    "        required_keys_list = []\n",
    "        for key in parameters_dict.keys():\n",
    "            value = parameters_dict[key]\n",
    "            required_loc = value.find(\"Required.\")\n",
    "            if required_loc >= 0:\n",
    "                required_keys_list.append(key)\n",
    "                value = value[required_loc+9:].strip()\n",
    "            key_type = value[:value.find('.')].strip()\n",
    "            key_description = value[value.find('.')+1:].strip()\n",
    "            new_value = {\"type\": key_type, \"description\": key_description}\n",
    "            parameters_dict[key] = new_value\n",
    "        tool[\"parameters\"] = {\"type\": \"object\", \"properties\": parameters_dict, \"required\": required_keys_list}\n",
    "        tool[\"output\"] = output\n",
    "        tool[\"format\"] = format_type\n",
    "        tool[\"structure\"] = structure\n",
    "        functions_list.append(tool)\n",
    "    return json.dumps(functions_list)"
   ]
  },
  {
   "cell_type": "code",
   "execution_count": 25,
   "id": "875f2e91670df3f",
   "metadata": {
    "collapsed": false,
    "ExecuteTime": {
     "end_time": "2024-01-22T07:49:38.178697405Z",
     "start_time": "2024-01-22T07:49:38.172019449Z"
    }
   },
   "outputs": [],
   "source": [
    "def format_example(example, tools=None):\n",
    "    new_example = {}\n",
    "    if tools:\n",
    "        new_example['tools'] = json.dumps(tools)\n",
    "    else:\n",
    "        new_example['tools'] = convert_tools(example['tools'][0])\n",
    "    conversations = []\n",
    "    if isinstance(example['conversations'], str):\n",
    "        conversations_raw = json.loads(example['conversations'])\n",
    "    else:\n",
    "        conversations_raw = example['conversations']\n",
    "    for item in conversations_raw:\n",
    "        new_item = {}\n",
    "        observation = None\n",
    "        if item['role'] == 'user':\n",
    "            new_item['from'] = 'human'\n",
    "            new_item['value'] = item['content']\n",
    "        elif item['role'] == 'assistant':\n",
    "            new_item['from'] = 'gpt'\n",
    "            new_item['value'] = item['content']\n",
    "        elif item['role'] == 'tool':\n",
    "            if conversations[-1]['from'] == 'gpt':\n",
    "                conversations.pop()\n",
    "            new_item['from'] = 'function_call'\n",
    "            new_item['value'] = json.dumps({'name': item['name'], 'arguments': item['parameters']})\n",
    "            if 'observation' in item:\n",
    "                observation = {'from': 'observation', 'value': item['observation']}\n",
    "        conversations.append(new_item)\n",
    "        if observation is not None:\n",
    "            conversations.append(observation)\n",
    "    new_example['conversations'] = conversations\n",
    "    return new_example"
   ]
  },
  {
   "cell_type": "code",
   "execution_count": 26,
   "id": "f1873391-af75-4ccd-8a9a-f1b41345d39d",
   "metadata": {
    "ExecuteTime": {
     "end_time": "2024-01-22T07:49:38.612393505Z",
     "start_time": "2024-01-22T07:49:38.601512715Z"
    }
   },
   "outputs": [],
   "source": [
    "def format_example_dev(example, tools=None):\n",
    "    new_example = {}\n",
    "    if tools:\n",
    "        new_example['tools'] = json.dumps(tools)\n",
    "    else:\n",
    "        new_example['tools'] = convert_tools(example['tools'][0])\n",
    "    conversations = []\n",
    "    if isinstance(example['conversations'], str):\n",
    "        conversations_raw = json.loads(example['conversations'])\n",
    "    else:\n",
    "        conversations_raw = example['conversations']\n",
    "    for item in conversations_raw:\n",
    "        new_item = {}\n",
    "        observation = None\n",
    "        if item['role'] == 'user':\n",
    "            new_item['from'] = 'human'\n",
    "            new_item['value'] = item['content']\n",
    "        elif item['role'] == 'assistant':\n",
    "            new_item['from'] = 'gpt'\n",
    "            new_item['value'] = item['content']\n",
    "        elif item['role'] == 'tool':\n",
    "            if conversations[-1]['from'] == 'gpt':\n",
    "                conversations.pop()\n",
    "            new_item['from'] = 'function_call'\n",
    "            new_item['value'] = json.dumps({'name': item['name'], 'arguments': item['parameters']})\n",
    "            if 'observation' in item:\n",
    "                observation = {'from': 'observation', 'value': item['observation']}\n",
    "        conversations.append(new_item)\n",
    "        if observation is not None:\n",
    "            conversations.append(observation)\n",
    "    new_example['conversations'] = conversations[:2]\n",
    "    return new_example"
   ]
  },
  {
   "cell_type": "code",
   "execution_count": 27,
   "id": "3b42d5bf-616e-427a-ab33-4c592925c58b",
   "metadata": {
    "ExecuteTime": {
     "end_time": "2024-01-22T07:49:39.660911031Z",
     "start_time": "2024-01-22T07:49:39.644721115Z"
    }
   },
   "outputs": [
    {
     "data": {
      "text/plain": "{'tools': ['sendHttpRequest: Send an HTTP request with the specified method, headers, and data to the Httpbin API for testing purposes.\\nParameters: {\"method\": \"Required. string. One of: [GET, POST, PUT, DELETE, HEAD, PATCH]. The HTTP method to use (GET, POST, PUT, DELETE, HEAD, or PATCH).\", \"url\": \"Required. string. The endpoint URL to send the request to.\", \"headers\": \"Object.  A key-value pair of headers to include in the request.\", \"data\": \"Object.  A key-value pair of data to include in the request body.\"}\\nOutput: Successful response.\\n - Format: application/json\\n - Structure: Object{response: Object{status_code, headers: Object, body}}\\ngetClientRequestData: Retrieve the client\\'s request data, including headers, form data, uploaded files, and cookies.\\nParameters: {\"url\": \"Required. string. The endpoint URL to send the request to.\"}\\nOutput: Successful response.\\n - Format: application/json\\n - Structure: Object{requestData: Object{headers: Object, form: Object, files: Object, cookies: Object}}\\ntestProxyHeaders: Send a request to the Httpbin API\\'s proxy headers testing endpoint.\\nParameters: {\"url\": \"Required. string. The endpoint URL to send the request to.\", \"headers\": \"Object.  A key-value pair of headers to include in the request.\"}\\nOutput: Successful response.\\n - Format: application/json\\n - Structure: Object{response: Object{status_code, headers: Object, body}}\\nsimulateStatusCode: Send a request to the Httpbin API\\'s status code simulation endpoint to test how your application handles specific status codes.\\nParameters: {\"url\": \"Required. string. The endpoint URL to send the request to.\", \"statusCode\": \"Required. integer. The HTTP status code to simulate.\"}\\nOutput: Successful response.\\n - Format: application/json\\n - Structure: Object{response: Object{status_code, headers: Object, body}}\\n'],\n 'conversations': [{'role': 'user',\n   'content': 'I\\'m troubleshooting some requests, so can you help me send a POST request to https://httpbin.org/post with the header \"Content-Type: application/json\" and the data \\'{\"name\": \"John Doe\", \"email\": \"john.doe@example.com\"}\\'? Let me know the response details.'},\n  {'role': 'assistant',\n   'content': 'I need to use the sendHttpRequest tool to send the POST request.'},\n  {'role': 'tool',\n   'name': 'sendHttpRequest',\n   'parameters': {'method': 'POST',\n    'url': 'https://httpbin.org/post',\n    'headers': {'Content-Type': 'application/json'},\n    'data': {'name': 'John Doe', 'email': 'john.doe@example.com'}},\n   'observation': 'Status Code: 200. Response: {\"response\":{\"status_code\":200,\"headers\":{\"Content-Type\":\"application/json\"},\"body\":\"{\\\\\"args\\\\\":{\\\\\"method\\\\\":\\\\\"POST\\\\\",\\\\\"url\\\\\":\\\\\"https://httpbin.org/post\\\\\",\\\\\"headers\\\\\":{\\\\\"\\'Content-Type\\'\\\\\":\\\\\"\\'application/json\\'\\\\\"},\\\\\"data\\\\\":{\\\\\"\\'name\\'\\\\\":\\\\\"\\'John Doe\\'\\\\\",\\\\\"\\'email\\'\\\\\":\\\\\"\\'john.doe@example.com\\'\\\\\"}},\\\\\"data\\\\\":\\\\\"\\\\\",\\\\\"files\\\\\":{},\\\\\"form\\\\\":{},\\\\\"headers\\\\\":{\\\\\"Accept\\\\\":\\\\\"*/*\\\\\",\\\\\"Content-Length\\\\\":\\\\\"48\\\\\",\\\\\"Content-Type\\\\\":\\\\\"application/x-www-form-urlencoded\\\\\",\\\\\"Host\\\\\":\\\\\"httpbin.org\\\\\",\\\\\"User-Agent\\\\\":\\\\\"curl/7.68.0\\\\\"},\\\\\"json\\\\\":{\\\\\"\\'name\\'\\\\\":\\\\\"\\'John Doe\\'\\\\\",\\\\\"\\'email\\'\\\\\":\\\\\"\\'john.doe@example.com\\'\\\\\"},\\\\\"method\\\\\":\\\\\"POST\\\\\",\\\\\"origin\\\\\":\\\\\"127.0.0.1\\\\\",\\\\\"url\\\\\":\\\\\"https://httpbin.org/post\\\\\"}\"}}'},\n  {'role': 'assistant',\n   'content': 'The request was successful and the response contains the data sent in the request.\\nThe POST request was successful and the response contains the data sent in the request. The response status code was 200.'}]}"
     },
     "execution_count": 27,
     "metadata": {},
     "output_type": "execute_result"
    }
   ],
   "source": [
    "train_data[0]"
   ]
  },
  {
   "cell_type": "code",
   "execution_count": 28,
   "id": "59262d44d22fc3e5",
   "metadata": {
    "collapsed": false,
    "ExecuteTime": {
     "end_time": "2024-01-22T07:49:45.709386011Z",
     "start_time": "2024-01-22T07:49:40.407515118Z"
    }
   },
   "outputs": [],
   "source": [
    "train_data_new = []\n",
    "for i in range(len(train_data)):\n",
    "    try:\n",
    "        train_data_new.append(format_example(train_data[i]))\n",
    "    except:\n",
    "        pass"
   ]
  },
  {
   "cell_type": "code",
   "execution_count": 29,
   "id": "351b86fe-6ff3-45bd-9a0a-7400cbf0a04b",
   "metadata": {
    "ExecuteTime": {
     "end_time": "2024-01-22T07:49:46.625767441Z",
     "start_time": "2024-01-22T07:49:46.607934180Z"
    }
   },
   "outputs": [],
   "source": [
    "dev_data_new = []\n",
    "for i in range(len(train_data)):\n",
    "    if i == 100:\n",
    "        break\n",
    "    try:\n",
    "        dev_data_new.append(format_example_dev(train_data[i]))\n",
    "    except:\n",
    "        pass"
   ]
  },
  {
   "cell_type": "code",
   "execution_count": 30,
   "id": "f81af786d2298b62",
   "metadata": {
    "collapsed": false,
    "ExecuteTime": {
     "end_time": "2024-01-22T07:49:47.956471509Z",
     "start_time": "2024-01-22T07:49:47.933668136Z"
    }
   },
   "outputs": [
    {
     "data": {
      "text/plain": "4030"
     },
     "execution_count": 30,
     "metadata": {},
     "output_type": "execute_result"
    }
   ],
   "source": [
    "len(train_data_new)"
   ]
  },
  {
   "cell_type": "code",
   "execution_count": 31,
   "id": "2f92dcca-bb6d-4489-91e2-ad06df04a929",
   "metadata": {
    "ExecuteTime": {
     "end_time": "2024-01-22T07:49:49.633372340Z",
     "start_time": "2024-01-22T07:49:49.615935707Z"
    }
   },
   "outputs": [
    {
     "data": {
      "text/plain": "100"
     },
     "execution_count": 31,
     "metadata": {},
     "output_type": "execute_result"
    }
   ],
   "source": [
    "len(dev_data_new)"
   ]
  },
  {
   "cell_type": "code",
   "execution_count": 20,
   "id": "4725092b-b00d-430f-b751-b8a6ebd13ffe",
   "metadata": {},
   "outputs": [
    {
     "data": {
      "text/plain": [
       "{'tools': '[{\"name\": \"sendHttpRequest\", \"description\": \"Send an HTTP request with the specified method, headers, and data to the Httpbin API for testing purposes.\", \"parameters\": {\"type\": \"object\", \"properties\": {\"method\": {\"type\": \"string\", \"description\": \"One of: [GET, POST, PUT, DELETE, HEAD, PATCH]. The HTTP method to use (GET, POST, PUT, DELETE, HEAD, or PATCH).\"}, \"url\": {\"type\": \"string\", \"description\": \"The endpoint URL to send the request to.\"}, \"headers\": {\"type\": \"Object\", \"description\": \"A key-value pair of headers to include in the request.\"}, \"data\": {\"type\": \"Object\", \"description\": \"A key-value pair of data to include in the request body.\"}}, \"required\": [\"method\", \"url\"]}, \"output\": \"Successful response.\", \"format\": \"application/json\", \"structure\": \"Object{response: Object{status_code, headers: Object, body}}\"}, {\"name\": \"getClientRequestData\", \"description\": \"Retrieve the client\\'s request data, including headers, form data, uploaded files, and cookies.\", \"parameters\": {\"type\": \"object\", \"properties\": {\"url\": {\"type\": \"string\", \"description\": \"The endpoint URL to send the request to.\"}}, \"required\": [\"url\"]}, \"output\": \"Successful response.\", \"format\": \"application/json\", \"structure\": \"Object{requestData: Object{headers: Object, form: Object, files: Object, cookies: Object}}\"}, {\"name\": \"testProxyHeaders\", \"description\": \"Send a request to the Httpbin API\\'s proxy headers testing endpoint.\", \"parameters\": {\"type\": \"object\", \"properties\": {\"url\": {\"type\": \"string\", \"description\": \"The endpoint URL to send the request to.\"}, \"headers\": {\"type\": \"Object\", \"description\": \"A key-value pair of headers to include in the request.\"}}, \"required\": [\"url\"]}, \"output\": \"Successful response.\", \"format\": \"application/json\", \"structure\": \"Object{response: Object{status_code, headers: Object, body}}\"}, {\"name\": \"simulateStatusCode\", \"description\": \"Send a request to the Httpbin API\\'s status code simulation endpoint to test how your application handles specific status codes.\", \"parameters\": {\"type\": \"object\", \"properties\": {\"url\": {\"type\": \"string\", \"description\": \"The endpoint URL to send the request to.\"}, \"statusCode\": {\"type\": \"integer\", \"description\": \"The HTTP status code to simulate.\"}}, \"required\": [\"url\", \"statusCode\"]}, \"output\": \"Successful response.\", \"format\": \"application/json\", \"structure\": \"Object{response: Object{status_code, headers: Object, body}}\"}]',\n",
       " 'conversations': [{'from': 'human',\n",
       "   'value': 'I need to test how my app handles a \"PATCH\" request. Can you send a PATCH request to https://httpbin.org/patch with the data \\'{\"field\": \"value\"}\\' and tell me the response?'},\n",
       "  {'from': 'function_call',\n",
       "   'value': '{\"name\": \"sendHttpRequest\", \"arguments\": {\"method\": \"PATCH\", \"url\": \"https://httpbin.org/patch\", \"headers\": {}, \"data\": {\"field\": \"value\"}}}'}]}"
      ]
     },
     "execution_count": 20,
     "metadata": {},
     "output_type": "execute_result"
    }
   ],
   "source": [
    "dev_data_new[4]"
   ]
  },
  {
   "cell_type": "code",
   "execution_count": 70,
   "id": "53a09792-a7bc-4558-9acf-f88a05631716",
   "metadata": {},
   "outputs": [
    {
     "data": {
      "text/plain": [
       "{'tools': '[{\"name\": \"sendHttpRequest\", \"description\": \"Send an HTTP request with the specified method, headers, and data to the Httpbin API for testing purposes.\", \"parameters\": {\"type\": \"object\", \"properties\": {\"method\": {\"type\": \"string\", \"description\": \"One of: [GET, POST, PUT, DELETE, HEAD, PATCH]. The HTTP method to use (GET, POST, PUT, DELETE, HEAD, or PATCH).\"}, \"url\": {\"type\": \"string\", \"description\": \"The endpoint URL to send the request to.\"}, \"headers\": {\"type\": \"Object\", \"description\": \"A key-value pair of headers to include in the request.\"}, \"data\": {\"type\": \"Object\", \"description\": \"A key-value pair of data to include in the request body.\"}}, \"required\": [\"method\", \"url\"]}, \"output\": \"Successful response.\", \"format\": \"application/json\", \"structure\": \"Object{response: Object{status_code, headers: Object, body}}\"}, {\"name\": \"getClientRequestData\", \"description\": \"Retrieve the client\\'s request data, including headers, form data, uploaded files, and cookies.\", \"parameters\": {\"type\": \"object\", \"properties\": {\"url\": {\"type\": \"string\", \"description\": \"The endpoint URL to send the request to.\"}}, \"required\": [\"url\"]}, \"output\": \"Successful response.\", \"format\": \"application/json\", \"structure\": \"Object{requestData: Object{headers: Object, form: Object, files: Object, cookies: Object}}\"}, {\"name\": \"testProxyHeaders\", \"description\": \"Send a request to the Httpbin API\\'s proxy headers testing endpoint.\", \"parameters\": {\"type\": \"object\", \"properties\": {\"url\": {\"type\": \"string\", \"description\": \"The endpoint URL to send the request to.\"}, \"headers\": {\"type\": \"Object\", \"description\": \"A key-value pair of headers to include in the request.\"}}, \"required\": [\"url\"]}, \"output\": \"Successful response.\", \"format\": \"application/json\", \"structure\": \"Object{response: Object{status_code, headers: Object, body}}\"}, {\"name\": \"simulateStatusCode\", \"description\": \"Send a request to the Httpbin API\\'s status code simulation endpoint to test how your application handles specific status codes.\", \"parameters\": {\"type\": \"object\", \"properties\": {\"url\": {\"type\": \"string\", \"description\": \"The endpoint URL to send the request to.\"}, \"statusCode\": {\"type\": \"integer\", \"description\": \"The HTTP status code to simulate.\"}}, \"required\": [\"url\", \"statusCode\"]}, \"output\": \"Successful response.\", \"format\": \"application/json\", \"structure\": \"Object{response: Object{status_code, headers: Object, body}}\"}]',\n",
       " 'conversations': [{'from': 'human',\n",
       "   'value': 'I\\'m troubleshooting some requests, so can you help me send a POST request to https://httpbin.org/post with the header \"Content-Type: application/json\" and the data \\'{\"name\": \"John Doe\", \"email\": \"john.doe@example.com\"}\\'? Let me know the response details.'},\n",
       "  {'from': 'function_call',\n",
       "   'value': '{\"name\": \"sendHttpRequest\", \"arguments\": {\"method\": \"POST\", \"url\": \"https://httpbin.org/post\", \"headers\": {\"Content-Type\": \"application/json\"}, \"data\": {\"name\": \"John Doe\", \"email\": \"john.doe@example.com\"}}}'},\n",
       "  {'from': 'observation',\n",
       "   'value': 'Status Code: 200. Response: {\"response\":{\"status_code\":200,\"headers\":{\"Content-Type\":\"application/json\"},\"body\":\"{\\\\\"args\\\\\":{\\\\\"method\\\\\":\\\\\"POST\\\\\",\\\\\"url\\\\\":\\\\\"https://httpbin.org/post\\\\\",\\\\\"headers\\\\\":{\\\\\"\\'Content-Type\\'\\\\\":\\\\\"\\'application/json\\'\\\\\"},\\\\\"data\\\\\":{\\\\\"\\'name\\'\\\\\":\\\\\"\\'John Doe\\'\\\\\",\\\\\"\\'email\\'\\\\\":\\\\\"\\'john.doe@example.com\\'\\\\\"}},\\\\\"data\\\\\":\\\\\"\\\\\",\\\\\"files\\\\\":{},\\\\\"form\\\\\":{},\\\\\"headers\\\\\":{\\\\\"Accept\\\\\":\\\\\"*/*\\\\\",\\\\\"Content-Length\\\\\":\\\\\"48\\\\\",\\\\\"Content-Type\\\\\":\\\\\"application/x-www-form-urlencoded\\\\\",\\\\\"Host\\\\\":\\\\\"httpbin.org\\\\\",\\\\\"User-Agent\\\\\":\\\\\"curl/7.68.0\\\\\"},\\\\\"json\\\\\":{\\\\\"\\'name\\'\\\\\":\\\\\"\\'John Doe\\'\\\\\",\\\\\"\\'email\\'\\\\\":\\\\\"\\'john.doe@example.com\\'\\\\\"},\\\\\"method\\\\\":\\\\\"POST\\\\\",\\\\\"origin\\\\\":\\\\\"127.0.0.1\\\\\",\\\\\"url\\\\\":\\\\\"https://httpbin.org/post\\\\\"}\"}}'},\n",
       "  {'from': 'gpt',\n",
       "   'value': 'The request was successful and the response contains the data sent in the request.\\nThe POST request was successful and the response contains the data sent in the request. The response status code was 200.'}]}"
      ]
     },
     "execution_count": 70,
     "metadata": {},
     "output_type": "execute_result"
    }
   ],
   "source": [
    "train_data_new[0]"
   ]
  },
  {
   "cell_type": "code",
   "execution_count": 71,
   "id": "c7460a66-28b3-487e-9853-23e6e3dcd38f",
   "metadata": {},
   "outputs": [
    {
     "data": {
      "text/plain": [
       "[{'name': 'sendHttpRequest',\n",
       "  'description': 'Send an HTTP request with the specified method, headers, and data to the Httpbin API for testing purposes.',\n",
       "  'parameters': {'type': 'object',\n",
       "   'properties': {'method': {'type': 'string',\n",
       "     'description': 'One of: [GET, POST, PUT, DELETE, HEAD, PATCH]. The HTTP method to use (GET, POST, PUT, DELETE, HEAD, or PATCH).'},\n",
       "    'url': {'type': 'string',\n",
       "     'description': 'The endpoint URL to send the request to.'},\n",
       "    'headers': {'type': 'Object',\n",
       "     'description': 'A key-value pair of headers to include in the request.'},\n",
       "    'data': {'type': 'Object',\n",
       "     'description': 'A key-value pair of data to include in the request body.'}},\n",
       "   'required': ['method', 'url']},\n",
       "  'output': 'Successful response.',\n",
       "  'format': 'application/json',\n",
       "  'structure': 'Object{response: Object{status_code, headers: Object, body}}'},\n",
       " {'name': 'getClientRequestData',\n",
       "  'description': \"Retrieve the client's request data, including headers, form data, uploaded files, and cookies.\",\n",
       "  'parameters': {'type': 'object',\n",
       "   'properties': {'url': {'type': 'string',\n",
       "     'description': 'The endpoint URL to send the request to.'}},\n",
       "   'required': ['url']},\n",
       "  'output': 'Successful response.',\n",
       "  'format': 'application/json',\n",
       "  'structure': 'Object{requestData: Object{headers: Object, form: Object, files: Object, cookies: Object}}'},\n",
       " {'name': 'testProxyHeaders',\n",
       "  'description': \"Send a request to the Httpbin API's proxy headers testing endpoint.\",\n",
       "  'parameters': {'type': 'object',\n",
       "   'properties': {'url': {'type': 'string',\n",
       "     'description': 'The endpoint URL to send the request to.'},\n",
       "    'headers': {'type': 'Object',\n",
       "     'description': 'A key-value pair of headers to include in the request.'}},\n",
       "   'required': ['url']},\n",
       "  'output': 'Successful response.',\n",
       "  'format': 'application/json',\n",
       "  'structure': 'Object{response: Object{status_code, headers: Object, body}}'},\n",
       " {'name': 'simulateStatusCode',\n",
       "  'description': \"Send a request to the Httpbin API's status code simulation endpoint to test how your application handles specific status codes.\",\n",
       "  'parameters': {'type': 'object',\n",
       "   'properties': {'url': {'type': 'string',\n",
       "     'description': 'The endpoint URL to send the request to.'},\n",
       "    'statusCode': {'type': 'integer',\n",
       "     'description': 'The HTTP status code to simulate.'}},\n",
       "   'required': ['url', 'statusCode']},\n",
       "  'output': 'Successful response.',\n",
       "  'format': 'application/json',\n",
       "  'structure': 'Object{response: Object{status_code, headers: Object, body}}'}]"
      ]
     },
     "execution_count": 71,
     "metadata": {},
     "output_type": "execute_result"
    }
   ],
   "source": [
    "json.loads(train_data_new[0]['tools'])"
   ]
  },
  {
   "cell_type": "code",
   "execution_count": 72,
   "id": "fafd22895c69958",
   "metadata": {
    "ExecuteTime": {
     "end_time": "2024-01-19T11:44:15.872066147Z",
     "start_time": "2024-01-19T11:44:14.721739217Z"
    },
    "collapsed": false
   },
   "outputs": [],
   "source": [
    "with open('ToolAlpaca/data/formatted_data/tool_alpaca_sharegpt.json', 'w') as file:\n",
    "    data = json.dump(train_data_new, file)"
   ]
  },
  {
   "cell_type": "code",
   "execution_count": 21,
   "id": "9b266e12-4835-454e-a813-000e14710e19",
   "metadata": {},
   "outputs": [],
   "source": [
    "with open('ToolAlpaca/data/formatted_data/tool_alpaca_dev_sharegpt.json', 'w') as file:\n",
    "    data_dev = json.dump(dev_data_new, file)"
   ]
  },
  {
   "cell_type": "code",
   "execution_count": 73,
   "id": "340c8fced4511c35",
   "metadata": {
    "ExecuteTime": {
     "end_time": "2024-01-19T11:44:15.958651966Z",
     "start_time": "2024-01-19T11:44:15.847453123Z"
    },
    "collapsed": false
   },
   "outputs": [],
   "source": [
    "with open('ToolAlpaca/data/formatted_data/tool_alpaca_sharegpt.json', 'r') as f:\n",
    "    data = json.load(f)"
   ]
  },
  {
   "cell_type": "code",
   "execution_count": 74,
   "id": "d65a2201e5ba20a6",
   "metadata": {
    "ExecuteTime": {
     "end_time": "2024-01-19T11:44:16.554936835Z",
     "start_time": "2024-01-19T11:44:16.525103783Z"
    },
    "collapsed": false
   },
   "outputs": [],
   "source": [
    "for i in range(len(data)):\n",
    "    assert data[i] == train_data_new[i]"
   ]
  },
  {
   "cell_type": "code",
   "execution_count": 22,
   "id": "0c7b9ced-a64b-44ec-818a-0c8b7cda9c57",
   "metadata": {},
   "outputs": [],
   "source": [
    "with open('ToolAlpaca/data/formatted_data/tool_alpaca_dev_sharegpt.json', 'r') as f:\n",
    "    data_dev = json.load(f)"
   ]
  },
  {
   "cell_type": "code",
   "execution_count": 23,
   "id": "de4cd12c-11e8-42d4-bce5-0ffd89494cf0",
   "metadata": {},
   "outputs": [],
   "source": [
    "for i in range(len(data_dev)):\n",
    "    assert data_dev[i] == dev_data_new[i]"
   ]
  },
  {
   "cell_type": "code",
   "execution_count": 75,
   "id": "5996fd2d07de4361",
   "metadata": {
    "ExecuteTime": {
     "end_time": "2024-01-19T11:44:17.041737829Z",
     "start_time": "2024-01-19T11:44:17.031842714Z"
    },
    "collapsed": false
   },
   "outputs": [
    {
     "data": {
      "text/plain": [
       "{'tools': '[{\"name\": \"sendHttpRequest\", \"description\": \"Send an HTTP request with the specified method, headers, and data to the Httpbin API for testing purposes.\", \"parameters\": {\"type\": \"object\", \"properties\": {\"method\": {\"type\": \"string\", \"description\": \"One of: [GET, POST, PUT, DELETE, HEAD, PATCH]. The HTTP method to use (GET, POST, PUT, DELETE, HEAD, or PATCH).\"}, \"url\": {\"type\": \"string\", \"description\": \"The endpoint URL to send the request to.\"}, \"headers\": {\"type\": \"Object\", \"description\": \"A key-value pair of headers to include in the request.\"}, \"data\": {\"type\": \"Object\", \"description\": \"A key-value pair of data to include in the request body.\"}}, \"required\": [\"method\", \"url\"]}, \"output\": \"Successful response.\", \"format\": \"application/json\", \"structure\": \"Object{response: Object{status_code, headers: Object, body}}\"}, {\"name\": \"getClientRequestData\", \"description\": \"Retrieve the client\\'s request data, including headers, form data, uploaded files, and cookies.\", \"parameters\": {\"type\": \"object\", \"properties\": {\"url\": {\"type\": \"string\", \"description\": \"The endpoint URL to send the request to.\"}}, \"required\": [\"url\"]}, \"output\": \"Successful response.\", \"format\": \"application/json\", \"structure\": \"Object{requestData: Object{headers: Object, form: Object, files: Object, cookies: Object}}\"}, {\"name\": \"testProxyHeaders\", \"description\": \"Send a request to the Httpbin API\\'s proxy headers testing endpoint.\", \"parameters\": {\"type\": \"object\", \"properties\": {\"url\": {\"type\": \"string\", \"description\": \"The endpoint URL to send the request to.\"}, \"headers\": {\"type\": \"Object\", \"description\": \"A key-value pair of headers to include in the request.\"}}, \"required\": [\"url\"]}, \"output\": \"Successful response.\", \"format\": \"application/json\", \"structure\": \"Object{response: Object{status_code, headers: Object, body}}\"}, {\"name\": \"simulateStatusCode\", \"description\": \"Send a request to the Httpbin API\\'s status code simulation endpoint to test how your application handles specific status codes.\", \"parameters\": {\"type\": \"object\", \"properties\": {\"url\": {\"type\": \"string\", \"description\": \"The endpoint URL to send the request to.\"}, \"statusCode\": {\"type\": \"integer\", \"description\": \"The HTTP status code to simulate.\"}}, \"required\": [\"url\", \"statusCode\"]}, \"output\": \"Successful response.\", \"format\": \"application/json\", \"structure\": \"Object{response: Object{status_code, headers: Object, body}}\"}]',\n",
       " 'conversations': [{'from': 'human',\n",
       "   'value': 'I\\'m troubleshooting some requests, so can you help me send a POST request to https://httpbin.org/post with the header \"Content-Type: application/json\" and the data \\'{\"name\": \"John Doe\", \"email\": \"john.doe@example.com\"}\\'? Let me know the response details.'},\n",
       "  {'from': 'function_call',\n",
       "   'value': '{\"name\": \"sendHttpRequest\", \"arguments\": {\"method\": \"POST\", \"url\": \"https://httpbin.org/post\", \"headers\": {\"Content-Type\": \"application/json\"}, \"data\": {\"name\": \"John Doe\", \"email\": \"john.doe@example.com\"}}}'},\n",
       "  {'from': 'observation',\n",
       "   'value': 'Status Code: 200. Response: {\"response\":{\"status_code\":200,\"headers\":{\"Content-Type\":\"application/json\"},\"body\":\"{\\\\\"args\\\\\":{\\\\\"method\\\\\":\\\\\"POST\\\\\",\\\\\"url\\\\\":\\\\\"https://httpbin.org/post\\\\\",\\\\\"headers\\\\\":{\\\\\"\\'Content-Type\\'\\\\\":\\\\\"\\'application/json\\'\\\\\"},\\\\\"data\\\\\":{\\\\\"\\'name\\'\\\\\":\\\\\"\\'John Doe\\'\\\\\",\\\\\"\\'email\\'\\\\\":\\\\\"\\'john.doe@example.com\\'\\\\\"}},\\\\\"data\\\\\":\\\\\"\\\\\",\\\\\"files\\\\\":{},\\\\\"form\\\\\":{},\\\\\"headers\\\\\":{\\\\\"Accept\\\\\":\\\\\"*/*\\\\\",\\\\\"Content-Length\\\\\":\\\\\"48\\\\\",\\\\\"Content-Type\\\\\":\\\\\"application/x-www-form-urlencoded\\\\\",\\\\\"Host\\\\\":\\\\\"httpbin.org\\\\\",\\\\\"User-Agent\\\\\":\\\\\"curl/7.68.0\\\\\"},\\\\\"json\\\\\":{\\\\\"\\'name\\'\\\\\":\\\\\"\\'John Doe\\'\\\\\",\\\\\"\\'email\\'\\\\\":\\\\\"\\'john.doe@example.com\\'\\\\\"},\\\\\"method\\\\\":\\\\\"POST\\\\\",\\\\\"origin\\\\\":\\\\\"127.0.0.1\\\\\",\\\\\"url\\\\\":\\\\\"https://httpbin.org/post\\\\\"}\"}}'},\n",
       "  {'from': 'gpt',\n",
       "   'value': 'The request was successful and the response contains the data sent in the request.\\nThe POST request was successful and the response contains the data sent in the request. The response status code was 200.'}]}"
      ]
     },
     "execution_count": 75,
     "metadata": {},
     "output_type": "execute_result"
    }
   ],
   "source": [
    "data[0]"
   ]
  },
  {
   "cell_type": "code",
   "execution_count": 32,
   "id": "1467c39a849e3331",
   "metadata": {
    "ExecuteTime": {
     "end_time": "2024-01-19T11:50:56.389885358Z",
     "start_time": "2024-01-19T11:50:55.429466717Z"
    },
    "collapsed": false
   },
   "outputs": [
    {
     "data": {
      "application/vnd.jupyter.widget-view+json": {
       "model_id": "178f3dbcaa04447883989f98348669d5",
       "version_major": 2,
       "version_minor": 0
      },
      "text/plain": [
       "Generating train split: 0 examples [00:00, ? examples/s]"
      ]
     },
     "metadata": {},
     "output_type": "display_data"
    }
   ],
   "source": [
    "a = load_dataset(path='json', data_files='ToolAlpaca/data/formatted_data/tool_alpaca_sharegpt.json')"
   ]
  },
  {
   "cell_type": "code",
   "execution_count": 33,
   "id": "4befed45ecb7c739",
   "metadata": {
    "ExecuteTime": {
     "end_time": "2024-01-19T11:50:57.712402558Z",
     "start_time": "2024-01-19T11:50:57.703009859Z"
    },
    "collapsed": false
   },
   "outputs": [
    {
     "data": {
      "text/plain": [
       "{'tools': '[{\"name\": \"sendHttpRequest\", \"description\": \"Send an HTTP request with the specified method, headers, and data to the Httpbin API for testing purposes.\", \"parameters\": {\"method\": \"Required. string. One of: [GET, POST, PUT, DELETE, HEAD, PATCH]. The HTTP method to use (GET, POST, PUT, DELETE, HEAD, or PATCH).\", \"url\": \"Required. string. The endpoint URL to send the request to.\", \"headers\": \"Object.  A key-value pair of headers to include in the request.\", \"data\": \"Object.  A key-value pair of data to include in the request body.\"}, \"output\": \"Successful response.\", \"format\": \"application/json\", \"structure\": \"Object{response: Object{status_code, headers: Object, body}}\", \"required\": [\"method\", \"url\"]}, {\"name\": \"getClientRequestData\", \"description\": \"Retrieve the client\\'s request data, including headers, form data, uploaded files, and cookies.\", \"parameters\": {\"url\": \"Required. string. The endpoint URL to send the request to.\"}, \"output\": \"Successful response.\", \"format\": \"application/json\", \"structure\": \"Object{requestData: Object{headers: Object, form: Object, files: Object, cookies: Object}}\", \"required\": [\"url\"]}, {\"name\": \"testProxyHeaders\", \"description\": \"Send a request to the Httpbin API\\'s proxy headers testing endpoint.\", \"parameters\": {\"url\": \"Required. string. The endpoint URL to send the request to.\", \"headers\": \"Object.  A key-value pair of headers to include in the request.\"}, \"output\": \"Successful response.\", \"format\": \"application/json\", \"structure\": \"Object{response: Object{status_code, headers: Object, body}}\", \"required\": [\"url\"]}, {\"name\": \"simulateStatusCode\", \"description\": \"Send a request to the Httpbin API\\'s status code simulation endpoint to test how your application handles specific status codes.\", \"parameters\": {\"url\": \"Required. string. The endpoint URL to send the request to.\", \"statusCode\": \"Required. integer. The HTTP status code to simulate.\"}, \"output\": \"Successful response.\", \"format\": \"application/json\", \"structure\": \"Object{response: Object{status_code, headers: Object, body}}\", \"required\": [\"url\", \"statusCode\"]}]',\n",
       " 'conversations': [{'from': 'human',\n",
       "   'value': 'I\\'m troubleshooting some requests, so can you help me send a POST request to https://httpbin.org/post with the header \"Content-Type: application/json\" and the data \\'{\"name\": \"John Doe\", \"email\": \"john.doe@example.com\"}\\'? Let me know the response details.'},\n",
       "  {'from': 'function_call',\n",
       "   'value': '{\"name\": \"sendHttpRequest\", \"arguments\": {\"method\": \"POST\", \"url\": \"https://httpbin.org/post\", \"headers\": {\"Content-Type\": \"application/json\"}, \"data\": {\"name\": \"John Doe\", \"email\": \"john.doe@example.com\"}}}'},\n",
       "  {'from': 'observation',\n",
       "   'value': 'Status Code: 200. Response: {\"response\":{\"status_code\":200,\"headers\":{\"Content-Type\":\"application/json\"},\"body\":\"{\\\\\"args\\\\\":{\\\\\"method\\\\\":\\\\\"POST\\\\\",\\\\\"url\\\\\":\\\\\"https://httpbin.org/post\\\\\",\\\\\"headers\\\\\":{\\\\\"\\'Content-Type\\'\\\\\":\\\\\"\\'application/json\\'\\\\\"},\\\\\"data\\\\\":{\\\\\"\\'name\\'\\\\\":\\\\\"\\'John Doe\\'\\\\\",\\\\\"\\'email\\'\\\\\":\\\\\"\\'john.doe@example.com\\'\\\\\"}},\\\\\"data\\\\\":\\\\\"\\\\\",\\\\\"files\\\\\":{},\\\\\"form\\\\\":{},\\\\\"headers\\\\\":{\\\\\"Accept\\\\\":\\\\\"*/*\\\\\",\\\\\"Content-Length\\\\\":\\\\\"48\\\\\",\\\\\"Content-Type\\\\\":\\\\\"application/x-www-form-urlencoded\\\\\",\\\\\"Host\\\\\":\\\\\"httpbin.org\\\\\",\\\\\"User-Agent\\\\\":\\\\\"curl/7.68.0\\\\\"},\\\\\"json\\\\\":{\\\\\"\\'name\\'\\\\\":\\\\\"\\'John Doe\\'\\\\\",\\\\\"\\'email\\'\\\\\":\\\\\"\\'john.doe@example.com\\'\\\\\"},\\\\\"method\\\\\":\\\\\"POST\\\\\",\\\\\"origin\\\\\":\\\\\"127.0.0.1\\\\\",\\\\\"url\\\\\":\\\\\"https://httpbin.org/post\\\\\"}\"}}'},\n",
       "  {'from': 'gpt',\n",
       "   'value': 'The request was successful and the response contains the data sent in the request.\\nThe POST request was successful and the response contains the data sent in the request. The response status code was 200.'}]}"
      ]
     },
     "execution_count": 33,
     "metadata": {},
     "output_type": "execute_result"
    }
   ],
   "source": [
    "a['train'][0]"
   ]
  },
  {
   "cell_type": "code",
   "execution_count": 34,
   "id": "511ca6e584b60f97",
   "metadata": {
    "collapsed": false
   },
   "outputs": [
    {
     "data": {
      "text/plain": [
       "True"
      ]
     },
     "execution_count": 34,
     "metadata": {},
     "output_type": "execute_result"
    }
   ],
   "source": [
    "a['train'][0] == train_data_new[0]"
   ]
  },
  {
   "cell_type": "code",
   "execution_count": 373,
   "id": "3224ecfd-f80a-4e2e-9bc6-558fcb88901b",
   "metadata": {},
   "outputs": [],
   "source": [
    "# result analysis "
   ]
  },
  {
   "cell_type": "code",
   "execution_count": 26,
   "id": "3fc0d5e4-177a-43c9-8f49-1f58a3f6a2fe",
   "metadata": {},
   "outputs": [],
   "source": [
    "with open('../toolalpaca_lora/checkpoint-1000/trainer_state.json', 'r') as f:\n",
    "    train_state = json.load(f)"
   ]
  },
  {
   "cell_type": "code",
   "execution_count": 30,
   "id": "6ba76633-837d-40f8-8c70-ee282ad64348",
   "metadata": {},
   "outputs": [],
   "source": [
    "log_history = train_state['log_history']\n",
    "steps = [i['step'] for i in log_history]\n",
    "learning_rate = [i['learning_rate'] for i in log_history]\n",
    "loss = [i['loss'] for i in log_history]"
   ]
  },
  {
   "cell_type": "code",
   "execution_count": 37,
   "id": "4adfd180-0460-4383-a043-5fa19f05afc3",
   "metadata": {},
   "outputs": [
    {
     "data": {
      "image/png": "[encoded data removed]",
      "text/plain": [
       "<Figure size 1000x300 with 2 Axes>"
      ]
     },
     "metadata": {},
     "output_type": "display_data"
    }
   ],
   "source": [
    "# Create a figure and two subplots, sharing the same y-axis\n",
    "fig, (ax1, ax2) = plt.subplots(1, 2, figsize=(10, 3))\n",
    "\n",
    "# Plot data on each axis\n",
    "ax1.plot(steps, learning_rate)\n",
    "ax2.plot(steps, loss)\n",
    "\n",
    "# Optionally, set titles for each subplot\n",
    "ax1.set_xlabel('steps')\n",
    "ax1.set_ylabel('learning_rate')\n",
    "ax2.set_xlabel('steps')\n",
    "ax2.set_ylabel('loss')\n",
    "\n",
    "# Show the figure\n",
    "plt.show()\n"
   ]
  },
  {
   "cell_type": "code",
   "execution_count": 32,
   "id": "3a0dc0d2-da3c-4330-919a-be69c9e150c1",
   "metadata": {
    "ExecuteTime": {
     "end_time": "2024-01-22T07:50:09.074658296Z",
     "start_time": "2024-01-22T07:50:09.033461658Z"
    }
   },
   "outputs": [],
   "source": [
    "with open('../outputs/toolalpaca_lora_output_finetune/generated_predictions.jsonl', 'r') as f:\n",
    "    generated_results = [json.loads(line) for line in f]"
   ]
  },
  {
   "cell_type": "code",
   "execution_count": 33,
   "id": "e3d0db50-8d3e-4ba4-891a-adee5911743b",
   "metadata": {
    "ExecuteTime": {
     "end_time": "2024-01-22T07:50:09.521635416Z",
     "start_time": "2024-01-22T07:50:09.511026016Z"
    }
   },
   "outputs": [],
   "source": [
    "with open('../outputs/toolalpaca_lora_output/generated_predictions.jsonl', 'r') as f:\n",
    "    raw_generated_results = [json.loads(line) for line in f]"
   ]
  },
  {
   "cell_type": "code",
   "execution_count": 34,
   "id": "b4583b46-0bf1-46e5-a9a7-2bb0c2a0aa38",
   "metadata": {
    "ExecuteTime": {
     "end_time": "2024-01-22T07:50:10.142452444Z",
     "start_time": "2024-01-22T07:50:10.137126582Z"
    }
   },
   "outputs": [],
   "source": [
    "def parse_tool_call(input_string):\n",
    "    # 正则表达式匹配括号内的内容\n",
    "    args_match = re.search(r\".*tool_call\\((.*)\\).*\", input_string)\n",
    "    if not args_match:\n",
    "        return \"No arguments found.\"\n",
    "\n",
    "    # 获取括号内的所有参数字符串\n",
    "    args_string = args_match.group(1)\n",
    "\n",
    "    # 使用堆栈来处理嵌套结构\n",
    "    args_list = []\n",
    "    stack = []\n",
    "    last_index = 0\n",
    "    for i, char in enumerate(args_string):\n",
    "        if char == '{':\n",
    "            stack.append(char)\n",
    "        elif char == '}':\n",
    "            stack.pop()\n",
    "        elif char == ',' and not stack:\n",
    "            # 当遇到逗号且堆栈为空时，表示这是一个顶级参数的分隔符\n",
    "            args_list.append(args_string[last_index:i])\n",
    "            last_index = i + 2  # 跳过逗号和空格\n",
    "\n",
    "    # 添加最后一个参数到列表中\n",
    "    args_list.append(args_string[last_index:])\n",
    "\n",
    "    # 解析每个参数为键值对，并存储在字典中\n",
    "    args_dict = {}\n",
    "    try:\n",
    "        for arg in args_list:\n",
    "            key, value = arg.split('=', 1)\n",
    "            args_dict[key.strip()] = ast.literal_eval(value.strip())\n",
    "    except:\n",
    "        pass\n",
    "\n",
    "    return args_dict"
   ]
  },
  {
   "cell_type": "code",
   "execution_count": 35,
   "id": "fdb4ecde-ddf6-41f6-a7ca-70f10b025f11",
   "metadata": {
    "ExecuteTime": {
     "end_time": "2024-01-22T07:50:10.451073815Z",
     "start_time": "2024-01-22T07:50:10.445505949Z"
    }
   },
   "outputs": [],
   "source": [
    "def parse_action_input(input_string):\n",
    "    # 使用正则表达式提取 Action 和 Action Input\n",
    "    action_match = re.search(r'Action: (\\w+)', input_string)\n",
    "    action_input_match = re.search(r'Action Input:.*(\\{.*\\})', input_string)\n",
    "    \n",
    "    # 检查是否找到匹配项并提取\n",
    "    action = action_match.group(1) if action_match else None\n",
    "    action_input = json.loads(action_input_match.group(1)) if action_input_match else None\n",
    "    return action, action_input"
   ]
  },
  {
   "cell_type": "code",
   "execution_count": 36,
   "id": "93a04b5d-acca-4602-b2a7-6610ecd58f26",
   "metadata": {
    "ExecuteTime": {
     "end_time": "2024-01-22T07:50:10.874677146Z",
     "start_time": "2024-01-22T07:50:10.858383668Z"
    }
   },
   "outputs": [],
   "source": [
    "def format_prediction(input_string):\n",
    "    input_string = input_string.strip()\n",
    "    split = input_string.find('\\n')\n",
    "    if split >= 0:\n",
    "        intent = input_string[:split].strip()\n",
    "        method_string = input_string[split+1:].strip()\n",
    "        if method_string.find('tool_call') >= 0:\n",
    "            slot = parse_tool_call(method_string)\n",
    "        elif (method_string.find('Action') >= 0) and (method_string.find('Action Input') >= 0):\n",
    "            intent, slot = parse_action_input(method_string)\n",
    "        else:\n",
    "            slot = json.loads(input_string[split+1:].strip())\n",
    "    else:\n",
    "        intent = ''\n",
    "        slot = {}\n",
    "    return intent, slot\n",
    "\n",
    "def cal_metric(label, prediction):\n",
    "    target_intent, target_method = format_prediction(label)\n",
    "    prediction_intent, prediction_method = format_prediction(prediction)\n",
    "    if prediction_intent == target_intent:\n",
    "        if prediction_method == target_method:\n",
    "            result = [1, 1]\n",
    "        else:\n",
    "            result = [1, 0]\n",
    "    else:\n",
    "        result = [0, 0]\n",
    "    return result "
   ]
  },
  {
   "cell_type": "code",
   "execution_count": 37,
   "id": "0d11697c-6c8f-4a80-870b-d97c52324247",
   "metadata": {
    "ExecuteTime": {
     "end_time": "2024-01-22T07:50:11.306452550Z",
     "start_time": "2024-01-22T07:50:11.296989954Z"
    }
   },
   "outputs": [],
   "source": [
    "def cal_lora(generated_results, model_name, set_name):\n",
    "    print(model_name, set_name)\n",
    "    results = []\n",
    "    for i in range(len(generated_results)):\n",
    "        label = generated_results[i]['label']\n",
    "        prediction =  generated_results[i]['predict']\n",
    "        try:\n",
    "            result = cal_metric(label, prediction)\n",
    "        except:\n",
    "            print('oops', i)\n",
    "        result += [dev_data_new[i]['conversations'][0]['value'], label, prediction]\n",
    "        results.append(result)\n",
    "    results = pd.DataFrame(results)\n",
    "    results.columns = ['intent', 'slot', 'query', 'target', 'prediction']\n",
    "    results['model_name'] = model_name\n",
    "    results['set_name'] = set_name\n",
    "    results = results.reset_index()\n",
    "    return results "
   ]
  },
  {
   "cell_type": "code",
   "execution_count": 38,
   "id": "e91b2740-38f4-4ce3-878a-9fd050d809b8",
   "metadata": {
    "ExecuteTime": {
     "end_time": "2024-01-22T07:50:11.707518274Z",
     "start_time": "2024-01-22T07:50:11.700087915Z"
    }
   },
   "outputs": [],
   "source": [
    "def cal_accuracy(results):\n",
    "    num = results.shape[0]\n",
    "    intent = results['intent']\n",
    "    zero_error_count = intent.shape[0]\n",
    "    zero_error_rate = 1\n",
    "    intent_sum, intent_mean = intent.sum(), intent.mean()\n",
    "    slot = results[(results['intent'] == 1)]['slot']\n",
    "    slot_sum, slot_mean = slot.sum(), slot.mean()\n",
    "    both_mean = slot_sum / zero_error_count\n",
    "    return pd.Series([num, zero_error_count, zero_error_rate, intent_sum, intent_mean, slot_sum, slot_mean, both_mean],\n",
    "                     index=['num', 'zero_error_count', 'zero_error_rate', 'intent_sum', 'intent_mean', 'slot_sum', 'slot_mean', 'both_mean'])"
   ]
  },
  {
   "cell_type": "code",
   "execution_count": 39,
   "id": "1486b178-4c74-4903-a82c-0b270972cf8d",
   "metadata": {
    "ExecuteTime": {
     "end_time": "2024-01-22T07:50:12.856874063Z",
     "start_time": "2024-01-22T07:50:12.841857152Z"
    }
   },
   "outputs": [
    {
     "name": "stdout",
     "output_type": "stream",
     "text": [
      "1finetune 1train\n",
      "2raw 1train\n"
     ]
    }
   ],
   "source": [
    "final = []\n",
    "final.append(cal_lora(generated_results, '1finetune', '1train'))\n",
    "final.append(cal_lora(raw_generated_results, '2raw', '1train'))\n",
    "final = pd.concat(final, axis=0)\n",
    "final = final.reset_index(drop=True)"
   ]
  },
  {
   "cell_type": "code",
   "execution_count": 40,
   "outputs": [
    {
     "data": {
      "text/plain": "                       num  zero_error_count  zero_error_rate  intent_sum  \\\nmodel_name set_name                                                         \n1finetune  1train    100.0             100.0              1.0        98.0   \n2raw       1train    100.0             100.0              1.0        71.0   \n\n                     intent_mean  slot_sum  slot_mean  both_mean  \nmodel_name set_name                                               \n1finetune  1train           0.98      97.0   0.989796       0.97  \n2raw       1train           0.71      41.0   0.577465       0.41  ",
      "text/html": "<div>\n<style scoped>\n    .dataframe tbody tr th:only-of-type {\n        vertical-align: middle;\n    }\n\n    .dataframe tbody tr th {\n        vertical-align: top;\n    }\n\n    .dataframe thead th {\n        text-align: right;\n    }\n</style>\n<table border=\"1\" class=\"dataframe\">\n  <thead>\n    <tr style=\"text-align: right;\">\n      <th></th>\n      <th></th>\n      <th>num</th>\n      <th>zero_error_count</th>\n      <th>zero_error_rate</th>\n      <th>intent_sum</th>\n      <th>intent_mean</th>\n      <th>slot_sum</th>\n      <th>slot_mean</th>\n      <th>both_mean</th>\n    </tr>\n    <tr>\n      <th>model_name</th>\n      <th>set_name</th>\n      <th></th>\n      <th></th>\n      <th></th>\n      <th></th>\n      <th></th>\n      <th></th>\n      <th></th>\n      <th></th>\n    </tr>\n  </thead>\n  <tbody>\n    <tr>\n      <th>1finetune</th>\n      <th>1train</th>\n      <td>100.0</td>\n      <td>100.0</td>\n      <td>1.0</td>\n      <td>98.0</td>\n      <td>0.98</td>\n      <td>97.0</td>\n      <td>0.989796</td>\n      <td>0.97</td>\n    </tr>\n    <tr>\n      <th>2raw</th>\n      <th>1train</th>\n      <td>100.0</td>\n      <td>100.0</td>\n      <td>1.0</td>\n      <td>71.0</td>\n      <td>0.71</td>\n      <td>41.0</td>\n      <td>0.577465</td>\n      <td>0.41</td>\n    </tr>\n  </tbody>\n</table>\n</div>"
     },
     "execution_count": 40,
     "metadata": {},
     "output_type": "execute_result"
    }
   ],
   "source": [
    "final.groupby(['model_name', 'set_name']).apply(cal_accuracy)"
   ],
   "metadata": {
    "collapsed": false,
    "ExecuteTime": {
     "end_time": "2024-01-22T07:50:19.351669520Z",
     "start_time": "2024-01-22T07:50:19.318405506Z"
    }
   },
   "id": "79d39568ba063da1"
  },
  {
   "cell_type": "code",
   "execution_count": 42,
   "outputs": [
    {
     "name": "stdout",
     "output_type": "stream",
     "text": [
      "index: 17\n",
      "query: I've heard there was a thunderstorm last night in Miami, Florida, with coordinates 25.7617, -80.1918. Can you show me its radar data from yesterday?\n",
      "target: getRadarData\n",
      "{\"latitude\": 25.7617, \"longitude\": -80.1918, \"date\": \"2020-08-20\"}\n",
      "prediction: getRadarData\n",
      "{\"latitude\": 25.7617, \"longitude\": -80.1918, \"date\": \"2020-08-12\"}\n",
      "index: 46\n",
      "query: My friend is going to Tenerife next week. What can they expect in terms of weather? Please provide the forecast for the next 7 days, including temperature, precipitation, humidity, and wind speed.\n",
      "target: getWeatherForecast\n",
      "{\"location\": \"Tenerife\", \"days\": 7}\n",
      "prediction: searchLocation\n",
      "{\"query\": \"Tenerife\"}\n",
      "index: 68\n",
      "query: I've found a job at a company called DreamTech that I'm really interested in. Can you please provide me with more details about this job posting, like the salary, requirements, and application instructions?\n",
      "target: searchJobPostings\n",
      "{\"company\": \"DreamTech\"}\n",
      "prediction: getJobPostingDetails\n",
      "{\"jobId\": \"12345\"}\n"
     ]
    }
   ],
   "source": [
    "for i in range(final[(final['model_name']=='1finetune') & ((final['intent']==0) | (final['slot']==0))].shape[0]):\n",
    "    print('index:', final[(final['model_name']=='1finetune') & ((final['intent']==0) | (final['slot']==0))].iloc[i]['index'])\n",
    "    print('query:', final[(final['model_name']=='1finetune') & ((final['intent']==0) | (final['slot']==0))].iloc[i]['query'])\n",
    "    print('target:', final[(final['model_name']=='1finetune') & ((final['intent']==0) | (final['slot']==0))].iloc[i]['target'])\n",
    "    print('prediction:', final[(final['model_name']=='1finetune') & ((final['intent']==0) | (final['slot']==0))].iloc[i]['prediction'])"
   ],
   "metadata": {
    "collapsed": false,
    "ExecuteTime": {
     "end_time": "2024-01-22T07:53:35.235713235Z",
     "start_time": "2024-01-22T07:53:35.192322058Z"
    }
   },
   "id": "d8437d56dd5a0d2c"
  },
  {
   "cell_type": "code",
   "execution_count": 45,
   "outputs": [
    {
     "name": "stdout",
     "output_type": "stream",
     "text": [
      "index: 2\n",
      "query: I have a feeling that some proxy headers aren't being passed correctly. Can you send a request to https://httpbin.org/headers with the headers \"X-Forwarded-For: 192.168.1.1\" and \"X-Real-IP: 10.0.0.1\"? I'd like to verify if the headers are properly forwarded by the proxy.\n",
      "target: sendHttpRequest\n",
      "{\"method\": \"GET\", \"url\": \"https://httpbin.org/headers\", \"headers\": {\"X-Forwarded-For\": \"192.168.1.1\", \"X-Real-IP\": \"10.0.0.1\"}}\n",
      "prediction: testProxyHeaders\n",
      " ```python\n",
      "tool_call(url='https://httpbin.org/headers', headers={'X-Forwarded-For': '192.168.1.1', 'X-Real-IP': '10.0.0.1'})\n",
      "```\n",
      "index: 3\n",
      "query: I'd like to see how my application responds to a 404 status code. Please send a request to https://httpbin.org/status/404 and let me know the details of the received status code and response headers.\n",
      "target: simulateStatusCode\n",
      "{\"url\": \"https://httpbin.org/status/404\", \"statusCode\": 404}\n",
      "prediction: simulateStatusCode\n",
      " ```python\n",
      "tool_call(url='https://httpbin.org/status/404')\n",
      "```\n",
      "index: 4\n",
      "query: I need to test how my app handles a \"PATCH\" request. Can you send a PATCH request to https://httpbin.org/patch with the data '{\"field\": \"value\"}' and tell me the response?\n",
      "target: sendHttpRequest\n",
      "{\"method\": \"PATCH\", \"url\": \"https://httpbin.org/patch\", \"headers\": {}, \"data\": {\"field\": \"value\"}}\n",
      "prediction: sendHttpRequest\n",
      " ```python\n",
      "tool_call(method='PATCH', url='https://httpbin.org/patch', data={'field': 'value'})\n",
      "```\n",
      "index: 5\n",
      "query: Let's find out if my request headers are being sent correctly. Send a request to https://httpbin.org/get and return the information about the headers' values I sent.\n",
      "target: sendHttpRequest\n",
      "{\"method\": \"GET\", \"url\": \"https://httpbin.org/get\", \"headers\": {\"Content-Type\": \"application/json\", \"Authorization\": \"Bearer <token>\"}}\n",
      "prediction: getClientRequestData\n",
      " ```python\n",
      "tool_call(url='https://httpbin.org/get')\n",
      "```\n",
      "index: 7\n",
      "query: Would you mind sending a DELETE request to https://httpbin.org/delete and telling me the response status code and headers? I'm checking if my app processes this method appropriately.\n",
      "target: sendHttpRequest\n",
      "{\"method\": \"DELETE\", \"url\": \"https://httpbin.org/delete\"}\n",
      "prediction: simulateStatusCode\n",
      " ```python\n",
      "tool_call(url='https://httpbin.org/delete', statusCode=204)\n",
      "```\n",
      "index: 8\n",
      "query: I need to test my app's behavior when receiving cookies. Can you send a GET request to https://httpbin.org/cookies/set?sessionid=1234567890abcde and then retrieve the cookie data by sending another GET request to https://httpbin.org/cookies?\n",
      "target: sendHttpRequest\n",
      "{\"method\": \"GET\", \"url\": \"https://httpbin.org/cookies/set?sessionid=1234567890abcde\"}\n",
      "prediction: getClientRequestData\n",
      " ```python\n",
      "tool_call(url='https://httpbin.org/cookies?')\n",
      "```\n",
      "index: 9\n",
      "query: I want to see if my app can properly handle a \"HEAD\" request. Can you send a HEAD request to https://httpbin.org/head and give me the details of the response headers?\n",
      "target: sendHttpRequest\n",
      "{\"method\": \"HEAD\", \"url\": \"https://httpbin.org/head\"}\n",
      "prediction: testProxyHeaders\n",
      " ```python\n",
      "tool_call(url='https://httpbin.org/head', headers={})\n",
      "```\n",
      "index: 10\n",
      "query: I'm planning a picnic tomorrow at Central Park, New York, with the coordinates 40.785091, -73.968285. Inform me about the daily weather forecast for tomorrow, and please give me the information in imperial units.\n",
      "target: getDailyForecast\n",
      "{\"latitude\": 40.785091, \"longitude\": -73.968285, \"days\": 1, \"units\": \"imperial\"}\n",
      "prediction: \n",
      " The action to take is to get the daily weather forecast for tomorrow at Central Park, New York.\n",
      "Action Input: ```{\"input\": \"Central Park, New York\", \"days\": 1, \"units\": \"imperial\"}```\n",
      "\n",
      "I will now perform the action and retrieve the information.<|assistant|> getDailyForecast\n",
      " ```python\n",
      "tool_call(latitude=40.785091, longitude=-73.968285, days=1, units='imperial')\n",
      "```\n",
      "index: 12\n",
      "query: I want to compare the weather from the past week to the same week last year in Paris, France, located at 48.8566, 2.3522. Please give me the historical weather data for these date ranges, in metric units.\n",
      "target: getHistoricalWeather\n",
      "{\"latitude\": 48.8566, \"longitude\": 2.3522, \"startDate\": \"2020-01-01\", \"endDate\": \"2020-01-07\", \"units\": \"metric\"}\n",
      "prediction: getHistoricalWeather\n",
      " ```python\n",
      "tool_call(latitude=48.8566, longitude=2.3522, startDate='2022-09-21', endDate='2022-09-27')\n",
      "```\n",
      "index: 13\n",
      "query: I'm planning to go for a hike this afternoon around Lake Tahoe, with the coordinates 39.0968, -120.0324. How's the weather looking there now? Retrieve the current weather data for me, please.\n",
      "target: getCurrentWeather\n",
      "{\"latitude\": 39.0968, \"longitude\": -120.0324, \"units\": \"imperial\"}\n",
      "prediction: getCurrentWeather\n",
      " ```python\n",
      "tool_call(latitude=39.0968, longitude=-120.0324, units='metric')\n",
      "```\n",
      "index: 15\n",
      "query: I'll be studying at the library for the next six hours, and I want to know if it will rain during that time. My location is 41.823987, -71.412834 in Providence, Rhode Island. Please provide an hourly weather forecast for the next six hours with any relevant information about precipitation.\n",
      "target: getHourlyForecast\n",
      "{\"latitude\": 41.823987, \"longitude\": -71.412834, \"hours\": 6, \"units\": \"imperial\"}\n",
      "prediction: getHourlyForecast\n",
      " ```python\n",
      "tool_call(latitude=41.823987, longitude=-71.412834, hours=6, units='metric')\n",
      "```\n",
      "index: 16\n",
      "query: My family and I are going on a road trip tomorrow, and we will be at 36.1627, -86.7816 in Nashville, Tennessee for the next three days. Provide me with a detailed daily weather forecast for these upcoming days.\n",
      "target: getDailyForecast\n",
      "{\"latitude\": 36.1627, \"longitude\": -86.7816, \"days\": 3, \"units\": \"imperial\"}\n",
      "prediction: \n",
      " Action: getDailyForecast\n",
      "Action Input: {\"latitude\": 36.1627, \"longitude\": -86.7816, \"days\": 3, \"units\": \"metric\"}\n",
      "index: 17\n",
      "query: I've heard there was a thunderstorm last night in Miami, Florida, with coordinates 25.7617, -80.1918. Can you show me its radar data from yesterday?\n",
      "target: getRadarData\n",
      "{\"latitude\": 25.7617, \"longitude\": -80.1918, \"date\": \"2020-08-20\"}\n",
      "prediction: \n",
      " I'm sorry, but I do not have access to historical weather data. Therefore, I cannot retrieve the radar data for last night's thunderstorm in Miami, Florida.\n",
      "index: 20\n",
      "query: I can't remember the exact words, but there was this ridiculous quote about Trump wanting to build a wall. Could you find a quote or tweet from him containing the words \"build\" and \"wall\"?\n",
      "target: searchQuotes\n",
      "{\"query\": \"build wall\", \"page\": 1, \"size\": 10}\n",
      "prediction: searchQuotes\n",
      " ```python\n",
      "tool_call(query='Trump build wall')\n",
      "```\n",
      "index: 21\n",
      "query: I'm having a debate with someone and need a laugh. Fetch me a random quote from Donald Trump to lighten the mood.\n",
      "target: getRandomQuote\n",
      "{}\n",
      "prediction: getRandomQuote\n",
      " ```python\n",
      "tool_call(search='Donald Trump')\n",
      "```\n",
      "index: 22\n",
      "query: A few years ago, I remember Trump tweeting something bizarre about covfefe. Can you find the exact tweet for me, along with its date and source?\n",
      "target: searchQuotes\n",
      "{\"query\": \"covfefe\", \"page\": 1, \"size\": 1}\n",
      "prediction: \n",
      " I'm sorry, but I do not have the capability to search for specific tweets in the Tronald Dump database. However, I can generate a random quote related to covfefe for you. Would you like me to do that?<|assistant|> getRandomQuote\n",
      " ```python\n",
      "tool_call(input='covfefe')\n",
      "```\n",
      "index: 24\n",
      "query: I'm writing an article about climate change and recalled that Trump had some amusing quotes on this topic. Could you retrieve some quotes where he talks about \"climate change\"?\n",
      "target: searchQuotes\n",
      "{\"query\": \"climate change\", \"page\": 1, \"size\": 10}\n",
      "prediction: searchQuotes\n",
      " ```python\n",
      "tool_call(query='climate change', page=1, size=5)\n",
      "```\n",
      "index: 26\n",
      "query: I'm putting together a collage of Trump's most memorable quotes. Could you show me quotes and tweets having the tag \"Election\" from the Tronald Dump database?\n",
      "target: getQuotesByTag\n",
      "{\"tag\": \"Election\", \"page\": 1, \"size\": 10}\n",
      "prediction: getQuotesByTag\n",
      " ```python\n",
      "tool_call(tag='Election')\n",
      "```\n",
      "index: 27\n",
      "query: In one of Trump's interviews, there was this time when he said something absurd about vaccines. Can you search for a quote with the keyword \"vaccine\" within it?\n",
      "target: searchQuotes\n",
      "{\"query\": \"vaccine\", \"page\": 1, \"size\": 10}\n",
      "prediction: searchQuotes\n",
      " ```python\n",
      "tool_call(query='vaccine', page=1, size=1)\n",
      "```\n",
      "index: 28\n",
      "query: My friend bet me that Trump has said something foolish about artificial intelligence. Let's prove him right. Find me a quote with the words \"artificial intelligence\" in it.\n",
      "target: searchQuotes\n",
      "{\"query\": \"artificial intelligence\", \"page\": 1, \"size\": 10}\n",
      "prediction: searchQuotes\n",
      " ```python\n",
      "tool_call(query='artificial intelligence', page=1, size=1)\n",
      "```\n",
      "index: 29\n",
      "query: I'm curious about what Trump had to say during his impeachment. Fetch me 5 quotes tagged with \"Impeachment\" so I can have a good laugh.\n",
      "target: getQuotesByTag\n",
      "{\"tag\": \"Impeachment\", \"page\": 1, \"size\": 5}\n",
      "prediction: getTags\n",
      " ```python\n",
      "tool_call(tag='Impeachment')\n",
      "```\n",
      "index: 30\n",
      "query: I'm working on a Python project and just encountered a weird error message. Can you help me find some questions on StackExchange about this error? Look for questions tagged with 'python' and containing the phrase \"AttributeError: 'NoneType' object has no attribute\".\n",
      "target: searchQuestions\n",
      "{\"q\": \"AttributeError: 'NoneType' object has no attribute\", \"tagged\": \"python\", \"sort\": \"relevance\", \"page\": 1, \"pagesize\": 10}\n",
      "prediction: searchQuestions\n",
      " ```python\n",
      "tool_call(q='AttributeError: 'NoneType' object has no attribute', tagged='python')\n",
      "```\n",
      "index: 32\n",
      "query: I came across a really helpful answer by a user named 'Jon Skeet' on StackExchange. Can you please find this user's profile by their display name, and let me know their reputation and user ID?\n",
      "target: searchQuestions\n",
      "{\"q\": \"Jon Skeet\", \"tagged\": \"\", \"sort\": \"relevance\", \"page\": 1, \"pagesize\": 10}\n",
      "prediction: getUserById\n",
      " ```python\n",
      "tool_call(user_id=123456)\n",
      "```\n",
      "index: 39\n",
      "query: I want to familiarize myself with Angular topics on StackExchange. Can you find questions tagged with 'angular', sorted by the most recent activity, and show me the first page with 20 questions?\n",
      "target: searchQuestions\n",
      "{\"q\": \"angular\", \"tagged\": \"angular\", \"sort\": \"activity\", \"page\": 1, \"pagesize\": 20}\n",
      "prediction: getTags\n",
      " ```python\n",
      "tool_call(sort='activity', page=1, pagesize=20)\n",
      "```\n",
      "index: 41\n",
      "query: I remember going on a trip to Seville last year, but I can't recall the exact dates. I think it was between August 10th and 15th. Can you find the historical weather data for Seville during that period, including the temperature, precipitation, humidity, and wind speed?\n",
      "target: getHistoricalWeather\n",
      "{\"location\": \"Seville\", \"startDate\": \"2020-08-10\", \"endDate\": \"2020-08-15\"}\n",
      "prediction: searchLocation\n",
      " ```python\n",
      "tool_call(query='Seville')\n",
      "```\n",
      "index: 42\n",
      "query: I'm planning a hike in Granada this weekend. Help me prepare by providing the weather forecast for the next two days, including the temperature, precipitation, humidity, and wind speed.\n",
      "target: getWeatherForecast\n",
      "{\"location\": \"Granada\", \"days\": 2}\n",
      "prediction: listLocations\n",
      " ```python\n",
      "tool_call()\n",
      "```\n",
      "index: 43\n",
      "query: I heard there's a beautiful place called Ronda in Spain. Can you confirm the existence of this location for me and provide its location ID? I might need it for future weather information.\n",
      "target: searchLocation\n",
      "{\"query\": \"Ronda, Spain\"}\n",
      "prediction: searchLocation\n",
      " ```python\n",
      "tool_call(query='Ronda')\n",
      "```\n",
      "index: 45\n",
      "query: I read about a place called Marbella in Spain and would like to know more about its weather. Could you please find the weather forecast for the next week, including the temperature, precipitation, humidity, and wind speed?\n",
      "target: searchLocation\n",
      "{\"query\": \"Marbella, Spain\"}\n",
      "prediction: listLocations\n",
      " ```python\n",
      "tool_call()\n",
      "```\n",
      "index: 46\n",
      "query: My friend is going to Tenerife next week. What can they expect in terms of weather? Please provide the forecast for the next 7 days, including temperature, precipitation, humidity, and wind speed.\n",
      "target: getWeatherForecast\n",
      "{\"location\": \"Tenerife\", \"days\": 7}\n",
      "prediction: \n",
      " I need to retrieve the weather forecast for Tenerife for the next 7 days.<|assistant|> getWeatherForecast\n",
      " ```python\n",
      "tool_call(location='Tenerife', days=7)\n",
      "```\n",
      "index: 49\n",
      "query: I'm thinking about visiting Tokyo next week. Can you find Tokyo's WOEID and show me the weather forecast for the next five days, so I know what to expect?\n",
      "target: searchLocation\n",
      "{\"query\": \"Tokyo\"}\n",
      "prediction: \n",
      " Sure, I can help you with that. First, let's find Tokyo's WOEID.<|assistant|> searchLocation\n",
      " ```python\n",
      "tool_call(query='Tokyo')\n",
      "```\n",
      "index: 50\n",
      "query: I've heard there was a heatwave in Paris last month. Help me check the date August 1st, 2022, by finding Paris's WOEID and then retrieving the historical weather data to confirm if it was really that hot.\n",
      "target: searchLocation\n",
      "{\"query\": \"Paris\"}\n",
      "prediction: \n",
      " I will first find the WOEID of Paris using the `searchLocation` function. Then, I will retrieve the historical weather data for August 1st, 2022, to confirm if it was a hot day.<|assistant|> searchLocation\n",
      " ```python\n",
      "tool_call(query='Paris')\n",
      "```\n",
      "index: 53\n",
      "query: I need to know the weather conditions in London on July 14th, 2022. Can you find London's WOEID and provide me with historical weather data for that day?\n",
      "target: searchLocation\n",
      "{\"query\": \"London\"}\n",
      "prediction: searchLocation\n",
      " ```python\n",
      "tool_call(query='London, UK')\n",
      "```\n",
      "index: 54\n",
      "query: My friend lives in Sydney, and I'm curious about the weather there. Could you search for Sydney's WOEID and fetch the current weather details?\n",
      "target: searchLocation\n",
      "{\"query\": \"Sydney\"}\n",
      "prediction: \n",
      " Sure, I can help you with that. I'll first search for the WOEID of Sydney and then fetch the current weather details.\n",
      "Action: searchLocation\n",
      "Action Input: 'Sydney'\n",
      "```python\n",
      "tool_call(query='Sydney')\n",
      "```\n",
      "index: 56\n",
      "query: Can you tell me what the weather was like in Los Angeles on January 10th, 2022? First, find the WOEID for Los Angeles and then use that to check the historical weather data.\n",
      "target: searchLocation\n",
      "{\"query\": \"Los Angeles\"}\n",
      "prediction: searchLocation\n",
      " ```python\n",
      "tool_call(query='Los Angeles,California')\n",
      "```\n",
      "index: 58\n",
      "query: I'd like to know how the weather will be in Berlin over the next few days. Get Berlin's WOEID and show me the weather forecasts for the next five days so I can plan accordingly.\n",
      "target: searchLocation\n",
      "{\"query\": \"Berlin\"}\n",
      "prediction: \n",
      " To get the weather forecast for Berlin over the next five days, I will use the `getWeatherForecast` tool. Since I already know the WOEID of Berlin, I just need to provide the `woeid` and `num_forecast_days` parameters.<|assistant|> getWeatherForecast\n",
      " ```python\n",
      "tool_call(woeid=3000153, num_forecast_days=5)\n",
      "```\n",
      "index: 62\n",
      "query: I often find myself confused about the parts of speech for specific words. How can I learn the part of speech for the word \"meticulous\"?\n",
      "target: getWordPartOfSpeech\n",
      "{\"word\": \"meticulous\", \"language\": \"en\"}\n",
      "prediction: getWordPartOfSpeech\n",
      " ```python\n",
      "tool_call(word='meticulous')\n",
      "```\n",
      "index: 64\n",
      "query: I want to improve my vocabulary, so could you provide me with a list of antonyms for the word \"lazy\" to help me better understand its meaning?\n",
      "target: getSynonymsAndAntonyms\n",
      "{\"word\": \"lazy\", \"language\": \"en\"}\n",
      "prediction: getWordAntonyms\n",
      " ```python\n",
      "tool_call(word='lazy', language='en')\n",
      "```\n",
      "index: 67\n",
      "query: Hey, I'm planning to move to Berlin soon, and I'll need to find a job there. Could you help me find some job postings for web developer roles in Berlin and show me, say, the top 10 results?\n",
      "target: searchJobPostings\n",
      "{\"location\": \"Berlin\", \"jobTitle\": \"web developer\", \"page\": 1, \"perPage\": 10}\n",
      "prediction: \n",
      " Sure, I can help you with that. Here's what I need from you to proceed:\n",
      "\n",
      "* The location to search for job postings: Berlin\n",
      "* Job title: Web Developer\n",
      "* Company: None (open to all companies)\n",
      "* Job type: Full-time\n",
      "\n",
      "Let's use the `searchJobPostings` function to find the job postings that match your criteria.<|assistant|> searchJobPostings\n",
      " ```python\n",
      "tool_call(location='Berlin', jobTitle='Web Developer', jobType='full-time')\n",
      "```\n",
      "index: 68\n",
      "query: I've found a job at a company called DreamTech that I'm really interested in. Can you please provide me with more details about this job posting, like the salary, requirements, and application instructions?\n",
      "target: searchJobPostings\n",
      "{\"company\": \"DreamTech\"}\n",
      "prediction: getJobPostingDetails\n",
      " ```python\n",
      "tool_call(jobId='12345678')\n",
      "```\n",
      "index: 69\n",
      "query: I'm currently looking for a part-time job in the marketing sector. Can you find any relevant job postings for me in, let's say, Amsterdam?\n",
      "target: searchJobPostings\n",
      "{\"location\": \"Amsterdam\", \"jobType\": \"part-time\", \"jobCategory\": \"marketing\"}\n",
      "prediction: \n",
      " Sure, I can help you with that. I will use the `searchJobPostings` function to look for part-time job postings in the marketing sector in Amsterdam.\n",
      "Action: searchJobPostings\n",
      "Action Input: `{\"location\": \"Amsterdam\", \"jobTitle\": \"marketing\", \"page\": 1, \"perPage\": 5}`<|assistant|> \n",
      " I'm sorry, but I couldn't find any relevant job postings at the moment. Please try again later.\n",
      "index: 72\n",
      "query: Can you find some remote job opportunities for a data analyst within Europe, and let me know if there's a wide variety of options available?\n",
      "target: searchJobPostings\n",
      "{\"location\": \"Europe\", \"jobTitle\": \"Data Analyst\", \"jobType\": \"full-time\", \"jobCategory\": \"technology\"}\n",
      "prediction: \n",
      " Sure, I can help you with that. Given your request, I'll use the `searchJobPostings` function to look for remote job opportunities for a data analyst within Europe.<|assistant|> searchJobPostings\n",
      " ```python\n",
      "tool_call(location='Europe', jobTitle='data analyst', keywords='remote')\n",
      "```\n",
      "index: 74\n",
      "query: I've just completed a project management course and want to put my new skills to use. Please find me some job postings for project manager roles in the tech industry based in Paris.\n",
      "target: searchJobPostings\n",
      "{\"location\": \"Paris\", \"jobTitle\": \"Project Manager\", \"jobCategory\": \"Technology\"}\n",
      "prediction: \n",
      " Action: searchJobPostings\n",
      "Action Input: {\"location\": \"Paris\", \"jobTitle\": \"project manager\", \"keywords\": \"tech industry\", \"page\": 1, \"perPage\": 5}\n",
      "index: 75\n",
      "query: I need to know the schedule for Czech TV channels for the week starting from July 11th. Can you provide me with a list of programs, channels, and their timings, along with a brief description?\n",
      "target: getWeeklyTVProgram\n",
      "{\"startDate\": \"2020-07-11\"}\n",
      "prediction: getWeeklyTVProgram\n",
      " ```python\n",
      "tool_call(startDate='2022-07-11')\n",
      "```\n",
      "index: 76\n",
      "query: I'm a huge fan of cooking shows. Can you search for any cooking-related programs airing between August 1st and August 7th? Look for keywords like 'cooking', 'recipes', or 'chef'.\n",
      "target: searchTVPrograms\n",
      "{\"keywords\": \"cooking, recipes, chef\", \"startDate\": \"2020-08-01\", \"endDate\": \"2020-08-07\"}\n",
      "prediction: searchTVPrograms\n",
      " ```python\n",
      "tool_call(input='cooking', keywords='', startDate='2023-08-01', endDate='2023-08-07')\n",
      "```\n",
      "index: 77\n",
      "query: We're having a movie night this weekend! Find any movie programs airing on Czech TV channels for the next two days, using keywords like 'movie' or 'film'.\n",
      "target: searchTVPrograms\n",
      "{\"keywords\": \"movie, film\", \"startDate\": \"2020-09-18\", \"endDate\": \"2020-09-20\"}\n",
      "prediction: searchTVPrograms\n",
      " ```python\n",
      "tool_call(keywords='movie', startDate='2022-11-12', endDate='2022-11-13')\n",
      "```\n",
      "index: 78\n",
      "query: I heard there's a documentary about nature airing soon. Look for programs containing the keyword 'nature' between today and the next three days, and provide me with their titles, channels, and start and end times.\n",
      "target: searchTVPrograms\n",
      "{\"keywords\": \"nature\", \"startDate\": \"2020-09-14\", \"endDate\": \"2020-09-17\"}\n",
      "prediction: searchTVPrograms\n",
      " ```python\n",
      "tool_call(keywords='nature', startDate='2022-09-26', endDate='2022-10-02')\n",
      "```\n",
      "index: 79\n",
      "query: I want to know what's airing on Czech TV channels this week. Can you fetch the weekly TV program for me starting from today's date?\n",
      "target: getWeeklyTVProgram\n",
      "{\"startDate\": \"2020-09-14\"}\n",
      "prediction: getWeeklyTVProgram\n",
      "Action: getWeeklyTVProgram\n",
      "Action Input: {\"startDate\": \"2023-09-18\"}\n",
      "index: 80\n",
      "query: My friends and I want to watch a sports match together. Can you find any sports-related programs broadcasting within the next week? Just search for keywords like 'sports', 'game', or 'match'.\n",
      "target: searchTVPrograms\n",
      "{\"keywords\": \"sports, game, match\"}\n",
      "prediction: searchTVPrograms\n",
      "Action: searchTVPrograms\n",
      "Action Input: {\"input\": \"sports\", \"num_beams\": 7, \"startDate\": \"2023-09-18\", \"endDate\": \"2023-09-24\"}\n",
      "```\n",
      "index: 81\n",
      "query: Look for any educational programs airing in the next couple of days on Czech TV channels. Use keywords like 'education', 'science', or 'history'.\n",
      "target: searchTVPrograms\n",
      "{\"keywords\": \"education, science, history\"}\n",
      "prediction: searchTVPrograms\n",
      " ```python\n",
      "tool_call(keywords='education', startDate='2023-09-19', endDate='2023-09-25')\n",
      "```\n",
      "index: 83\n",
      "query: I'm interested in watching a talk show tonight. Search for programs related to talk shows on Czech TV channels for today, using the keywords 'talk show', 'interview', or 'discussion'.\n",
      "target: searchTVPrograms\n",
      "{\"keywords\": \"talk show, interview, discussion\", \"startDate\": \"2020-09-17\"}\n",
      "prediction: searchTVPrograms\n",
      " ```python\n",
      "tool_call(keywords='talk show', startDate='2023-09-16', endDate='2023-09-16')\n",
      "```\n",
      "index: 86\n",
      "query: I remember discussing a topic with my team in the chat room \"room333\" a few days ago, but I can't recall the exact conversation. Can you retrieve the messages in that room before the message ID \"msg987\"?\n",
      "target: getMessages\n",
      "{\"roomId\": \"room333\", \"limit\": 50, \"beforeId\": \"msg987\"}\n",
      "prediction: getMessages\n",
      " ```python\n",
      "tool_call(roomId='room333', limit=10, beforeId='msg987')\n",
      "```\n",
      "index: 87\n",
      "query: I want to send a message to the chat room \"room678\". Please post this text for me: \"Hey everyone, don't forget about our meeting at 2 PM today!\"\n",
      "target: sendMessage\n",
      "{\"roomId\": \"room678\", \"text\": \"Hey everyone, don't forget about our meeting at 2 PM today!\"}\n",
      "prediction: \n",
      " I will send a message to the chat room \"room678\".\n",
      "Action: sendMessage\n",
      "Action Input: \"Hey everyone, don't forget about our meeting at 2 PM today!\"\n",
      "index: 88\n",
      "query: I'd like to get an overview of my activity in the chat room with the ID \"room246\". Can you provide me with some details like the number of messages I've sent, how many times I've been mentioned, and when I was last active?\n",
      "target: getUserActivity\n",
      "{\"userId\": \"user123\", \"roomId\": \"room246\"}\n",
      "prediction: getUserActivity\n",
      " ```python\n",
      "tool_call(userId='123456', roomId='room246')\n",
      "```\n",
      "index: 91\n",
      "query: I'm about to participate in a group chat in the room with ID \"room112\". Can you list the number of users in this room so I know what to expect?\n",
      "target: getChatRooms\n",
      "{\"userId\": \"user123\"}\n",
      "prediction: getUserActivity\n",
      " ```python\n",
      "tool_call(userId='user123', roomId='room112')\n",
      "```\n",
      "index: 92\n",
      "query: Could you help me to send a query to chat room \"room765\"? I would like to ask, \"Has anyone encountered issues with the latest API update?\"\n",
      "target: getChatRooms\n",
      "{\"userId\": \"12345\"}\n",
      "prediction: \n",
      " Sure, I can help you with that.\n",
      "\n",
      "Action: sendMessage\n",
      "Action Input: {\"roomId\": \"room765\", \"text\": \"Has anyone encountered issues with the latest API update?\"}<|assistant|> \n",
      " Your message has been sent to the chat room \"room765\". You can check for the response by using the `getMessages` function.\n",
      "index: 94\n",
      "query: Can you help me find datasets related to climate change in Canada?\n",
      "target: getDatasetsByTopic\n",
      "{\"topic\": \"climate change in Canada\"}\n",
      "prediction: getDatasetsByTopic\n",
      " ```python\n",
      "tool_call(topic='climate change', geography='Canada')\n",
      "```\n",
      "index: 95\n",
      "query: Filter the datasets by geography to only show ones related to British Columbia.\n",
      "target: filterDatasets\n",
      "{\"geography\": \"British Columbia\"}\n",
      "prediction: getDatasetsByTopic\n",
      " ```python\n",
      "tool_call(topic='', geography='British Columbia')\n",
      "```\n",
      "index: 96\n",
      "query: I'm looking for datasets related to the COVID-19 pandemic. Can you filter them by timeline to only show data from the past year?\n",
      "target: filterDatasets\n",
      "{\"timeline\": \"past year\"}\n",
      "prediction: getDatasetsByTopic\n",
      " ```python\n",
      "tool_call(topic='COVID-19', timeline='past year')\n",
      "```\n",
      "index: 98\n",
      "query: Can you search for datasets related to transportation and limit the results to 10?\n",
      "target: searchDatasets\n",
      "{\"query\": \"transportation\", \"limit\": 10, \"offset\": 0}\n",
      "prediction: searchDatasets\n",
      " ```python\n",
      "tool_call(query='transportation', limit=10)\n",
      "```\n"
     ]
    }
   ],
   "source": [
    "for i in range(final[(final['model_name']=='2raw') & ((final['intent']==0) | (final['slot']==0))].shape[0]):\n",
    "    print('index:', final[(final['model_name']=='2raw') & ((final['intent']==0) | (final['slot']==0))].iloc[i]['index'])\n",
    "    print('query:', final[(final['model_name']=='2raw') & ((final['intent']==0) | (final['slot']==0))].iloc[i]['query'])\n",
    "    print('target:', final[(final['model_name']=='2raw') & ((final['intent']==0) | (final['slot']==0))].iloc[i]['target'])\n",
    "    print('prediction:', final[(final['model_name']=='2raw') & ((final['intent']==0) | (final['slot']==0))].iloc[i]['prediction'])"
   ],
   "metadata": {
    "collapsed": false,
    "ExecuteTime": {
     "end_time": "2024-01-22T07:58:11.469701427Z",
     "start_time": "2024-01-22T07:58:11.278350708Z"
    }
   },
   "id": "ddee843b077176a2"
  },
  {
   "cell_type": "code",
   "execution_count": 23,
   "outputs": [],
   "source": [
    "# 部署"
   ],
   "metadata": {
    "collapsed": false,
    "ExecuteTime": {
     "end_time": "2024-01-23T12:24:00.043885103Z",
     "start_time": "2024-01-23T12:23:59.999765395Z"
    }
   },
   "id": "5c87239753f305c6"
  },
  {
   "cell_type": "code",
   "execution_count": 22,
   "id": "ef3ae04d-20f6-4228-89b3-911556835a02",
   "metadata": {
    "ExecuteTime": {
     "end_time": "2024-01-23T12:15:25.963952507Z",
     "start_time": "2024-01-23T12:15:24.742920658Z"
    }
   },
   "outputs": [
    {
     "data": {
      "text/plain": "'sendHttpRequest\\n{\"method\": \"PATCH\", \"url\": \"https://httpbin.org/patch\", \"headers\": {}, \"data\": {\"field\": \"value\"}}'"
     },
     "execution_count": 22,
     "metadata": {},
     "output_type": "execute_result"
    }
   ],
   "source": [
    "# python src/export_model.py \\\n",
    "#     --model_name_or_path /data/dataset/huggingface/hub/chatglm3-6b \\\n",
    "#     --adapter_name_or_path models/toolalpaca_lora/checkpoint-1000 \\\n",
    "#     --template chatglm3 \\\n",
    "#     --finetuning_type lora \\\n",
    "#     --export_dir models/toolalpaca_lora_chatglm3_6b_merged \\\n",
    "#     --export_size 2 \\\n",
    "#     --export_legacy_format False\n",
    "# python -m src.llmtuner.api.app --model_name_or_path models/toolalpaca_lora_chatglm3_6b_merged --template chatglm3\n",
    "import os\n",
    "import json\n",
    "from openai import OpenAI\n",
    "\n",
    "os.environ[\"OPENAI_BASE_URL\"] = \"http://0.0.0.0:8000/v1\"  # 替换为本地主机 IP\n",
    "os.environ[\"OPENAI_API_KEY\"] = \"0\"\n",
    "client = OpenAI()\n",
    "tools = '[{\"name\": \"sendHttpRequest\", \"description\": \"Send an HTTP request with the specified method, headers, and data to the Httpbin API for testing purposes.\", \"parameters\": {\"type\": \"object\", \"properties\": {\"method\": {\"type\": \"string\", \"description\": \"One of: [GET, POST, PUT, DELETE, HEAD, PATCH]. The HTTP method to use (GET, POST, PUT, DELETE, HEAD, or PATCH).\"}, \"url\": {\"type\": \"string\", \"description\": \"The endpoint URL to send the request to.\"}, \"headers\": {\"type\": \"Object\", \"description\": \"A key-value pair of headers to include in the request.\"}, \"data\": {\"type\": \"Object\", \"description\": \"A key-value pair of data to include in the request body.\"}}, \"required\": [\"method\", \"url\"]}, \"output\": \"Successful response.\", \"format\": \"application/json\", \"structure\": \"Object{response: Object{status_code, headers: Object, body}}\"}, {\"name\": \"getClientRequestData\", \"description\": \"Retrieve the client\\'s request data, including headers, form data, uploaded files, and cookies.\", \"parameters\": {\"type\": \"object\", \"properties\": {\"url\": {\"type\": \"string\", \"description\": \"The endpoint URL to send the request to.\"}}, \"required\": [\"url\"]}, \"output\": \"Successful response.\", \"format\": \"application/json\", \"structure\": \"Object{requestData: Object{headers: Object, form: Object, files: Object, cookies: Object}}\"}, {\"name\": \"testProxyHeaders\", \"description\": \"Send a request to the Httpbin API\\'s proxy headers testing endpoint.\", \"parameters\": {\"type\": \"object\", \"properties\": {\"url\": {\"type\": \"string\", \"description\": \"The endpoint URL to send the request to.\"}, \"headers\": {\"type\": \"Object\", \"description\": \"A key-value pair of headers to include in the request.\"}}, \"required\": [\"url\"]}, \"output\": \"Successful response.\", \"format\": \"application/json\", \"structure\": \"Object{response: Object{status_code, headers: Object, body}}\"}, {\"name\": \"simulateStatusCode\", \"description\": \"Send a request to the Httpbin API\\'s status code simulation endpoint to test how your application handles specific status codes.\", \"parameters\": {\"type\": \"object\", \"properties\": {\"url\": {\"type\": \"string\", \"description\": \"The endpoint URL to send the request to.\"}, \"statusCode\": {\"type\": \"integer\", \"description\": \"The HTTP status code to simulate.\"}}, \"required\": [\"url\", \"statusCode\"]}, \"output\": \"Successful response.\", \"format\": \"application/json\", \"structure\": \"Object{response: Object{status_code, headers: Object, body}}\"}]'\n",
    "tools = json.loads(tools)\n",
    "tools = [{\"type\": \"function\", \"function\": tool} for tool in tools]\n",
    "messages = []\n",
    "messages.append({\"role\": \"user\",\n",
    "                 \"content\": 'I need to test how my app handles a \"PATCH\" request. Can you send a PATCH request to https://httpbin.org/patch with the data \\'{\"field\": \"value\"}\\' and tell me the response?'})\n",
    "result = client.chat.completions.create(messages=messages, model=\"toolalpaca_lora_chatglm3_6b_merged\", tools=tools)\n",
    "result.choices[0].message.content "
   ]
  }
 ],
 "metadata": {
  "kernelspec": {
   "display_name": "Python 3 (ipykernel)",
   "language": "python",
   "name": "python3"
  },
  "language_info": {
   "codemirror_mode": {
    "name": "ipython",
    "version": 3
   },
   "file_extension": ".py",
   "mimetype": "text/x-python",
   "name": "python",
   "nbconvert_exporter": "python",
   "pygments_lexer": "ipython3",
   "version": "3.10.13"
  }
 },
 "nbformat": 4,
 "nbformat_minor": 5
}
