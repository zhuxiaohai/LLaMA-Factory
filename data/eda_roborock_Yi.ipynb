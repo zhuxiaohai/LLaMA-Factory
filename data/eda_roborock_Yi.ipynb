{
 "cells": [
  {
   "cell_type": "code",
   "execution_count": 1,
   "id": "initial_id",
   "metadata": {
    "ExecuteTime": {
     "end_time": "2024-03-13T11:20:27.032380545Z",
     "start_time": "2024-03-13T11:20:25.667774724Z"
    }
   },
   "outputs": [],
   "source": [
    "import json\n",
    "import os \n",
    "import re\n",
    "import ast\n",
    "import copy \n",
    "from datasets import load_dataset\n",
    "import matplotlib.pyplot as plt \n",
    "import pandas as pd "
   ]
  },
  {
   "cell_type": "code",
   "execution_count": 2,
   "id": "205c1ca27cb3e3a",
   "metadata": {
    "collapsed": false,
    "ExecuteTime": {
     "end_time": "2024-03-13T11:20:33.188462899Z",
     "start_time": "2024-03-13T11:20:33.180296698Z"
    }
   },
   "outputs": [],
   "source": [
    "def convert_tools(input_string):\n",
    "    # Split the input string into separate functions using the pattern\n",
    "    pattern = r'(.*?):\\s(.*?)\\nParameters:\\s(.*?)\\nOutput:\\s(.*?)\\n\\s-\\sFormat:\\s(.*?)\\n\\s-\\sStructure:\\s(.*?)\\n'\n",
    "    functions = re.findall(pattern, input_string, re.DOTALL)\n",
    "    functions_list = []\n",
    "    # Iterate over the functions and print them out\n",
    "    for func in functions:\n",
    "        tool = {}\n",
    "        function_name, description, parameters, output, format_type, structure = func\n",
    "        tool[\"name\"] = function_name\n",
    "        tool[\"description\"] = description\n",
    "        parameters_dict = json.loads(parameters)\n",
    "        required_keys_list = []\n",
    "        for key in parameters_dict.keys():\n",
    "            value = parameters_dict[key]\n",
    "            required_loc = value.find(\"Required.\")\n",
    "            if required_loc >= 0:\n",
    "                required_keys_list.append(key)\n",
    "                value = value[required_loc+9:].strip()\n",
    "            key_type = value[:value.find('.')].strip()\n",
    "            key_description = value[value.find('.')+1:].strip()\n",
    "            new_value = {\"type\": key_type, \"description\": key_description}\n",
    "            parameters_dict[key] = new_value\n",
    "        tool[\"parameters\"] = {\"type\": \"object\", \"properties\": parameters_dict, \"required\": required_keys_list}\n",
    "        tool[\"output\"] = output\n",
    "        tool[\"format\"] = format_type\n",
    "        tool[\"structure\"] = structure\n",
    "        functions_list.append(tool)\n",
    "    return json.dumps(functions_list)"
   ]
  },
  {
   "cell_type": "code",
   "execution_count": 3,
   "id": "875f2e91670df3f",
   "metadata": {
    "collapsed": false,
    "ExecuteTime": {
     "end_time": "2024-03-13T11:20:33.765479395Z",
     "start_time": "2024-03-13T11:20:33.751077890Z"
    }
   },
   "outputs": [],
   "source": [
    "def format_example(example, tools=None):\n",
    "    new_example = {}\n",
    "    if tools:\n",
    "        new_example['tools'] = json.dumps(tools)\n",
    "    else:\n",
    "        new_example['tools'] = convert_tools(example['tools'][0])\n",
    "    conversations = []\n",
    "    if isinstance(example['conversations'], str):\n",
    "        conversations_raw = json.loads(example['conversations'])\n",
    "    else:\n",
    "        conversations_raw = example['conversations']\n",
    "    for item in conversations_raw:\n",
    "        new_item = {}\n",
    "        observation = None\n",
    "        if item['role'] == 'user':\n",
    "            new_item['from'] = 'human'\n",
    "            new_item['value'] = item['content']\n",
    "        elif item['role'] == 'assistant':\n",
    "            new_item['from'] = 'gpt'\n",
    "            new_item['value'] = item['content']\n",
    "        elif item['role'] == 'tool':\n",
    "            if conversations[-1]['from'] == 'gpt':\n",
    "                conversations.pop()\n",
    "            new_item['from'] = 'function_call'\n",
    "            new_item['value'] = json.dumps({'name': item['name'], 'arguments': item['parameters']})\n",
    "            if 'observation' in item:\n",
    "                observation = {'from': 'observation', 'value': item['observation']}\n",
    "        conversations.append(new_item)\n",
    "        if observation is not None:\n",
    "            conversations.append(observation)\n",
    "    new_example['conversations'] = conversations\n",
    "    return new_example"
   ]
  },
  {
   "cell_type": "code",
   "execution_count": 4,
   "id": "f1873391-af75-4ccd-8a9a-f1b41345d39d",
   "metadata": {
    "ExecuteTime": {
     "end_time": "2024-03-13T11:20:34.154751504Z",
     "start_time": "2024-03-13T11:20:34.151539072Z"
    }
   },
   "outputs": [],
   "source": [
    "def format_example_dev(example, tools=None):\n",
    "    new_example = {}\n",
    "    if tools:\n",
    "        new_example['tools'] = json.dumps(tools)\n",
    "    else:\n",
    "        new_example['tools'] = convert_tools(example['tools'][0])\n",
    "    conversations = []\n",
    "    if isinstance(example['conversations'], str):\n",
    "        conversations_raw = json.loads(example['conversations'])\n",
    "    else:\n",
    "        conversations_raw = example['conversations']\n",
    "    for item in conversations_raw:\n",
    "        new_item = {}\n",
    "        observation = None\n",
    "        if item['role'] == 'user':\n",
    "            new_item['from'] = 'human'\n",
    "            new_item['value'] = item['content']\n",
    "        elif item['role'] == 'assistant':\n",
    "            new_item['from'] = 'gpt'\n",
    "            new_item['value'] = item['content']\n",
    "        elif item['role'] == 'tool':\n",
    "            if conversations[-1]['from'] == 'gpt':\n",
    "                conversations.pop()\n",
    "            new_item['from'] = 'function_call'\n",
    "            new_item['value'] = json.dumps({'name': item['name'], 'arguments': item['parameters']})\n",
    "            if 'observation' in item:\n",
    "                observation = {'from': 'observation', 'value': item['observation']}\n",
    "        conversations.append(new_item)\n",
    "        if observation is not None:\n",
    "            conversations.append(observation)\n",
    "    new_example['conversations'] = conversations[:2]\n",
    "    return new_example"
   ]
  },
  {
   "cell_type": "code",
   "execution_count": 5,
   "id": "4e88017c-3af7-48a4-9db0-1c787a9414f4",
   "metadata": {
    "ExecuteTime": {
     "end_time": "2024-03-13T11:20:34.968924323Z",
     "start_time": "2024-03-13T11:20:34.965623473Z"
    }
   },
   "outputs": [],
   "source": [
    "# roborock 数据集"
   ]
  },
  {
   "cell_type": "code",
   "execution_count": 6,
   "id": "569dcf7f-d192-4f0c-94e8-c2035db641b5",
   "metadata": {
    "ExecuteTime": {
     "end_time": "2024-03-13T11:20:35.681894486Z",
     "start_time": "2024-03-13T11:20:35.420630622Z"
    }
   },
   "outputs": [],
   "source": [
    "with open('ToolAlpaca/data/formatted_data/robocontrol_dataset.jsonl', \"r\", encoding=\"utf-8\") as f:\n",
    "    if 'robocontrol_dataset.jsonl'.endswith(\".json\"):\n",
    "        train_data = json.load(f)\n",
    "    elif 'robocontrol_dataset.jsonl'.endswith(\".jsonl\"):\n",
    "        train_data = [json.loads(line) for line in f]"
   ]
  },
  {
   "cell_type": "code",
   "execution_count": 7,
   "id": "6a57dfa1-cfd7-477e-8d0c-bc07cc0428b4",
   "metadata": {
    "ExecuteTime": {
     "end_time": "2024-03-13T11:20:35.836901742Z",
     "start_time": "2024-03-13T11:20:35.791746735Z"
    }
   },
   "outputs": [],
   "source": [
    "with open('ToolAlpaca/data/formatted_data/robocontrol_dataset_testset.jsonl', \"r\", encoding=\"utf-8\") as f:\n",
    "    if 'robocontrol_dataset_testset.jsonl'.endswith(\".json\"):\n",
    "        dev_data = json.load(f)\n",
    "    elif 'robocontrol_dataset_testset.jsonl'.endswith(\".jsonl\"):\n",
    "        dev_data = [json.loads(line) for line in f]"
   ]
  },
  {
   "cell_type": "code",
   "execution_count": 8,
   "id": "0c1a7e97-63d6-41fe-a89e-11a4f9afa1bf",
   "metadata": {
    "ExecuteTime": {
     "end_time": "2024-03-13T11:20:36.039941437Z",
     "start_time": "2024-03-13T11:20:35.996769530Z"
    }
   },
   "outputs": [],
   "source": [
    "tools = json.loads(train_data[0]['tools'])"
   ]
  },
  {
   "cell_type": "code",
   "execution_count": 9,
   "id": "c76f6f30-54c0-4140-a7ab-d778c35e6106",
   "metadata": {
    "ExecuteTime": {
     "end_time": "2024-03-13T11:20:36.678872028Z",
     "start_time": "2024-03-13T11:20:36.669953505Z"
    }
   },
   "outputs": [
    {
     "name": "stdout",
     "output_type": "stream",
     "text": [
      "0 {'name': 'general_control', 'description': 'This API is used for controlling general tasks, typically providing control for listed user-defined tasks, or that is not directly tied to specific task types, or non-clean task', 'parameters': {'type': 'object', 'properties': {'action': {'type': 'string', 'enum': ['start', 'stop', 'pause', 'resume']}, 'user_defined_task': {'type': 'string', 'description': 'user-defined task described in user request'}}, 'required': ['operation_type']}}\n",
      "11 {'name': 'mapping', 'description': 'api for building map', 'parameters': {'type': 'object', 'properties': {'action': {'type': 'string', 'enum': ['start', 'stop', 'pause', 'resume']}}, 'required': ['operation_type']}}\n"
     ]
    }
   ],
   "source": [
    "for i in range(len(tools)):\n",
    "    tool = tools[i]\n",
    "    \n",
    "    if (tool['parameters'] is None):\n",
    "        tool['parameters'] = {'type': 'object', 'properties': {}}\n",
    "    elif tool['parameters'].get('properties', None) is None:\n",
    "        tool['parameters']['properties'] = {}\n",
    "    parameters = list(tool['parameters']['properties'].keys())\n",
    "    \n",
    "    required = tool['parameters'].get('required', None)\n",
    "    if required is None:\n",
    "        required = tool.get('required', None)\n",
    "        if required is None:\n",
    "            tool['parameters']['required'] = []\n",
    "        else:\n",
    "            tool['parameters']['required'] = required\n",
    "            \n",
    "    for name in tool['parameters']['required']:\n",
    "        if name not in parameters:\n",
    "            print(i, tool)\n",
    "            break"
   ]
  },
  {
   "cell_type": "code",
   "execution_count": 10,
   "id": "99b99f53-0245-4c9a-9957-56cec4dfca93",
   "metadata": {
    "ExecuteTime": {
     "end_time": "2024-03-13T11:20:37.578845704Z",
     "start_time": "2024-03-13T11:20:37.575476792Z"
    }
   },
   "outputs": [],
   "source": [
    "tool_name = \"mapping\""
   ]
  },
  {
   "cell_type": "code",
   "execution_count": 11,
   "id": "15c82f2b-b315-4683-936d-ad818742df8b",
   "metadata": {
    "ExecuteTime": {
     "end_time": "2024-03-13T11:20:38.589088030Z",
     "start_time": "2024-03-13T11:20:38.553607782Z"
    }
   },
   "outputs": [
    {
     "name": "stdout",
     "output_type": "stream",
     "text": [
      "{'action'}\n",
      "{1}\n"
     ]
    }
   ],
   "source": [
    "keys_list = []\n",
    "records = []\n",
    "len_records = []\n",
    "for i in range(len(train_data)):\n",
    "    if json.loads(train_data[i]['conversations'])[1][\"role\"] == \"tool\":\n",
    "        if json.loads(train_data[i]['conversations'])[1]['name'] == tool_name:\n",
    "            parameters = json.loads(train_data[i]['conversations'])[1]['parameters']\n",
    "            if parameters is None:\n",
    "                keys = []\n",
    "                keys_list += keys\n",
    "            else:\n",
    "                keys = list(parameters.keys())\n",
    "                keys_list += keys\n",
    "            records.append((i, len(keys)))\n",
    "            len_records.append(len(keys))\n",
    "    else:\n",
    "        assert json.loads(train_data[i]['conversations'])[1][\"role\"] == \"assistant\"\n",
    "print(set(keys_list))\n",
    "print(set(len_records))"
   ]
  },
  {
   "cell_type": "code",
   "execution_count": 12,
   "id": "379cc09e-0002-4949-a792-235bdbd5b5b1",
   "metadata": {
    "ExecuteTime": {
     "end_time": "2024-03-13T11:20:39.005246780Z",
     "start_time": "2024-03-13T11:20:39.001708303Z"
    }
   },
   "outputs": [],
   "source": [
    "tool_name = \"general_control\""
   ]
  },
  {
   "cell_type": "code",
   "execution_count": 13,
   "id": "b73e02f9-14e1-4f29-9812-71ea030596b2",
   "metadata": {
    "ExecuteTime": {
     "end_time": "2024-03-13T11:20:39.450417066Z",
     "start_time": "2024-03-13T11:20:39.407610637Z"
    }
   },
   "outputs": [
    {
     "name": "stdout",
     "output_type": "stream",
     "text": [
      "{'action', 'user_defined_task'}\n",
      "{1, 2}\n"
     ]
    }
   ],
   "source": [
    "keys_list = []\n",
    "records = []\n",
    "len_records = []\n",
    "for i in range(len(train_data)):\n",
    "    if json.loads(train_data[i]['conversations'])[1][\"role\"] == \"tool\":\n",
    "        if json.loads(train_data[i]['conversations'])[1]['name'] == tool_name:\n",
    "            parameters = json.loads(train_data[i]['conversations'])[1]['parameters']\n",
    "            if parameters is None:\n",
    "                keys = []\n",
    "                keys_list += keys\n",
    "            else:\n",
    "                keys = list(parameters.keys())\n",
    "                keys_list += keys\n",
    "            records.append((i, len(keys)))\n",
    "            len_records.append(len(keys))\n",
    "    else:\n",
    "        assert json.loads(train_data[i]['conversations'])[1][\"role\"] == \"assistant\"\n",
    "print(set(keys_list))\n",
    "print(set(len_records))"
   ]
  },
  {
   "cell_type": "code",
   "execution_count": 14,
   "id": "8570590a-e890-4a1e-8c7e-956c63a4ee92",
   "metadata": {
    "ExecuteTime": {
     "end_time": "2024-03-13T11:20:41.179318716Z",
     "start_time": "2024-03-13T11:20:41.116201235Z"
    }
   },
   "outputs": [
    {
     "name": "stdout",
     "output_type": "stream",
     "text": [
      "[{\"role\": \"user\", \"content\": \"Timeout\"}, {\"role\": \"tool\", \"name\": \"general_control\", \"parameters\": {\"action\": \"pause\"}}]\n",
      "[{\"role\": \"user\", \"content\": \"立即停止\"}, {\"role\": \"tool\", \"name\": \"general_control\", \"parameters\": {\"action\": \"stop\"}}]\n",
      "[{\"role\": \"user\", \"content\": \"稍等\"}, {\"role\": \"tool\", \"name\": \"general_control\", \"parameters\": {\"action\": \"pause\"}}]\n",
      "[{\"role\": \"user\", \"content\": \"给我开始\"}, {\"role\": \"tool\", \"name\": \"general_control\", \"parameters\": {\"action\": \"start\"}}]\n",
      "[{\"role\": \"user\", \"content\": \"恢复动作\"}, {\"role\": \"tool\", \"name\": \"general_control\", \"parameters\": {\"action\": \"resume\"}}]\n",
      "[{\"role\": \"user\", \"content\": \"启动任务\"}, {\"role\": \"tool\", \"name\": \"general_control\", \"parameters\": {\"action\": \"start\"}}]\n",
      "[{\"role\": \"user\", \"content\": \"Freeze\"}, {\"role\": \"tool\", \"name\": \"general_control\", \"parameters\": {\"action\": \"pause\"}}]\n",
      "[{\"role\": \"user\", \"content\": \"中断任务\"}, {\"role\": \"tool\", \"name\": \"general_control\", \"parameters\": {\"action\": \"pause\"}}]\n",
      "[{\"role\": \"user\", \"content\": \"继续前进\"}, {\"role\": \"tool\", \"name\": \"general_control\", \"parameters\": {\"action\": \"resume\"}}]\n",
      "[{\"role\": \"user\", \"content\": \"Restart the mission\"}, {\"role\": \"tool\", \"name\": \"general_control\", \"parameters\": {\"action\": \"start\"}}]\n",
      "[{\"role\": \"user\", \"content\": \"Energize\"}, {\"role\": \"tool\", \"name\": \"general_control\", \"parameters\": {\"action\": \"start\"}}]\n",
      "[{\"role\": \"user\", \"content\": \"待机状态\"}, {\"role\": \"tool\", \"name\": \"general_control\", \"parameters\": {\"action\": \"pause\"}}]\n",
      "[{\"role\": \"user\", \"content\": \"继续前进\"}, {\"role\": \"tool\", \"name\": \"general_control\", \"parameters\": {\"action\": \"resume\"}}]\n",
      "[{\"role\": \"user\", \"content\": \"Switch on\"}, {\"role\": \"tool\", \"name\": \"general_control\", \"parameters\": {\"action\": \"start\"}}]\n",
      "[{\"role\": \"user\", \"content\": \"继续运行\"}, {\"role\": \"tool\", \"name\": \"general_control\", \"parameters\": {\"action\": \"resume\"}}]\n",
      "[{\"role\": \"user\", \"content\": \"Put on hold\"}, {\"role\": \"tool\", \"name\": \"general_control\", \"parameters\": {\"action\": \"pause\"}}]\n",
      "[{\"role\": \"user\", \"content\": \"动起来\"}, {\"role\": \"tool\", \"name\": \"general_control\", \"parameters\": {\"action\": \"start\"}}]\n",
      "[{\"role\": \"user\", \"content\": \"Jump back in\"}, {\"role\": \"tool\", \"name\": \"general_control\", \"parameters\": {\"action\": \"resume\"}}]\n",
      "[{\"role\": \"user\", \"content\": \"Get back to it\"}, {\"role\": \"tool\", \"name\": \"general_control\", \"parameters\": {\"action\": \"resume\"}}]\n",
      "[{\"role\": \"user\", \"content\": \"暂停一下\"}, {\"role\": \"tool\", \"name\": \"general_control\", \"parameters\": {\"action\": \"pause\"}}]\n",
      "[{\"role\": \"user\", \"content\": \"启动一下\"}, {\"role\": \"tool\", \"name\": \"general_control\", \"parameters\": {\"action\": \"start\"}}]\n",
      "[{\"role\": \"user\", \"content\": \"再次执行\"}, {\"role\": \"tool\", \"name\": \"general_control\", \"parameters\": {\"action\": \"start\"}}]\n",
      "[{\"role\": \"user\", \"content\": \"小憩一会\"}, {\"role\": \"tool\", \"name\": \"general_control\", \"parameters\": {\"action\": \"pause\"}}]\n",
      "[{\"role\": \"user\", \"content\": \"重新开始\"}, {\"role\": \"tool\", \"name\": \"general_control\", \"parameters\": {\"action\": \"start\"}}]\n",
      "[{\"role\": \"user\", \"content\": \"运行\"}, {\"role\": \"tool\", \"name\": \"general_control\", \"parameters\": {\"action\": \"start\"}}]\n",
      "[{\"role\": \"user\", \"content\": \"Continue the drill\"}, {\"role\": \"tool\", \"name\": \"general_control\", \"parameters\": {\"action\": \"resume\"}}]\n",
      "[{\"role\": \"user\", \"content\": \"Carry on\"}, {\"role\": \"tool\", \"name\": \"general_control\", \"parameters\": {\"action\": \"resume\"}}]\n",
      "[{\"role\": \"user\", \"content\": \"Just a moment\"}, {\"role\": \"tool\", \"name\": \"general_control\", \"parameters\": {\"action\": \"pause\"}}]\n",
      "[{\"role\": \"user\", \"content\": \"稍等一下\"}, {\"role\": \"tool\", \"name\": \"general_control\", \"parameters\": {\"action\": \"pause\"}}]\n",
      "[{\"role\": \"user\", \"content\": \"Close out\"}, {\"role\": \"tool\", \"name\": \"general_control\", \"parameters\": {\"action\": \"stop\"}}]\n",
      "[{\"role\": \"user\", \"content\": \"全部中断\"}, {\"role\": \"tool\", \"name\": \"general_control\", \"parameters\": {\"action\": \"stop\"}}]\n",
      "[{\"role\": \"user\", \"content\": \"Get back on track\"}, {\"role\": \"tool\", \"name\": \"general_control\", \"parameters\": {\"action\": \"resume\"}}]\n",
      "[{\"role\": \"user\", \"content\": \"Hold off\"}, {\"role\": \"tool\", \"name\": \"general_control\", \"parameters\": {\"action\": \"pause\"}}]\n",
      "[{\"role\": \"user\", \"content\": \"Commence\"}, {\"role\": \"tool\", \"name\": \"general_control\", \"parameters\": {\"action\": \"start\"}}]\n",
      "[{\"role\": \"user\", \"content\": \"立即中止\"}, {\"role\": \"tool\", \"name\": \"general_control\", \"parameters\": {\"action\": \"stop\"}}]\n",
      "[{\"role\": \"user\", \"content\": \"中止活动\"}, {\"role\": \"tool\", \"name\": \"general_control\", \"parameters\": {\"action\": \"stop\"}}]\n",
      "[{\"role\": \"user\", \"content\": \"继续动作\"}, {\"role\": \"tool\", \"name\": \"general_control\", \"parameters\": {\"action\": \"resume\"}}]\n",
      "[{\"role\": \"user\", \"content\": \"Halt\"}, {\"role\": \"tool\", \"name\": \"general_control\", \"parameters\": {\"action\": \"stop\"}}]\n",
      "[{\"role\": \"user\", \"content\": \"恢复行动\"}, {\"role\": \"tool\", \"name\": \"general_control\", \"parameters\": {\"action\": \"resume\"}}]\n",
      "[{\"role\": \"user\", \"content\": \"稍作停留\"}, {\"role\": \"tool\", \"name\": \"general_control\", \"parameters\": {\"action\": \"pause\"}}]\n",
      "[{\"role\": \"user\", \"content\": \"Roll out\"}, {\"role\": \"tool\", \"name\": \"general_control\", \"parameters\": {\"action\": \"start\"}}]\n",
      "[{\"role\": \"user\", \"content\": \"Conclude\"}, {\"role\": \"tool\", \"name\": \"general_control\", \"parameters\": {\"action\": \"stop\"}}]\n",
      "[{\"role\": \"user\", \"content\": \"中断任务\"}, {\"role\": \"tool\", \"name\": \"general_control\", \"parameters\": {\"action\": \"stop\"}}]\n",
      "[{\"role\": \"user\", \"content\": \"Wrap up\"}, {\"role\": \"tool\", \"name\": \"general_control\", \"parameters\": {\"action\": \"stop\"}}]\n",
      "[{\"role\": \"user\", \"content\": \"Wind up\"}, {\"role\": \"tool\", \"name\": \"general_control\", \"parameters\": {\"action\": \"stop\"}}]\n",
      "[{\"role\": \"user\", \"content\": \"Jumpstart\"}, {\"role\": \"tool\", \"name\": \"general_control\", \"parameters\": {\"action\": \"start\"}}]\n",
      "[{\"role\": \"user\", \"content\": \"Delay\"}, {\"role\": \"tool\", \"name\": \"general_control\", \"parameters\": {\"action\": \"pause\"}}]\n",
      "[{\"role\": \"user\", \"content\": \"Power on\"}, {\"role\": \"tool\", \"name\": \"general_control\", \"parameters\": {\"action\": \"start\"}}]\n",
      "[{\"role\": \"user\", \"content\": \"Recommence\"}, {\"role\": \"tool\", \"name\": \"general_control\", \"parameters\": {\"action\": \"resume\"}}]\n",
      "[{\"role\": \"user\", \"content\": \"Power down\"}, {\"role\": \"tool\", \"name\": \"general_control\", \"parameters\": {\"action\": \"stop\"}}]\n",
      "[{\"role\": \"user\", \"content\": \"起动\"}, {\"role\": \"tool\", \"name\": \"general_control\", \"parameters\": {\"action\": \"start\"}}]\n",
      "[{\"role\": \"user\", \"content\": \"正式启动\"}, {\"role\": \"tool\", \"name\": \"general_control\", \"parameters\": {\"action\": \"start\"}}]\n",
      "[{\"role\": \"user\", \"content\": \"Break off for a while\"}, {\"role\": \"tool\", \"name\": \"general_control\", \"parameters\": {\"action\": \"pause\"}}]\n",
      "[{\"role\": \"user\", \"content\": \"Seal off\"}, {\"role\": \"tool\", \"name\": \"general_control\", \"parameters\": {\"action\": \"stop\"}}]\n",
      "[{\"role\": \"user\", \"content\": \"激活任务\"}, {\"role\": \"tool\", \"name\": \"general_control\", \"parameters\": {\"action\": \"start\"}}]\n",
      "[{\"role\": \"user\", \"content\": \"别动\"}, {\"role\": \"tool\", \"name\": \"general_control\", \"parameters\": {\"action\": \"pause\"}}]\n",
      "[{\"role\": \"user\", \"content\": \"启动任务\"}, {\"role\": \"tool\", \"name\": \"general_control\", \"parameters\": {\"action\": \"start\"}}]\n",
      "[{\"role\": \"user\", \"content\": \"动作开始\"}, {\"role\": \"tool\", \"name\": \"general_control\", \"parameters\": {\"action\": \"start\"}}]\n",
      "[{\"role\": \"user\", \"content\": \"Intermission\"}, {\"role\": \"tool\", \"name\": \"general_control\", \"parameters\": {\"action\": \"pause\"}}]\n",
      "[{\"role\": \"user\", \"content\": \"等一等\"}, {\"role\": \"tool\", \"name\": \"general_control\", \"parameters\": {\"action\": \"pause\"}}]\n",
      "[{\"role\": \"user\", \"content\": \"Initiate\"}, {\"role\": \"tool\", \"name\": \"general_control\", \"parameters\": {\"action\": \"start\"}}]\n",
      "[{\"role\": \"user\", \"content\": \"Give it a sec\"}, {\"role\": \"tool\", \"name\": \"general_control\", \"parameters\": {\"action\": \"pause\"}}]\n",
      "[{\"role\": \"user\", \"content\": \"开始吧\"}, {\"role\": \"tool\", \"name\": \"general_control\", \"parameters\": {\"action\": \"start\"}}]\n",
      "[{\"role\": \"user\", \"content\": \"暂缓活动\"}, {\"role\": \"tool\", \"name\": \"general_control\", \"parameters\": {\"action\": \"pause\"}}]\n",
      "[{\"role\": \"user\", \"content\": \"稍作停顿\"}, {\"role\": \"tool\", \"name\": \"general_control\", \"parameters\": {\"action\": \"pause\"}}]\n",
      "[{\"role\": \"user\", \"content\": \"重启动\"}, {\"role\": \"tool\", \"name\": \"general_control\", \"parameters\": {\"action\": \"start\"}}]\n",
      "[{\"role\": \"user\", \"content\": \"Stand by\"}, {\"role\": \"tool\", \"name\": \"general_control\", \"parameters\": {\"action\": \"pause\"}}]\n",
      "[{\"role\": \"user\", \"content\": \"Fire up\"}, {\"role\": \"tool\", \"name\": \"general_control\", \"parameters\": {\"action\": \"start\"}}]\n",
      "[{\"role\": \"user\", \"content\": \"重启任务\"}, {\"role\": \"tool\", \"name\": \"general_control\", \"parameters\": {\"action\": \"start\"}}]\n",
      "[{\"role\": \"user\", \"content\": \"完结\"}, {\"role\": \"tool\", \"name\": \"general_control\", \"parameters\": {\"action\": \"stop\"}}]\n",
      "[{\"role\": \"user\", \"content\": \"Activate\"}, {\"role\": \"tool\", \"name\": \"general_control\", \"parameters\": {\"action\": \"start\"}}]\n",
      "[{\"role\": \"user\", \"content\": \"结束动作\"}, {\"role\": \"tool\", \"name\": \"general_control\", \"parameters\": {\"action\": \"stop\"}}]\n",
      "[{\"role\": \"user\", \"content\": \"Intermit\"}, {\"role\": \"tool\", \"name\": \"general_control\", \"parameters\": {\"action\": \"pause\"}}]\n",
      "[{\"role\": \"user\", \"content\": \"Push forward\"}, {\"role\": \"tool\", \"name\": \"general_control\", \"parameters\": {\"action\": \"resume\"}}]\n",
      "[{\"role\": \"user\", \"content\": \"启动\"}, {\"role\": \"tool\", \"name\": \"general_control\", \"parameters\": {\"action\": \"start\"}}]\n",
      "[{\"role\": \"user\", \"content\": \"结束一切\"}, {\"role\": \"tool\", \"name\": \"general_control\", \"parameters\": {\"action\": \"stop\"}}]\n",
      "[{\"role\": \"user\", \"content\": \"Cease\"}, {\"role\": \"tool\", \"name\": \"general_control\", \"parameters\": {\"action\": \"stop\"}}]\n",
      "[{\"role\": \"user\", \"content\": \"Engage\"}, {\"role\": \"tool\", \"name\": \"general_control\", \"parameters\": {\"action\": \"start\"}}]\n",
      "[{\"role\": \"user\", \"content\": \"停下来\"}, {\"role\": \"tool\", \"name\": \"general_control\", \"parameters\": {\"action\": \"stop\"}}]\n",
      "[{\"role\": \"user\", \"content\": \"停下来\"}, {\"role\": \"tool\", \"name\": \"general_control\", \"parameters\": {\"action\": \"stop\"}}]\n",
      "[{\"role\": \"user\", \"content\": \"走起\"}, {\"role\": \"tool\", \"name\": \"general_control\", \"parameters\": {\"action\": \"start\"}}]\n",
      "[{\"role\": \"user\", \"content\": \"重启\"}, {\"role\": \"tool\", \"name\": \"general_control\", \"parameters\": {\"action\": \"start\"}}]\n",
      "[{\"role\": \"user\", \"content\": \"Terminate\"}, {\"role\": \"tool\", \"name\": \"general_control\", \"parameters\": {\"action\": \"stop\"}}]\n",
      "[{\"role\": \"user\", \"content\": \"稍作停顿\"}, {\"role\": \"tool\", \"name\": \"general_control\", \"parameters\": {\"action\": \"pause\"}}]\n",
      "[{\"role\": \"user\", \"content\": \"中止\"}, {\"role\": \"tool\", \"name\": \"general_control\", \"parameters\": {\"action\": \"stop\"}}]\n",
      "[{\"role\": \"user\", \"content\": \"Engage\"}, {\"role\": \"tool\", \"name\": \"general_control\", \"parameters\": {\"action\": \"start\"}}]\n",
      "[{\"role\": \"user\", \"content\": \"再次运行\"}, {\"role\": \"tool\", \"name\": \"general_control\", \"parameters\": {\"action\": \"resume\"}}]\n",
      "[{\"role\": \"user\", \"content\": \"Break off\"}, {\"role\": \"tool\", \"name\": \"general_control\", \"parameters\": {\"action\": \"pause\"}}]\n",
      "[{\"role\": \"user\", \"content\": \"Roll out\"}, {\"role\": \"tool\", \"name\": \"general_control\", \"parameters\": {\"action\": \"start\"}}]\n",
      "[{\"role\": \"user\", \"content\": \"Power down\"}, {\"role\": \"tool\", \"name\": \"general_control\", \"parameters\": {\"action\": \"stop\"}}]\n",
      "[{\"role\": \"user\", \"content\": \"Back on track\"}, {\"role\": \"tool\", \"name\": \"general_control\", \"parameters\": {\"action\": \"resume\"}}]\n",
      "[{\"role\": \"user\", \"content\": \"小休一下\"}, {\"role\": \"tool\", \"name\": \"general_control\", \"parameters\": {\"action\": \"pause\"}}]\n",
      "[{\"role\": \"user\", \"content\": \"停下\"}, {\"role\": \"tool\", \"name\": \"general_control\", \"parameters\": {\"action\": \"stop\"}}]\n",
      "[{\"role\": \"user\", \"content\": \"回归任务\"}, {\"role\": \"tool\", \"name\": \"general_control\", \"parameters\": {\"action\": \"resume\"}}]\n",
      "[{\"role\": \"user\", \"content\": \"Pick up where you left off\"}, {\"role\": \"tool\", \"name\": \"general_control\", \"parameters\": {\"action\": \"resume\"}}]\n",
      "[{\"role\": \"user\", \"content\": \"Resume course\"}, {\"role\": \"tool\", \"name\": \"general_control\", \"parameters\": {\"action\": \"resume\"}}]\n",
      "[{\"role\": \"user\", \"content\": \"Forward\"}, {\"role\": \"tool\", \"name\": \"general_control\", \"parameters\": {\"action\": \"start\"}}]\n",
      "[{\"role\": \"user\", \"content\": \"中止工作\"}, {\"role\": \"tool\", \"name\": \"general_control\", \"parameters\": {\"action\": \"stop\"}}]\n",
      "[{\"role\": \"user\", \"content\": \"停一停\"}, {\"role\": \"tool\", \"name\": \"general_control\", \"parameters\": {\"action\": \"pause\"}}]\n",
      "[{\"role\": \"user\", \"content\": \"Time out\"}, {\"role\": \"tool\", \"name\": \"general_control\", \"parameters\": {\"action\": \"pause\"}}]\n",
      "[{\"role\": \"user\", \"content\": \"Break\"}, {\"role\": \"tool\", \"name\": \"general_control\", \"parameters\": {\"action\": \"pause\"}}]\n",
      "[{\"role\": \"user\", \"content\": \"再次开始\"}, {\"role\": \"tool\", \"name\": \"general_control\", \"parameters\": {\"action\": \"start\"}}]\n",
      "[{\"role\": \"user\", \"content\": \"Gear up\"}, {\"role\": \"tool\", \"name\": \"general_control\", \"parameters\": {\"action\": \"start\"}}]\n",
      "[{\"role\": \"user\", \"content\": \"稍作休息\"}, {\"role\": \"tool\", \"name\": \"general_control\", \"parameters\": {\"action\": \"pause\"}}]\n",
      "[{\"role\": \"user\", \"content\": \"End\"}, {\"role\": \"tool\", \"name\": \"general_control\", \"parameters\": {\"action\": \"stop\"}}]\n",
      "[{\"role\": \"user\", \"content\": \"Hold tight\"}, {\"role\": \"tool\", \"name\": \"general_control\", \"parameters\": {\"action\": \"pause\"}}]\n",
      "[{\"role\": \"user\", \"content\": \"恢复行动\"}, {\"role\": \"tool\", \"name\": \"general_control\", \"parameters\": {\"action\": \"resume\"}}]\n",
      "[{\"role\": \"user\", \"content\": \"Regain momentum\"}, {\"role\": \"tool\", \"name\": \"general_control\", \"parameters\": {\"action\": \"resume\"}}]\n",
      "[{\"role\": \"user\", \"content\": \"激活\"}, {\"role\": \"tool\", \"name\": \"general_control\", \"parameters\": {\"action\": \"start\"}}]\n",
      "[{\"role\": \"user\", \"content\": \"暂停下\"}, {\"role\": \"tool\", \"name\": \"general_control\", \"parameters\": {\"action\": \"pause\"}}]\n",
      "[{\"role\": \"user\", \"content\": \"全速启动\"}, {\"role\": \"tool\", \"name\": \"general_control\", \"parameters\": {\"action\": \"start\"}}]\n",
      "[{\"role\": \"user\", \"content\": \"Reactivate\"}, {\"role\": \"tool\", \"name\": \"general_control\", \"parameters\": {\"action\": \"start\"}}]\n",
      "[{\"role\": \"user\", \"content\": \"Fire up\"}, {\"role\": \"tool\", \"name\": \"general_control\", \"parameters\": {\"action\": \"start\"}}]\n",
      "[{\"role\": \"user\", \"content\": \"等待\"}, {\"role\": \"tool\", \"name\": \"general_control\", \"parameters\": {\"action\": \"pause\"}}]\n",
      "[{\"role\": \"user\", \"content\": \"Launch\"}, {\"role\": \"tool\", \"name\": \"general_control\", \"parameters\": {\"action\": \"start\"}}]\n",
      "[{\"role\": \"user\", \"content\": \"暂停一下下\"}, {\"role\": \"tool\", \"name\": \"general_control\", \"parameters\": {\"action\": \"pause\"}}]\n",
      "[{\"role\": \"user\", \"content\": \"开始动作\"}, {\"role\": \"tool\", \"name\": \"general_control\", \"parameters\": {\"action\": \"start\"}}]\n",
      "[{\"role\": \"user\", \"content\": \"Turn on\"}, {\"role\": \"tool\", \"name\": \"general_control\", \"parameters\": {\"action\": \"start\"}}]\n",
      "[{\"role\": \"user\", \"content\": \"中断\"}, {\"role\": \"tool\", \"name\": \"general_control\", \"parameters\": {\"action\": \"pause\"}}]\n",
      "[{\"role\": \"user\", \"content\": \"放弃工作\"}, {\"role\": \"tool\", \"name\": \"general_control\", \"parameters\": {\"action\": \"stop\"}}]\n",
      "[{\"role\": \"user\", \"content\": \"终结\"}, {\"role\": \"tool\", \"name\": \"general_control\", \"parameters\": {\"action\": \"stop\"}}]\n",
      "[{\"role\": \"user\", \"content\": \"Finalize\"}, {\"role\": \"tool\", \"name\": \"general_control\", \"parameters\": {\"action\": \"stop\"}}]\n",
      "[{\"role\": \"user\", \"content\": \"暂停运行\"}, {\"role\": \"tool\", \"name\": \"general_control\", \"parameters\": {\"action\": \"pause\"}}]\n",
      "[{\"role\": \"user\", \"content\": \"Stay put\"}, {\"role\": \"tool\", \"name\": \"general_control\", \"parameters\": {\"action\": \"pause\"}}]\n",
      "[{\"role\": \"user\", \"content\": \"Commence activity\"}, {\"role\": \"tool\", \"name\": \"general_control\", \"parameters\": {\"action\": \"start\"}}]\n",
      "[{\"role\": \"user\", \"content\": \"继续你的行动\"}, {\"role\": \"tool\", \"name\": \"general_control\", \"parameters\": {\"action\": \"resume\"}}]\n",
      "[{\"role\": \"user\", \"content\": \"恢复\"}, {\"role\": \"tool\", \"name\": \"general_control\", \"parameters\": {\"action\": \"resume\"}}]\n",
      "[{\"role\": \"user\", \"content\": \"Trigger\"}, {\"role\": \"tool\", \"name\": \"general_control\", \"parameters\": {\"action\": \"start\"}}]\n",
      "[{\"role\": \"user\", \"content\": \"Perform a cleanup, please.\"}, {\"role\": \"tool\", \"name\": \"general_control\", \"parameters\": {\"action\": \"start\"}}]\n",
      "[{\"role\": \"user\", \"content\": \"Shut down\"}, {\"role\": \"tool\", \"name\": \"general_control\", \"parameters\": {\"action\": \"stop\"}}]\n",
      "[{\"role\": \"user\", \"content\": \"开始你的表演\"}, {\"role\": \"tool\", \"name\": \"general_control\", \"parameters\": {\"action\": \"start\"}}]\n",
      "[{\"role\": \"user\", \"content\": \"继续任务\"}, {\"role\": \"tool\", \"name\": \"general_control\", \"parameters\": {\"action\": \"resume\"}}]\n",
      "[{\"role\": \"user\", \"content\": \"静止\"}, {\"role\": \"tool\", \"name\": \"general_control\", \"parameters\": {\"action\": \"pause\"}}]\n",
      "[{\"role\": \"user\", \"content\": \"不要继续了\"}, {\"role\": \"tool\", \"name\": \"general_control\", \"parameters\": {\"action\": \"stop\"}}]\n",
      "[{\"role\": \"user\", \"content\": \"Take five\"}, {\"role\": \"tool\", \"name\": \"general_control\", \"parameters\": {\"action\": \"pause\"}}]\n",
      "[{\"role\": \"user\", \"content\": \"暂缓\"}, {\"role\": \"tool\", \"name\": \"general_control\", \"parameters\": {\"action\": \"pause\"}}]\n",
      "[{\"role\": \"user\", \"content\": \"Hold tight\"}, {\"role\": \"tool\", \"name\": \"general_control\", \"parameters\": {\"action\": \"pause\"}}]\n",
      "[{\"role\": \"user\", \"content\": \"小憩一会\"}, {\"role\": \"tool\", \"name\": \"general_control\", \"parameters\": {\"action\": \"pause\"}}]\n",
      "[{\"role\": \"user\", \"content\": \"执行吧\"}, {\"role\": \"tool\", \"name\": \"general_control\", \"parameters\": {\"action\": \"start\"}}]\n",
      "[{\"role\": \"user\", \"content\": \"开始行动\"}, {\"role\": \"tool\", \"name\": \"general_control\", \"parameters\": {\"action\": \"start\"}}]\n",
      "[{\"role\": \"user\", \"content\": \"展开任务\"}, {\"role\": \"tool\", \"name\": \"general_control\", \"parameters\": {\"action\": \"start\"}}]\n",
      "[{\"role\": \"user\", \"content\": \"停止一切\"}, {\"role\": \"tool\", \"name\": \"general_control\", \"parameters\": {\"action\": \"stop\"}}]\n",
      "[{\"role\": \"user\", \"content\": \"Conclude\"}, {\"role\": \"tool\", \"name\": \"general_control\", \"parameters\": {\"action\": \"stop\"}}]\n",
      "[{\"role\": \"user\", \"content\": \"Disengage\"}, {\"role\": \"tool\", \"name\": \"general_control\", \"parameters\": {\"action\": \"stop\"}}]\n",
      "[{\"role\": \"user\", \"content\": \"Suspend\"}, {\"role\": \"tool\", \"name\": \"general_control\", \"parameters\": {\"action\": \"pause\"}}]\n",
      "[{\"role\": \"user\", \"content\": \"Restart\"}, {\"role\": \"tool\", \"name\": \"general_control\", \"parameters\": {\"action\": \"start\"}}]\n",
      "[{\"role\": \"user\", \"content\": \"再来\"}, {\"role\": \"tool\", \"name\": \"general_control\", \"parameters\": {\"action\": \"start\"}}]\n",
      "[{\"role\": \"user\", \"content\": \"彻底停下\"}, {\"role\": \"tool\", \"name\": \"general_control\", \"parameters\": {\"action\": \"stop\"}}]\n",
      "[{\"role\": \"user\", \"content\": \"Hang on\"}, {\"role\": \"tool\", \"name\": \"general_control\", \"parameters\": {\"action\": \"pause\"}}]\n",
      "[{\"role\": \"user\", \"content\": \"一切准备好了\"}, {\"role\": \"tool\", \"name\": \"general_control\", \"parameters\": {\"action\": \"start\"}}]\n",
      "[{\"role\": \"user\", \"content\": \"时间到了\"}, {\"role\": \"tool\", \"name\": \"general_control\", \"parameters\": {\"action\": \"start\"}}]\n",
      "[{\"role\": \"user\", \"content\": \"Reengage\"}, {\"role\": \"tool\", \"name\": \"general_control\", \"parameters\": {\"action\": \"resume\"}}]\n",
      "[{\"role\": \"user\", \"content\": \"Wrap things up\"}, {\"role\": \"tool\", \"name\": \"general_control\", \"parameters\": {\"action\": \"stop\"}}]\n",
      "[{\"role\": \"user\", \"content\": \"Wind up\"}, {\"role\": \"tool\", \"name\": \"general_control\", \"parameters\": {\"action\": \"stop\"}}]\n",
      "[{\"role\": \"user\", \"content\": \"Boot up\"}, {\"role\": \"tool\", \"name\": \"general_control\", \"parameters\": {\"action\": \"start\"}}]\n",
      "[{\"role\": \"user\", \"content\": \"延缓任务\"}, {\"role\": \"tool\", \"name\": \"general_control\", \"parameters\": {\"action\": \"pause\"}}]\n",
      "[{\"role\": \"user\", \"content\": \"继续吧\"}, {\"role\": \"tool\", \"name\": \"general_control\", \"parameters\": {\"action\": \"resume\"}}]\n",
      "[{\"role\": \"user\", \"content\": \"Dive back in\"}, {\"role\": \"tool\", \"name\": \"general_control\", \"parameters\": {\"action\": \"resume\"}}]\n",
      "[{\"role\": \"user\", \"content\": \"准备行动\"}, {\"role\": \"tool\", \"name\": \"general_control\", \"parameters\": {\"action\": \"start\"}}]\n",
      "[{\"role\": \"user\", \"content\": \"不要再进行了\"}, {\"role\": \"tool\", \"name\": \"general_control\", \"parameters\": {\"action\": \"stop\"}}]\n",
      "[{\"role\": \"user\", \"content\": \"Hold that thought\"}, {\"role\": \"tool\", \"name\": \"general_control\", \"parameters\": {\"action\": \"pause\"}}]\n",
      "[{\"role\": \"user\", \"content\": \"简单暂停\"}, {\"role\": \"tool\", \"name\": \"general_control\", \"parameters\": {\"action\": \"pause\"}}]\n",
      "[{\"role\": \"user\", \"content\": \"Unplug\"}, {\"role\": \"tool\", \"name\": \"general_control\", \"parameters\": {\"action\": \"stop\"}}]\n"
     ]
    }
   ],
   "source": [
    "for i in records:\n",
    "    if i[1] == 1:\n",
    "        print(train_data[i[0]]['conversations'])"
   ]
  },
  {
   "cell_type": "code",
   "execution_count": 15,
   "id": "ee532d32-ab2a-4531-a1a0-e3e3b90d1bbd",
   "metadata": {
    "ExecuteTime": {
     "end_time": "2024-03-13T11:20:44.311700728Z",
     "start_time": "2024-03-13T11:20:44.301265335Z"
    }
   },
   "outputs": [],
   "source": [
    "tools[0]['parameters']['required'] = ['action']\n",
    "tools[11]['parameters']['required'] = ['action']"
   ]
  },
  {
   "cell_type": "code",
   "execution_count": 16,
   "id": "56b9c518-88d4-4069-b125-d9d2a28e207a",
   "metadata": {
    "ExecuteTime": {
     "end_time": "2024-03-13T11:20:44.882378570Z",
     "start_time": "2024-03-13T11:20:44.875468714Z"
    }
   },
   "outputs": [],
   "source": [
    "for i in range(len(tools)):\n",
    "    tool = tools[i]\n",
    "    assert 'properties' in tool['parameters']\n",
    "    assert isinstance(tool['parameters']['properties'], dict)\n",
    "    assert 'required' in tool['parameters']\n",
    "    assert isinstance(tool['parameters']['required'], list)"
   ]
  },
  {
   "cell_type": "code",
   "execution_count": 17,
   "id": "66063cd4-6ea1-4bd5-b900-9b51d23582d8",
   "metadata": {
    "ExecuteTime": {
     "end_time": "2024-03-13T11:20:45.836919065Z",
     "start_time": "2024-03-13T11:20:45.357653763Z"
    }
   },
   "outputs": [],
   "source": [
    "train_data_new = []\n",
    "for i in range(len(train_data)):\n",
    "    try:\n",
    "        train_data_new.append(format_example(train_data[i], tools))\n",
    "    except:\n",
    "        # print(i)\n",
    "        pass"
   ]
  },
  {
   "cell_type": "code",
   "execution_count": 18,
   "id": "4beef5c3-3951-4396-8f04-41555cad72c7",
   "metadata": {
    "ExecuteTime": {
     "end_time": "2024-03-13T11:20:45.853618017Z",
     "start_time": "2024-03-13T11:20:45.844985278Z"
    }
   },
   "outputs": [
    {
     "data": {
      "text/plain": "3232"
     },
     "execution_count": 18,
     "metadata": {},
     "output_type": "execute_result"
    }
   ],
   "source": [
    "len(train_data_new)"
   ]
  },
  {
   "cell_type": "code",
   "execution_count": 19,
   "id": "017e48d7-ef3a-4486-8488-c8b13d4537bb",
   "metadata": {
    "ExecuteTime": {
     "end_time": "2024-03-13T11:20:46.493304763Z",
     "start_time": "2024-03-13T11:20:46.397610190Z"
    }
   },
   "outputs": [],
   "source": [
    "dev_data_new = []\n",
    "for i in range(len(dev_data)):\n",
    "    try:\n",
    "        dev_data_new.append(format_example_dev(dev_data[i], tools))\n",
    "    except:\n",
    "        # print(i)\n",
    "        pass"
   ]
  },
  {
   "cell_type": "code",
   "execution_count": 20,
   "id": "220a145a-357d-4aad-a619-7871fc3ec010",
   "metadata": {
    "ExecuteTime": {
     "end_time": "2024-03-13T11:20:46.901817481Z",
     "start_time": "2024-03-13T11:20:46.896751336Z"
    }
   },
   "outputs": [
    {
     "data": {
      "text/plain": "1078"
     },
     "execution_count": 20,
     "metadata": {},
     "output_type": "execute_result"
    }
   ],
   "source": [
    "len(dev_data_new)"
   ]
  },
  {
   "cell_type": "code",
   "execution_count": 22,
   "id": "ce8e464e-d5ae-4209-bbd1-991c2b9c5067",
   "metadata": {
    "ExecuteTime": {
     "end_time": "2024-01-25T11:38:44.914988243Z",
     "start_time": "2024-01-25T11:38:44.877050174Z"
    }
   },
   "outputs": [
    {
     "data": {
      "text/plain": "{'tools': '[{\"name\": \"general_control\", \"description\": \"This API is used for controlling general tasks, typically providing control for listed user-defined tasks, or that is not directly tied to specific task types, or non-clean task\", \"parameters\": {\"type\": \"object\", \"properties\": {\"action\": {\"type\": \"string\", \"enum\": [\"start\", \"stop\", \"pause\", \"resume\"]}, \"user_defined_task\": {\"type\": \"string\", \"description\": \"user-defined task described in user request\"}}, \"required\": [\"action\"]}}, {\"name\": \"clean\", \"description\": \"Initiate a task of an immediate or unscheduled cleaning or partial clean, i.e., cleaning a part while leaving another part untouched.\", \"parameters\": {\"type\": \"object\", \"properties\": {\"action\": {\"type\": \"string\", \"enum\": [\"start\", \"stop\", \"pause\", \"resume\"]}, \"location\": {\"type\": \"string\", \"description\": \"Fill in the description of the location from the user request word for word, using the same language as in the user\\'s description of the location.\"}, \"tool\": {\"type\": \"string\", \"enum\": [\"vacuum only/\\\\u626b\", \"mop only/\\\\u62d6/\\\\u64e6\", \"vacuum and mop\"], \"default\": \"vacuum and mop\", \"description\": \"\\'vacuum and mop\\' means vacuum and mop the floor at the same time, \\'vacuum only\\' is only vacuum, in Chinese, \\'\\\\u626b\\' is \\'vacuum only\\', \\'\\\\u6e05\\\\u626b\\' is \\'vacuum and mop\\'\"}, \"total_count\": {\"type\": \"number\", \"default\": 1, \"description\": \"The total count of the operation that is repeated within a single action.\"}, \"special_mode\": {\"type\": \"string\", \"enum\": [\"local\", \"custom\"], \"description\": \"for local clean or custom clean\"}}, \"required\": [\"action\", \"tool\"]}}, {\"name\": \"do_not_or_skip_clean\", \"description\": \"This API is used when the user only requests not or skip to clean a certain area.\", \"parameters\": {\"type\": \"object\", \"properties\": {\"location\": {\"type\": \"string\", \"description\": \"Fill in the description of the location from the user request word for word, using the same language as in the user\\'s description of the location.\"}}, \"required\": [\"location\"]}}, {\"name\": \"schedule_operation\", \"description\": \"create clean task, or query or delete scheduled clean tasks. (other task not supported)\", \"parameters\": {\"type\": \"object\", \"properties\": {\"operation_type\": {\"type\": \"string\", \"enum\": [\"create\", \"query\", \"delete\"]}, \"clean_action\": {\"type\": \"string\", \"enum\": [\"start\", \"stop\", \"pause\", \"resume\"]}, \"clean_tool\": {\"type\": \"string\", \"enum\": [\"vacuum only/\\\\u626b\", \"mop only/\\\\u62d6/\\\\u64e6\", \"vacuum and mop\"], \"default\": \"vacuum and mop\", \"description\": \"\\'vacuum and mop\\' refers to both vacuuming and mopping the floor.\"}, \"total_count\": {\"type\": \"number\", \"default\": 1, \"description\": \"The total count of the operation that is repeated within a single action.\"}, \"location\": {\"type\": \"string\", \"description\": \"fill the Description text of the location in the user request here, without excessive transformation, ideally word for word.\"}, \"time\": {\"type\": \"string\", \"description\": \"fill the description text of the time in the user request here, without excessive transformation, ideally word for word.\"}, \"index_from\": {\"type\": \"integer\", \"description\": \"the beginning index of the schedule, 1 for newest/recent/first, 2 for second recent, -1 for last/final, -2 for the second-to-last item, and so on\"}, \"index_to\": {\"type\": \"integer\", \"description\": \"the end index of the schedule, 1 for newest/recent/first, 2 for second recent, -1 for last/final, -2 for the second-to-last item, and so on\"}, \"relative\": {\"type\": \"string\", \"enum\": [\"next\", \"previous\"]}}, \"required\": [\"operation_type\"]}}, {\"name\": \"move\", \"description\": \"perform a move operation\", \"parameters\": {\"type\": \"object\", \"properties\": {\"location\": {\"type\": \"string\", \"description\": \"location description in the user request\"}}, \"required\": [\"location\"]}, \"required\": [\"location\"]}, {\"name\": \"set_object_property\", \"description\": \"change sensors or peripherals state\", \"parameters\": {\"type\": \"object\", \"properties\": {\"property_name\": {\"type\": \"string\", \"description\": \"vaccum robot properties\", \"enum\": [\"LED/\\\\u706f\", \"suction power\", \"water flow and scrub intensity/\\\\u6c34\\\\u91cf\\\\u548c\\\\u64e6\\\\u5730\\\\u529b\\\\u5ea6\", \"carpet boost/\\\\u5730\\\\u6bef\\\\u589e\\\\u538b\", \"Route/\\\\u8def\\\\u7ebf\\\\u504f\\\\u597d\", \"mop wash mode/\\\\u6d17\\\\u5e03\\\\u6a21\\\\u5f0f\", \"volume/\\\\u97f3\\\\u91cf\", \"auto collect dust/auto emptying/\\\\u81ea\\\\u52a8\\\\u96c6\\\\u5c18\", \"mop wash mode/\\\\u6d17\\\\u5e03\\\\u6a21\\\\u5f0f\", \"working level/\\\\u5de5\\\\u4f5c\\\\u6863\\\\u4f4d/\\\\u6863\\\\u4f4d\", \"clean mode/vacuum or mop mode/\\\\u626b\\\\u62d6\\\\u6a21\\\\u5f0f\"]}, \"property_value\": {\"type\": \"string or integer\", \"description\": \"the property value, details in value table\", \"value_table\": [{\"property_name\": \"LED/\\\\u706f\", \"property_values\": {\"proper nouns\": [\"on\", \"off\"]}}, {\"property_name\": \"suction power\", \"property_values\": {\"proper nouns\": [\"Quiet/\\\\u5b89\\\\u9759/lowest\", \"Balanced/\\\\u6807\\\\u51c6/lower\", \"Turbo/\\\\u5f3a\\\\u529b/medium\", \"Max/higher\", \"Max+/highest\"], \"scales\": [1, 2, 3, 4, 5], \"relational terms\": [\"turn up\", \"turn down\"]}}, {\"property_name\": \"water flow and scrub intensity/\\\\u6c34\\\\u91cf\\\\u548c\\\\u64e6\\\\u5730\\\\u529b\\\\u5ea6\", \"property_values\": {\"proper nouns\": [\"mild/\\\\u8f7b\\\\u67d4\", \"moderate/\\\\u6807\\\\u51c6\", \"intense/\\\\u5f3a\\\\u529b\"], \"scales\": [1, 2, 3], \"relational terms\": [\"turn up\", \"turn down\"]}}, {\"property_name\": \"carpet boost/\\\\u5730\\\\u6bef\\\\u589e\\\\u538b\", \"property_values\": {\"proper nouns\": [\"on\", \"off\"]}}, {\"property_name\": \"Route/\\\\u8def\\\\u7ebf\\\\u504f\\\\u597d\", \"property_values\": {\"proper nouns\": [\"fast/\\\\u5feb\\\\u901f\", \"standard/\\\\u65e5\\\\u5e38/normal\", \"deep/\\\\u7cbe\\\\u7ec6\\\\u64e6\\\\u5730/slower\", \"deep plus/\\\\u6df1\\\\u5ea6\\\\u6162\\\\u62d6/slowest\"], \"scales\": [1, 2, 3, 4], \"relational terms\": [\"turn up\", \"turn down\"]}}, {\"property_name\": \"mop wash mode/\\\\u6d17\\\\u5e03\\\\u6a21\\\\u5f0f\", \"property_values\": {\"proper nouns\": [\"by section/room\", \"by time: <time description>\"]}}, {\"property_name\": \"volume/\\\\u97f3\\\\u91cf\", \"property_values\": {\"proper nouns\": [\"mute on\", \"mute off\", \"minimum\", \"maximum\"], \"range\": {\"minimum\": 1, \"maximum\": 100}, \"relational terms\": [\"turn up\", \"turn down\"]}}, {\"property_name\": \"auto collect dust/auto emptying/\\\\u81ea\\\\u52a8\\\\u96c6\\\\u5c18\", \"property_values\": {\"proper nouns\": [\"on\", \"off\"]}}, {\"property_name\": \"working level/\\\\u5de5\\\\u4f5c\\\\u6863\\\\u4f4d/\\\\u6863\\\\u4f4d\", \"property_values\": {\"proper nouns\": [\"low\", \"medium\", \"high\"], \"scales\": [1, 2, 3], \"relational terms\": [\"turn up\", \"turn down\"]}}, {\"property_name\": \"clean mode/vacuum or mop mode/\\\\u626b\\\\u62d6\\\\u6a21\\\\u5f0f\", \"property_values\": {\"relational terms\": [\"vacuum only\", \"mop only\", \"vacuum and mop\"]}}]}}, \"required\": [\"property_name\", \"property_value\"]}, \"required\": [\"property_name\", \"property_value\"]}, {\"name\": \"follow_me\", \"description\": \"instruct the robot to follow the user\", \"parameters\": {\"type\": \"string\", \"enum\": [\"start\", \"stop\"], \"properties\": {}, \"required\": []}}, {\"name\": \"go_away\", \"description\": \"instruct the robot to go away or do other things first\", \"parameters\": {\"type\": \"object\", \"properties\": {}, \"required\": []}}, {\"name\": \"get_property\", \"description\": \"get robot property\", \"parameters\": {\"type\": \"object\", \"properties\": {\"property_name\": {\"type\": \"string\", \"description\": \"vaccum robot properties\", \"enum\": [\"LED/\\\\u706f\", \"suction power\", \"water flow and scrub intensity/\\\\u6c34\\\\u91cf\\\\u548c\\\\u64e6\\\\u5730\\\\u529b\\\\u5ea6\", \"carpet boost/\\\\u5730\\\\u6bef\\\\u589e\\\\u538b\", \"Route/\\\\u8def\\\\u7ebf\\\\u504f\\\\u597d\", \"filter\", \"main brush\", \"side brush\", \"sensors\", \"mop\", \"dust bag\", \"floor cleaning solution\", \"current location\", \"remaining battery power\", \"freshwater tank/water tank\", \"wastewater tank\", \"volume/\\\\u97f3\\\\u91cf\", \"all consumables\", \"High-speed maintenance brush/\\\\u81ea\\\\u6e05\\\\u6d01\\\\u5237\", \"Water filter/\\\\u6e05\\\\u6d01\\\\u69fd\\\\u6ee4\\\\u7f51\", \"list features/self-introduction\"]}}, \"required\": []}}, {\"name\": \"upgrade_firmware\", \"description\": \"Upgrade firmware.\", \"parameters\": {\"type\": \"object\", \"properties\": {}, \"required\": []}}, {\"name\": \"dock_operation\", \"description\": \"api for the features of vacuum robot dock\", \"parameters\": {\"type\": \"object\", \"properties\": {\"action\": {\"type\": \"string\", \"enum\": [\"start\", \"stop\", \"pause\", \"resume\"]}, \"operation_type\": {\"type\": \"string\", \"enum\": [\"charge battery\", \"come down\", \"collect dust/\\\\u96c6\\\\u5c18\", \"wash mop\", \"drying mop\", \"back to\"], \"description\": \"\\'charge battery\\' means sending the robot to the dock to recharge. \\'come down\\' instructs the vacuum robot to descend from the dock. \\'wash mop\\' instructs the vacuum robot to clean its attached mop. \\'back to\\' means instructs robot to go back to dock.\"}}, \"required\": [\"operation_type\"]}, \"required\": [\"operation_type\"]}, {\"name\": \"mapping\", \"description\": \"api for building map\", \"parameters\": {\"type\": \"object\", \"properties\": {\"action\": {\"type\": \"string\", \"enum\": [\"start\", \"stop\", \"pause\", \"resume\"]}}, \"required\": [\"action\"]}}]',\n 'conversations': [{'from': 'human', 'value': '重新启动绘图程序。'},\n  {'from': 'function_call',\n   'value': '{\"name\": \"mapping\", \"arguments\": {\"action\": \"start\"}}'}]}"
     },
     "execution_count": 22,
     "metadata": {},
     "output_type": "execute_result"
    }
   ],
   "source": [
    "dev_data_new[0]"
   ]
  },
  {
   "cell_type": "code",
   "execution_count": 24,
   "id": "8e34dce0-7aa7-4231-8503-0854d417f267",
   "metadata": {
    "ExecuteTime": {
     "end_time": "2024-01-22T08:04:06.999081218Z",
     "start_time": "2024-01-22T08:04:06.990909867Z"
    }
   },
   "outputs": [
    {
     "name": "stdout",
     "output_type": "stream",
     "text": [
      "299\n",
      "376\n"
     ]
    }
   ],
   "source": [
    "for i in range(len(train_data)):\n",
    "    if train_data[i]['num_decomposition'] > 1:\n",
    "        print(i)"
   ]
  },
  {
   "cell_type": "code",
   "execution_count": 33,
   "id": "f2c22af3-d88f-49e9-9651-d14f2ede0110",
   "metadata": {},
   "outputs": [
    {
     "data": {
      "text/plain": [
       "{'tools': '[{\"name\": \"general_control\", \"description\": \"This API is used for controlling general tasks, typically providing control for listed user-defined tasks, or that is not directly tied to specific task types, or non-clean task\", \"parameters\": {\"type\": \"object\", \"properties\": {\"action\": {\"type\": \"string\", \"enum\": [\"start\", \"stop\", \"pause\", \"resume\"]}, \"user_defined_task\": {\"type\": \"string\", \"description\": \"user-defined task described in user request\"}}, \"required\": [\"action\"]}}, {\"name\": \"clean\", \"description\": \"Initiate a task of an immediate or unscheduled cleaning or partial clean, i.e., cleaning a part while leaving another part untouched.\", \"parameters\": {\"type\": \"object\", \"properties\": {\"action\": {\"type\": \"string\", \"enum\": [\"start\", \"stop\", \"pause\", \"resume\"]}, \"location\": {\"type\": \"string\", \"description\": \"Fill in the description of the location from the user request word for word, using the same language as in the user\\'s description of the location.\"}, \"tool\": {\"type\": \"string\", \"enum\": [\"vacuum only/\\\\u626b\", \"mop only/\\\\u62d6/\\\\u64e6\", \"vacuum and mop\"], \"default\": \"vacuum and mop\", \"description\": \"\\'vacuum and mop\\' means vacuum and mop the floor at the same time, \\'vacuum only\\' is only vacuum, in Chinese, \\'\\\\u626b\\' is \\'vacuum only\\', \\'\\\\u6e05\\\\u626b\\' is \\'vacuum and mop\\'\"}, \"total_count\": {\"type\": \"number\", \"default\": 1, \"description\": \"The total count of the operation that is repeated within a single action.\"}, \"special_mode\": {\"type\": \"string\", \"enum\": [\"local\", \"custom\"], \"description\": \"for local clean or custom clean\"}}, \"required\": [\"action\", \"tool\"]}}, {\"name\": \"do_not_or_skip_clean\", \"description\": \"This API is used when the user only requests not or skip to clean a certain area.\", \"parameters\": {\"type\": \"object\", \"properties\": {\"location\": {\"type\": \"string\", \"description\": \"Fill in the description of the location from the user request word for word, using the same language as in the user\\'s description of the location.\"}}, \"required\": [\"location\"]}}, {\"name\": \"schedule_operation\", \"description\": \"create clean task, or query or delete scheduled clean tasks. (other task not supported)\", \"parameters\": {\"type\": \"object\", \"properties\": {\"operation_type\": {\"type\": \"string\", \"enum\": [\"create\", \"query\", \"delete\"]}, \"clean_action\": {\"type\": \"string\", \"enum\": [\"start\", \"stop\", \"pause\", \"resume\"]}, \"clean_tool\": {\"type\": \"string\", \"enum\": [\"vacuum only/\\\\u626b\", \"mop only/\\\\u62d6/\\\\u64e6\", \"vacuum and mop\"], \"default\": \"vacuum and mop\", \"description\": \"\\'vacuum and mop\\' refers to both vacuuming and mopping the floor.\"}, \"total_count\": {\"type\": \"number\", \"default\": 1, \"description\": \"The total count of the operation that is repeated within a single action.\"}, \"location\": {\"type\": \"string\", \"description\": \"fill the Description text of the location in the user request here, without excessive transformation, ideally word for word.\"}, \"time\": {\"type\": \"string\", \"description\": \"fill the description text of the time in the user request here, without excessive transformation, ideally word for word.\"}, \"index_from\": {\"type\": \"integer\", \"description\": \"the beginning index of the schedule, 1 for newest/recent/first, 2 for second recent, -1 for last/final, -2 for the second-to-last item, and so on\"}, \"index_to\": {\"type\": \"integer\", \"description\": \"the end index of the schedule, 1 for newest/recent/first, 2 for second recent, -1 for last/final, -2 for the second-to-last item, and so on\"}, \"relative\": {\"type\": \"string\", \"enum\": [\"next\", \"previous\"]}}, \"required\": [\"operation_type\"]}}, {\"name\": \"move\", \"description\": \"perform a move operation\", \"parameters\": {\"type\": \"object\", \"properties\": {\"location\": {\"type\": \"string\", \"description\": \"location description in the user request\"}}, \"required\": [\"location\"]}, \"required\": [\"location\"]}, {\"name\": \"set_object_property\", \"description\": \"change sensors or peripherals state\", \"parameters\": {\"type\": \"object\", \"properties\": {\"property_name\": {\"type\": \"string\", \"description\": \"vaccum robot properties\", \"enum\": [\"LED/\\\\u706f\", \"suction power\", \"water flow and scrub intensity/\\\\u6c34\\\\u91cf\\\\u548c\\\\u64e6\\\\u5730\\\\u529b\\\\u5ea6\", \"carpet boost/\\\\u5730\\\\u6bef\\\\u589e\\\\u538b\", \"Route/\\\\u8def\\\\u7ebf\\\\u504f\\\\u597d\", \"mop wash mode/\\\\u6d17\\\\u5e03\\\\u6a21\\\\u5f0f\", \"volume/\\\\u97f3\\\\u91cf\", \"auto collect dust/auto emptying/\\\\u81ea\\\\u52a8\\\\u96c6\\\\u5c18\", \"mop wash mode/\\\\u6d17\\\\u5e03\\\\u6a21\\\\u5f0f\", \"working level/\\\\u5de5\\\\u4f5c\\\\u6863\\\\u4f4d/\\\\u6863\\\\u4f4d\", \"clean mode/vacuum or mop mode/\\\\u626b\\\\u62d6\\\\u6a21\\\\u5f0f\"]}, \"property_value\": {\"type\": \"string or integer\", \"description\": \"the property value, details in value table\", \"value_table\": [{\"property_name\": \"LED/\\\\u706f\", \"property_values\": {\"proper nouns\": [\"on\", \"off\"]}}, {\"property_name\": \"suction power\", \"property_values\": {\"proper nouns\": [\"Quiet/\\\\u5b89\\\\u9759/lowest\", \"Balanced/\\\\u6807\\\\u51c6/lower\", \"Turbo/\\\\u5f3a\\\\u529b/medium\", \"Max/higher\", \"Max+/highest\"], \"scales\": [1, 2, 3, 4, 5], \"relational terms\": [\"turn up\", \"turn down\"]}}, {\"property_name\": \"water flow and scrub intensity/\\\\u6c34\\\\u91cf\\\\u548c\\\\u64e6\\\\u5730\\\\u529b\\\\u5ea6\", \"property_values\": {\"proper nouns\": [\"mild/\\\\u8f7b\\\\u67d4\", \"moderate/\\\\u6807\\\\u51c6\", \"intense/\\\\u5f3a\\\\u529b\"], \"scales\": [1, 2, 3], \"relational terms\": [\"turn up\", \"turn down\"]}}, {\"property_name\": \"carpet boost/\\\\u5730\\\\u6bef\\\\u589e\\\\u538b\", \"property_values\": {\"proper nouns\": [\"on\", \"off\"]}}, {\"property_name\": \"Route/\\\\u8def\\\\u7ebf\\\\u504f\\\\u597d\", \"property_values\": {\"proper nouns\": [\"fast/\\\\u5feb\\\\u901f\", \"standard/\\\\u65e5\\\\u5e38/normal\", \"deep/\\\\u7cbe\\\\u7ec6\\\\u64e6\\\\u5730/slower\", \"deep plus/\\\\u6df1\\\\u5ea6\\\\u6162\\\\u62d6/slowest\"], \"scales\": [1, 2, 3, 4], \"relational terms\": [\"turn up\", \"turn down\"]}}, {\"property_name\": \"mop wash mode/\\\\u6d17\\\\u5e03\\\\u6a21\\\\u5f0f\", \"property_values\": {\"proper nouns\": [\"by section/room\", \"by time: <time description>\"]}}, {\"property_name\": \"volume/\\\\u97f3\\\\u91cf\", \"property_values\": {\"proper nouns\": [\"mute on\", \"mute off\", \"minimum\", \"maximum\"], \"range\": {\"minimum\": 1, \"maximum\": 100}, \"relational terms\": [\"turn up\", \"turn down\"]}}, {\"property_name\": \"auto collect dust/auto emptying/\\\\u81ea\\\\u52a8\\\\u96c6\\\\u5c18\", \"property_values\": {\"proper nouns\": [\"on\", \"off\"]}}, {\"property_name\": \"working level/\\\\u5de5\\\\u4f5c\\\\u6863\\\\u4f4d/\\\\u6863\\\\u4f4d\", \"property_values\": {\"proper nouns\": [\"low\", \"medium\", \"high\"], \"scales\": [1, 2, 3], \"relational terms\": [\"turn up\", \"turn down\"]}}, {\"property_name\": \"clean mode/vacuum or mop mode/\\\\u626b\\\\u62d6\\\\u6a21\\\\u5f0f\", \"property_values\": {\"relational terms\": [\"vacuum only\", \"mop only\", \"vacuum and mop\"]}}]}}, \"required\": [\"property_name\", \"property_value\"]}, \"required\": [\"property_name\", \"property_value\"]}, {\"name\": \"follow_me\", \"description\": \"instruct the robot to follow the user\", \"parameters\": {\"type\": \"string\", \"enum\": [\"start\", \"stop\"], \"properties\": {}, \"required\": []}}, {\"name\": \"go_away\", \"description\": \"instruct the robot to go away or do other things first\", \"parameters\": {\"type\": \"object\", \"properties\": {}, \"required\": []}}, {\"name\": \"get_property\", \"description\": \"get robot property\", \"parameters\": {\"type\": \"object\", \"properties\": {\"property_name\": {\"type\": \"string\", \"description\": \"vaccum robot properties\", \"enum\": [\"LED/\\\\u706f\", \"suction power\", \"water flow and scrub intensity/\\\\u6c34\\\\u91cf\\\\u548c\\\\u64e6\\\\u5730\\\\u529b\\\\u5ea6\", \"carpet boost/\\\\u5730\\\\u6bef\\\\u589e\\\\u538b\", \"Route/\\\\u8def\\\\u7ebf\\\\u504f\\\\u597d\", \"filter\", \"main brush\", \"side brush\", \"sensors\", \"mop\", \"dust bag\", \"floor cleaning solution\", \"current location\", \"remaining battery power\", \"freshwater tank/water tank\", \"wastewater tank\", \"volume/\\\\u97f3\\\\u91cf\", \"all consumables\", \"High-speed maintenance brush/\\\\u81ea\\\\u6e05\\\\u6d01\\\\u5237\", \"Water filter/\\\\u6e05\\\\u6d01\\\\u69fd\\\\u6ee4\\\\u7f51\", \"list features/self-introduction\"]}}, \"required\": []}}, {\"name\": \"upgrade_firmware\", \"description\": \"Upgrade firmware.\", \"parameters\": {\"type\": \"object\", \"properties\": {}, \"required\": []}}, {\"name\": \"dock_operation\", \"description\": \"api for the features of vacuum robot dock\", \"parameters\": {\"type\": \"object\", \"properties\": {\"action\": {\"type\": \"string\", \"enum\": [\"start\", \"stop\", \"pause\", \"resume\"]}, \"operation_type\": {\"type\": \"string\", \"enum\": [\"charge battery\", \"come down\", \"collect dust/\\\\u96c6\\\\u5c18\", \"wash mop\", \"drying mop\", \"back to\"], \"description\": \"\\'charge battery\\' means sending the robot to the dock to recharge. \\'come down\\' instructs the vacuum robot to descend from the dock. \\'wash mop\\' instructs the vacuum robot to clean its attached mop. \\'back to\\' means instructs robot to go back to dock.\"}}, \"required\": [\"operation_type\"]}, \"required\": [\"operation_type\"]}, {\"name\": \"mapping\", \"description\": \"api for building map\", \"parameters\": {\"type\": \"object\", \"properties\": {\"action\": {\"type\": \"string\", \"enum\": [\"start\", \"stop\", \"pause\", \"resume\"]}}, \"required\": [\"action\"]}}]',\n",
       " 'conversations': [{'from': 'human', 'value': '查看前五条和后五条预约任务'},\n",
       "  {'from': 'function_call',\n",
       "   'value': '{\"name\": \"schedule_operation\", \"arguments\": {\"operation_type\": \"query\", \"index_from\": 1, \"index_to\": 5}}'},\n",
       "  {'from': 'function_call',\n",
       "   'value': '{\"name\": \"schedule_operation\", \"arguments\": {\"operation_type\": \"query\", \"index_from\": -5, \"index_to\": -1}}'}]}"
      ]
     },
     "execution_count": 33,
     "metadata": {},
     "output_type": "execute_result"
    }
   ],
   "source": [
    "train_data_new[299]"
   ]
  },
  {
   "cell_type": "code",
   "execution_count": 34,
   "id": "002be4bc-0038-4a26-9119-a6eb52e77160",
   "metadata": {},
   "outputs": [
    {
     "data": {
      "text/plain": [
       "{'user_request': '查看前五条和后五条预约任务',\n",
       " 'task_decomposition': '[{\"name\": \"schedule_operation\", \"parameters\": {\"operation_type\": \"query\", \"index_from\": 1, \"index_to\": 5}}, {\"name\": \"schedule_operation\", \"parameters\": {\"operation_type\": \"query\", \"index_from\": -5, \"index_to\": -1}}]',\n",
       " 'tools': '[{\"name\": \"general_control\", \"description\": \"This API is used for controlling general tasks, typically providing control for listed user-defined tasks, or that is not directly tied to specific task types, or non-clean task\", \"parameters\": {\"type\": \"object\", \"properties\": {\"action\": {\"type\": \"string\", \"enum\": [\"start\", \"stop\", \"pause\", \"resume\"]}, \"user_defined_task\": {\"type\": \"string\", \"description\": \"user-defined task described in user request\"}}, \"required\": [\"operation_type\"]}}, {\"name\": \"clean\", \"description\": \"Initiate a task of an immediate or unscheduled cleaning or partial clean, i.e., cleaning a part while leaving another part untouched.\", \"parameters\": {\"type\": \"object\", \"properties\": {\"action\": {\"type\": \"string\", \"enum\": [\"start\", \"stop\", \"pause\", \"resume\"]}, \"location\": {\"type\": \"string\", \"description\": \"Fill in the description of the location from the user request word for word, using the same language as in the user\\'s description of the location.\"}, \"tool\": {\"type\": \"string\", \"enum\": [\"vacuum only/扫\", \"mop only/拖/擦\", \"vacuum and mop\"], \"default\": \"vacuum and mop\", \"description\": \"\\'vacuum and mop\\' means vacuum and mop the floor at the same time, \\'vacuum only\\' is only vacuum, in Chinese, \\'扫\\' is \\'vacuum only\\', \\'清扫\\' is \\'vacuum and mop\\'\"}, \"total_count\": {\"type\": \"number\", \"default\": 1, \"description\": \"The total count of the operation that is repeated within a single action.\"}, \"special_mode\": {\"type\": \"string\", \"enum\": [\"local\", \"custom\"], \"description\": \"for local clean or custom clean\"}}, \"required\": [\"action\", \"tool\"]}}, {\"name\": \"do_not_or_skip_clean\", \"description\": \"This API is used when the user only requests not or skip to clean a certain area.\", \"parameters\": {\"type\": \"object\", \"properties\": {\"location\": {\"type\": \"string\", \"description\": \"Fill in the description of the location from the user request word for word, using the same language as in the user\\'s description of the location.\"}}, \"required\": [\"location\"]}}, {\"name\": \"schedule_operation\", \"description\": \"create clean task, or query or delete scheduled clean tasks. (other task not supported)\", \"parameters\": {\"type\": \"object\", \"properties\": {\"operation_type\": {\"type\": \"string\", \"enum\": [\"create\", \"query\", \"delete\"]}, \"clean_action\": {\"type\": \"string\", \"enum\": [\"start\", \"stop\", \"pause\", \"resume\"]}, \"clean_tool\": {\"type\": \"string\", \"enum\": [\"vacuum only/扫\", \"mop only/拖/擦\", \"vacuum and mop\"], \"default\": \"vacuum and mop\", \"description\": \"\\'vacuum and mop\\' refers to both vacuuming and mopping the floor.\"}, \"total_count\": {\"type\": \"number\", \"default\": 1, \"description\": \"The total count of the operation that is repeated within a single action.\"}, \"location\": {\"type\": \"string\", \"description\": \"fill the Description text of the location in the user request here, without excessive transformation, ideally word for word.\"}, \"time\": {\"type\": \"string\", \"description\": \"fill the description text of the time in the user request here, without excessive transformation, ideally word for word.\"}, \"index_from\": {\"type\": \"integer\", \"description\": \"the beginning index of the schedule, 1 for newest/recent/first, 2 for second recent, -1 for last/final, -2 for the second-to-last item, and so on\"}, \"index_to\": {\"type\": \"integer\", \"description\": \"the end index of the schedule, 1 for newest/recent/first, 2 for second recent, -1 for last/final, -2 for the second-to-last item, and so on\"}, \"relative\": {\"type\": \"string\", \"enum\": [\"next\", \"previous\"]}}, \"required\": [\"operation_type\"]}}, {\"name\": \"move\", \"description\": \"perform a move operation\", \"parameters\": {\"type\": \"object\", \"properties\": {\"location\": {\"type\": \"string\", \"description\": \"location description in the user request\"}}}, \"required\": [\"location\"]}, {\"name\": \"set_object_property\", \"description\": \"change sensors or peripherals state\", \"parameters\": {\"type\": \"object\", \"properties\": {\"property_name\": {\"type\": \"string\", \"description\": \"vaccum robot properties\", \"enum\": [\"LED/灯\", \"suction power\", \"water flow and scrub intensity/水量和擦地力度\", \"carpet boost/地毯增压\", \"Route/路线偏好\", \"mop wash mode/洗布模式\", \"volume/音量\", \"auto collect dust/auto emptying/自动集尘\", \"mop wash mode/洗布模式\", \"working level/工作档位/档位\", \"clean mode/vacuum or mop mode/扫拖模式\"]}, \"property_value\": {\"type\": \"string or integer\", \"description\": \"the property value, details in value table\", \"value_table\": [{\"property_name\": \"LED/灯\", \"property_values\": {\"proper nouns\": [\"on\", \"off\"]}}, {\"property_name\": \"suction power\", \"property_values\": {\"proper nouns\": [\"Quiet/安静/lowest\", \"Balanced/标准/lower\", \"Turbo/强力/medium\", \"Max/higher\", \"Max+/highest\"], \"scales\": [1, 2, 3, 4, 5], \"relational terms\": [\"turn up\", \"turn down\"]}}, {\"property_name\": \"water flow and scrub intensity/水量和擦地力度\", \"property_values\": {\"proper nouns\": [\"mild/轻柔\", \"moderate/标准\", \"intense/强力\"], \"scales\": [1, 2, 3], \"relational terms\": [\"turn up\", \"turn down\"]}}, {\"property_name\": \"carpet boost/地毯增压\", \"property_values\": {\"proper nouns\": [\"on\", \"off\"]}}, {\"property_name\": \"Route/路线偏好\", \"property_values\": {\"proper nouns\": [\"fast/快速\", \"standard/日常/normal\", \"deep/精细擦地/slower\", \"deep plus/深度慢拖/slowest\"], \"scales\": [1, 2, 3, 4], \"relational terms\": [\"turn up\", \"turn down\"]}}, {\"property_name\": \"mop wash mode/洗布模式\", \"property_values\": {\"proper nouns\": [\"by section/room\", \"by time: <time description>\"]}}, {\"property_name\": \"volume/音量\", \"property_values\": {\"proper nouns\": [\"mute on\", \"mute off\", \"minimum\", \"maximum\"], \"range\": {\"minimum\": 1, \"maximum\": 100}, \"relational terms\": [\"turn up\", \"turn down\"]}}, {\"property_name\": \"auto collect dust/auto emptying/自动集尘\", \"property_values\": {\"proper nouns\": [\"on\", \"off\"]}}, {\"property_name\": \"working level/工作档位/档位\", \"property_values\": {\"proper nouns\": [\"low\", \"medium\", \"high\"], \"scales\": [1, 2, 3], \"relational terms\": [\"turn up\", \"turn down\"]}}, {\"property_name\": \"clean mode/vacuum or mop mode/扫拖模式\", \"property_values\": {\"relational terms\": [\"vacuum only\", \"mop only\", \"vacuum and mop\"]}}]}}}, \"required\": [\"property_name\", \"property_value\"]}, {\"name\": \"follow_me\", \"description\": \"instruct the robot to follow the user\", \"parameters\": {\"type\": \"string\", \"enum\": [\"start\", \"stop\"]}}, {\"name\": \"go_away\", \"description\": \"instruct the robot to go away or do other things first\", \"parameters\": null}, {\"name\": \"get_property\", \"description\": \"get robot property\", \"parameters\": {\"type\": \"object\", \"properties\": {\"property_name\": {\"type\": \"string\", \"description\": \"vaccum robot properties\", \"enum\": [\"LED/灯\", \"suction power\", \"water flow and scrub intensity/水量和擦地力度\", \"carpet boost/地毯增压\", \"Route/路线偏好\", \"filter\", \"main brush\", \"side brush\", \"sensors\", \"mop\", \"dust bag\", \"floor cleaning solution\", \"current location\", \"remaining battery power\", \"freshwater tank/water tank\", \"wastewater tank\", \"volume/音量\", \"all consumables\", \"High-speed maintenance brush/自清洁刷\", \"Water filter/清洁槽滤网\", \"list features/self-introduction\"]}}}}, {\"name\": \"upgrade_firmware\", \"description\": \"Upgrade firmware.\", \"parameters\": null}, {\"name\": \"dock_operation\", \"description\": \"api for the features of vacuum robot dock\", \"parameters\": {\"type\": \"object\", \"properties\": {\"action\": {\"type\": \"string\", \"enum\": [\"start\", \"stop\", \"pause\", \"resume\"]}, \"operation_type\": {\"type\": \"string\", \"enum\": [\"charge battery\", \"come down\", \"collect dust/集尘\", \"wash mop\", \"drying mop\", \"back to\"], \"description\": \"\\'charge battery\\' means sending the robot to the dock to recharge. \\'come down\\' instructs the vacuum robot to descend from the dock. \\'wash mop\\' instructs the vacuum robot to clean its attached mop. \\'back to\\' means instructs robot to go back to dock.\"}}}, \"required\": [\"operation_type\"]}, {\"name\": \"mapping\", \"description\": \"api for building map\", \"parameters\": {\"type\": \"object\", \"properties\": {\"action\": {\"type\": \"string\", \"enum\": [\"start\", \"stop\", \"pause\", \"resume\"]}}, \"required\": [\"operation_type\"]}}]',\n",
       " 'conversations': '[{\"role\": \"user\", \"content\": \"查看前五条和后五条预约任务\"}, {\"role\": \"tool\", \"name\": \"schedule_operation\", \"parameters\": {\"operation_type\": \"query\", \"index_from\": 1, \"index_to\": 5}}, {\"role\": \"tool\", \"name\": \"schedule_operation\", \"parameters\": {\"operation_type\": \"query\", \"index_from\": -5, \"index_to\": -1}}]',\n",
       " 'num_decomposition': 2,\n",
       " 'hit': True}"
      ]
     },
     "execution_count": 34,
     "metadata": {},
     "output_type": "execute_result"
    }
   ],
   "source": [
    "train_data[299]"
   ]
  },
  {
   "cell_type": "code",
   "execution_count": 386,
   "id": "e19fb9e9-69b0-4d3f-a94b-61a941c30593",
   "metadata": {
    "scrolled": true
   },
   "outputs": [
    {
     "name": "stdout",
     "output_type": "stream",
     "text": [
      "71\n",
      "110\n",
      "229\n",
      "266\n",
      "308\n",
      "331\n",
      "351\n",
      "412\n",
      "433\n",
      "446\n",
      "670\n",
      "700\n",
      "871\n",
      "990\n",
      "997\n",
      "1006\n",
      "1094\n",
      "1100\n",
      "1103\n",
      "1179\n",
      "1243\n",
      "1452\n",
      "1456\n",
      "1527\n",
      "1540\n",
      "1592\n",
      "1593\n",
      "1799\n",
      "1883\n",
      "1895\n",
      "1947\n",
      "2024\n",
      "2225\n",
      "2257\n",
      "2306\n",
      "2475\n",
      "2537\n",
      "2657\n",
      "2698\n",
      "2715\n",
      "2721\n",
      "2779\n",
      "2853\n",
      "2955\n",
      "3080\n",
      "3163\n",
      "3201\n"
     ]
    }
   ],
   "source": [
    "for i in range(len(train_data)):\n",
    "    if train_data[i]['hit'] == False:\n",
    "        print(i)"
   ]
  },
  {
   "cell_type": "code",
   "execution_count": 389,
   "id": "36abb076-4d96-4164-899c-6e046b435f7a",
   "metadata": {},
   "outputs": [
    {
     "data": {
      "text/plain": [
       "{'user_request': 'user_defined_task:[Open Area Polish|Basement De-clutter]$$Switch on Attic Arrangement',\n",
       " 'task_decomposition': '\"<null>\"',\n",
       " 'tools': '[{\"name\": \"general_control\", \"description\": \"This API is used for controlling general tasks, typically providing control for listed user-defined tasks, or that is not directly tied to specific task types, or non-clean task\", \"parameters\": {\"type\": \"object\", \"properties\": {\"action\": {\"type\": \"string\", \"enum\": [\"start\", \"stop\", \"pause\", \"resume\"]}, \"user_defined_task\": {\"type\": \"string\", \"description\": \"user-defined task described in user request\"}}, \"required\": [\"operation_type\"]}}, {\"name\": \"clean\", \"description\": \"Initiate a task of an immediate or unscheduled cleaning or partial clean, i.e., cleaning a part while leaving another part untouched.\", \"parameters\": {\"type\": \"object\", \"properties\": {\"action\": {\"type\": \"string\", \"enum\": [\"start\", \"stop\", \"pause\", \"resume\"]}, \"location\": {\"type\": \"string\", \"description\": \"Fill in the description of the location from the user request word for word, using the same language as in the user\\'s description of the location.\"}, \"tool\": {\"type\": \"string\", \"enum\": [\"vacuum only/扫\", \"mop only/拖/擦\", \"vacuum and mop\"], \"default\": \"vacuum and mop\", \"description\": \"\\'vacuum and mop\\' means vacuum and mop the floor at the same time, \\'vacuum only\\' is only vacuum, in Chinese, \\'扫\\' is \\'vacuum only\\', \\'清扫\\' is \\'vacuum and mop\\'\"}, \"total_count\": {\"type\": \"number\", \"default\": 1, \"description\": \"The total count of the operation that is repeated within a single action.\"}, \"special_mode\": {\"type\": \"string\", \"enum\": [\"local\", \"custom\"], \"description\": \"for local clean or custom clean\"}}, \"required\": [\"action\", \"tool\"]}}, {\"name\": \"do_not_or_skip_clean\", \"description\": \"This API is used when the user only requests not or skip to clean a certain area.\", \"parameters\": {\"type\": \"object\", \"properties\": {\"location\": {\"type\": \"string\", \"description\": \"Fill in the description of the location from the user request word for word, using the same language as in the user\\'s description of the location.\"}}, \"required\": [\"location\"]}}, {\"name\": \"schedule_operation\", \"description\": \"create clean task, or query or delete scheduled clean tasks. (other task not supported)\", \"parameters\": {\"type\": \"object\", \"properties\": {\"operation_type\": {\"type\": \"string\", \"enum\": [\"create\", \"query\", \"delete\"]}, \"clean_action\": {\"type\": \"string\", \"enum\": [\"start\", \"stop\", \"pause\", \"resume\"]}, \"clean_tool\": {\"type\": \"string\", \"enum\": [\"vacuum only/扫\", \"mop only/拖/擦\", \"vacuum and mop\"], \"default\": \"vacuum and mop\", \"description\": \"\\'vacuum and mop\\' refers to both vacuuming and mopping the floor.\"}, \"total_count\": {\"type\": \"number\", \"default\": 1, \"description\": \"The total count of the operation that is repeated within a single action.\"}, \"location\": {\"type\": \"string\", \"description\": \"fill the Description text of the location in the user request here, without excessive transformation, ideally word for word.\"}, \"time\": {\"type\": \"string\", \"description\": \"fill the description text of the time in the user request here, without excessive transformation, ideally word for word.\"}, \"index_from\": {\"type\": \"integer\", \"description\": \"the beginning index of the schedule, 1 for newest/recent/first, 2 for second recent, -1 for last/final, -2 for the second-to-last item, and so on\"}, \"index_to\": {\"type\": \"integer\", \"description\": \"the end index of the schedule, 1 for newest/recent/first, 2 for second recent, -1 for last/final, -2 for the second-to-last item, and so on\"}, \"relative\": {\"type\": \"string\", \"enum\": [\"next\", \"previous\"]}}, \"required\": [\"operation_type\"]}}, {\"name\": \"move\", \"description\": \"perform a move operation\", \"parameters\": {\"type\": \"object\", \"properties\": {\"location\": {\"type\": \"string\", \"description\": \"location description in the user request\"}}}, \"required\": [\"location\"]}, {\"name\": \"set_object_property\", \"description\": \"change sensors or peripherals state\", \"parameters\": {\"type\": \"object\", \"properties\": {\"property_name\": {\"type\": \"string\", \"description\": \"vaccum robot properties\", \"enum\": [\"LED/灯\", \"suction power\", \"water flow and scrub intensity/水量和擦地力度\", \"carpet boost/地毯增压\", \"Route/路线偏好\", \"mop wash mode/洗布模式\", \"volume/音量\", \"auto collect dust/auto emptying/自动集尘\", \"mop wash mode/洗布模式\", \"working level/工作档位/档位\", \"clean mode/vacuum or mop mode/扫拖模式\"]}, \"property_value\": {\"type\": \"string or integer\", \"description\": \"the property value, details in value table\", \"value_table\": [{\"property_name\": \"LED/灯\", \"property_values\": {\"proper nouns\": [\"on\", \"off\"]}}, {\"property_name\": \"suction power\", \"property_values\": {\"proper nouns\": [\"Quiet/安静/lowest\", \"Balanced/标准/lower\", \"Turbo/强力/medium\", \"Max/higher\", \"Max+/highest\"], \"scales\": [1, 2, 3, 4, 5], \"relational terms\": [\"turn up\", \"turn down\"]}}, {\"property_name\": \"water flow and scrub intensity/水量和擦地力度\", \"property_values\": {\"proper nouns\": [\"mild/轻柔\", \"moderate/标准\", \"intense/强力\"], \"scales\": [1, 2, 3], \"relational terms\": [\"turn up\", \"turn down\"]}}, {\"property_name\": \"carpet boost/地毯增压\", \"property_values\": {\"proper nouns\": [\"on\", \"off\"]}}, {\"property_name\": \"Route/路线偏好\", \"property_values\": {\"proper nouns\": [\"fast/快速\", \"standard/日常/normal\", \"deep/精细擦地/slower\", \"deep plus/深度慢拖/slowest\"], \"scales\": [1, 2, 3, 4], \"relational terms\": [\"turn up\", \"turn down\"]}}, {\"property_name\": \"mop wash mode/洗布模式\", \"property_values\": {\"proper nouns\": [\"by section/room\", \"by time: <time description>\"]}}, {\"property_name\": \"volume/音量\", \"property_values\": {\"proper nouns\": [\"mute on\", \"mute off\", \"minimum\", \"maximum\"], \"range\": {\"minimum\": 1, \"maximum\": 100}, \"relational terms\": [\"turn up\", \"turn down\"]}}, {\"property_name\": \"auto collect dust/auto emptying/自动集尘\", \"property_values\": {\"proper nouns\": [\"on\", \"off\"]}}, {\"property_name\": \"working level/工作档位/档位\", \"property_values\": {\"proper nouns\": [\"low\", \"medium\", \"high\"], \"scales\": [1, 2, 3], \"relational terms\": [\"turn up\", \"turn down\"]}}, {\"property_name\": \"clean mode/vacuum or mop mode/扫拖模式\", \"property_values\": {\"relational terms\": [\"vacuum only\", \"mop only\", \"vacuum and mop\"]}}]}}}, \"required\": [\"property_name\", \"property_value\"]}, {\"name\": \"follow_me\", \"description\": \"instruct the robot to follow the user\", \"parameters\": {\"type\": \"string\", \"enum\": [\"start\", \"stop\"]}}, {\"name\": \"go_away\", \"description\": \"instruct the robot to go away or do other things first\", \"parameters\": null}, {\"name\": \"get_property\", \"description\": \"get robot property\", \"parameters\": {\"type\": \"object\", \"properties\": {\"property_name\": {\"type\": \"string\", \"description\": \"vaccum robot properties\", \"enum\": [\"LED/灯\", \"suction power\", \"water flow and scrub intensity/水量和擦地力度\", \"carpet boost/地毯增压\", \"Route/路线偏好\", \"filter\", \"main brush\", \"side brush\", \"sensors\", \"mop\", \"dust bag\", \"floor cleaning solution\", \"current location\", \"remaining battery power\", \"freshwater tank/water tank\", \"wastewater tank\", \"volume/音量\", \"all consumables\", \"High-speed maintenance brush/自清洁刷\", \"Water filter/清洁槽滤网\", \"list features/self-introduction\"]}}}}, {\"name\": \"upgrade_firmware\", \"description\": \"Upgrade firmware.\", \"parameters\": null}, {\"name\": \"dock_operation\", \"description\": \"api for the features of vacuum robot dock\", \"parameters\": {\"type\": \"object\", \"properties\": {\"action\": {\"type\": \"string\", \"enum\": [\"start\", \"stop\", \"pause\", \"resume\"]}, \"operation_type\": {\"type\": \"string\", \"enum\": [\"charge battery\", \"come down\", \"collect dust/集尘\", \"wash mop\", \"drying mop\", \"back to\"], \"description\": \"\\'charge battery\\' means sending the robot to the dock to recharge. \\'come down\\' instructs the vacuum robot to descend from the dock. \\'wash mop\\' instructs the vacuum robot to clean its attached mop. \\'back to\\' means instructs robot to go back to dock.\"}}}, \"required\": [\"operation_type\"]}, {\"name\": \"mapping\", \"description\": \"api for building map\", \"parameters\": {\"type\": \"object\", \"properties\": {\"action\": {\"type\": \"string\", \"enum\": [\"start\", \"stop\", \"pause\", \"resume\"]}}, \"required\": [\"operation_type\"]}}]',\n",
       " 'conversations': '[{\"role\": \"user\", \"content\": \"user_defined_task:[Open Area Polish|Basement De-clutter]$$Switch on Attic Arrangement\"}, {\"role\": \"assistant\", \"content\": \"no corresponding tools.\"}]',\n",
       " 'num_decomposition': 1,\n",
       " 'hit': False}"
      ]
     },
     "execution_count": 389,
     "metadata": {},
     "output_type": "execute_result"
    }
   ],
   "source": [
    "train_data[3201]"
   ]
  },
  {
   "cell_type": "code",
   "execution_count": 388,
   "id": "74b64970-16e8-41cc-8c99-e7e6e59b4743",
   "metadata": {},
   "outputs": [
    {
     "data": {
      "text/plain": [
       "{'tools': '[{\"name\": \"general_control\", \"description\": \"This API is used for controlling general tasks, typically providing control for listed user-defined tasks, or that is not directly tied to specific task types, or non-clean task\", \"parameters\": {\"type\": \"object\", \"properties\": {\"action\": {\"type\": \"string\", \"enum\": [\"start\", \"stop\", \"pause\", \"resume\"]}, \"user_defined_task\": {\"type\": \"string\", \"description\": \"user-defined task described in user request\"}}, \"required\": [\"action\"]}}, {\"name\": \"clean\", \"description\": \"Initiate a task of an immediate or unscheduled cleaning or partial clean, i.e., cleaning a part while leaving another part untouched.\", \"parameters\": {\"type\": \"object\", \"properties\": {\"action\": {\"type\": \"string\", \"enum\": [\"start\", \"stop\", \"pause\", \"resume\"]}, \"location\": {\"type\": \"string\", \"description\": \"Fill in the description of the location from the user request word for word, using the same language as in the user\\'s description of the location.\"}, \"tool\": {\"type\": \"string\", \"enum\": [\"vacuum only/\\\\u626b\", \"mop only/\\\\u62d6/\\\\u64e6\", \"vacuum and mop\"], \"default\": \"vacuum and mop\", \"description\": \"\\'vacuum and mop\\' means vacuum and mop the floor at the same time, \\'vacuum only\\' is only vacuum, in Chinese, \\'\\\\u626b\\' is \\'vacuum only\\', \\'\\\\u6e05\\\\u626b\\' is \\'vacuum and mop\\'\"}, \"total_count\": {\"type\": \"number\", \"default\": 1, \"description\": \"The total count of the operation that is repeated within a single action.\"}, \"special_mode\": {\"type\": \"string\", \"enum\": [\"local\", \"custom\"], \"description\": \"for local clean or custom clean\"}}, \"required\": [\"action\", \"tool\"]}}, {\"name\": \"do_not_or_skip_clean\", \"description\": \"This API is used when the user only requests not or skip to clean a certain area.\", \"parameters\": {\"type\": \"object\", \"properties\": {\"location\": {\"type\": \"string\", \"description\": \"Fill in the description of the location from the user request word for word, using the same language as in the user\\'s description of the location.\"}}, \"required\": [\"location\"]}}, {\"name\": \"schedule_operation\", \"description\": \"create clean task, or query or delete scheduled clean tasks. (other task not supported)\", \"parameters\": {\"type\": \"object\", \"properties\": {\"operation_type\": {\"type\": \"string\", \"enum\": [\"create\", \"query\", \"delete\"]}, \"clean_action\": {\"type\": \"string\", \"enum\": [\"start\", \"stop\", \"pause\", \"resume\"]}, \"clean_tool\": {\"type\": \"string\", \"enum\": [\"vacuum only/\\\\u626b\", \"mop only/\\\\u62d6/\\\\u64e6\", \"vacuum and mop\"], \"default\": \"vacuum and mop\", \"description\": \"\\'vacuum and mop\\' refers to both vacuuming and mopping the floor.\"}, \"total_count\": {\"type\": \"number\", \"default\": 1, \"description\": \"The total count of the operation that is repeated within a single action.\"}, \"location\": {\"type\": \"string\", \"description\": \"fill the Description text of the location in the user request here, without excessive transformation, ideally word for word.\"}, \"time\": {\"type\": \"string\", \"description\": \"fill the description text of the time in the user request here, without excessive transformation, ideally word for word.\"}, \"index_from\": {\"type\": \"integer\", \"description\": \"the beginning index of the schedule, 1 for newest/recent/first, 2 for second recent, -1 for last/final, -2 for the second-to-last item, and so on\"}, \"index_to\": {\"type\": \"integer\", \"description\": \"the end index of the schedule, 1 for newest/recent/first, 2 for second recent, -1 for last/final, -2 for the second-to-last item, and so on\"}, \"relative\": {\"type\": \"string\", \"enum\": [\"next\", \"previous\"]}}, \"required\": [\"operation_type\"]}}, {\"name\": \"move\", \"description\": \"perform a move operation\", \"parameters\": {\"type\": \"object\", \"properties\": {\"location\": {\"type\": \"string\", \"description\": \"location description in the user request\"}}, \"required\": [\"location\"]}, \"required\": [\"location\"]}, {\"name\": \"set_object_property\", \"description\": \"change sensors or peripherals state\", \"parameters\": {\"type\": \"object\", \"properties\": {\"property_name\": {\"type\": \"string\", \"description\": \"vaccum robot properties\", \"enum\": [\"LED/\\\\u706f\", \"suction power\", \"water flow and scrub intensity/\\\\u6c34\\\\u91cf\\\\u548c\\\\u64e6\\\\u5730\\\\u529b\\\\u5ea6\", \"carpet boost/\\\\u5730\\\\u6bef\\\\u589e\\\\u538b\", \"Route/\\\\u8def\\\\u7ebf\\\\u504f\\\\u597d\", \"mop wash mode/\\\\u6d17\\\\u5e03\\\\u6a21\\\\u5f0f\", \"volume/\\\\u97f3\\\\u91cf\", \"auto collect dust/auto emptying/\\\\u81ea\\\\u52a8\\\\u96c6\\\\u5c18\", \"mop wash mode/\\\\u6d17\\\\u5e03\\\\u6a21\\\\u5f0f\", \"working level/\\\\u5de5\\\\u4f5c\\\\u6863\\\\u4f4d/\\\\u6863\\\\u4f4d\", \"clean mode/vacuum or mop mode/\\\\u626b\\\\u62d6\\\\u6a21\\\\u5f0f\"]}, \"property_value\": {\"type\": \"string or integer\", \"description\": \"the property value, details in value table\", \"value_table\": [{\"property_name\": \"LED/\\\\u706f\", \"property_values\": {\"proper nouns\": [\"on\", \"off\"]}}, {\"property_name\": \"suction power\", \"property_values\": {\"proper nouns\": [\"Quiet/\\\\u5b89\\\\u9759/lowest\", \"Balanced/\\\\u6807\\\\u51c6/lower\", \"Turbo/\\\\u5f3a\\\\u529b/medium\", \"Max/higher\", \"Max+/highest\"], \"scales\": [1, 2, 3, 4, 5], \"relational terms\": [\"turn up\", \"turn down\"]}}, {\"property_name\": \"water flow and scrub intensity/\\\\u6c34\\\\u91cf\\\\u548c\\\\u64e6\\\\u5730\\\\u529b\\\\u5ea6\", \"property_values\": {\"proper nouns\": [\"mild/\\\\u8f7b\\\\u67d4\", \"moderate/\\\\u6807\\\\u51c6\", \"intense/\\\\u5f3a\\\\u529b\"], \"scales\": [1, 2, 3], \"relational terms\": [\"turn up\", \"turn down\"]}}, {\"property_name\": \"carpet boost/\\\\u5730\\\\u6bef\\\\u589e\\\\u538b\", \"property_values\": {\"proper nouns\": [\"on\", \"off\"]}}, {\"property_name\": \"Route/\\\\u8def\\\\u7ebf\\\\u504f\\\\u597d\", \"property_values\": {\"proper nouns\": [\"fast/\\\\u5feb\\\\u901f\", \"standard/\\\\u65e5\\\\u5e38/normal\", \"deep/\\\\u7cbe\\\\u7ec6\\\\u64e6\\\\u5730/slower\", \"deep plus/\\\\u6df1\\\\u5ea6\\\\u6162\\\\u62d6/slowest\"], \"scales\": [1, 2, 3, 4], \"relational terms\": [\"turn up\", \"turn down\"]}}, {\"property_name\": \"mop wash mode/\\\\u6d17\\\\u5e03\\\\u6a21\\\\u5f0f\", \"property_values\": {\"proper nouns\": [\"by section/room\", \"by time: <time description>\"]}}, {\"property_name\": \"volume/\\\\u97f3\\\\u91cf\", \"property_values\": {\"proper nouns\": [\"mute on\", \"mute off\", \"minimum\", \"maximum\"], \"range\": {\"minimum\": 1, \"maximum\": 100}, \"relational terms\": [\"turn up\", \"turn down\"]}}, {\"property_name\": \"auto collect dust/auto emptying/\\\\u81ea\\\\u52a8\\\\u96c6\\\\u5c18\", \"property_values\": {\"proper nouns\": [\"on\", \"off\"]}}, {\"property_name\": \"working level/\\\\u5de5\\\\u4f5c\\\\u6863\\\\u4f4d/\\\\u6863\\\\u4f4d\", \"property_values\": {\"proper nouns\": [\"low\", \"medium\", \"high\"], \"scales\": [1, 2, 3], \"relational terms\": [\"turn up\", \"turn down\"]}}, {\"property_name\": \"clean mode/vacuum or mop mode/\\\\u626b\\\\u62d6\\\\u6a21\\\\u5f0f\", \"property_values\": {\"relational terms\": [\"vacuum only\", \"mop only\", \"vacuum and mop\"]}}]}}, \"required\": [\"property_name\", \"property_value\"]}, \"required\": [\"property_name\", \"property_value\"]}, {\"name\": \"follow_me\", \"description\": \"instruct the robot to follow the user\", \"parameters\": {\"type\": \"string\", \"enum\": [\"start\", \"stop\"], \"properties\": {}, \"required\": []}}, {\"name\": \"go_away\", \"description\": \"instruct the robot to go away or do other things first\", \"parameters\": {\"type\": \"object\", \"properties\": {}, \"required\": []}}, {\"name\": \"get_property\", \"description\": \"get robot property\", \"parameters\": {\"type\": \"object\", \"properties\": {\"property_name\": {\"type\": \"string\", \"description\": \"vaccum robot properties\", \"enum\": [\"LED/\\\\u706f\", \"suction power\", \"water flow and scrub intensity/\\\\u6c34\\\\u91cf\\\\u548c\\\\u64e6\\\\u5730\\\\u529b\\\\u5ea6\", \"carpet boost/\\\\u5730\\\\u6bef\\\\u589e\\\\u538b\", \"Route/\\\\u8def\\\\u7ebf\\\\u504f\\\\u597d\", \"filter\", \"main brush\", \"side brush\", \"sensors\", \"mop\", \"dust bag\", \"floor cleaning solution\", \"current location\", \"remaining battery power\", \"freshwater tank/water tank\", \"wastewater tank\", \"volume/\\\\u97f3\\\\u91cf\", \"all consumables\", \"High-speed maintenance brush/\\\\u81ea\\\\u6e05\\\\u6d01\\\\u5237\", \"Water filter/\\\\u6e05\\\\u6d01\\\\u69fd\\\\u6ee4\\\\u7f51\", \"list features/self-introduction\"]}}, \"required\": []}}, {\"name\": \"upgrade_firmware\", \"description\": \"Upgrade firmware.\", \"parameters\": {\"type\": \"object\", \"properties\": {}, \"required\": []}}, {\"name\": \"dock_operation\", \"description\": \"api for the features of vacuum robot dock\", \"parameters\": {\"type\": \"object\", \"properties\": {\"action\": {\"type\": \"string\", \"enum\": [\"start\", \"stop\", \"pause\", \"resume\"]}, \"operation_type\": {\"type\": \"string\", \"enum\": [\"charge battery\", \"come down\", \"collect dust/\\\\u96c6\\\\u5c18\", \"wash mop\", \"drying mop\", \"back to\"], \"description\": \"\\'charge battery\\' means sending the robot to the dock to recharge. \\'come down\\' instructs the vacuum robot to descend from the dock. \\'wash mop\\' instructs the vacuum robot to clean its attached mop. \\'back to\\' means instructs robot to go back to dock.\"}}, \"required\": [\"operation_type\"]}, \"required\": [\"operation_type\"]}, {\"name\": \"mapping\", \"description\": \"api for building map\", \"parameters\": {\"type\": \"object\", \"properties\": {\"action\": {\"type\": \"string\", \"enum\": [\"start\", \"stop\", \"pause\", \"resume\"]}}, \"required\": [\"action\"]}}]',\n",
       " 'conversations': [{'from': 'human',\n",
       "   'value': 'user_defined_task:[Open Area Polish|Basement De-clutter]$$Switch on Attic Arrangement'},\n",
       "  {'from': 'gpt', 'value': 'no corresponding tools.'}]}"
      ]
     },
     "execution_count": 388,
     "metadata": {},
     "output_type": "execute_result"
    }
   ],
   "source": [
    "train_data_new[3201]"
   ]
  },
  {
   "cell_type": "code",
   "execution_count": 384,
   "id": "8d3722a6-b010-4e33-ba92-d76bd35dc893",
   "metadata": {},
   "outputs": [
    {
     "data": {
      "text/plain": [
       "{'tools': '[{\"name\": \"general_control\", \"description\": \"This API is used for controlling general tasks, typically providing control for listed user-defined tasks, or that is not directly tied to specific task types, or non-clean task\", \"parameters\": {\"type\": \"object\", \"properties\": {\"action\": {\"type\": \"string\", \"enum\": [\"start\", \"stop\", \"pause\", \"resume\"]}, \"user_defined_task\": {\"type\": \"string\", \"description\": \"user-defined task described in user request\"}}, \"required\": [\"action\"]}}, {\"name\": \"clean\", \"description\": \"Initiate a task of an immediate or unscheduled cleaning or partial clean, i.e., cleaning a part while leaving another part untouched.\", \"parameters\": {\"type\": \"object\", \"properties\": {\"action\": {\"type\": \"string\", \"enum\": [\"start\", \"stop\", \"pause\", \"resume\"]}, \"location\": {\"type\": \"string\", \"description\": \"Fill in the description of the location from the user request word for word, using the same language as in the user\\'s description of the location.\"}, \"tool\": {\"type\": \"string\", \"enum\": [\"vacuum only/\\\\u626b\", \"mop only/\\\\u62d6/\\\\u64e6\", \"vacuum and mop\"], \"default\": \"vacuum and mop\", \"description\": \"\\'vacuum and mop\\' means vacuum and mop the floor at the same time, \\'vacuum only\\' is only vacuum, in Chinese, \\'\\\\u626b\\' is \\'vacuum only\\', \\'\\\\u6e05\\\\u626b\\' is \\'vacuum and mop\\'\"}, \"total_count\": {\"type\": \"number\", \"default\": 1, \"description\": \"The total count of the operation that is repeated within a single action.\"}, \"special_mode\": {\"type\": \"string\", \"enum\": [\"local\", \"custom\"], \"description\": \"for local clean or custom clean\"}}, \"required\": [\"action\", \"tool\"]}}, {\"name\": \"do_not_or_skip_clean\", \"description\": \"This API is used when the user only requests not or skip to clean a certain area.\", \"parameters\": {\"type\": \"object\", \"properties\": {\"location\": {\"type\": \"string\", \"description\": \"Fill in the description of the location from the user request word for word, using the same language as in the user\\'s description of the location.\"}}, \"required\": [\"location\"]}}, {\"name\": \"schedule_operation\", \"description\": \"create clean task, or query or delete scheduled clean tasks. (other task not supported)\", \"parameters\": {\"type\": \"object\", \"properties\": {\"operation_type\": {\"type\": \"string\", \"enum\": [\"create\", \"query\", \"delete\"]}, \"clean_action\": {\"type\": \"string\", \"enum\": [\"start\", \"stop\", \"pause\", \"resume\"]}, \"clean_tool\": {\"type\": \"string\", \"enum\": [\"vacuum only/\\\\u626b\", \"mop only/\\\\u62d6/\\\\u64e6\", \"vacuum and mop\"], \"default\": \"vacuum and mop\", \"description\": \"\\'vacuum and mop\\' refers to both vacuuming and mopping the floor.\"}, \"total_count\": {\"type\": \"number\", \"default\": 1, \"description\": \"The total count of the operation that is repeated within a single action.\"}, \"location\": {\"type\": \"string\", \"description\": \"fill the Description text of the location in the user request here, without excessive transformation, ideally word for word.\"}, \"time\": {\"type\": \"string\", \"description\": \"fill the description text of the time in the user request here, without excessive transformation, ideally word for word.\"}, \"index_from\": {\"type\": \"integer\", \"description\": \"the beginning index of the schedule, 1 for newest/recent/first, 2 for second recent, -1 for last/final, -2 for the second-to-last item, and so on\"}, \"index_to\": {\"type\": \"integer\", \"description\": \"the end index of the schedule, 1 for newest/recent/first, 2 for second recent, -1 for last/final, -2 for the second-to-last item, and so on\"}, \"relative\": {\"type\": \"string\", \"enum\": [\"next\", \"previous\"]}}, \"required\": [\"operation_type\"]}}, {\"name\": \"move\", \"description\": \"perform a move operation\", \"parameters\": {\"type\": \"object\", \"properties\": {\"location\": {\"type\": \"string\", \"description\": \"location description in the user request\"}}, \"required\": [\"location\"]}, \"required\": [\"location\"]}, {\"name\": \"set_object_property\", \"description\": \"change sensors or peripherals state\", \"parameters\": {\"type\": \"object\", \"properties\": {\"property_name\": {\"type\": \"string\", \"description\": \"vaccum robot properties\", \"enum\": [\"LED/\\\\u706f\", \"suction power\", \"water flow and scrub intensity/\\\\u6c34\\\\u91cf\\\\u548c\\\\u64e6\\\\u5730\\\\u529b\\\\u5ea6\", \"carpet boost/\\\\u5730\\\\u6bef\\\\u589e\\\\u538b\", \"Route/\\\\u8def\\\\u7ebf\\\\u504f\\\\u597d\", \"mop wash mode/\\\\u6d17\\\\u5e03\\\\u6a21\\\\u5f0f\", \"volume/\\\\u97f3\\\\u91cf\", \"auto collect dust/auto emptying/\\\\u81ea\\\\u52a8\\\\u96c6\\\\u5c18\", \"mop wash mode/\\\\u6d17\\\\u5e03\\\\u6a21\\\\u5f0f\", \"working level/\\\\u5de5\\\\u4f5c\\\\u6863\\\\u4f4d/\\\\u6863\\\\u4f4d\", \"clean mode/vacuum or mop mode/\\\\u626b\\\\u62d6\\\\u6a21\\\\u5f0f\"]}, \"property_value\": {\"type\": \"string or integer\", \"description\": \"the property value, details in value table\", \"value_table\": [{\"property_name\": \"LED/\\\\u706f\", \"property_values\": {\"proper nouns\": [\"on\", \"off\"]}}, {\"property_name\": \"suction power\", \"property_values\": {\"proper nouns\": [\"Quiet/\\\\u5b89\\\\u9759/lowest\", \"Balanced/\\\\u6807\\\\u51c6/lower\", \"Turbo/\\\\u5f3a\\\\u529b/medium\", \"Max/higher\", \"Max+/highest\"], \"scales\": [1, 2, 3, 4, 5], \"relational terms\": [\"turn up\", \"turn down\"]}}, {\"property_name\": \"water flow and scrub intensity/\\\\u6c34\\\\u91cf\\\\u548c\\\\u64e6\\\\u5730\\\\u529b\\\\u5ea6\", \"property_values\": {\"proper nouns\": [\"mild/\\\\u8f7b\\\\u67d4\", \"moderate/\\\\u6807\\\\u51c6\", \"intense/\\\\u5f3a\\\\u529b\"], \"scales\": [1, 2, 3], \"relational terms\": [\"turn up\", \"turn down\"]}}, {\"property_name\": \"carpet boost/\\\\u5730\\\\u6bef\\\\u589e\\\\u538b\", \"property_values\": {\"proper nouns\": [\"on\", \"off\"]}}, {\"property_name\": \"Route/\\\\u8def\\\\u7ebf\\\\u504f\\\\u597d\", \"property_values\": {\"proper nouns\": [\"fast/\\\\u5feb\\\\u901f\", \"standard/\\\\u65e5\\\\u5e38/normal\", \"deep/\\\\u7cbe\\\\u7ec6\\\\u64e6\\\\u5730/slower\", \"deep plus/\\\\u6df1\\\\u5ea6\\\\u6162\\\\u62d6/slowest\"], \"scales\": [1, 2, 3, 4], \"relational terms\": [\"turn up\", \"turn down\"]}}, {\"property_name\": \"mop wash mode/\\\\u6d17\\\\u5e03\\\\u6a21\\\\u5f0f\", \"property_values\": {\"proper nouns\": [\"by section/room\", \"by time: <time description>\"]}}, {\"property_name\": \"volume/\\\\u97f3\\\\u91cf\", \"property_values\": {\"proper nouns\": [\"mute on\", \"mute off\", \"minimum\", \"maximum\"], \"range\": {\"minimum\": 1, \"maximum\": 100}, \"relational terms\": [\"turn up\", \"turn down\"]}}, {\"property_name\": \"auto collect dust/auto emptying/\\\\u81ea\\\\u52a8\\\\u96c6\\\\u5c18\", \"property_values\": {\"proper nouns\": [\"on\", \"off\"]}}, {\"property_name\": \"working level/\\\\u5de5\\\\u4f5c\\\\u6863\\\\u4f4d/\\\\u6863\\\\u4f4d\", \"property_values\": {\"proper nouns\": [\"low\", \"medium\", \"high\"], \"scales\": [1, 2, 3], \"relational terms\": [\"turn up\", \"turn down\"]}}, {\"property_name\": \"clean mode/vacuum or mop mode/\\\\u626b\\\\u62d6\\\\u6a21\\\\u5f0f\", \"property_values\": {\"relational terms\": [\"vacuum only\", \"mop only\", \"vacuum and mop\"]}}]}}, \"required\": [\"property_name\", \"property_value\"]}, \"required\": [\"property_name\", \"property_value\"]}, {\"name\": \"follow_me\", \"description\": \"instruct the robot to follow the user\", \"parameters\": {\"type\": \"string\", \"enum\": [\"start\", \"stop\"], \"properties\": {}, \"required\": []}}, {\"name\": \"go_away\", \"description\": \"instruct the robot to go away or do other things first\", \"parameters\": {\"type\": \"object\", \"properties\": {}, \"required\": []}}, {\"name\": \"get_property\", \"description\": \"get robot property\", \"parameters\": {\"type\": \"object\", \"properties\": {\"property_name\": {\"type\": \"string\", \"description\": \"vaccum robot properties\", \"enum\": [\"LED/\\\\u706f\", \"suction power\", \"water flow and scrub intensity/\\\\u6c34\\\\u91cf\\\\u548c\\\\u64e6\\\\u5730\\\\u529b\\\\u5ea6\", \"carpet boost/\\\\u5730\\\\u6bef\\\\u589e\\\\u538b\", \"Route/\\\\u8def\\\\u7ebf\\\\u504f\\\\u597d\", \"filter\", \"main brush\", \"side brush\", \"sensors\", \"mop\", \"dust bag\", \"floor cleaning solution\", \"current location\", \"remaining battery power\", \"freshwater tank/water tank\", \"wastewater tank\", \"volume/\\\\u97f3\\\\u91cf\", \"all consumables\", \"High-speed maintenance brush/\\\\u81ea\\\\u6e05\\\\u6d01\\\\u5237\", \"Water filter/\\\\u6e05\\\\u6d01\\\\u69fd\\\\u6ee4\\\\u7f51\", \"list features/self-introduction\"]}}, \"required\": []}}, {\"name\": \"upgrade_firmware\", \"description\": \"Upgrade firmware.\", \"parameters\": {\"type\": \"object\", \"properties\": {}, \"required\": []}}, {\"name\": \"dock_operation\", \"description\": \"api for the features of vacuum robot dock\", \"parameters\": {\"type\": \"object\", \"properties\": {\"action\": {\"type\": \"string\", \"enum\": [\"start\", \"stop\", \"pause\", \"resume\"]}, \"operation_type\": {\"type\": \"string\", \"enum\": [\"charge battery\", \"come down\", \"collect dust/\\\\u96c6\\\\u5c18\", \"wash mop\", \"drying mop\", \"back to\"], \"description\": \"\\'charge battery\\' means sending the robot to the dock to recharge. \\'come down\\' instructs the vacuum robot to descend from the dock. \\'wash mop\\' instructs the vacuum robot to clean its attached mop. \\'back to\\' means instructs robot to go back to dock.\"}}, \"required\": [\"operation_type\"]}, \"required\": [\"operation_type\"]}, {\"name\": \"mapping\", \"description\": \"api for building map\", \"parameters\": {\"type\": \"object\", \"properties\": {\"action\": {\"type\": \"string\", \"enum\": [\"start\", \"stop\", \"pause\", \"resume\"]}}, \"required\": [\"action\"]}}]',\n",
       " 'conversations': [{'from': 'human',\n",
       "   'value': 'Utilize the balanced suction for a quieter clean.'},\n",
       "  {'from': 'function_call',\n",
       "   'value': '{\"name\": \"set_object_property\", \"arguments\": {\"property_name\": \"suction power\", \"property_value\": \"Balanced/\\\\u6807\\\\u51c6/lower\"}}'}]}"
      ]
     },
     "execution_count": 384,
     "metadata": {},
     "output_type": "execute_result"
    }
   ],
   "source": [
    "train_data_new[0]"
   ]
  },
  {
   "cell_type": "code",
   "execution_count": 25,
   "id": "81a85762-41a9-4a36-a6a7-8a09581d21f2",
   "metadata": {
    "ExecuteTime": {
     "end_time": "2024-01-22T08:04:18.354860Z",
     "start_time": "2024-01-22T08:04:16.924695193Z"
    }
   },
   "outputs": [],
   "source": [
    "with open('ToolAlpaca/data/formatted_data/robocontrol_dataset_sharegpt.json', 'w') as file:\n",
    "    data = json.dump(train_data_new, file)\n",
    "with open('ToolAlpaca/data/formatted_data/robocontrol_dataset_sharegpt.json', 'r') as f:\n",
    "    data = json.load(f)\n",
    "for i in range(len(data)):\n",
    "    assert data[i] == train_data_new[i]"
   ]
  },
  {
   "cell_type": "code",
   "execution_count": 26,
   "id": "760e92d2-cb43-4c20-806d-d96c77b745d2",
   "metadata": {
    "ExecuteTime": {
     "end_time": "2024-01-22T08:04:18.611411709Z",
     "start_time": "2024-01-22T08:04:18.350138377Z"
    }
   },
   "outputs": [],
   "source": [
    "with open('ToolAlpaca/data/formatted_data/robocontrol_dataset_testset_sharegpt.json', 'w') as file:\n",
    "    data = json.dump(dev_data_new, file)\n",
    "with open('ToolAlpaca/data/formatted_data/robocontrol_dataset_testset_sharegpt.json', 'r') as f:\n",
    "    data = json.load(f)\n",
    "for i in range(len(data)):\n",
    "    assert data[i] == dev_data_new[i]"
   ]
  },
  {
   "cell_type": "code",
   "execution_count": 27,
   "id": "3224ecfd-f80a-4e2e-9bc6-558fcb88901b",
   "metadata": {
    "ExecuteTime": {
     "end_time": "2024-01-22T08:04:35.389795737Z",
     "start_time": "2024-01-22T08:04:35.349366826Z"
    }
   },
   "outputs": [],
   "source": [
    "# result analysis "
   ]
  },
  {
   "cell_type": "code",
   "execution_count": 123,
   "outputs": [],
   "source": [
    "# sft "
   ],
   "metadata": {
    "collapsed": false,
    "ExecuteTime": {
     "end_time": "2024-01-29T07:18:21.277921564Z",
     "start_time": "2024-01-29T07:18:21.236778547Z"
    }
   },
   "id": "8bd1a3893026593e"
  },
  {
   "cell_type": "code",
   "execution_count": 23,
   "id": "3fc0d5e4-177a-43c9-8f49-1f58a3f6a2fe",
   "metadata": {
    "ExecuteTime": {
     "end_time": "2024-03-13T11:22:16.201365511Z",
     "start_time": "2024-03-13T11:22:16.169112619Z"
    }
   },
   "outputs": [],
   "source": [
    "with open('../models/roborock_control_lora_Yi_high_ppl/checkpoint-50/trainer_state.json', 'r') as f:\n",
    "    train_state = json.load(f)"
   ]
  },
  {
   "cell_type": "code",
   "execution_count": 24,
   "id": "6ba76633-837d-40f8-8c70-ee282ad64348",
   "metadata": {
    "ExecuteTime": {
     "end_time": "2024-03-13T11:22:16.893068615Z",
     "start_time": "2024-03-13T11:22:16.890260189Z"
    }
   },
   "outputs": [],
   "source": [
    "log_history = train_state['log_history']\n",
    "steps = [i['step'] for i in log_history]\n",
    "learning_rate = [i['learning_rate'] for i in log_history]\n",
    "loss = [i['loss'] for i in log_history]"
   ]
  },
  {
   "cell_type": "code",
   "execution_count": 25,
   "outputs": [
    {
     "data": {
      "text/plain": "<Figure size 1000x300 with 2 Axes>",
      "image/png": "[encoded data removed]"
     },
     "metadata": {},
     "output_type": "display_data"
    }
   ],
   "source": [
    "# Create a figure and two subplots, sharing the same y-axis\n",
    "fig, (ax1, ax2) = plt.subplots(1, 2, figsize=(10, 3))\n",
    "\n",
    "# Plot data on each axis\n",
    "ax1.plot(steps, learning_rate)\n",
    "ax2.plot(steps, loss)\n",
    "\n",
    "# Optionally, set titles for each subplot\n",
    "ax1.set_xlabel('steps')\n",
    "ax1.set_ylabel('learning_rate')\n",
    "ax2.set_xlabel('steps')\n",
    "ax2.set_ylabel('loss')\n",
    "\n",
    "# Show the figure\n",
    "plt.show()"
   ],
   "metadata": {
    "collapsed": false,
    "ExecuteTime": {
     "end_time": "2024-03-13T11:22:18.273865850Z",
     "start_time": "2024-03-13T11:22:17.986263690Z"
    }
   },
   "id": "6424d98a97ef329c"
  },
  {
   "cell_type": "code",
   "execution_count": 26,
   "outputs": [],
   "source": [
    "def parse_tool_call(input_string):\n",
    "    # 正则表达式匹配括号内的内容\n",
    "    args_match = re.search(r\".*tool_call\\((.*)\\).*\", input_string)\n",
    "    if not args_match:\n",
    "        return \"No arguments found.\"\n",
    "\n",
    "    # 获取括号内的所有参数字符串\n",
    "    args_string = args_match.group(1)\n",
    "\n",
    "    # 使用堆栈来处理嵌套结构\n",
    "    args_list = []\n",
    "    stack = []\n",
    "    last_index = 0\n",
    "    for i, char in enumerate(args_string):\n",
    "        if char == '{':\n",
    "            stack.append(char)\n",
    "        elif char == '}':\n",
    "            stack.pop()\n",
    "        elif char == ',' and not stack:\n",
    "            # 当遇到逗号且堆栈为空时，表示这是一个顶级参数的分隔符\n",
    "            args_list.append(args_string[last_index:i])\n",
    "            last_index = i + 2  # 跳过逗号和空格\n",
    "\n",
    "    # 添加最后一个参数到列表中\n",
    "    args_list.append(args_string[last_index:])\n",
    "\n",
    "    # 解析每个参数为键值对，并存储在字典中\n",
    "    args_dict = {}\n",
    "    try:\n",
    "        for arg in args_list:\n",
    "            key, value = arg.split('=', 1)\n",
    "            args_dict[key.strip()] = ast.literal_eval(value.strip())\n",
    "    except:\n",
    "        pass\n",
    "\n",
    "    return args_dict\n",
    "\n",
    "\n",
    "def parse_action_input(input_string):\n",
    "    # 使用正则表达式提取 Action 和 Action Input\n",
    "    action_match = re.search(r'Action: (\\w+)', input_string)\n",
    "    action_input_match = re.search(r'Action Input:.*(\\{.*\\})', input_string)\n",
    "\n",
    "    # 检查是否找到匹配项并提取\n",
    "    action = action_match.group(1) if action_match else None\n",
    "    action_input = json.loads(action_input_match.group(1)) if action_input_match else None\n",
    "    return action, action_input\n",
    "\n",
    "\n",
    "def format_prediction(input_string):\n",
    "    input_string = input_string.strip()\n",
    "    if (input_string.find('Action') >= 0) or (input_string.find('Action Input') >= 0):\n",
    "        intent, slot = parse_action_input(input_string)\n",
    "    else:\n",
    "        intent = ''\n",
    "        slot = {}\n",
    "    return intent, slot\n",
    "\n",
    "\n",
    "def cal_metric(label, prediction):\n",
    "    target_intent, target_method = format_prediction(label)\n",
    "    prediction_intent, prediction_method = format_prediction(prediction)\n",
    "    if prediction_intent == target_intent:\n",
    "        if prediction_method == target_method:\n",
    "            result = [1, 1]\n",
    "        else:\n",
    "            result = [1, 0]\n",
    "    else:\n",
    "        result = [0, 0]\n",
    "    return result\n",
    "\n",
    "\n",
    "def cal_lora(generated_results, model_name, set_name):\n",
    "    print(model_name, set_name)\n",
    "    results = []\n",
    "    for i in range(len(generated_results)):\n",
    "        label = generated_results[i]['label']\n",
    "        prediction = generated_results[i]['predict']\n",
    "        try:\n",
    "            result = cal_metric(label, prediction)\n",
    "        except:\n",
    "            print('oops', i)\n",
    "        result += [dev_data_new[i]['conversations'][0]['value'], label, prediction]\n",
    "        results.append(result)\n",
    "    results = pd.DataFrame(results)\n",
    "    results.columns = ['intent', 'slot', 'query', 'target', 'prediction']\n",
    "    results['model_name'] = model_name\n",
    "    results['set_name'] = set_name\n",
    "    results = results.reset_index()\n",
    "    return results\n",
    "\n",
    "\n",
    "def cal_accuracy(results):\n",
    "    num = results.shape[0]\n",
    "    intent = results['intent']\n",
    "    zero_error_count = intent.shape[0]\n",
    "    zero_error_rate = 1\n",
    "    intent_sum, intent_mean = intent.sum(), intent.mean()\n",
    "    slot = results[(results['intent'] == 1)]['slot']\n",
    "    slot_sum, slot_mean = slot.sum(), slot.mean()\n",
    "    both_mean = slot_sum / zero_error_count\n",
    "    return pd.Series([num, zero_error_count, zero_error_rate, intent_sum, intent_mean, slot_sum, slot_mean, both_mean],\n",
    "                     index=['num', 'zero_error_count', 'zero_error_rate', 'intent_sum', 'intent_mean', 'slot_sum',\n",
    "                            'slot_mean', 'both_mean'])"
   ],
   "metadata": {
    "collapsed": false,
    "ExecuteTime": {
     "end_time": "2024-03-13T11:22:27.024063918Z",
     "start_time": "2024-03-13T11:22:26.991391956Z"
    }
   },
   "id": "5fadfa927ce39aa6"
  },
  {
   "cell_type": "code",
   "execution_count": 27,
   "outputs": [],
   "source": [
    "with open('../outputs/roborock_control_lora_Yi_high_ppl_test_100/generated_predictions.jsonl', 'r') as f:\n",
    "    generated_results = [json.loads(line) for line in f]"
   ],
   "metadata": {
    "collapsed": false,
    "ExecuteTime": {
     "end_time": "2024-03-13T11:22:45.256500102Z",
     "start_time": "2024-03-13T11:22:45.247210347Z"
    }
   },
   "id": "e2af53ae13681986"
  },
  {
   "cell_type": "code",
   "execution_count": 28,
   "id": "1486b178-4c74-4903-a82c-0b270972cf8d",
   "metadata": {
    "scrolled": true,
    "ExecuteTime": {
     "end_time": "2024-03-13T11:22:46.619203778Z",
     "start_time": "2024-03-13T11:22:46.604565441Z"
    }
   },
   "outputs": [
    {
     "name": "stdout",
     "output_type": "stream",
     "text": [
      "1finetune 2test\n"
     ]
    }
   ],
   "source": [
    "results = []\n",
    "results.append(cal_lora(generated_results, '1finetune', '2test'))\n",
    "# results.append(cal_lora(train_generated_results, '1finetue', '1train'))\n",
    "results = pd.concat(results, axis=0)\n",
    "results = results.reset_index(drop=True)"
   ]
  },
  {
   "cell_type": "code",
   "execution_count": 29,
   "outputs": [
    {
     "name": "stderr",
     "output_type": "stream",
     "text": [
      "/tmp/ipykernel_407604/878948027.py:1: DeprecationWarning: DataFrameGroupBy.apply operated on the grouping columns. This behavior is deprecated, and in a future version of pandas the grouping columns will be excluded from the operation. Either pass `include_groups=False` to exclude the groupings or explicitly select the grouping columns after groupby to silence this warning.\n",
      "  results.groupby(['model_name', 'set_name']).apply(cal_accuracy)\n"
     ]
    },
    {
     "data": {
      "text/plain": "                       num  zero_error_count  zero_error_rate  intent_sum  \\\nmodel_name set_name                                                         \n1finetune  2test     100.0             100.0              1.0        96.0   \n\n                     intent_mean  slot_sum  slot_mean  both_mean  \nmodel_name set_name                                               \n1finetune  2test            0.96      80.0   0.833333        0.8  ",
      "text/html": "<div>\n<style scoped>\n    .dataframe tbody tr th:only-of-type {\n        vertical-align: middle;\n    }\n\n    .dataframe tbody tr th {\n        vertical-align: top;\n    }\n\n    .dataframe thead th {\n        text-align: right;\n    }\n</style>\n<table border=\"1\" class=\"dataframe\">\n  <thead>\n    <tr style=\"text-align: right;\">\n      <th></th>\n      <th></th>\n      <th>num</th>\n      <th>zero_error_count</th>\n      <th>zero_error_rate</th>\n      <th>intent_sum</th>\n      <th>intent_mean</th>\n      <th>slot_sum</th>\n      <th>slot_mean</th>\n      <th>both_mean</th>\n    </tr>\n    <tr>\n      <th>model_name</th>\n      <th>set_name</th>\n      <th></th>\n      <th></th>\n      <th></th>\n      <th></th>\n      <th></th>\n      <th></th>\n      <th></th>\n      <th></th>\n    </tr>\n  </thead>\n  <tbody>\n    <tr>\n      <th>1finetune</th>\n      <th>2test</th>\n      <td>100.0</td>\n      <td>100.0</td>\n      <td>1.0</td>\n      <td>96.0</td>\n      <td>0.96</td>\n      <td>80.0</td>\n      <td>0.833333</td>\n      <td>0.8</td>\n    </tr>\n  </tbody>\n</table>\n</div>"
     },
     "execution_count": 29,
     "metadata": {},
     "output_type": "execute_result"
    }
   ],
   "source": [
    "results.groupby(['model_name', 'set_name']).apply(cal_accuracy)"
   ],
   "metadata": {
    "collapsed": false,
    "ExecuteTime": {
     "end_time": "2024-03-13T11:22:55.319242446Z",
     "start_time": "2024-03-13T11:22:55.297392508Z"
    }
   },
   "id": "24468e40f9f22145"
  },
  {
   "cell_type": "code",
   "execution_count": 24,
   "outputs": [
    {
     "name": "stderr",
     "output_type": "stream",
     "text": [
      "/tmp/ipykernel_390362/878948027.py:1: DeprecationWarning: DataFrameGroupBy.apply operated on the grouping columns. This behavior is deprecated, and in a future version of pandas the grouping columns will be excluded from the operation. Either pass `include_groups=False` to exclude the groupings or explicitly select the grouping columns after groupby to silence this warning.\n",
      "  results.groupby(['model_name', 'set_name']).apply(cal_accuracy)\n"
     ]
    },
    {
     "data": {
      "text/plain": "                       num  zero_error_count  zero_error_rate  intent_sum  \\\nmodel_name set_name                                                         \n1finetune  2test     100.0             100.0              1.0        96.0   \n\n                     intent_mean  slot_sum  slot_mean  both_mean  \nmodel_name set_name                                               \n1finetune  2test            0.96      86.0   0.895833       0.86  ",
      "text/html": "<div>\n<style scoped>\n    .dataframe tbody tr th:only-of-type {\n        vertical-align: middle;\n    }\n\n    .dataframe tbody tr th {\n        vertical-align: top;\n    }\n\n    .dataframe thead th {\n        text-align: right;\n    }\n</style>\n<table border=\"1\" class=\"dataframe\">\n  <thead>\n    <tr style=\"text-align: right;\">\n      <th></th>\n      <th></th>\n      <th>num</th>\n      <th>zero_error_count</th>\n      <th>zero_error_rate</th>\n      <th>intent_sum</th>\n      <th>intent_mean</th>\n      <th>slot_sum</th>\n      <th>slot_mean</th>\n      <th>both_mean</th>\n    </tr>\n    <tr>\n      <th>model_name</th>\n      <th>set_name</th>\n      <th></th>\n      <th></th>\n      <th></th>\n      <th></th>\n      <th></th>\n      <th></th>\n      <th></th>\n      <th></th>\n    </tr>\n  </thead>\n  <tbody>\n    <tr>\n      <th>1finetune</th>\n      <th>2test</th>\n      <td>100.0</td>\n      <td>100.0</td>\n      <td>1.0</td>\n      <td>96.0</td>\n      <td>0.96</td>\n      <td>86.0</td>\n      <td>0.895833</td>\n      <td>0.86</td>\n    </tr>\n  </tbody>\n</table>\n</div>"
     },
     "execution_count": 24,
     "metadata": {},
     "output_type": "execute_result"
    }
   ],
   "source": [
    "results.groupby(['model_name', 'set_name']).apply(cal_accuracy)"
   ],
   "metadata": {
    "collapsed": false,
    "ExecuteTime": {
     "end_time": "2024-03-13T09:40:13.289729945Z",
     "start_time": "2024-03-13T09:40:13.205889078Z"
    }
   },
   "id": "e9b5453a15a31a06"
  }
 ],
 "metadata": {
  "kernelspec": {
   "display_name": "Python 3 (ipykernel)",
   "language": "python",
   "name": "python3"
  },
  "language_info": {
   "codemirror_mode": {
    "name": "ipython",
    "version": 3
   },
   "file_extension": ".py",
   "mimetype": "text/x-python",
   "name": "python",
   "nbconvert_exporter": "python",
   "pygments_lexer": "ipython3",
   "version": "3.10.13"
  }
 },
 "nbformat": 4,
 "nbformat_minor": 5
}
